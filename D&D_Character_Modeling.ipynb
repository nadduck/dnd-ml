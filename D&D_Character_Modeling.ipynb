{
  "nbformat": 4,
  "nbformat_minor": 0,
  "metadata": {
    "kernelspec": {
      "display_name": "Python 3",
      "language": "python",
      "name": "python3"
    },
    "language_info": {
      "codemirror_mode": {
        "name": "ipython",
        "version": 3
      },
      "file_extension": ".py",
      "mimetype": "text/x-python",
      "name": "python",
      "nbconvert_exporter": "python",
      "pygments_lexer": "ipython3",
      "version": "3.7.3"
    },
    "colab": {
      "name": "D&D Character Modeling.ipynb",
      "provenance": [],
      "collapsed_sections": [],
      "toc_visible": true
    }
  },
  "cells": [
    {
      "cell_type": "markdown",
      "metadata": {
        "id": "jAdzJPBqeNAv",
        "colab_type": "text"
      },
      "source": [
        "# Road Map"
      ]
    },
    {
      "cell_type": "code",
      "metadata": {
        "id": "0r9XLkYp5Tni",
        "colab_type": "code",
        "colab": {}
      },
      "source": [
        "# steps\n",
        "\n",
        "# get our data\n",
        "    # pull the data\n",
        "    # transform the data\n",
        "    # recombine the data\n",
        "    # get level column\n",
        "    # remove any multiclass observations for now\n",
        "    # remove artificer (not established data)\n",
        "    # determine how to handle casting stat (categorical var) -- turn into six binary columns for each stat\n",
        "    # initial simple data set will be: stats, hp, level, ac, casting stat\n",
        "\n",
        "# EDA (exploratory data analysis)\n",
        "    # distributions\n",
        "    # descriptive stats\n",
        "    # correlations\n",
        "    # identify data issues (class labeling--complexity around structure and multiclassing, high dimensionality)\n",
        "    # outlier handling -- TO DO: \n",
        "    # is the data balanced or imbalanced\n",
        "\n",
        "# plan the model\n",
        "    # identify key accuracy metrics\n",
        "        # sensitivity / specificity / recall\n",
        "        # true positive rate /false positive rate / f1 score, etc. \n",
        "        # confusion matrix\n",
        "    # what is your success criteria?\n",
        "        # what 'accuracy' do i need to achieve the ask\n",
        "        # what are my constraints if any\n",
        "\n",
        "# first pass modeling\n",
        "    # really simple models\n",
        "        # logistic regression\n",
        "        # decision tree\n",
        "        # benchmark accuracy\n",
        "        \n",
        "# more complex modeling\n",
        "    # ensemble (random forest)\n",
        "    # boosting (xgboost, adaboost)\n",
        "    # feature selection (information gain, recursive feature elimination)\n",
        "\n",
        "# model selection\n",
        "    # what model best achieves our goals"
      ],
      "execution_count": 1,
      "outputs": []
    },
    {
      "cell_type": "markdown",
      "metadata": {
        "id": "w68-dNDIcRmm",
        "colab_type": "text"
      },
      "source": [
        "# Preamble"
      ]
    },
    {
      "cell_type": "code",
      "metadata": {
        "id": "Yax7CCib5Tkk",
        "colab_type": "code",
        "colab": {
          "base_uri": "https://localhost:8080/",
          "height": 71
        },
        "outputId": "223e7f7b-73e5-462b-e478-7e1e4875abfe"
      },
      "source": [
        "# going to explore some Dungeons and Dragons character data from : https://github.com/oganm/dnddata#about-the-data\n",
        "import json\n",
        "import pandas as pd\n",
        "from pandas.io.json import json_normalize\n",
        "import numpy as np\n",
        "import matplotlib.pyplot as plt\n",
        "import seaborn as sns\n",
        "from sklearn import tree\n",
        "from sklearn.model_selection import train_test_split, cross_val_score, GridSearchCV, cross_val_predict\n",
        "from sklearn.linear_model import LogisticRegression, LogisticRegressionCV\n",
        "import sklearn.metrics as metrics\n",
        "from sklearn.preprocessing import LabelEncoder\n",
        "from sklearn.ensemble import RandomForestClassifier"
      ],
      "execution_count": 2,
      "outputs": [
        {
          "output_type": "stream",
          "text": [
            "/usr/local/lib/python3.6/dist-packages/statsmodels/tools/_testing.py:19: FutureWarning: pandas.util.testing is deprecated. Use the functions in the public API at pandas.testing instead.\n",
            "  import pandas.util.testing as tm\n"
          ],
          "name": "stderr"
        }
      ]
    },
    {
      "cell_type": "markdown",
      "metadata": {
        "id": "F2n2Nht0dMiw",
        "colab_type": "text"
      },
      "source": [
        "# Getting data"
      ]
    },
    {
      "cell_type": "markdown",
      "metadata": {
        "id": "sDsA0eKyduuV",
        "colab_type": "text"
      },
      "source": [
        "## Pull data"
      ]
    },
    {
      "cell_type": "code",
      "metadata": {
        "id": "aBqHwcnH5TnJ",
        "colab_type": "code",
        "colab": {}
      },
      "source": [
        "# get the data from the github repository\n",
        "url = \"https://raw.githubusercontent.com/oganm/dnddata/master/data-raw/dnd_chars_all.json\"\n",
        "\n",
        "df = pd.read_json(url)\n",
        "\n",
        "if df.shape[0] < df.shape[1]:\n",
        "    df = df.transpose()"
      ],
      "execution_count": 3,
      "outputs": []
    },
    {
      "cell_type": "markdown",
      "metadata": {
        "id": "ZqVkTFcTd2Al",
        "colab_type": "text"
      },
      "source": [
        "## Unpack data"
      ]
    },
    {
      "cell_type": "code",
      "metadata": {
        "id": "i2kbktWb5TpM",
        "colab_type": "code",
        "colab": {}
      },
      "source": [
        "# scrappily unpacking everything--each column comes in 2 types: jsons or singleton lists\n",
        "# but dtypes only indicate if it's a python 'object' \n",
        "# drop some of the unnecessary (for us) columns, e.g. ip, finger, date, location, hash, choices\n",
        "# [7803 rows x 11457 columns] when unpacking spells, drop those and weapons for now\n",
        "\n",
        "ignore = ['ip', 'finger','date', 'location', 'hash', 'choices','weapons', 'name', 'spells']\n",
        "\n",
        "clean_df = pd.json_normalize(df['name'])\n",
        "clean_df = clean_df['alias'].str[0]\n",
        "\n",
        "for key in df.keys():\n",
        "  if key in ignore:\n",
        "    continue\n",
        "  try: # try doing a json_normalize, which will fail if it's not a json\n",
        "    data = pd.json_normalize(df[key])\n",
        "    for col in data.keys(): # unpack the singletons in each json column\n",
        "      data[col] = data[col].str[0]\n",
        "  except AttributeError: \n",
        "    data = df[key].str[0]\n",
        "    data = data.reset_index(drop=True) # use integer index to conform with json_normalize index\n",
        "  \n",
        "  clean_df = pd.concat([clean_df, data], axis=1)\n",
        "\n",
        "num_spells = df['spells'].apply(len).reset_index(drop=True)\n",
        "\n",
        "clean_df['num_spells'] = num_spells"
      ],
      "execution_count": 4,
      "outputs": []
    },
    {
      "cell_type": "markdown",
      "metadata": {
        "id": "O1wCJ7Cb-LWP",
        "colab_type": "text"
      },
      "source": [
        "## Add features"
      ]
    },
    {
      "cell_type": "code",
      "metadata": {
        "id": "VZN5A0pI-LBp",
        "colab_type": "code",
        "colab": {}
      },
      "source": [
        "# add generic \"primary class\" column based on highest level class of character\n",
        "class_list = ['Artificer.level','Barbarian.level','Bard.level','Cleric.level','Druid.level','Fighter.level','Monk.level',\n",
        "              'Paladin.level','Ranger.level','Rogue.level','Sorcerer.level','Warlock.level','Wizard.level']\n",
        "class_df = clean_df[class_list]\n",
        "\n",
        "primary_class = class_df.idxmax(axis=1)\n",
        "class1 = list(primary_class.str.split('.').str[0])\n",
        "clean_df['class1'] = class1\n",
        "\n",
        "# add generic \"primary class level\" column/label\n",
        "primary_class_level = class_df.max(axis=1)\n",
        "clean_df['level1'] = primary_class_level\n",
        "\n",
        "# one-hot encode castingStat\n",
        "castingStat = pd.get_dummies(clean_df[\"castingStat\"], prefix='castingStat')\n",
        "clean_df = pd.concat([clean_df, castingStat], axis = 1)\n",
        "\n",
        "# one-hot encode processedRace \n",
        "processedRace = pd.get_dummies(clean_df[\"processedRace\"], prefix='processedRace')\n",
        "clean_df = pd.concat([clean_df, processedRace], axis = 1)\n",
        "\n",
        "# add hp / level\n",
        "clean_df['hp_per_lvl'] = clean_df['HP'] / clean_df['level1']"
      ],
      "execution_count": 5,
      "outputs": []
    },
    {
      "cell_type": "markdown",
      "metadata": {
        "id": "FT12XTANqWrQ",
        "colab_type": "text"
      },
      "source": [
        "## Clean and filter data"
      ]
    },
    {
      "cell_type": "code",
      "metadata": {
        "id": "MhPKfsMGiRjl",
        "colab_type": "code",
        "colab": {}
      },
      "source": [
        "# remove duplicates \n",
        "clean_df = clean_df.drop_duplicates(keep='first', ignore_index=True)"
      ],
      "execution_count": 6,
      "outputs": []
    },
    {
      "cell_type": "code",
      "metadata": {
        "id": "52GMeiWGwNQg",
        "colab_type": "code",
        "colab": {
          "base_uri": "https://localhost:8080/",
          "height": 34
        },
        "outputId": "4d86dca9-d686-43ea-e2d8-9e417be2598c"
      },
      "source": [
        "# focus on only single class characters, i.e. remove multi-classes\n",
        "num_classes = clean_df[class_list].apply(lambda x: x.count(), axis=1)\n",
        "print('removing', len(clean_df[num_classes != 1]), 'multi-class (or zero class) entries')\n",
        "no_multi_df = clean_df[num_classes == 1]"
      ],
      "execution_count": 7,
      "outputs": [
        {
          "output_type": "stream",
          "text": [
            "removing 924 multi-class (or zero class) entries\n"
          ],
          "name": "stdout"
        }
      ]
    },
    {
      "cell_type": "code",
      "metadata": {
        "id": "Kin1ojxowVHj",
        "colab_type": "code",
        "colab": {
          "base_uri": "https://localhost:8080/",
          "height": 34
        },
        "outputId": "cb0b55ea-00b7-4993-8f59-46e3883a2389"
      },
      "source": [
        "# Artificer class is a recent addition with only 60 entries--too few to reasonably train the model, ignore for now\n",
        "print('removing', len(no_multi_df[no_multi_df['Artificer.level'].notnull()]), 'Artificer entries')\n",
        "no_artificer_df = no_multi_df[~no_multi_df['Artificer.level'].notnull()]"
      ],
      "execution_count": 8,
      "outputs": [
        {
          "output_type": "stream",
          "text": [
            "removing 58 Artificer entries\n"
          ],
          "name": "stdout"
        }
      ]
    },
    {
      "cell_type": "code",
      "metadata": {
        "id": "76gbpySqwYj-",
        "colab_type": "code",
        "colab": {}
      },
      "source": [
        "# clean up further by removing redundant columns (with new class1 and level1 labels)\n",
        "keep = ['alias',\n",
        "        'background',\n",
        "        'feats',\n",
        "        'HP', 'AC', 'hp_per_lvl',\n",
        "        'Str', 'Dex', 'Con', 'Int', 'Wis', 'Cha',\n",
        "        'processedAlignment',\n",
        "        'skills', \n",
        "        'class1','level1',\n",
        "        'castingStat_Cha', 'castingStat_Con', 'castingStat_Dex', 'castingStat_Int',\t'castingStat_Str',\t'castingStat_Wis',\n",
        "        'num_spells'] + [x for x in processedRace.columns]\n",
        "\n",
        "\n",
        "no_artificer_df = no_artificer_df[keep]"
      ],
      "execution_count": 9,
      "outputs": []
    },
    {
      "cell_type": "code",
      "metadata": {
        "id": "AjGv-i6SwhOX",
        "colab_type": "code",
        "colab": {
          "base_uri": "https://localhost:8080/",
          "height": 336
        },
        "outputId": "aeadad70-6049-475a-84ef-9d084b53c4dd"
      },
      "source": [
        "# HP outliers\n",
        "hp_per_level = no_artificer_df['hp_per_lvl']\n",
        "\n",
        "boxplot = plt.boxplot(hp_per_level)\n",
        "whiskers = [x.get_ydata()[1] for x in boxplot['whiskers']] # gives the 1.5*iqr whisker boundaries\n",
        "\n",
        "n_small_outliers = len(hp_per_level[hp_per_level < whiskers[0]])\n",
        "n_large_outliers = len(hp_per_level[hp_per_level > whiskers[1]])\n",
        "n_outliers = n_small_outliers + n_large_outliers\n",
        "\n",
        "print(f'removing {n_outliers} entries with HP / level < {whiskers[0]} and HP / level > {whiskers[1]}')\n",
        "no_artificer_df = no_artificer_df[hp_per_level >= whiskers[0]]\n",
        "no_artificer_df = no_artificer_df[hp_per_level <= whiskers[1]]"
      ],
      "execution_count": 10,
      "outputs": [
        {
          "output_type": "stream",
          "text": [
            "removing 75 entries with HP / level < 2.5 and HP / level > 16.0\n"
          ],
          "name": "stdout"
        },
        {
          "output_type": "stream",
          "text": [
            "/usr/local/lib/python3.6/dist-packages/ipykernel_launcher.py:13: UserWarning: Boolean Series key will be reindexed to match DataFrame index.\n",
            "  del sys.path[0]\n"
          ],
          "name": "stderr"
        },
        {
          "output_type": "display_data",
          "data": {
            "image/png": "[encoded data removed]",
            "text/plain": [
              "<Figure size 432x288 with 1 Axes>"
            ]
          },
          "metadata": {
            "tags": [],
            "needs_background": "light"
          }
        }
      ]
    },
    {
      "cell_type": "code",
      "metadata": {
        "id": "fsoWDAleqaLD",
        "colab_type": "code",
        "colab": {
          "base_uri": "https://localhost:8080/",
          "height": 490
        },
        "outputId": "63bff739-7d8e-438e-b921-f1cc9e1924b2"
      },
      "source": [
        "# set main_df as primary DataFrame for modeling (lol) didn't use clean_df because it broke some of the cells below\n",
        "main_df = no_artificer_df\n",
        "main_df"
      ],
      "execution_count": 11,
      "outputs": [
        {
          "output_type": "execute_result",
          "data": {
            "text/html": [
              "<div>\n",
              "<style scoped>\n",
              "    .dataframe tbody tr th:only-of-type {\n",
              "        vertical-align: middle;\n",
              "    }\n",
              "\n",
              "    .dataframe tbody tr th {\n",
              "        vertical-align: top;\n",
              "    }\n",
              "\n",
              "    .dataframe thead th {\n",
              "        text-align: right;\n",
              "    }\n",
              "</style>\n",
              "<table border=\"1\" class=\"dataframe\">\n",
              "  <thead>\n",
              "    <tr style=\"text-align: right;\">\n",
              "      <th></th>\n",
              "      <th>alias</th>\n",
              "      <th>background</th>\n",
              "      <th>feats</th>\n",
              "      <th>HP</th>\n",
              "      <th>AC</th>\n",
              "      <th>hp_per_lvl</th>\n",
              "      <th>Str</th>\n",
              "      <th>Dex</th>\n",
              "      <th>Con</th>\n",
              "      <th>Int</th>\n",
              "      <th>Wis</th>\n",
              "      <th>Cha</th>\n",
              "      <th>processedAlignment</th>\n",
              "      <th>skills</th>\n",
              "      <th>class1</th>\n",
              "      <th>level1</th>\n",
              "      <th>castingStat_Cha</th>\n",
              "      <th>castingStat_Con</th>\n",
              "      <th>castingStat_Dex</th>\n",
              "      <th>castingStat_Int</th>\n",
              "      <th>castingStat_Str</th>\n",
              "      <th>castingStat_Wis</th>\n",
              "      <th>num_spells</th>\n",
              "      <th>processedRace_</th>\n",
              "      <th>processedRace_Aarakocra</th>\n",
              "      <th>processedRace_Aasimar</th>\n",
              "      <th>processedRace_Bugbear</th>\n",
              "      <th>processedRace_Centaur</th>\n",
              "      <th>processedRace_Changeling</th>\n",
              "      <th>processedRace_Dragonborn</th>\n",
              "      <th>processedRace_Dwarf</th>\n",
              "      <th>processedRace_Eladrin</th>\n",
              "      <th>processedRace_Elf</th>\n",
              "      <th>processedRace_Firbolg</th>\n",
              "      <th>processedRace_Genasi</th>\n",
              "      <th>processedRace_Gith</th>\n",
              "      <th>processedRace_Gnome</th>\n",
              "      <th>processedRace_Goblin</th>\n",
              "      <th>processedRace_Goliath</th>\n",
              "      <th>processedRace_Half-Elf</th>\n",
              "      <th>processedRace_Half-Orc</th>\n",
              "      <th>processedRace_Halfling</th>\n",
              "      <th>processedRace_Hobgoblin</th>\n",
              "      <th>processedRace_Human</th>\n",
              "      <th>processedRace_Kalashtar</th>\n",
              "      <th>processedRace_Kenku</th>\n",
              "      <th>processedRace_Kobold</th>\n",
              "      <th>processedRace_Lizardfolk</th>\n",
              "      <th>processedRace_Loxodon</th>\n",
              "      <th>processedRace_Minotaur</th>\n",
              "      <th>processedRace_Orc</th>\n",
              "      <th>processedRace_Shifter</th>\n",
              "      <th>processedRace_Simic hybrid</th>\n",
              "      <th>processedRace_Tabaxi</th>\n",
              "      <th>processedRace_Tiefling</th>\n",
              "      <th>processedRace_Triton</th>\n",
              "      <th>processedRace_Turtle</th>\n",
              "      <th>processedRace_Vedalken</th>\n",
              "      <th>processedRace_Warforged</th>\n",
              "      <th>processedRace_Yaun-Ti</th>\n",
              "    </tr>\n",
              "  </thead>\n",
              "  <tbody>\n",
              "    <tr>\n",
              "      <th>0</th>\n",
              "      <td>amazing_cannon</td>\n",
              "      <td>Mercenary Veteran</td>\n",
              "      <td>NaN</td>\n",
              "      <td>60</td>\n",
              "      <td>15</td>\n",
              "      <td>8.571429</td>\n",
              "      <td>14</td>\n",
              "      <td>18</td>\n",
              "      <td>13</td>\n",
              "      <td>12</td>\n",
              "      <td>14</td>\n",
              "      <td>14</td>\n",
              "      <td></td>\n",
              "      <td>Athletics</td>\n",
              "      <td>Ranger</td>\n",
              "      <td>7.0</td>\n",
              "      <td>0</td>\n",
              "      <td>0</td>\n",
              "      <td>0</td>\n",
              "      <td>0</td>\n",
              "      <td>0</td>\n",
              "      <td>1</td>\n",
              "      <td>2</td>\n",
              "      <td>0</td>\n",
              "      <td>0</td>\n",
              "      <td>0</td>\n",
              "      <td>0</td>\n",
              "      <td>0</td>\n",
              "      <td>0</td>\n",
              "      <td>0</td>\n",
              "      <td>0</td>\n",
              "      <td>0</td>\n",
              "      <td>0</td>\n",
              "      <td>0</td>\n",
              "      <td>0</td>\n",
              "      <td>0</td>\n",
              "      <td>0</td>\n",
              "      <td>0</td>\n",
              "      <td>0</td>\n",
              "      <td>0</td>\n",
              "      <td>0</td>\n",
              "      <td>1</td>\n",
              "      <td>0</td>\n",
              "      <td>0</td>\n",
              "      <td>0</td>\n",
              "      <td>0</td>\n",
              "      <td>0</td>\n",
              "      <td>0</td>\n",
              "      <td>0</td>\n",
              "      <td>0</td>\n",
              "      <td>0</td>\n",
              "      <td>0</td>\n",
              "      <td>0</td>\n",
              "      <td>0</td>\n",
              "      <td>0</td>\n",
              "      <td>0</td>\n",
              "      <td>0</td>\n",
              "      <td>0</td>\n",
              "      <td>0</td>\n",
              "      <td>0</td>\n",
              "    </tr>\n",
              "    <tr>\n",
              "      <th>2</th>\n",
              "      <td>elated_solomon</td>\n",
              "      <td>Criminal</td>\n",
              "      <td>NaN</td>\n",
              "      <td>44</td>\n",
              "      <td>16</td>\n",
              "      <td>11.000000</td>\n",
              "      <td>15</td>\n",
              "      <td>15</td>\n",
              "      <td>15</td>\n",
              "      <td>11</td>\n",
              "      <td>11</td>\n",
              "      <td>9</td>\n",
              "      <td>CN</td>\n",
              "      <td>Athletics</td>\n",
              "      <td>Fighter</td>\n",
              "      <td>4.0</td>\n",
              "      <td>0</td>\n",
              "      <td>0</td>\n",
              "      <td>0</td>\n",
              "      <td>1</td>\n",
              "      <td>0</td>\n",
              "      <td>0</td>\n",
              "      <td>0</td>\n",
              "      <td>0</td>\n",
              "      <td>0</td>\n",
              "      <td>0</td>\n",
              "      <td>0</td>\n",
              "      <td>0</td>\n",
              "      <td>0</td>\n",
              "      <td>0</td>\n",
              "      <td>1</td>\n",
              "      <td>0</td>\n",
              "      <td>0</td>\n",
              "      <td>0</td>\n",
              "      <td>0</td>\n",
              "      <td>0</td>\n",
              "      <td>0</td>\n",
              "      <td>0</td>\n",
              "      <td>0</td>\n",
              "      <td>0</td>\n",
              "      <td>0</td>\n",
              "      <td>0</td>\n",
              "      <td>0</td>\n",
              "      <td>0</td>\n",
              "      <td>0</td>\n",
              "      <td>0</td>\n",
              "      <td>0</td>\n",
              "      <td>0</td>\n",
              "      <td>0</td>\n",
              "      <td>0</td>\n",
              "      <td>0</td>\n",
              "      <td>0</td>\n",
              "      <td>0</td>\n",
              "      <td>0</td>\n",
              "      <td>0</td>\n",
              "      <td>0</td>\n",
              "      <td>0</td>\n",
              "      <td>0</td>\n",
              "      <td>0</td>\n",
              "      <td>0</td>\n",
              "    </tr>\n",
              "    <tr>\n",
              "      <th>3</th>\n",
              "      <td>elated_solomon</td>\n",
              "      <td>Criminal</td>\n",
              "      <td>NaN</td>\n",
              "      <td>48</td>\n",
              "      <td>16</td>\n",
              "      <td>12.000000</td>\n",
              "      <td>17</td>\n",
              "      <td>15</td>\n",
              "      <td>17</td>\n",
              "      <td>8</td>\n",
              "      <td>9</td>\n",
              "      <td>8</td>\n",
              "      <td>CN</td>\n",
              "      <td>Athletics</td>\n",
              "      <td>Fighter</td>\n",
              "      <td>4.0</td>\n",
              "      <td>0</td>\n",
              "      <td>0</td>\n",
              "      <td>0</td>\n",
              "      <td>1</td>\n",
              "      <td>0</td>\n",
              "      <td>0</td>\n",
              "      <td>0</td>\n",
              "      <td>0</td>\n",
              "      <td>0</td>\n",
              "      <td>0</td>\n",
              "      <td>0</td>\n",
              "      <td>0</td>\n",
              "      <td>0</td>\n",
              "      <td>0</td>\n",
              "      <td>1</td>\n",
              "      <td>0</td>\n",
              "      <td>0</td>\n",
              "      <td>0</td>\n",
              "      <td>0</td>\n",
              "      <td>0</td>\n",
              "      <td>0</td>\n",
              "      <td>0</td>\n",
              "      <td>0</td>\n",
              "      <td>0</td>\n",
              "      <td>0</td>\n",
              "      <td>0</td>\n",
              "      <td>0</td>\n",
              "      <td>0</td>\n",
              "      <td>0</td>\n",
              "      <td>0</td>\n",
              "      <td>0</td>\n",
              "      <td>0</td>\n",
              "      <td>0</td>\n",
              "      <td>0</td>\n",
              "      <td>0</td>\n",
              "      <td>0</td>\n",
              "      <td>0</td>\n",
              "      <td>0</td>\n",
              "      <td>0</td>\n",
              "      <td>0</td>\n",
              "      <td>0</td>\n",
              "      <td>0</td>\n",
              "      <td>0</td>\n",
              "      <td>0</td>\n",
              "    </tr>\n",
              "    <tr>\n",
              "      <th>4</th>\n",
              "      <td>elated_solomon</td>\n",
              "      <td>Criminal</td>\n",
              "      <td>NaN</td>\n",
              "      <td>40</td>\n",
              "      <td>18</td>\n",
              "      <td>10.000000</td>\n",
              "      <td>16</td>\n",
              "      <td>15</td>\n",
              "      <td>16</td>\n",
              "      <td>10</td>\n",
              "      <td>12</td>\n",
              "      <td>8</td>\n",
              "      <td>CN</td>\n",
              "      <td>Athletics</td>\n",
              "      <td>Fighter</td>\n",
              "      <td>4.0</td>\n",
              "      <td>0</td>\n",
              "      <td>0</td>\n",
              "      <td>0</td>\n",
              "      <td>1</td>\n",
              "      <td>0</td>\n",
              "      <td>0</td>\n",
              "      <td>0</td>\n",
              "      <td>0</td>\n",
              "      <td>0</td>\n",
              "      <td>0</td>\n",
              "      <td>0</td>\n",
              "      <td>0</td>\n",
              "      <td>0</td>\n",
              "      <td>0</td>\n",
              "      <td>1</td>\n",
              "      <td>0</td>\n",
              "      <td>0</td>\n",
              "      <td>0</td>\n",
              "      <td>0</td>\n",
              "      <td>0</td>\n",
              "      <td>0</td>\n",
              "      <td>0</td>\n",
              "      <td>0</td>\n",
              "      <td>0</td>\n",
              "      <td>0</td>\n",
              "      <td>0</td>\n",
              "      <td>0</td>\n",
              "      <td>0</td>\n",
              "      <td>0</td>\n",
              "      <td>0</td>\n",
              "      <td>0</td>\n",
              "      <td>0</td>\n",
              "      <td>0</td>\n",
              "      <td>0</td>\n",
              "      <td>0</td>\n",
              "      <td>0</td>\n",
              "      <td>0</td>\n",
              "      <td>0</td>\n",
              "      <td>0</td>\n",
              "      <td>0</td>\n",
              "      <td>0</td>\n",
              "      <td>0</td>\n",
              "      <td>0</td>\n",
              "      <td>0</td>\n",
              "    </tr>\n",
              "    <tr>\n",
              "      <th>5</th>\n",
              "      <td>bold_grothendieck</td>\n",
              "      <td>Smuggler</td>\n",
              "      <td>NaN</td>\n",
              "      <td>44</td>\n",
              "      <td>16</td>\n",
              "      <td>8.800000</td>\n",
              "      <td>18</td>\n",
              "      <td>20</td>\n",
              "      <td>15</td>\n",
              "      <td>12</td>\n",
              "      <td>11</td>\n",
              "      <td>16</td>\n",
              "      <td></td>\n",
              "      <td>Athletics</td>\n",
              "      <td>Rogue</td>\n",
              "      <td>5.0</td>\n",
              "      <td>0</td>\n",
              "      <td>0</td>\n",
              "      <td>0</td>\n",
              "      <td>1</td>\n",
              "      <td>0</td>\n",
              "      <td>0</td>\n",
              "      <td>1</td>\n",
              "      <td>0</td>\n",
              "      <td>0</td>\n",
              "      <td>0</td>\n",
              "      <td>0</td>\n",
              "      <td>0</td>\n",
              "      <td>0</td>\n",
              "      <td>0</td>\n",
              "      <td>0</td>\n",
              "      <td>0</td>\n",
              "      <td>1</td>\n",
              "      <td>0</td>\n",
              "      <td>0</td>\n",
              "      <td>0</td>\n",
              "      <td>0</td>\n",
              "      <td>0</td>\n",
              "      <td>0</td>\n",
              "      <td>0</td>\n",
              "      <td>0</td>\n",
              "      <td>0</td>\n",
              "      <td>0</td>\n",
              "      <td>0</td>\n",
              "      <td>0</td>\n",
              "      <td>0</td>\n",
              "      <td>0</td>\n",
              "      <td>0</td>\n",
              "      <td>0</td>\n",
              "      <td>0</td>\n",
              "      <td>0</td>\n",
              "      <td>0</td>\n",
              "      <td>0</td>\n",
              "      <td>0</td>\n",
              "      <td>0</td>\n",
              "      <td>0</td>\n",
              "      <td>0</td>\n",
              "      <td>0</td>\n",
              "      <td>0</td>\n",
              "      <td>0</td>\n",
              "    </tr>\n",
              "    <tr>\n",
              "      <th>...</th>\n",
              "      <td>...</td>\n",
              "      <td>...</td>\n",
              "      <td>...</td>\n",
              "      <td>...</td>\n",
              "      <td>...</td>\n",
              "      <td>...</td>\n",
              "      <td>...</td>\n",
              "      <td>...</td>\n",
              "      <td>...</td>\n",
              "      <td>...</td>\n",
              "      <td>...</td>\n",
              "      <td>...</td>\n",
              "      <td>...</td>\n",
              "      <td>...</td>\n",
              "      <td>...</td>\n",
              "      <td>...</td>\n",
              "      <td>...</td>\n",
              "      <td>...</td>\n",
              "      <td>...</td>\n",
              "      <td>...</td>\n",
              "      <td>...</td>\n",
              "      <td>...</td>\n",
              "      <td>...</td>\n",
              "      <td>...</td>\n",
              "      <td>...</td>\n",
              "      <td>...</td>\n",
              "      <td>...</td>\n",
              "      <td>...</td>\n",
              "      <td>...</td>\n",
              "      <td>...</td>\n",
              "      <td>...</td>\n",
              "      <td>...</td>\n",
              "      <td>...</td>\n",
              "      <td>...</td>\n",
              "      <td>...</td>\n",
              "      <td>...</td>\n",
              "      <td>...</td>\n",
              "      <td>...</td>\n",
              "      <td>...</td>\n",
              "      <td>...</td>\n",
              "      <td>...</td>\n",
              "      <td>...</td>\n",
              "      <td>...</td>\n",
              "      <td>...</td>\n",
              "      <td>...</td>\n",
              "      <td>...</td>\n",
              "      <td>...</td>\n",
              "      <td>...</td>\n",
              "      <td>...</td>\n",
              "      <td>...</td>\n",
              "      <td>...</td>\n",
              "      <td>...</td>\n",
              "      <td>...</td>\n",
              "      <td>...</td>\n",
              "      <td>...</td>\n",
              "      <td>...</td>\n",
              "      <td>...</td>\n",
              "      <td>...</td>\n",
              "      <td>...</td>\n",
              "      <td>...</td>\n",
              "    </tr>\n",
              "    <tr>\n",
              "      <th>7633</th>\n",
              "      <td>zealous_lewin</td>\n",
              "      <td>Noble</td>\n",
              "      <td>NaN</td>\n",
              "      <td>45</td>\n",
              "      <td>17</td>\n",
              "      <td>7.500000</td>\n",
              "      <td>10</td>\n",
              "      <td>18</td>\n",
              "      <td>14</td>\n",
              "      <td>12</td>\n",
              "      <td>18</td>\n",
              "      <td>18</td>\n",
              "      <td>CG</td>\n",
              "      <td>History</td>\n",
              "      <td>Cleric</td>\n",
              "      <td>6.0</td>\n",
              "      <td>0</td>\n",
              "      <td>0</td>\n",
              "      <td>0</td>\n",
              "      <td>0</td>\n",
              "      <td>0</td>\n",
              "      <td>1</td>\n",
              "      <td>21</td>\n",
              "      <td>0</td>\n",
              "      <td>0</td>\n",
              "      <td>0</td>\n",
              "      <td>0</td>\n",
              "      <td>0</td>\n",
              "      <td>0</td>\n",
              "      <td>0</td>\n",
              "      <td>0</td>\n",
              "      <td>0</td>\n",
              "      <td>1</td>\n",
              "      <td>0</td>\n",
              "      <td>0</td>\n",
              "      <td>0</td>\n",
              "      <td>0</td>\n",
              "      <td>0</td>\n",
              "      <td>0</td>\n",
              "      <td>0</td>\n",
              "      <td>0</td>\n",
              "      <td>0</td>\n",
              "      <td>0</td>\n",
              "      <td>0</td>\n",
              "      <td>0</td>\n",
              "      <td>0</td>\n",
              "      <td>0</td>\n",
              "      <td>0</td>\n",
              "      <td>0</td>\n",
              "      <td>0</td>\n",
              "      <td>0</td>\n",
              "      <td>0</td>\n",
              "      <td>0</td>\n",
              "      <td>0</td>\n",
              "      <td>0</td>\n",
              "      <td>0</td>\n",
              "      <td>0</td>\n",
              "      <td>0</td>\n",
              "      <td>0</td>\n",
              "      <td>0</td>\n",
              "    </tr>\n",
              "    <tr>\n",
              "      <th>7634</th>\n",
              "      <td>nervous_goldstine</td>\n",
              "      <td>Mercenary Veteran</td>\n",
              "      <td>NaN</td>\n",
              "      <td>32</td>\n",
              "      <td>16</td>\n",
              "      <td>10.666667</td>\n",
              "      <td>10</td>\n",
              "      <td>16</td>\n",
              "      <td>14</td>\n",
              "      <td>13</td>\n",
              "      <td>13</td>\n",
              "      <td>10</td>\n",
              "      <td></td>\n",
              "      <td>Athletics</td>\n",
              "      <td>Ranger</td>\n",
              "      <td>3.0</td>\n",
              "      <td>0</td>\n",
              "      <td>0</td>\n",
              "      <td>0</td>\n",
              "      <td>0</td>\n",
              "      <td>0</td>\n",
              "      <td>1</td>\n",
              "      <td>0</td>\n",
              "      <td>0</td>\n",
              "      <td>0</td>\n",
              "      <td>0</td>\n",
              "      <td>0</td>\n",
              "      <td>0</td>\n",
              "      <td>0</td>\n",
              "      <td>0</td>\n",
              "      <td>0</td>\n",
              "      <td>0</td>\n",
              "      <td>0</td>\n",
              "      <td>0</td>\n",
              "      <td>0</td>\n",
              "      <td>0</td>\n",
              "      <td>0</td>\n",
              "      <td>0</td>\n",
              "      <td>0</td>\n",
              "      <td>1</td>\n",
              "      <td>0</td>\n",
              "      <td>0</td>\n",
              "      <td>0</td>\n",
              "      <td>0</td>\n",
              "      <td>0</td>\n",
              "      <td>0</td>\n",
              "      <td>0</td>\n",
              "      <td>0</td>\n",
              "      <td>0</td>\n",
              "      <td>0</td>\n",
              "      <td>0</td>\n",
              "      <td>0</td>\n",
              "      <td>0</td>\n",
              "      <td>0</td>\n",
              "      <td>0</td>\n",
              "      <td>0</td>\n",
              "      <td>0</td>\n",
              "      <td>0</td>\n",
              "      <td>0</td>\n",
              "      <td>0</td>\n",
              "    </tr>\n",
              "    <tr>\n",
              "      <th>7636</th>\n",
              "      <td>condescending_lederberg</td>\n",
              "      <td>Noble</td>\n",
              "      <td>NaN</td>\n",
              "      <td>58</td>\n",
              "      <td>19</td>\n",
              "      <td>9.666667</td>\n",
              "      <td>20</td>\n",
              "      <td>13</td>\n",
              "      <td>15</td>\n",
              "      <td>10</td>\n",
              "      <td>12</td>\n",
              "      <td>16</td>\n",
              "      <td>CG</td>\n",
              "      <td>Athletics</td>\n",
              "      <td>Paladin</td>\n",
              "      <td>6.0</td>\n",
              "      <td>1</td>\n",
              "      <td>0</td>\n",
              "      <td>0</td>\n",
              "      <td>0</td>\n",
              "      <td>0</td>\n",
              "      <td>0</td>\n",
              "      <td>7</td>\n",
              "      <td>0</td>\n",
              "      <td>0</td>\n",
              "      <td>0</td>\n",
              "      <td>0</td>\n",
              "      <td>0</td>\n",
              "      <td>0</td>\n",
              "      <td>1</td>\n",
              "      <td>0</td>\n",
              "      <td>0</td>\n",
              "      <td>0</td>\n",
              "      <td>0</td>\n",
              "      <td>0</td>\n",
              "      <td>0</td>\n",
              "      <td>0</td>\n",
              "      <td>0</td>\n",
              "      <td>0</td>\n",
              "      <td>0</td>\n",
              "      <td>0</td>\n",
              "      <td>0</td>\n",
              "      <td>0</td>\n",
              "      <td>0</td>\n",
              "      <td>0</td>\n",
              "      <td>0</td>\n",
              "      <td>0</td>\n",
              "      <td>0</td>\n",
              "      <td>0</td>\n",
              "      <td>0</td>\n",
              "      <td>0</td>\n",
              "      <td>0</td>\n",
              "      <td>0</td>\n",
              "      <td>0</td>\n",
              "      <td>0</td>\n",
              "      <td>0</td>\n",
              "      <td>0</td>\n",
              "      <td>0</td>\n",
              "      <td>0</td>\n",
              "      <td>0</td>\n",
              "    </tr>\n",
              "    <tr>\n",
              "      <th>7637</th>\n",
              "      <td>relaxed_cori</td>\n",
              "      <td>Acolyte</td>\n",
              "      <td>NaN</td>\n",
              "      <td>10</td>\n",
              "      <td>14</td>\n",
              "      <td>10.000000</td>\n",
              "      <td>8</td>\n",
              "      <td>16</td>\n",
              "      <td>13</td>\n",
              "      <td>11</td>\n",
              "      <td>13</td>\n",
              "      <td>16</td>\n",
              "      <td></td>\n",
              "      <td>Acrobatics</td>\n",
              "      <td>Bard</td>\n",
              "      <td>1.0</td>\n",
              "      <td>1</td>\n",
              "      <td>0</td>\n",
              "      <td>0</td>\n",
              "      <td>0</td>\n",
              "      <td>0</td>\n",
              "      <td>0</td>\n",
              "      <td>7</td>\n",
              "      <td>1</td>\n",
              "      <td>0</td>\n",
              "      <td>0</td>\n",
              "      <td>0</td>\n",
              "      <td>0</td>\n",
              "      <td>0</td>\n",
              "      <td>0</td>\n",
              "      <td>0</td>\n",
              "      <td>0</td>\n",
              "      <td>0</td>\n",
              "      <td>0</td>\n",
              "      <td>0</td>\n",
              "      <td>0</td>\n",
              "      <td>0</td>\n",
              "      <td>0</td>\n",
              "      <td>0</td>\n",
              "      <td>0</td>\n",
              "      <td>0</td>\n",
              "      <td>0</td>\n",
              "      <td>0</td>\n",
              "      <td>0</td>\n",
              "      <td>0</td>\n",
              "      <td>0</td>\n",
              "      <td>0</td>\n",
              "      <td>0</td>\n",
              "      <td>0</td>\n",
              "      <td>0</td>\n",
              "      <td>0</td>\n",
              "      <td>0</td>\n",
              "      <td>0</td>\n",
              "      <td>0</td>\n",
              "      <td>0</td>\n",
              "      <td>0</td>\n",
              "      <td>0</td>\n",
              "      <td>0</td>\n",
              "      <td>0</td>\n",
              "      <td>0</td>\n",
              "    </tr>\n",
              "    <tr>\n",
              "      <th>7638</th>\n",
              "      <td>admiring_payne</td>\n",
              "      <td>Haunted One</td>\n",
              "      <td>NaN</td>\n",
              "      <td>17</td>\n",
              "      <td>13</td>\n",
              "      <td>8.500000</td>\n",
              "      <td>9</td>\n",
              "      <td>16</td>\n",
              "      <td>15</td>\n",
              "      <td>14</td>\n",
              "      <td>10</td>\n",
              "      <td>10</td>\n",
              "      <td></td>\n",
              "      <td>Investigation</td>\n",
              "      <td>Rogue</td>\n",
              "      <td>2.0</td>\n",
              "      <td>0</td>\n",
              "      <td>0</td>\n",
              "      <td>0</td>\n",
              "      <td>1</td>\n",
              "      <td>0</td>\n",
              "      <td>0</td>\n",
              "      <td>0</td>\n",
              "      <td>0</td>\n",
              "      <td>0</td>\n",
              "      <td>0</td>\n",
              "      <td>0</td>\n",
              "      <td>0</td>\n",
              "      <td>0</td>\n",
              "      <td>0</td>\n",
              "      <td>0</td>\n",
              "      <td>0</td>\n",
              "      <td>0</td>\n",
              "      <td>0</td>\n",
              "      <td>0</td>\n",
              "      <td>0</td>\n",
              "      <td>1</td>\n",
              "      <td>0</td>\n",
              "      <td>0</td>\n",
              "      <td>0</td>\n",
              "      <td>0</td>\n",
              "      <td>0</td>\n",
              "      <td>0</td>\n",
              "      <td>0</td>\n",
              "      <td>0</td>\n",
              "      <td>0</td>\n",
              "      <td>0</td>\n",
              "      <td>0</td>\n",
              "      <td>0</td>\n",
              "      <td>0</td>\n",
              "      <td>0</td>\n",
              "      <td>0</td>\n",
              "      <td>0</td>\n",
              "      <td>0</td>\n",
              "      <td>0</td>\n",
              "      <td>0</td>\n",
              "      <td>0</td>\n",
              "      <td>0</td>\n",
              "      <td>0</td>\n",
              "      <td>0</td>\n",
              "    </tr>\n",
              "  </tbody>\n",
              "</table>\n",
              "<p>6582 rows × 60 columns</p>\n",
              "</div>"
            ],
            "text/plain": [
              "                        alias  ... processedRace_Yaun-Ti\n",
              "0              amazing_cannon  ...                     0\n",
              "2              elated_solomon  ...                     0\n",
              "3              elated_solomon  ...                     0\n",
              "4              elated_solomon  ...                     0\n",
              "5           bold_grothendieck  ...                     0\n",
              "...                       ...  ...                   ...\n",
              "7633            zealous_lewin  ...                     0\n",
              "7634        nervous_goldstine  ...                     0\n",
              "7636  condescending_lederberg  ...                     0\n",
              "7637             relaxed_cori  ...                     0\n",
              "7638           admiring_payne  ...                     0\n",
              "\n",
              "[6582 rows x 60 columns]"
            ]
          },
          "metadata": {
            "tags": []
          },
          "execution_count": 11
        }
      ]
    },
    {
      "cell_type": "markdown",
      "metadata": {
        "id": "3NWBgzvkeCGm",
        "colab_type": "text"
      },
      "source": [
        "# Exploratory Data Analysis"
      ]
    },
    {
      "cell_type": "markdown",
      "metadata": {
        "id": "3sBdd_gVoiGF",
        "colab_type": "text"
      },
      "source": [
        "## Distributions"
      ]
    },
    {
      "cell_type": "markdown",
      "metadata": {
        "id": "XxqDXrOHm-3o",
        "colab_type": "text"
      },
      "source": [
        "### Number of multi-class"
      ]
    },
    {
      "cell_type": "code",
      "metadata": {
        "id": "IPEi-8J1tsFv",
        "colab_type": "code",
        "colab": {
          "base_uri": "https://localhost:8080/",
          "height": 444
        },
        "outputId": "a4f3cff7-78ad-4636-85bc-427e4186b869"
      },
      "source": [
        "num_classes = clean_df[class_list].apply(lambda x: x.count(), axis=1)\n",
        "\n",
        "fig = plt.figure(figsize=[10,7])\n",
        "ax = plt.subplot(111)\n",
        "\n",
        "ax.hist(num_classes, bins=13, range=(0,13), color='#0504aa', alpha=0.9, rwidth=0.85,align='left')\n",
        "ax.yaxis.grid(True)\n",
        "ax.set_axisbelow(True)\n",
        "ax.set_xlabel('Number of classes per character')\n",
        "ax.set_ylabel('Number of entries')\n",
        "\n",
        "plt.xticks(np.arange(min(num_classes), max(num_classes), 1.0))\n",
        "plt.show()\n",
        "# there are characters with multiple class entries, although predominantly only 1-class followed by 2-class"
      ],
      "execution_count": 12,
      "outputs": [
        {
          "output_type": "display_data",
          "data": {
            "image/png": "[encoded data removed]",
            "text/plain": [
              "<Figure size 720x504 with 1 Axes>"
            ]
          },
          "metadata": {
            "tags": [],
            "needs_background": "light"
          }
        }
      ]
    },
    {
      "cell_type": "markdown",
      "metadata": {
        "id": "nQ4sEzO0nFDG",
        "colab_type": "text"
      },
      "source": [
        "### Class distribution"
      ]
    },
    {
      "cell_type": "code",
      "metadata": {
        "id": "xKt9Cl1Xzo96",
        "colab_type": "code",
        "colab": {
          "base_uri": "https://localhost:8080/",
          "height": 458
        },
        "outputId": "e6e3fe79-3fb7-4bea-b7b7-c425074dae4f"
      },
      "source": [
        "classes = clean_df['class1'].value_counts().index\n",
        "class_counts = clean_df['class1'].value_counts().values\n",
        "\n",
        "fig = plt.figure(figsize=[10,7])\n",
        "ax = plt.subplot(111)\n",
        "\n",
        "ax.barh(classes, class_counts)\n",
        "ax.set_xlabel('Number of character entries')\n",
        "ax.set_ylabel('Character class')\n",
        "ax.set_title('Number of entries for each class')\n",
        "ax.invert_yaxis()\n",
        "ax.xaxis.grid(True)\n",
        "ax.set_axisbelow(True)"
      ],
      "execution_count": 13,
      "outputs": [
        {
          "output_type": "display_data",
          "data": {
            "image/png": "[encoded data removed]",
            "text/plain": [
              "<Figure size 720x504 with 1 Axes>"
            ]
          },
          "metadata": {
            "tags": [],
            "needs_background": "light"
          }
        }
      ]
    },
    {
      "cell_type": "markdown",
      "metadata": {
        "id": "Ab05jlOGoAb3",
        "colab_type": "text"
      },
      "source": [
        "### Attribute distributions"
      ]
    },
    {
      "cell_type": "code",
      "metadata": {
        "id": "vdM3DaPDD9rk",
        "colab_type": "code",
        "colab": {
          "base_uri": "https://localhost:8080/",
          "height": 518
        },
        "outputId": "d9e0087f-546a-4967-e968-07beeffa0f4e"
      },
      "source": [
        "# get attribute data\n",
        "attributes = ['Str', 'Wis', 'Con', 'Cha', 'Int', 'Dex']\n",
        "attributes_data = clean_df[attributes]\n",
        "\n",
        "print(attributes_data.describe())\n",
        "\n",
        "if 0:\n",
        "    # 2d hists\n",
        "    for iattribute, attribute in enumerate(attributes):\n",
        "        plt.hist(attributes_data[attribute], bins=50, range=(0,50))\n",
        "        plt.xlabel(attribute)\n",
        "        plt.yscale('log')\n",
        "        plt.show()\n",
        "\n",
        "        for iattribute2, attribute2 in enumerate(attributes):\n",
        "            if iattribute2 > iattribute:\n",
        "                plt.hist2d(attributes_data[attribute], attributes_data[attribute2], bins=50, range=[(0,50),(0,50)])\n",
        "            plt.xlabel(attribute)\n",
        "            plt.ylabel(attribute2)\n",
        "            plt.show() \n",
        "    atts = []\n",
        "\n",
        "    # violin plots\n",
        "    for att in attributes:\n",
        "        atts.append(clean_df[att])\n",
        "\n",
        "    fig = plt.figure(figsize=[10,7])\n",
        "    ax = plt.subplot(111)\n",
        "    pos = [1, 2, 3, 4, 5, 6]\n",
        "\n",
        "    ax.violinplot(atts, positions=pos, showextrema=False)\n",
        "    ax.set_ylim(0,25)\n",
        "    ax.set_xticks(pos)\n",
        "    ax.set_xticklabels(attributes)\n",
        "\n",
        "    # box plot\n",
        "    #plt.boxplot(att_dfs, labels=attributes)\n",
        "    #plt.show()\n",
        "    \n",
        "    # per-class histograms\n",
        "    for cls in class_list:\n",
        "        cls_df = clean_df[clean_df[cls].notnull()]\n",
        "        atts = []\n",
        "        for att in attributes:\n",
        "            atts.append(cls_df[att])\n",
        "        plt.hist(atts, histtype='step', fill=False, bins=30, range=(0,30))\n",
        "        plt.legend(attributes)\n",
        "        plt.title(cls.split('.')[0])\n",
        "        plt.show()\n",
        "\n",
        "fig, axs = plt.subplots(2,4, figsize=(30, 10))\n",
        "derp = [(a,b) for a in (0,1) for b in (0,1,2,3)]\n",
        "for iatt, att in enumerate(attributes + ['HP','AC']):\n",
        "    n = 30\n",
        "    if att == 'HP':\n",
        "        n = 500\n",
        "    axs[derp[iatt][0], derp[iatt][1]].hist(clean_df[att], histtype='step', fill=True, alpha=0.5, bins=n, range=(0,n))\n",
        "    axs[derp[iatt][0], derp[iatt][1]].set_xlabel(att, fontsize=20)\n",
        "    axs[derp[iatt][0], derp[iatt][1]].set_ylabel('Number of entries', fontsize=20)\n",
        "\n",
        "plt.show()"
      ],
      "execution_count": 14,
      "outputs": [
        {
          "output_type": "stream",
          "text": [
            "               Str          Wis  ...          Int          Dex\n",
            "count  7639.000000  7639.000000  ...  7639.000000  7639.000000\n",
            "mean     12.820919    13.118340  ...    11.987564    14.689095\n",
            "std       4.035406     3.186468  ...     3.188661     3.225906\n",
            "min       1.000000     1.000000  ...     0.000000     3.000000\n",
            "25%      10.000000    11.000000  ...    10.000000    13.000000\n",
            "50%      12.000000    13.000000  ...    12.000000    15.000000\n",
            "75%      16.000000    15.000000  ...    14.000000    17.000000\n",
            "max     103.000000   100.000000  ...    99.000000   101.000000\n",
            "\n",
            "[8 rows x 6 columns]\n"
          ],
          "name": "stdout"
        },
        {
          "output_type": "display_data",
          "data": {
            "image/png": "[encoded data removed]",
            "text/plain": [
              "<Figure size 2160x720 with 8 Axes>"
            ]
          },
          "metadata": {
            "tags": [],
            "needs_background": "light"
          }
        }
      ]
    },
    {
      "cell_type": "code",
      "metadata": {
        "id": "MHf48jKQoV4j",
        "colab_type": "code",
        "colab": {
          "base_uri": "https://localhost:8080/",
          "height": 329
        },
        "outputId": "6e9c6a29-3d8c-436c-bd70-b2137169af3a"
      },
      "source": [
        "fig, axs = plt.subplots(2,4, figsize=(30, 10))\n",
        "derp = [(a,b) for a in (0,1) for b in (0,1,2,3)]\n",
        "for iatt, att in enumerate(attributes + ['HP','AC']):\n",
        "    axs[derp[iatt][0], derp[iatt][1]].scatter(clean_df['level'], clean_df[att])\n",
        "    axs[derp[iatt][0], derp[iatt][1]].set_xlabel('Character Level')\n",
        "    axs[derp[iatt][0], derp[iatt][1]].set_ylabel(att)\n",
        "    axs[derp[iatt][0], derp[iatt][1]].grid(True)\n",
        "    axs[derp[iatt][0], derp[iatt][1]].set_axisbelow(True)\n",
        "plt.show()"
      ],
      "execution_count": 15,
      "outputs": [
        {
          "output_type": "display_data",
          "data": {
            "image/png": "[encoded data removed]",
            "text/plain": [
              "<Figure size 2160x720 with 8 Axes>"
            ]
          },
          "metadata": {
            "tags": [],
            "needs_background": "light"
          }
        }
      ]
    },
    {
      "cell_type": "markdown",
      "metadata": {
        "id": "BM8bOgYSoJT0",
        "colab_type": "text"
      },
      "source": [
        "### HP distributions"
      ]
    },
    {
      "cell_type": "code",
      "metadata": {
        "id": "HVbbHbZsoL_M",
        "colab_type": "code",
        "colab": {
          "base_uri": "https://localhost:8080/",
          "height": 1000
        },
        "outputId": "5a7ecfb2-83d2-4a02-e981-d1d1ad35212a"
      },
      "source": [
        "plt.hist(clean_df['HP'], histtype='step', fill=False, bins=100, range=(0,1000))\n",
        "plt.show()\n",
        "\n",
        "plt.scatter(clean_df['level'], clean_df['HP'])\n",
        "plt.show()\n",
        "\n",
        "# hp correlated with level, consider hp / level\n",
        "\n",
        "hp_per_level = clean_df['HP'].divide(clean_df['level'])\n",
        "\n",
        "plt.hist(hp_per_level, histtype='step', fill=False, bins=100, range=(0,100))\n",
        "plt.show()\n",
        "\n",
        "plt.boxplot(hp_per_level)\n",
        "plt.show()"
      ],
      "execution_count": 16,
      "outputs": [
        {
          "output_type": "display_data",
          "data": {
            "image/png": "[encoded data removed]",
            "text/plain": [
              "<Figure size 432x288 with 1 Axes>"
            ]
          },
          "metadata": {
            "tags": [],
            "needs_background": "light"
          }
        },
        {
          "output_type": "display_data",
          "data": {
            "image/png": "[encoded data removed]",
            "text/plain": [
              "<Figure size 432x288 with 1 Axes>"
            ]
          },
          "metadata": {
            "tags": [],
            "needs_background": "light"
          }
        },
        {
          "output_type": "display_data",
          "data": {
            "image/png": "[encoded data removed]",
            "text/plain": [
              "<Figure size 432x288 with 1 Axes>"
            ]
          },
          "metadata": {
            "tags": [],
            "needs_background": "light"
          }
        },
        {
          "output_type": "display_data",
          "data": {
            "image/png": "[encoded data removed]",
            "text/plain": [
              "<Figure size 432x288 with 1 Axes>"
            ]
          },
          "metadata": {
            "tags": [],
            "needs_background": "light"
          }
        }
      ]
    },
    {
      "cell_type": "markdown",
      "metadata": {
        "id": "-kr2eDSVwhf0",
        "colab_type": "text"
      },
      "source": [
        "### AC distributions"
      ]
    },
    {
      "cell_type": "code",
      "metadata": {
        "id": "4UhJuBopweL1",
        "colab_type": "code",
        "colab": {
          "base_uri": "https://localhost:8080/",
          "height": 1000
        },
        "outputId": "abc147a2-df35-48d4-d05f-1469c765815f"
      },
      "source": [
        "plt.hist(clean_df['AC'], histtype='step', fill=False, bins=50, range=(0,50))\n",
        "plt.show()\n",
        "\n",
        "# for each class\n",
        "for cls in class_list:\n",
        "  cls_df = clean_df[clean_df[cls].notnull()]\n",
        "  plt.hist(cls_df['AC'], histtype='step', fill=False, bins=50, range=(0,50))\n",
        "  plt.title(cls.split('.')[0])\n",
        "  plt.show()"
      ],
      "execution_count": 17,
      "outputs": [
        {
          "output_type": "display_data",
          "data": {
            "image/png": "[encoded data removed]",
            "text/plain": [
              "<Figure size 432x288 with 1 Axes>"
            ]
          },
          "metadata": {
            "tags": [],
            "needs_background": "light"
          }
        },
        {
          "output_type": "display_data",
          "data": {
            "image/png": "[encoded data removed]",
            "text/plain": [
              "<Figure size 432x288 with 1 Axes>"
            ]
          },
          "metadata": {
            "tags": [],
            "needs_background": "light"
          }
        },
        {
          "output_type": "display_data",
          "data": {
            "image/png": "[encoded data removed]",
            "text/plain": [
              "<Figure size 432x288 with 1 Axes>"
            ]
          },
          "metadata": {
            "tags": [],
            "needs_background": "light"
          }
        },
        {
          "output_type": "display_data",
          "data": {
            "image/png": "[encoded data removed]",
            "text/plain": [
              "<Figure size 432x288 with 1 Axes>"
            ]
          },
          "metadata": {
            "tags": [],
            "needs_background": "light"
          }
        },
        {
          "output_type": "display_data",
          "data": {
            "image/png": "[encoded data removed]",
            "text/plain": [
              "<Figure size 432x288 with 1 Axes>"
            ]
          },
          "metadata": {
            "tags": [],
            "needs_background": "light"
          }
        },
        {
          "output_type": "display_data",
          "data": {
            "image/png": "[encoded data removed]",
            "text/plain": [
              "<Figure size 432x288 with 1 Axes>"
            ]
          },
          "metadata": {
            "tags": [],
            "needs_background": "light"
          }
        },
        {
          "output_type": "display_data",
          "data": {
            "image/png": "[encoded data removed]",
            "text/plain": [
              "<Figure size 432x288 with 1 Axes>"
            ]
          },
          "metadata": {
            "tags": [],
            "needs_background": "light"
          }
        },
        {
          "output_type": "display_data",
          "data": {
            "image/png": "[encoded data removed]",
            "text/plain": [
              "<Figure size 432x288 with 1 Axes>"
            ]
          },
          "metadata": {
            "tags": [],
            "needs_background": "light"
          }
        },
        {
          "output_type": "display_data",
          "data": {
            "image/png": "[encoded data removed]",
            "text/plain": [
              "<Figure size 432x288 with 1 Axes>"
            ]
          },
          "metadata": {
            "tags": [],
            "needs_background": "light"
          }
        },
        {
          "output_type": "display_data",
          "data": {
            "image/png": "[encoded data removed]",
            "text/plain": [
              "<Figure size 432x288 with 1 Axes>"
            ]
          },
          "metadata": {
            "tags": [],
            "needs_background": "light"
          }
        },
        {
          "output_type": "display_data",
          "data": {
            "image/png": "[encoded data removed]",
            "text/plain": [
              "<Figure size 432x288 with 1 Axes>"
            ]
          },
          "metadata": {
            "tags": [],
            "needs_background": "light"
          }
        },
        {
          "output_type": "display_data",
          "data": {
            "image/png": "[encoded data removed]",
            "text/plain": [
              "<Figure size 432x288 with 1 Axes>"
            ]
          },
          "metadata": {
            "tags": [],
            "needs_background": "light"
          }
        },
        {
          "output_type": "display_data",
          "data": {
            "image/png": "[encoded data removed]",
            "text/plain": [
              "<Figure size 432x288 with 1 Axes>"
            ]
          },
          "metadata": {
            "tags": [],
            "needs_background": "light"
          }
        },
        {
          "output_type": "display_data",
          "data": {
            "image/png": "[encoded data removed]",
            "text/plain": [
              "<Figure size 432x288 with 1 Axes>"
            ]
          },
          "metadata": {
            "tags": [],
            "needs_background": "light"
          }
        }
      ]
    },
    {
      "cell_type": "markdown",
      "metadata": {
        "id": "0kJ8SxGVpHU-",
        "colab_type": "text"
      },
      "source": [
        "### Alignment distributions"
      ]
    },
    {
      "cell_type": "code",
      "metadata": {
        "id": "cJ-tImjMpJm1",
        "colab_type": "code",
        "colab": {
          "base_uri": "https://localhost:8080/",
          "height": 367
        },
        "outputId": "254e47f4-853a-4bc7-94dd-c84446a6b001"
      },
      "source": [
        "# get alignment data\n",
        "alignment_data = clean_df['processedAlignment']\n",
        "\n",
        "print(alignment_data.describe())\n",
        "print(alignment_data.unique())\n",
        "\n",
        "counts = alignment_data.value_counts()\n",
        "plt.bar(counts.index, counts.values)\n",
        "plt.show()"
      ],
      "execution_count": 18,
      "outputs": [
        {
          "output_type": "stream",
          "text": [
            "count     7639\n",
            "unique      10\n",
            "top           \n",
            "freq      5313\n",
            "Name: processedAlignment, dtype: object\n",
            "['' 'CN' 'CG' 'LG' 'LN' 'LE' 'NE' 'NG' 'NN' 'CE']\n"
          ],
          "name": "stdout"
        },
        {
          "output_type": "display_data",
          "data": {
            "image/png": "[encoded data removed]",
            "text/plain": [
              "<Figure size 432x288 with 1 Axes>"
            ]
          },
          "metadata": {
            "tags": [],
            "needs_background": "light"
          }
        }
      ]
    },
    {
      "cell_type": "markdown",
      "metadata": {
        "id": "AOYYds5KNHwa",
        "colab_type": "text"
      },
      "source": [
        "## Outlier Exploration"
      ]
    },
    {
      "cell_type": "code",
      "metadata": {
        "id": "YtItLp_TNFR0",
        "colab_type": "code",
        "colab": {
          "base_uri": "https://localhost:8080/",
          "height": 795
        },
        "outputId": "e0a48658-d0f0-47fc-b85b-444568e6d14e"
      },
      "source": [
        "# descriptive statistics\n",
        "\n",
        "clean_df[ ['Str','Dex','Con','Int','Wis','Cha'] ].describe()\n",
        "\n",
        "\n",
        "# distributions\n",
        "\n",
        "# IQR / boxplot outlier analysis\n",
        "att_dfs = []\n",
        "for att in attributes:\n",
        "  att_dfs.append(clean_df[att])\n",
        "\n",
        "plt.boxplot(att_dfs, labels=attributes)\n",
        "plt.show()\n",
        "\n",
        "for col in \"HP\", \"AC\":\n",
        "  zzz = plt.boxplot(clean_df[col], labels=[col])\n",
        "  plt.show()\n",
        "  x = [item.get_ydata()[1] for item in zzz['whiskers']]\n",
        "  print(x)"
      ],
      "execution_count": 19,
      "outputs": [
        {
          "output_type": "display_data",
          "data": {
            "image/png": "[encoded data removed]",
            "text/plain": [
              "<Figure size 432x288 with 1 Axes>"
            ]
          },
          "metadata": {
            "tags": [],
            "needs_background": "light"
          }
        },
        {
          "output_type": "display_data",
          "data": {
            "image/png": "[encoded data removed]",
            "text/plain": [
              "<Figure size 432x288 with 1 Axes>"
            ]
          },
          "metadata": {
            "tags": [],
            "needs_background": "light"
          }
        },
        {
          "output_type": "stream",
          "text": [
            "[-24.0, 114.0]\n"
          ],
          "name": "stdout"
        },
        {
          "output_type": "display_data",
          "data": {
            "image/png": "[encoded data removed]",
            "text/plain": [
              "<Figure size 432x288 with 1 Axes>"
            ]
          },
          "metadata": {
            "tags": [],
            "needs_background": "light"
          }
        },
        {
          "output_type": "stream",
          "text": [
            "[10.0, 21.0]\n"
          ],
          "name": "stdout"
        }
      ]
    },
    {
      "cell_type": "markdown",
      "metadata": {
        "id": "jMQ4zKIpPLYH",
        "colab_type": "text"
      },
      "source": [
        "## Correlations and Relationships"
      ]
    },
    {
      "cell_type": "markdown",
      "metadata": {
        "id": "wZYaogevrt9_",
        "colab_type": "text"
      },
      "source": [
        "**Attributes**"
      ]
    },
    {
      "cell_type": "code",
      "metadata": {
        "id": "m9OqJfc7PSeB",
        "colab_type": "code",
        "colab": {
          "base_uri": "https://localhost:8080/",
          "height": 786
        },
        "outputId": "15ed9409-c890-4ae8-b9be-7dadd4a6ca46"
      },
      "source": [
        "# to identify which features we should include or may give us info\n",
        "\n",
        "plt.figure(figsize=(15,12))\n",
        "\n",
        "# correlation between different attributes\n",
        "# con and str seam to have a decent correlation, but the rest dont\n",
        "\n",
        "class_type = pd.get_dummies(no_artificer_df[\"class1\"], prefix='class')\n",
        "no_artificer_df = pd.concat([no_artificer_df, class_type], axis = 1)\n",
        "\n",
        "z = ['Barbarian', 'Bard', 'Cleric', 'Druid', 'Fighter', 'Monk', 'Paladin', \n",
        "    'Ranger', 'Rogue', 'Sorcerer', 'Warlock', 'Wizard']\n",
        "\n",
        "classes = [f'class_{class_}' for class_ in z]\n",
        "# correlation between attributes and classes\n",
        "casting_stat = ['castingStat_Cha', 'castingStat_Int', 'castingStat_Wis',\n",
        "                'castingStat_Con', 'castingStat_Str', 'castingStat_Dex']\n",
        "att_class_cols = attributes + ['HP', 'AC'] + casting_stat + classes\n",
        "att_class_df = no_artificer_df[ att_class_cols ]\n",
        "\n",
        "\n",
        "att_class_corr = att_class_df.corr()\n",
        "att_class_corr = att_class_corr.iloc[ 0:14, 14:]\n",
        "sns.heatmap(att_class_corr)\n",
        "\n"
      ],
      "execution_count": 20,
      "outputs": [
        {
          "output_type": "execute_result",
          "data": {
            "text/plain": [
              "<matplotlib.axes._subplots.AxesSubplot at 0x7f3ccef0b390>"
            ]
          },
          "metadata": {
            "tags": []
          },
          "execution_count": 20
        },
        {
          "output_type": "display_data",
          "data": {
            "image/png": "[encoded data removed]",
            "text/plain": [
              "<Figure size 1080x864 with 2 Axes>"
            ]
          },
          "metadata": {
            "tags": [],
            "needs_background": "light"
          }
        }
      ]
    },
    {
      "cell_type": "markdown",
      "metadata": {
        "id": "SBxJMWlauavN",
        "colab_type": "text"
      },
      "source": [
        "**Armor Class**"
      ]
    },
    {
      "cell_type": "code",
      "metadata": {
        "id": "lp-qp-vursir",
        "colab_type": "code",
        "colab": {
          "base_uri": "https://localhost:8080/",
          "height": 279
        },
        "outputId": "69d7491a-53ee-4a0e-ee10-8927e26ecf95"
      },
      "source": [
        "# let's look at armor class\n",
        "ac_df = clean_df[['AC','class1']]\n",
        "\n",
        "ax = sns.boxplot(x=\"AC\", y=\"class1\", data=ac_df)"
      ],
      "execution_count": 21,
      "outputs": [
        {
          "output_type": "display_data",
          "data": {
            "image/png": "[encoded data removed]",
            "text/plain": [
              "<Figure size 432x288 with 1 Axes>"
            ]
          },
          "metadata": {
            "tags": [],
            "needs_background": "light"
          }
        }
      ]
    },
    {
      "cell_type": "code",
      "metadata": {
        "id": "W2RJrvw3-y5W",
        "colab_type": "code",
        "colab": {
          "base_uri": "https://localhost:8080/",
          "height": 408
        },
        "outputId": "dfc28135-a5ed-4b73-8940-aa2cca53a4c3"
      },
      "source": [
        "plt.figure(figsize=(2,6))\n",
        "\n",
        "att_class_cols = attributes + ['HP', 'AC'] + casting_stat + ['level1']\n",
        "att_class_df = no_artificer_df[ att_class_cols ]\n",
        "\n",
        "att_class_corr = att_class_df.corr()\n",
        "att_class_corr = att_class_corr.iloc[ 0:14, 14:]\n",
        "\n",
        "sns.heatmap(att_class_corr)\n",
        "\n",
        "from scipy.stats.stats import pearsonr\n",
        "print(pearsonr(att_class_df['HP'], att_class_df['level1']))\n",
        "print(np.corrcoef(att_class_df['HP'], att_class_df['level1'])[0, 1])"
      ],
      "execution_count": 22,
      "outputs": [
        {
          "output_type": "stream",
          "text": [
            "(0.9263461521384163, 0.0)\n",
            "0.9263461521384164\n"
          ],
          "name": "stdout"
        },
        {
          "output_type": "display_data",
          "data": {
            "image/png": "[encoded data removed]",
            "text/plain": [
              "<Figure size 144x432 with 2 Axes>"
            ]
          },
          "metadata": {
            "tags": [],
            "needs_background": "light"
          }
        }
      ]
    },
    {
      "cell_type": "markdown",
      "metadata": {
        "id": "HvVhjw2MPnTZ",
        "colab_type": "text"
      },
      "source": [
        "# Model Planning"
      ]
    },
    {
      "cell_type": "code",
      "metadata": {
        "id": "lIA5b0BmPnfx",
        "colab_type": "code",
        "colab": {}
      },
      "source": [
        "# what will success look like\n",
        " # define the set to which your model can be applied (aka single class characters)\n",
        " # build models optimizing for both acc and f1 score--how do they compare?\n",
        "\n",
        " # Success would look like: Can correctly identify class of single class character with 80% TPR, and <5% FPR\n",
        "\n",
        "# what will our accuracy metrics be?\n",
        "  # TPR, FPR, PPV\n",
        "\n",
        "# Building a model:\n",
        "  # Pick what algorithm we want to use\n",
        "  # determine any issues / concerns associated with the model, things we should watch out for\n",
        "  # split our data into test/train\n",
        "  # train the model using k fold cross validation\n",
        "    # all on training set\n",
        "  # look at accuracy metrics (i.e. tpr/fpr, confusion matrix, recall, precision)\n",
        "    # all needs to be done on the test set\n",
        "  # investigate model behavior -- taking a deeper look\n",
        "  \n"
      ],
      "execution_count": 23,
      "outputs": []
    },
    {
      "cell_type": "markdown",
      "metadata": {
        "id": "aTqZjU2RtLzH",
        "colab_type": "text"
      },
      "source": [
        "# Binary Classifiers"
      ]
    },
    {
      "cell_type": "markdown",
      "metadata": {
        "id": "NhkchEF5SBo5",
        "colab_type": "text"
      },
      "source": [
        "## Run when doing binary model"
      ]
    },
    {
      "cell_type": "code",
      "metadata": {
        "id": "Pzlcu0fTbBYV",
        "colab_type": "code",
        "colab": {}
      },
      "source": [
        "def make_ROC_curve(fpr, tpr, roc_auc):\n",
        "    fig = plt.figure(figsize=[10,7])\n",
        "    ax = plt.subplot(111)\n",
        "\n",
        "    ax.plot(fpr, tpr, 'b', label = 'AUC = %0.2f' % roc_auc)\n",
        "    plt.title('Receiver Operating Characteristic')\n",
        "    plt.legend(loc = 'lower right')\n",
        "    plt.plot([0, 1], [0, 1],'r--')\n",
        "    plt.xlim([0, 1])\n",
        "    plt.ylim([0, 1])\n",
        "    plt.ylabel('True Positive Rate')\n",
        "    plt.xlabel('False Positive Rate')\n",
        "    plt.grid(True)\n",
        "    x_ticks = np.arange(0, 11, 1)\n",
        "    plt.xticks(x_ticks / 10.)\n",
        "    plt.show()"
      ],
      "execution_count": 24,
      "outputs": []
    },
    {
      "cell_type": "code",
      "metadata": {
        "id": "rnlPqJ2ZRTBp",
        "colab_type": "code",
        "colab": {
          "base_uri": "https://localhost:8080/",
          "height": 221
        },
        "outputId": "b90255bc-863a-4c2f-e53a-d1ae3c3bebd3"
      },
      "source": [
        "# we can do 1vsAll (will lead to class imbalance)\n",
        "# could only build model on 2 classes in data\n",
        "# we could generalize classes to spellcasters/not spell casters (1/0)\n",
        "\n",
        "# to do this, need a new is_spellcaster column\n",
        "# Bard, Druid, Wizard, Cleric, Sorcerer, Warlock\n",
        "spellcasters = ['Bard','Cleric','Druid','Sorcerer','Warlock','Wizard']\n",
        "\n",
        "main_df['is_spellcaster'] = main_df['class1'].isin(spellcasters).astype(int)\n",
        "\n",
        "# check balance between spellcaster and not-spellcaster\n",
        "print(main_df.groupby('is_spellcaster').count()['AC'])\n",
        "\n",
        "attributes = ['Str','Dex','Con','Int','Wis','Cha']\n",
        "castingStat = [f'castingStat_{attribute}' for attribute in attributes]\n",
        "features = ['AC', 'hp_per_lvl'] + attributes + castingStat\n",
        "X = main_df[ features ]\n",
        "y = main_df['is_spellcaster']\n",
        "\n",
        "X_train, X_test, y_train, y_test = train_test_split(X, y, test_size=0.25, random_state=42)\n",
        "\n",
        "# check balance between training and test set\n",
        "print(y_train.groupby(y_train).size())\n",
        "print(y_test.groupby(y_test).size())"
      ],
      "execution_count": 25,
      "outputs": [
        {
          "output_type": "stream",
          "text": [
            "is_spellcaster\n",
            "0    3700\n",
            "1    2882\n",
            "Name: AC, dtype: int64\n",
            "is_spellcaster\n",
            "0    2781\n",
            "1    2155\n",
            "Name: is_spellcaster, dtype: int64\n",
            "is_spellcaster\n",
            "0    919\n",
            "1    727\n",
            "Name: is_spellcaster, dtype: int64\n"
          ],
          "name": "stdout"
        }
      ]
    },
    {
      "cell_type": "markdown",
      "metadata": {
        "id": "QnbBHG2wQ8xA",
        "colab_type": "text"
      },
      "source": [
        "## Binary Logistic Regression"
      ]
    },
    {
      "cell_type": "code",
      "metadata": {
        "id": "S1kapuXshTns",
        "colab_type": "code",
        "colab": {
          "base_uri": "https://localhost:8080/",
          "height": 85
        },
        "outputId": "57684311-1537-4a2e-ded7-40fcc9b4f020"
      },
      "source": [
        "# logistic regression without CV\n",
        "clf = LogisticRegression(random_state=42, solver='liblinear').fit(X_train, y_train)\n",
        "\n",
        "print('training accuracy ', clf.score(X_train, y_train))\n",
        "print('testing accuracy ', clf.score(X_test, y_test))\n",
        "\n",
        "# logistic regression with CV\n",
        "clf = LogisticRegressionCV(cv = 10, random_state=42, solver='liblinear').fit(X_train, y_train)\n",
        "print('training accuracy ', clf.score(X_train, y_train))\n",
        "print('testing accuracy ',clf.score(X_test, y_test))"
      ],
      "execution_count": 26,
      "outputs": [
        {
          "output_type": "stream",
          "text": [
            "training accuracy  0.895259319286872\n",
            "testing accuracy  0.8991494532199271\n",
            "training accuracy  0.8956645056726094\n",
            "testing accuracy  0.8991494532199271\n"
          ],
          "name": "stdout"
        }
      ]
    },
    {
      "cell_type": "code",
      "metadata": {
        "id": "jEKdHJnerw05",
        "colab_type": "code",
        "colab": {
          "base_uri": "https://localhost:8080/",
          "height": 170
        },
        "outputId": "63e5d43c-70b5-4e8d-dbb7-c27c479a8650"
      },
      "source": [
        "# use f1 scoring\n",
        "clf = LogisticRegressionCV(cv = 10, random_state=42, solver='liblinear', scoring = 'f1').fit(X_train, y_train)\n",
        "print('training f1 score: ', clf.score(X_train, y_train))\n",
        "print('testing f1 score: ', clf.score(X_test, y_test))\n",
        "\n",
        "y_pred = clf.predict(X_test)\n",
        "\n",
        "print('\\nConfusion Matrix:')\n",
        "print(metrics.confusion_matrix(y_test, y_pred))\n",
        "print('')\n",
        "\n",
        "tn, fp, fn, tp = metrics.confusion_matrix(y_test, y_pred).ravel()\n",
        "print('TPR: ', tp / (tp+fn))\n",
        "print('FPR: ', fp / (fp+tn))"
      ],
      "execution_count": 27,
      "outputs": [
        {
          "output_type": "stream",
          "text": [
            "training f1 score:  0.8809248554913295\n",
            "testing f1 score:  0.8858321870701513\n",
            "\n",
            "Confusion Matrix:\n",
            "[[836  83]\n",
            " [ 83 644]]\n",
            "\n",
            "TPR:  0.8858321870701513\n",
            "FPR:  0.09031556039173014\n"
          ],
          "name": "stdout"
        }
      ]
    },
    {
      "cell_type": "code",
      "metadata": {
        "id": "QaezP2JGvnnw",
        "colab_type": "code",
        "colab": {
          "base_uri": "https://localhost:8080/",
          "height": 648
        },
        "outputId": "0118dfec-79a6-401b-ec8f-c02fa3ee1676"
      },
      "source": [
        "# generate a ROC curve to see if we can change decision boundary to enhance results\n",
        "# calculate the fpr and tpr for all thresholds of the classification\n",
        "\n",
        "# probabilities of being in each class\n",
        "probs = clf.predict_proba(X_test)\n",
        "print(probs)\n",
        "\n",
        "# extract probability observation is class 1\n",
        "preds = probs[:,1]\n",
        "print(preds)\n",
        "\n",
        "# 3 arrays with fpr, tpr, threshold for given thresholds\n",
        "fpr, tpr, threshold = metrics.roc_curve(y_test, preds)\n",
        "roc_auc = metrics.auc(fpr, tpr)\n",
        "\n",
        "make_ROC_curve(fpr, tpr, roc_auc)\n",
        "\n",
        "print([z for z in zip(threshold, fpr, tpr) if z[1] < 0.05 and z[2] > 0.80])\n",
        "\n",
        "# looks like we can get to our goal with any of the following (threshold, fpr, tpr)\n",
        "# (0.6809461260594947, 0.047619047619047616, 0.8017902813299232), \n",
        "# (0.6780313746306711, 0.049783549783549784, 0.8017902813299232), \n",
        "# (0.6766166948962654, 0.049783549783549784, 0.8043478260869565)"
      ],
      "execution_count": 28,
      "outputs": [
        {
          "output_type": "stream",
          "text": [
            "[[9.89642955e-01 1.03570455e-02]\n",
            " [9.99519103e-01 4.80896810e-04]\n",
            " [9.79935598e-01 2.00644023e-02]\n",
            " ...\n",
            " [5.61299960e-03 9.94387000e-01]\n",
            " [9.07592262e-04 9.99092408e-01]\n",
            " [5.64896599e-01 4.35103401e-01]]\n",
            "[1.03570455e-02 4.80896810e-04 2.00644023e-02 ... 9.94387000e-01\n",
            " 9.99092408e-01 4.35103401e-01]\n"
          ],
          "name": "stdout"
        },
        {
          "output_type": "display_data",
          "data": {
            "image/png": "[encoded data removed]",
            "text/plain": [
              "<Figure size 720x504 with 1 Axes>"
            ]
          },
          "metadata": {
            "tags": [],
            "needs_background": "light"
          }
        },
        {
          "output_type": "stream",
          "text": [
            "[(0.6965049869135035, 0.04570184983677911, 0.8046767537826685), (0.695607283207891, 0.046789989118607184, 0.8046767537826685), (0.6952257528079355, 0.046789989118607184, 0.8060522696011004)]\n"
          ],
          "name": "stdout"
        }
      ]
    },
    {
      "cell_type": "markdown",
      "metadata": {
        "id": "qvPpq_EcPyaD",
        "colab_type": "text"
      },
      "source": [
        "## Binary Decision Tree"
      ]
    },
    {
      "cell_type": "code",
      "metadata": {
        "id": "yc1oAmxQyw8_",
        "colab_type": "code",
        "colab": {
          "base_uri": "https://localhost:8080/",
          "height": 51
        },
        "outputId": "c13c8e51-de5b-4f2e-97a9-ff144443b6c1"
      },
      "source": [
        "# let's check out decision tree\n",
        "# risks: overfitting, offset with hyperparameters\n",
        "\n",
        "# use same training / testing data\n",
        "clf = tree.DecisionTreeClassifier(criterion = 'gini', max_depth = 25, min_samples_leaf= 20)\n",
        "clf = clf.fit(X_train, y_train)\n",
        "\n",
        "print('training ACC', clf.score(X_train, y_train))\n",
        "print('testing ACC', clf.score(X_test, y_test))"
      ],
      "execution_count": 29,
      "outputs": [
        {
          "output_type": "stream",
          "text": [
            "training ACC 0.9319286871961102\n",
            "testing ACC 0.9198055893074119\n"
          ],
          "name": "stdout"
        }
      ]
    },
    {
      "cell_type": "code",
      "metadata": {
        "id": "Ve4jpN7oTjXv",
        "colab_type": "code",
        "colab": {
          "base_uri": "https://localhost:8080/",
          "height": 547
        },
        "outputId": "408ed567-58c8-428f-8230-cc318355f6e6"
      },
      "source": [
        "# https://scikit-learn.org/stable/modules/grid_search.html#model-specific-cross-validation\n",
        "# DT doesn't have a dedicated CV function like LogisticRegressionCV\n",
        "\n",
        "# perform 10-fold cv and print the f1 score for each fold\n",
        "clf = tree.DecisionTreeClassifier(criterion = 'gini', max_depth = 25, min_samples_leaf= 20)\n",
        "scores = cross_val_score(clf, X_train, y_train, cv=10, scoring='f1_macro')\n",
        "plt.bar(range(len(scores)), scores)\n",
        "plt.show()\n",
        "print(f'mean f1 score of 10-fold cv: {scores.mean():.3f}, (std: {scores.std():.3f})')\n",
        "\n",
        "if 0: # this takes awhile to run, change to 1 if you want to play with it\n",
        "  # hyperparameter tuning with grid search\n",
        "  param_grid = {\"criterion\": ['gini', 'entropy'],\n",
        "                \"max_depth\": [None, 5, 10, 20],\n",
        "                \"min_samples_leaf\": [1, 5, 10, 20],\n",
        "                \"min_samples_split\": [2, 5, 10, 20]\n",
        "                }\n",
        "\n",
        "  dt = tree.DecisionTreeClassifier()\n",
        "\n",
        "  grid_search = GridSearchCV(dt, param_grid=param_grid, cv=10, scoring='f1')\n",
        "  grid_search.fit(X_train, y_train)\n",
        "  print('Best parameters: ', grid_search.best_params_)\n",
        "  print('Resulting best score:', grid_search.best_score_)\n",
        "  # result: {'criterion': 'entropy', 'max_depth': 10, 'min_samples_leaf': 5, 'min_samples_split': 10}\n",
        "\n",
        "# perform 10-fold cv and print the f1 score for each fold using optimized hyperparameters\n",
        "clf = tree.DecisionTreeClassifier(criterion = 'entropy', max_depth = 10, min_samples_leaf= 5, min_samples_split=10)\n",
        "scores = cross_val_score(clf, X_train, y_train, cv=10, scoring='f1_macro')\n",
        "plt.bar(range(len(scores)), scores)\n",
        "plt.show()\n",
        "print(f'mean f1 score of 10-fold cv: {scores.mean():.3f}, (std: {scores.std():.3f})')"
      ],
      "execution_count": 30,
      "outputs": [
        {
          "output_type": "display_data",
          "data": {
            "image/png": "[encoded data removed]",
            "text/plain": [
              "<Figure size 432x288 with 1 Axes>"
            ]
          },
          "metadata": {
            "tags": [],
            "needs_background": "light"
          }
        },
        {
          "output_type": "stream",
          "text": [
            "mean f1 score of 10-fold cv: 0.917, (std: 0.014)\n"
          ],
          "name": "stdout"
        },
        {
          "output_type": "display_data",
          "data": {
            "image/png": "[encoded data removed]",
            "text/plain": [
              "<Figure size 432x288 with 1 Axes>"
            ]
          },
          "metadata": {
            "tags": [],
            "needs_background": "light"
          }
        },
        {
          "output_type": "stream",
          "text": [
            "mean f1 score of 10-fold cv: 0.924, (std: 0.014)\n"
          ],
          "name": "stdout"
        }
      ]
    },
    {
      "cell_type": "code",
      "metadata": {
        "id": "uKGmaArDWPf-",
        "colab_type": "code",
        "colab": {
          "base_uri": "https://localhost:8080/",
          "height": 119
        },
        "outputId": "f8e76c81-4b72-4735-960b-3aa70dc5d44d"
      },
      "source": [
        "clf = tree.DecisionTreeClassifier(criterion = 'entropy', max_depth = 10, min_samples_leaf= 5, min_samples_split=10)\n",
        "clf = clf.fit(X_train, y_train)\n",
        "\n",
        "y_pred = clf.predict(X_test)\n",
        "\n",
        "print('Confusion Matrix:')\n",
        "print(metrics.confusion_matrix(y_test, y_pred))\n",
        "print('')\n",
        "\n",
        "tn, fp, fn, tp = metrics.confusion_matrix(y_test, y_pred).ravel()\n",
        "print('TPR: ', tp / (tp+fn))\n",
        "print('FPR: ', fp / (fp+tn))"
      ],
      "execution_count": 31,
      "outputs": [
        {
          "output_type": "stream",
          "text": [
            "Confusion Matrix:\n",
            "[[852  67]\n",
            " [ 49 678]]\n",
            "\n",
            "TPR:  0.9325997248968363\n",
            "FPR:  0.07290533188248095\n"
          ],
          "name": "stdout"
        }
      ]
    },
    {
      "cell_type": "code",
      "metadata": {
        "id": "5-Ltfz4nEruT",
        "colab_type": "code",
        "colab": {
          "base_uri": "https://localhost:8080/",
          "height": 495
        },
        "outputId": "0d138fab-1d56-489b-b82d-6f2cd87704b2"
      },
      "source": [
        "# use a single decision tree to calculate probabilities\n",
        "\n",
        "probs = clf.predict_proba(X_test)\n",
        "preds = probs[:,1]\n",
        "\n",
        "fpr, tpr, threshold = metrics.roc_curve(y_test, preds)\n",
        "roc_auc = metrics.auc(fpr, tpr)\n",
        "\n",
        "make_ROC_curve(fpr, tpr, roc_auc)\n",
        "\n",
        "print([z for z in zip(threshold, fpr, tpr) if z[1] < 0.05 and z[2] > 0.80])\n",
        "# definitely satisfy the tpr > 80%, fpr < 5% success metric for a range of thresholds\n",
        "# specific threshold depends on if you want to prioritize cranking up tpr or suppressing fpr"
      ],
      "execution_count": 32,
      "outputs": [
        {
          "output_type": "display_data",
          "data": {
            "image/png": "[encoded data removed]",
            "text/plain": [
              "<Figure size 720x504 with 1 Axes>"
            ]
          },
          "metadata": {
            "tags": [],
            "needs_background": "light"
          }
        },
        {
          "output_type": "stream",
          "text": [
            "[(1.0, 0.020674646354733407, 0.8253094910591472), (0.9473684210526315, 0.022850924918389554, 0.8308115543328748), (0.875, 0.022850924918389554, 0.8390646492434664), (0.8571428571428571, 0.022850924918389554, 0.8404401650618982), (0.8490566037735849, 0.025027203482045703, 0.8569463548830811), (0.8333333333333334, 0.028291621327529923, 0.8638239339752407), (0.8, 0.03482045701849837, 0.8789546079779917), (0.75, 0.042437431991294884, 0.8858321870701513), (0.6666666666666666, 0.04570184983677911, 0.8954607977991746)]\n"
          ],
          "name": "stdout"
        }
      ]
    },
    {
      "cell_type": "markdown",
      "metadata": {
        "id": "ZXrYcB1FhQOB",
        "colab_type": "text"
      },
      "source": [
        "# Multi-class Classifier"
      ]
    },
    {
      "cell_type": "markdown",
      "metadata": {
        "id": "X8Uiyl4pYBII",
        "colab_type": "text"
      },
      "source": [
        "## Run when doing multi-class model"
      ]
    },
    {
      "cell_type": "code",
      "metadata": {
        "id": "ePdjVBc4K9Z-",
        "colab_type": "code",
        "colab": {
          "base_uri": "https://localhost:8080/",
          "height": 493
        },
        "outputId": "45af8c2c-4395-4cf6-ceaf-df85a6ffe5ef"
      },
      "source": [
        "# new target column using the entire multiclass \n",
        "attributes = ['Str','Dex','Con','Int','Wis','Cha']\n",
        "castingStat = [f'castingStat_{attribute}' for attribute in attributes]\n",
        "features = ['AC', 'hp_per_lvl'] + attributes + castingStat\n",
        "\n",
        "X = main_df[ features ]\n",
        "y = main_df['class1']\n",
        "\n",
        "X_train, X_test, y_train, y_test = train_test_split(X, y, test_size=0.25, random_state=42)\n",
        "\n",
        "print(y_train.groupby(y_train).size())\n",
        "print(y_test.groupby(y_test).size())"
      ],
      "execution_count": 33,
      "outputs": [
        {
          "output_type": "stream",
          "text": [
            "class1\n",
            "Barbarian    395\n",
            "Bard         356\n",
            "Cleric       482\n",
            "Druid        356\n",
            "Fighter      671\n",
            "Monk         367\n",
            "Paladin      441\n",
            "Ranger       345\n",
            "Rogue        562\n",
            "Sorcerer     312\n",
            "Warlock      284\n",
            "Wizard       365\n",
            "Name: class1, dtype: int64\n",
            "class1\n",
            "Barbarian    154\n",
            "Bard         105\n",
            "Cleric       179\n",
            "Druid        107\n",
            "Fighter      234\n",
            "Monk         100\n",
            "Paladin      121\n",
            "Ranger       121\n",
            "Rogue        189\n",
            "Sorcerer     108\n",
            "Warlock      102\n",
            "Wizard       126\n",
            "Name: class1, dtype: int64\n"
          ],
          "name": "stdout"
        }
      ]
    },
    {
      "cell_type": "markdown",
      "metadata": {
        "id": "6OhiK7qoQ_jB",
        "colab_type": "text"
      },
      "source": [
        "## Multi-class Logistic Regression"
      ]
    },
    {
      "cell_type": "code",
      "metadata": {
        "id": "NRkP0j7YRCwQ",
        "colab_type": "code",
        "colab": {
          "base_uri": "https://localhost:8080/",
          "height": 833
        },
        "outputId": "44032f92-c5c0-4e08-c7c4-1327c9c2232c"
      },
      "source": [
        "clf = LogisticRegression(random_state=42, solver='liblinear', multi_class='auto').fit(X_train, y_train)\n",
        "\n",
        "print('training accuracy ', clf.score(X_train, y_train))\n",
        "print('testing accuracy ', clf.score(X_test, y_test))\n",
        "\n",
        "# Accuracy measurements\n",
        "y_pred = clf.predict(X_test)\n",
        "print(metrics.confusion_matrix(y_test, y_pred))\n",
        "print(metrics.classification_report(y_test, y_pred, digits=3))\n",
        "\n",
        "# probabilities of being in each class\n",
        "probs = clf.predict_proba(X_test)\n",
        "print(probs)\n",
        "\n",
        "# extract probability observation is class 1\n",
        "preds = probs[:,1]\n",
        "print(preds)"
      ],
      "execution_count": 34,
      "outputs": [
        {
          "output_type": "stream",
          "text": [
            "training accuracy  0.7305510534846029\n",
            "testing accuracy  0.7351154313487241\n",
            "[[114   0   0   0  37   1   0   0   1   0   0   1]\n",
            " [  0  65   0   0   0   0   5   0   1  28   6   0]\n",
            " [  0   0 142  27   0   1   0   9   0   0   0   0]\n",
            " [  0   0  22  76   0   0   0   8   0   1   0   0]\n",
            " [ 32   0   0   0 165   4   2   2  28   0   0   1]\n",
            " [  2   0   1   2   5  69   0   4  15   0   0   2]\n",
            " [  0   3   1   0   0   0 113   0   0   1   3   0]\n",
            " [  0   0   9   6   0   0   0 106   0   0   0   0]\n",
            " [  2   3   0   0  10  18   0   0 148   0   0   8]\n",
            " [  0  20   0   0   0   0   3   0   0  79   6   0]\n",
            " [  0  44   0   0   0   0   2   0   0  39  17   0]\n",
            " [  0   0   0   0   5   0   0   0   5   0   0 116]]\n",
            "              precision    recall  f1-score   support\n",
            "\n",
            "   Barbarian      0.760     0.740     0.750       154\n",
            "        Bard      0.481     0.619     0.542       105\n",
            "      Cleric      0.811     0.793     0.802       179\n",
            "       Druid      0.685     0.710     0.697       107\n",
            "     Fighter      0.743     0.705     0.724       234\n",
            "        Monk      0.742     0.690     0.715       100\n",
            "     Paladin      0.904     0.934     0.919       121\n",
            "      Ranger      0.822     0.876     0.848       121\n",
            "       Rogue      0.747     0.783     0.765       189\n",
            "    Sorcerer      0.534     0.731     0.617       108\n",
            "     Warlock      0.531     0.167     0.254       102\n",
            "      Wizard      0.906     0.921     0.913       126\n",
            "\n",
            "    accuracy                          0.735      1646\n",
            "   macro avg      0.722     0.722     0.712      1646\n",
            "weighted avg      0.735     0.735     0.727      1646\n",
            "\n",
            "[[1.13572102e-02 1.75079855e-03 4.67819054e-05 ... 3.56533372e-04\n",
            "  3.35256656e-03 1.89876437e-04]\n",
            " [7.65452389e-02 4.06517155e-03 3.30934609e-05 ... 3.12098258e-05\n",
            "  1.94112855e-03 4.87759147e-05]\n",
            " [1.07045335e-02 7.91584977e-03 1.36710019e-02 ... 3.22908157e-05\n",
            "  3.63313093e-03 8.12486968e-08]\n",
            " ...\n",
            " [1.02669344e-04 1.41524990e-04 6.57678723e-01 ... 2.16650534e-04\n",
            "  4.10561268e-03 4.44308559e-05]\n",
            " [3.91912306e-04 1.33023526e-01 5.80570604e-05 ... 5.47554059e-01\n",
            "  3.07062803e-01 2.69054206e-03]\n",
            " [1.35070049e-03 1.61033263e-06 6.98720194e-01 ... 9.75325428e-05\n",
            "  3.83970699e-05 5.35952908e-08]]\n",
            "[1.75079855e-03 4.06517155e-03 7.91584977e-03 ... 1.41524990e-04\n",
            " 1.33023526e-01 1.61033263e-06]\n"
          ],
          "name": "stdout"
        }
      ]
    },
    {
      "cell_type": "markdown",
      "metadata": {
        "id": "c8oUFutQP2PM",
        "colab_type": "text"
      },
      "source": [
        "## Multi-class Decision Tree"
      ]
    },
    {
      "cell_type": "code",
      "metadata": {
        "id": "-guVZYJ87Xf7",
        "colab_type": "code",
        "colab": {
          "base_uri": "https://localhost:8080/",
          "height": 547
        },
        "outputId": "13778954-b07d-4df5-f319-311655ab0b7d"
      },
      "source": [
        "clf = tree.DecisionTreeClassifier(criterion = 'gini', max_depth = 25, min_samples_leaf= 20)\n",
        "scores = cross_val_score(clf, X_train, y_train, cv=10, scoring='f1_macro')\n",
        "plt.bar(range(len(scores)), scores)\n",
        "plt.show()\n",
        "print(f'mean f1 score of 10-fold cv: {scores.mean():.3f}, (std: {scores.std():.3f})')\n",
        "\n",
        "if 0: # this takes awhile to run, change to 1 if you want to play with it\n",
        "  # hyperparameter tuning with grid search\n",
        "  param_grid = {\"criterion\": ['gini', 'entropy'],\n",
        "                \"max_depth\": [None, 5, 10, 20],\n",
        "                \"min_samples_leaf\": [1, 5, 10, 20],\n",
        "                \"min_samples_split\": [2, 5, 10, 20]\n",
        "                }\n",
        "\n",
        "  dt = tree.DecisionTreeClassifier()\n",
        "\n",
        "  grid_search = GridSearchCV(dt, param_grid=param_grid, cv=10, scoring='f1_macro')\n",
        "  grid_search.fit(X_train, y_train)\n",
        "  print('Best parameters: ', grid_search.best_params_)\n",
        "  print('Resulting best score:', grid_search.best_score_)\n",
        " \n",
        "# perform 10-fold cv and print the f1 score for each fold using optimized hyperparameters\n",
        "clf = tree.DecisionTreeClassifier(criterion='gini', max_depth=10, min_samples_leaf=5, min_samples_split=20, random_state=42)\n",
        "scores = cross_val_score(clf, X_train, y_train, cv=10, scoring='f1_macro')\n",
        "plt.bar(range(len(scores)), scores)\n",
        "plt.show()\n",
        "print(f'mean f1 score of 10-fold cv: {scores.mean():.3f}, (std: {scores.std():.3f})')"
      ],
      "execution_count": 35,
      "outputs": [
        {
          "output_type": "display_data",
          "data": {
            "image/png": "[encoded data removed]",
            "text/plain": [
              "<Figure size 432x288 with 1 Axes>"
            ]
          },
          "metadata": {
            "tags": [],
            "needs_background": "light"
          }
        },
        {
          "output_type": "stream",
          "text": [
            "mean f1 score of 10-fold cv: 0.693, (std: 0.016)\n"
          ],
          "name": "stdout"
        },
        {
          "output_type": "display_data",
          "data": {
            "image/png": "[encoded data removed]",
            "text/plain": [
              "<Figure size 432x288 with 1 Axes>"
            ]
          },
          "metadata": {
            "tags": [],
            "needs_background": "light"
          }
        },
        {
          "output_type": "stream",
          "text": [
            "mean f1 score of 10-fold cv: 0.712, (std: 0.023)\n"
          ],
          "name": "stdout"
        }
      ]
    },
    {
      "cell_type": "code",
      "metadata": {
        "id": "DYboyR-275_w",
        "colab_type": "code",
        "colab": {
          "base_uri": "https://localhost:8080/",
          "height": 595
        },
        "outputId": "ed0c0ec9-8e6e-4d93-f79a-dbcbcb61ead1"
      },
      "source": [
        "clf = tree.DecisionTreeClassifier(criterion='gini', max_depth=10, min_samples_leaf=5, min_samples_split=20,random_state=42)\n",
        "clf = clf.fit(X_train, y_train)\n",
        "y_pred = clf.predict(X_test)\n",
        "\n",
        "print('Confusion Matrix')\n",
        "print(metrics.confusion_matrix(y_test, y_pred))\n",
        "print('')\n",
        "print('Success Metrics')\n",
        "print(metrics.classification_report(y_test, y_pred, digits=3))"
      ],
      "execution_count": 36,
      "outputs": [
        {
          "output_type": "stream",
          "text": [
            "Confusion Matrix\n",
            "[[117   0   0   0  32   2   0   0   3   0   0   0]\n",
            " [  1  75   0   0   0   0   7   0   0  15   7   0]\n",
            " [  0   0 149  26   0   2   0   2   0   0   0   0]\n",
            " [  0   0  13  85   0   0   0   8   0   1   0   0]\n",
            " [ 44   0   2   0 155   7   2   0  19   0   0   5]\n",
            " [  1   0   0   2   5  80   0   0  10   0   0   2]\n",
            " [  0   3   1   0   2   0 107   0   0   1   7   0]\n",
            " [  0   0   3  23   0   0   0  95   0   0   0   0]\n",
            " [  3   3   0   0  26  20   0   0 128   0   0   9]\n",
            " [  0  31   0   0   0   0   4   0   0  66   7   0]\n",
            " [  0  43   0   0   0   0   5   0   0  28  26   0]\n",
            " [  0   0   0   0   7   1   0   0  12   0   0 106]]\n",
            "\n",
            "Success Metrics\n",
            "              precision    recall  f1-score   support\n",
            "\n",
            "   Barbarian      0.705     0.760     0.731       154\n",
            "        Bard      0.484     0.714     0.577       105\n",
            "      Cleric      0.887     0.832     0.859       179\n",
            "       Druid      0.625     0.794     0.700       107\n",
            "     Fighter      0.683     0.662     0.672       234\n",
            "        Monk      0.714     0.800     0.755       100\n",
            "     Paladin      0.856     0.884     0.870       121\n",
            "      Ranger      0.905     0.785     0.841       121\n",
            "       Rogue      0.744     0.677     0.709       189\n",
            "    Sorcerer      0.595     0.611     0.603       108\n",
            "     Warlock      0.553     0.255     0.349       102\n",
            "      Wizard      0.869     0.841     0.855       126\n",
            "\n",
            "    accuracy                          0.722      1646\n",
            "   macro avg      0.718     0.718     0.710      1646\n",
            "weighted avg      0.729     0.722     0.719      1646\n",
            "\n"
          ],
          "name": "stdout"
        }
      ]
    },
    {
      "cell_type": "markdown",
      "metadata": {
        "id": "0Bwftwk3AjBP",
        "colab_type": "text"
      },
      "source": [
        "###Feature Importance"
      ]
    },
    {
      "cell_type": "code",
      "metadata": {
        "id": "qpzHtyQ147l3",
        "colab_type": "code",
        "colab": {
          "base_uri": "https://localhost:8080/",
          "height": 281
        },
        "outputId": "f5c6b0cf-dd05-4011-ec9f-b013543e8da9"
      },
      "source": [
        "# feature importance for multiclass decision tree\n",
        "importance = clf.feature_importances_\n",
        "\n",
        "# combine list of features and importance weights into dataframe\n",
        "importance_dt = zip(list(X_train.columns), importance)\n",
        "importance_dt = set(importance_dt)\n",
        "importance_dt = pd.DataFrame(importance_dt, columns = ['feature','importance'])\n",
        "\n",
        "# sort dataframe to graph from high to low\n",
        "importance_dt = importance_dt.sort_values('importance',ascending = True)\n",
        "importance_dt.reset_index(drop = True)\n",
        "\n",
        "# plot the feature weights\n",
        "plt.figure()\n",
        "plt.title(\"Feature importances: Multi Class DT\")\n",
        "plt.barh(range(importance_dt.shape[0]), width = importance_dt['importance'], align=\"center\")\n",
        "plt.yticks(range(importance_dt.shape[0]), importance_dt['feature'])\n",
        "plt.ylim([-1, importance_dt.shape[0]])\n",
        "plt.show()"
      ],
      "execution_count": 37,
      "outputs": [
        {
          "output_type": "display_data",
          "data": {
            "image/png": "[encoded data removed]",
            "text/plain": [
              "<Figure size 432x288 with 1 Axes>"
            ]
          },
          "metadata": {
            "tags": [],
            "needs_background": "light"
          }
        }
      ]
    },
    {
      "cell_type": "markdown",
      "metadata": {
        "id": "Di8o3g9xbI9x",
        "colab_type": "text"
      },
      "source": [
        "## Support Vector Machine"
      ]
    },
    {
      "cell_type": "markdown",
      "metadata": {
        "id": "-_utKkiRbPAY",
        "colab_type": "text"
      },
      "source": [
        "### Linear SVM"
      ]
    },
    {
      "cell_type": "code",
      "metadata": {
        "id": "aAQ56E89bSZv",
        "colab_type": "code",
        "colab": {
          "base_uri": "https://localhost:8080/",
          "height": 544
        },
        "outputId": "44efcc68-7566-4bac-8847-a4217f2b5378"
      },
      "source": [
        "# bring in some libraries to do scaling and svm\n",
        "from sklearn.pipeline import make_pipeline\n",
        "from sklearn.preprocessing import StandardScaler\n",
        "from sklearn.preprocessing import scale\n",
        "from sklearn.svm import SVC\n",
        "\n",
        "# create classifier by first scaling the data (mean 0 sd 1) and then putting into linear SVM\n",
        "# SVM does better if features are scaled as it is not scale invariant\n",
        "clf = make_pipeline(StandardScaler(), SVC(kernel = 'linear'))\n",
        "clf = clf.fit(X_train, y_train)\n",
        "y_pred = clf.predict(X_test)\n",
        "\n",
        "print(metrics.confusion_matrix(y_test, y_pred))\n",
        "\n",
        "print(metrics.classification_report(y_test, y_pred, digits=3))"
      ],
      "execution_count": 38,
      "outputs": [
        {
          "output_type": "stream",
          "text": [
            "[[117   0   0   0  36   1   0   0   0   0   0   0]\n",
            " [  0  67   0   0   0   1   4   0   0  25   8   0]\n",
            " [  0   0 139  30   0   1   0   9   0   0   0   0]\n",
            " [  0   0  11  90   0   1   0   4   0   1   0   0]\n",
            " [ 41   0   0   0 169   7   1   2  14   0   0   0]\n",
            " [  1   0   0   2   6  72   0   0  17   0   0   2]\n",
            " [  0   4   1   0   0   0 111   0   0   1   4   0]\n",
            " [  0   0   7  12   0   0   0 102   0   0   0   0]\n",
            " [  2   3   0   0  12  11   0   0 155   0   0   6]\n",
            " [  0  24   0   0   0   0   1   0   0  76   7   0]\n",
            " [  0  44   0   0   0   0   0   0   0  37  21   0]\n",
            " [  0   0   0   0   2   0   0   0   8   0   0 116]]\n",
            "              precision    recall  f1-score   support\n",
            "\n",
            "   Barbarian      0.727     0.760     0.743       154\n",
            "        Bard      0.472     0.638     0.543       105\n",
            "      Cleric      0.880     0.777     0.825       179\n",
            "       Druid      0.672     0.841     0.747       107\n",
            "     Fighter      0.751     0.722     0.736       234\n",
            "        Monk      0.766     0.720     0.742       100\n",
            "     Paladin      0.949     0.917     0.933       121\n",
            "      Ranger      0.872     0.843     0.857       121\n",
            "       Rogue      0.799     0.820     0.809       189\n",
            "    Sorcerer      0.543     0.704     0.613       108\n",
            "     Warlock      0.525     0.206     0.296       102\n",
            "      Wizard      0.935     0.921     0.928       126\n",
            "\n",
            "    accuracy                          0.750      1646\n",
            "   macro avg      0.741     0.739     0.731      1646\n",
            "weighted avg      0.756     0.750     0.746      1646\n",
            "\n"
          ],
          "name": "stdout"
        }
      ]
    },
    {
      "cell_type": "markdown",
      "metadata": {
        "id": "Z4ARE-_sK25v",
        "colab_type": "text"
      },
      "source": [
        "### Grid Search on SVM"
      ]
    },
    {
      "cell_type": "code",
      "metadata": {
        "id": "yk9J5154MShH",
        "colab_type": "code",
        "colab": {}
      },
      "source": [
        "# let's scale the data since it doesn't like the pipeline in grid search\n",
        "X_train_scaled = scale(X_train)\n",
        "X_test_scaled = scale(X_test)"
      ],
      "execution_count": 39,
      "outputs": []
    },
    {
      "cell_type": "code",
      "metadata": {
        "id": "GkQ5GTndK5IS",
        "colab_type": "code",
        "colab": {}
      },
      "source": [
        "# lets do a grid search instead of going through all different kernels, etc.\n",
        "\n",
        "if 0: # this takes awhile to run, change to 1 if you want to play with it\n",
        "  # hyperparameter tuning with grid search\n",
        "  param_grid = {\"kernel\": ['linear', 'rbf','poly','sigmoid'],\n",
        "                \"degree\": [2,3,4],\n",
        "                \"decision_function_shape\": ['ovr','ovo']\n",
        "                \n",
        "                }\n",
        "\n",
        "  clf = SVC()\n",
        "\n",
        "  grid_search = GridSearchCV(clf, param_grid=param_grid, cv=10, scoring='f1_macro')\n",
        "  grid_search.fit(X_train_scaled, y_train)\n",
        "  print('Best parameters: ', grid_search.best_params_)\n",
        "  print('Resulting best score:', grid_search.best_score_)"
      ],
      "execution_count": 40,
      "outputs": []
    },
    {
      "cell_type": "code",
      "metadata": {
        "id": "rkszD61zOKSI",
        "colab_type": "code",
        "colab": {
          "base_uri": "https://localhost:8080/",
          "height": 544
        },
        "outputId": "497502d4-a6a5-4f36-db8c-7bd375e46de1"
      },
      "source": [
        "# now let's build with those parameters\n",
        "clf = make_pipeline(StandardScaler(), SVC(kernel = 'rbf', degree = 2, decision_function_shape = 'ovr'))\n",
        "clf = clf.fit(X_train, y_train)\n",
        "y_pred = clf.predict(X_test)\n",
        "\n",
        "print(metrics.confusion_matrix(y_test, y_pred))\n",
        "\n",
        "print(metrics.classification_report(y_test, y_pred, digits=3))"
      ],
      "execution_count": 41,
      "outputs": [
        {
          "output_type": "stream",
          "text": [
            "[[119   0   0   0  35   0   0   0   0   0   0   0]\n",
            " [  0  76   0   0   1   0   4   0   0  18   6   0]\n",
            " [  0   0 148  21   1   0   0   9   0   0   0   0]\n",
            " [  0   0  14  85   0   1   0   6   0   1   0   0]\n",
            " [ 37   0   0   0 173   2   2   2  17   0   0   1]\n",
            " [  2   0   2   2   3  71   0   1  17   0   0   2]\n",
            " [  0   3   1   0   0   0 114   0   0   0   3   0]\n",
            " [  0   0   4  10   0   0   0 107   0   0   0   0]\n",
            " [  2   1   0   0  10  11   0   0 158   0   2   5]\n",
            " [  0  30   0   0   0   0   1   0   0  72   5   0]\n",
            " [  0  52   0   0   0   0   0   0   0  31  19   0]\n",
            " [  0   0   0   0   0   0   0   0  10   0   0 116]]\n",
            "              precision    recall  f1-score   support\n",
            "\n",
            "   Barbarian      0.744     0.773     0.758       154\n",
            "        Bard      0.469     0.724     0.569       105\n",
            "      Cleric      0.876     0.827     0.851       179\n",
            "       Druid      0.720     0.794     0.756       107\n",
            "     Fighter      0.776     0.739     0.757       234\n",
            "        Monk      0.835     0.710     0.768       100\n",
            "     Paladin      0.942     0.942     0.942       121\n",
            "      Ranger      0.856     0.884     0.870       121\n",
            "       Rogue      0.782     0.836     0.808       189\n",
            "    Sorcerer      0.590     0.667     0.626       108\n",
            "     Warlock      0.543     0.186     0.277       102\n",
            "      Wizard      0.935     0.921     0.928       126\n",
            "\n",
            "    accuracy                          0.764      1646\n",
            "   macro avg      0.756     0.750     0.742      1646\n",
            "weighted avg      0.769     0.764     0.758      1646\n",
            "\n"
          ],
          "name": "stdout"
        }
      ]
    },
    {
      "cell_type": "markdown",
      "metadata": {
        "id": "Xy4_5cmISgKW",
        "colab_type": "text"
      },
      "source": [
        "## XGBoost"
      ]
    },
    {
      "cell_type": "code",
      "metadata": {
        "id": "lpCMrPRiS3b1",
        "colab_type": "code",
        "colab": {
          "base_uri": "https://localhost:8080/",
          "height": 663
        },
        "outputId": "fed56b1c-5ed6-4598-84c0-5a73d3122a8f"
      },
      "source": [
        "# to really understand this we will need to study gradient descent\n",
        "import xgboost\n",
        "\n",
        "label_encoder = LabelEncoder()\n",
        "label_encoder = label_encoder.fit(y)\n",
        "y_encoded = label_encoder.transform(y)\n",
        "\n",
        "X_train, X_test, y_train_encoded, y_test_encoded = train_test_split(X, y_encoded, test_size=0.25, random_state=42)\n",
        "\n",
        "model = xgboost.XGBClassifier(random_state=42)\n",
        "model.fit(X_train, y_train)\n",
        "print(model)\n",
        "\n",
        "y_pred = model.predict(X_test)\n",
        "\n",
        "print(metrics.confusion_matrix(y_test, y_pred))\n",
        "\n",
        "print(metrics.classification_report(y_test, y_pred, digits=3))"
      ],
      "execution_count": 42,
      "outputs": [
        {
          "output_type": "stream",
          "text": [
            "XGBClassifier(base_score=0.5, booster='gbtree', colsample_bylevel=1,\n",
            "              colsample_bynode=1, colsample_bytree=1, gamma=0,\n",
            "              learning_rate=0.1, max_delta_step=0, max_depth=3,\n",
            "              min_child_weight=1, missing=None, n_estimators=100, n_jobs=1,\n",
            "              nthread=None, objective='multi:softprob', random_state=42,\n",
            "              reg_alpha=0, reg_lambda=1, scale_pos_weight=1, seed=None,\n",
            "              silent=None, subsample=1, verbosity=1)\n",
            "[[122   0   0   0  31   1   0   0   0   0   0   0]\n",
            " [  1  70   0   0   0   0   7   0   0  17  10   0]\n",
            " [  0   0 145  29   0   0   0   5   0   0   0   0]\n",
            " [  0   0   9  89   0   0   0   8   0   1   0   0]\n",
            " [ 20   0   0   0 190   1   2   2  17   0   0   2]\n",
            " [  1   0   0   2   7  75   0   0  14   0   0   1]\n",
            " [  0   1   1   0   0   0 115   0   0   1   3   0]\n",
            " [  0   0   5  14   0   0   0 102   0   0   0   0]\n",
            " [  2   3   0   0  12  14   0   0 152   0   0   6]\n",
            " [  0  20   0   0   0   0   3   0   0  79   6   0]\n",
            " [  0  41   0   0   0   0   2   0   0  25  34   0]\n",
            " [  0   0   0   0   2   0   0   0   9   0   0 115]]\n",
            "              precision    recall  f1-score   support\n",
            "\n",
            "   Barbarian      0.836     0.792     0.813       154\n",
            "        Bard      0.519     0.667     0.583       105\n",
            "      Cleric      0.906     0.810     0.855       179\n",
            "       Druid      0.664     0.832     0.739       107\n",
            "     Fighter      0.785     0.812     0.798       234\n",
            "        Monk      0.824     0.750     0.785       100\n",
            "     Paladin      0.891     0.950     0.920       121\n",
            "      Ranger      0.872     0.843     0.857       121\n",
            "       Rogue      0.792     0.804     0.798       189\n",
            "    Sorcerer      0.642     0.731     0.684       108\n",
            "     Warlock      0.642     0.333     0.439       102\n",
            "      Wizard      0.927     0.913     0.920       126\n",
            "\n",
            "    accuracy                          0.783      1646\n",
            "   macro avg      0.775     0.770     0.766      1646\n",
            "weighted avg      0.788     0.783     0.780      1646\n",
            "\n"
          ],
          "name": "stdout"
        }
      ]
    },
    {
      "cell_type": "code",
      "metadata": {
        "id": "8AKARtV6j6cV",
        "colab_type": "code",
        "colab": {
          "base_uri": "https://localhost:8080/",
          "height": 1000
        },
        "outputId": "16de6855-f177-4578-8bd2-5a1e3c4aafcc"
      },
      "source": [
        "# xgboost doesn't improve upon DT, despite being a slightly more refined approach\n",
        "# might be running into a 'wall' of what information can be extracted from these features and they are not discriminative\n",
        "# enough to distinguish Bard, Warlock, and Sorcerer\n",
        "\n",
        "main_df.groupby('class1')['num_spells'].describe()\n",
        "\n",
        "spells_per_level = main_df['num_spells'].divide(main_df['level1'])\n",
        "main_df['spells_per_lvl'] = spells_per_level\n",
        "\n",
        "print(main_df.groupby('class1')['num_spells'].describe())\n",
        "\n",
        "print(main_df.groupby('class1')['spells_per_lvl'].describe())\n",
        "\n",
        "\n",
        "features = ['AC', 'hp_per_lvl', 'spells_per_lvl'] + attributes + castingStat\n",
        "X = main_df[ features ]\n",
        "\n",
        "X_train, X_test, y_train_encoded, y_test_encoded = train_test_split(X, y_encoded, test_size=0.25, random_state=42)\n",
        "\n",
        "model = xgboost.XGBClassifier(random_state=42)\n",
        "model.fit(X_train, y_train)\n",
        "print(model)\n",
        "\n",
        "y_pred = model.predict(X_test)\n",
        "\n",
        "print(metrics.confusion_matrix(y_test, y_pred))\n",
        "\n",
        "print(metrics.classification_report(y_test, y_pred, digits=3))"
      ],
      "execution_count": 43,
      "outputs": [
        {
          "output_type": "stream",
          "text": [
            "           count       mean        std  min  25%  50%   75%   max\n",
            "class1                                                           \n",
            "Barbarian  549.0   0.107468   0.524334  0.0  0.0  0.0   0.0   3.0\n",
            "Bard       461.0   4.026030   5.573947  0.0  0.0  0.0   8.0  31.0\n",
            "Cleric     661.0  10.154312  10.227582  0.0  4.0  8.0  13.0  94.0\n",
            "Druid      463.0   5.118790   8.141400  0.0  0.0  2.0   8.0  98.0\n",
            "Fighter    905.0   0.579006   1.825520  0.0  0.0  0.0   0.0  15.0\n",
            "Monk       467.0   0.205567   0.813335  0.0  0.0  0.0   0.0   6.0\n",
            "Paladin    562.0   3.957295   4.330173  0.0  0.0  4.0   6.0  27.0\n",
            "Ranger     466.0   1.806867   2.487222  0.0  0.0  0.0   3.0  15.0\n",
            "Rogue      751.0   0.536618   1.780915  0.0  0.0  0.0   0.0  12.0\n",
            "Sorcerer   420.0   5.183333   5.566024  0.0  0.0  5.0   9.0  24.0\n",
            "Warlock    386.0   5.632124   7.289516  0.0  0.0  4.0   9.0  53.0\n",
            "Wizard     491.0   8.175153  10.324425  0.0  0.0  5.0  13.0  56.0\n",
            "           count      mean       std  min       25%       50%       75%   max\n",
            "class1                                                                       \n",
            "Barbarian  549.0  0.019987  0.105873  0.0  0.000000  0.000000  0.000000   1.0\n",
            "Bard       461.0  1.318736  1.876355  0.0  0.000000  0.000000  2.400000   8.0\n",
            "Cleric     661.0  3.210098  2.796550  0.0  1.285714  2.000000  4.000000  19.0\n",
            "Druid      463.0  1.671078  2.597343  0.0  0.000000  0.500000  2.585714  24.0\n",
            "Fighter    905.0  0.136617  0.426654  0.0  0.000000  0.000000  0.000000   3.0\n",
            "Monk       467.0  0.063727  0.263156  0.0  0.000000  0.000000  0.000000   3.0\n",
            "Paladin    562.0  0.696037  0.782081  0.0  0.000000  0.666667  0.829545   7.5\n",
            "Ranger     466.0  0.395216  0.499914  0.0  0.000000  0.000000  0.800000   3.0\n",
            "Rogue      751.0  0.135856  0.439227  0.0  0.000000  0.000000  0.000000   4.0\n",
            "Sorcerer   420.0  1.762403  2.108176  0.0  0.000000  1.000000  2.666667  10.0\n",
            "Warlock    386.0  1.730975  1.912303  0.0  0.000000  1.449495  3.000000  10.0\n",
            "Wizard     491.0  2.595282  3.159699  0.0  0.000000  1.250000  4.333333  12.0\n",
            "XGBClassifier(base_score=0.5, booster='gbtree', colsample_bylevel=1,\n",
            "              colsample_bynode=1, colsample_bytree=1, gamma=0,\n",
            "              learning_rate=0.1, max_delta_step=0, max_depth=3,\n",
            "              min_child_weight=1, missing=None, n_estimators=100, n_jobs=1,\n",
            "              nthread=None, objective='multi:softprob', random_state=42,\n",
            "              reg_alpha=0, reg_lambda=1, scale_pos_weight=1, seed=None,\n",
            "              silent=None, subsample=1, verbosity=1)\n",
            "[[123   0   0   0  31   0   0   0   0   0   0   0]\n",
            " [  1  75   0   0   0   0   3   0   0  14  12   0]\n",
            " [  0   0 158  18   0   0   0   3   0   0   0   0]\n",
            " [  0   0  12  91   0   0   0   3   0   1   0   0]\n",
            " [ 22   0   0   0 189   1   2   2  18   0   0   0]\n",
            " [  1   0   0   2   7  74   0   0  16   0   0   0]\n",
            " [  0   1   0   1   0   0 119   0   0   0   0   0]\n",
            " [  0   0   5  10   0   0   0 106   0   0   0   0]\n",
            " [  2   3   0   0  12  14   0   0 152   0   0   6]\n",
            " [  0  16   0   0   0   0   3   0   0  77  12   0]\n",
            " [  0  34   0   0   0   0   0   0   0  24  44   0]\n",
            " [  0   0   0   0   2   0   0   0   4   0   0 120]]\n",
            "              precision    recall  f1-score   support\n",
            "\n",
            "   Barbarian      0.826     0.799     0.812       154\n",
            "        Bard      0.581     0.714     0.641       105\n",
            "      Cleric      0.903     0.883     0.893       179\n",
            "       Druid      0.746     0.850     0.795       107\n",
            "     Fighter      0.784     0.808     0.796       234\n",
            "        Monk      0.831     0.740     0.783       100\n",
            "     Paladin      0.937     0.983     0.960       121\n",
            "      Ranger      0.930     0.876     0.902       121\n",
            "       Rogue      0.800     0.804     0.802       189\n",
            "    Sorcerer      0.664     0.713     0.688       108\n",
            "     Warlock      0.647     0.431     0.518       102\n",
            "      Wizard      0.952     0.952     0.952       126\n",
            "\n",
            "    accuracy                          0.807      1646\n",
            "   macro avg      0.800     0.796     0.795      1646\n",
            "weighted avg      0.809     0.807     0.805      1646\n",
            "\n"
          ],
          "name": "stdout"
        }
      ]
    },
    {
      "cell_type": "markdown",
      "metadata": {
        "id": "wKalNqcTjh4_",
        "colab_type": "text"
      },
      "source": [
        "## Random Forests"
      ]
    },
    {
      "cell_type": "code",
      "metadata": {
        "id": "0jRO8MVvjl35",
        "colab_type": "code",
        "colab": {
          "base_uri": "https://localhost:8080/",
          "height": 595
        },
        "outputId": "1d28a58a-c58b-481a-84a3-c32481d497e9"
      },
      "source": [
        "# add new spells/level feature\n",
        "main_df['spells_per_lvl'] = main_df['num_spells'].divide(main_df['level1'])\n",
        "castingStat = ['castingStat_Int', 'castingStat_Wis', 'castingStat_Cha']\n",
        "features = ['AC', 'hp_per_lvl', 'spells_per_lvl'] + attributes + castingStat\n",
        "X = main_df[features]\n",
        "y = main_df['class1']\n",
        "X_train, X_test, y_train_encoded, y_test_encoded = train_test_split(X, y_encoded, test_size=0.25, random_state=42)\n",
        "\n",
        "\n",
        "if 0: # this takes awhile to run, change to 1 if you want to play with it\n",
        "  # hyperparameter tuning with grid search\n",
        "    param_grid = {\n",
        "        'min_samples_leaf': [3, 4, 5],\n",
        "        'min_samples_split': [8, 10, 12],\n",
        "        'n_estimators': [100, 200, 300]\n",
        "    }\n",
        "    rf = RandomForestClassifier()\n",
        "    grid_search = GridSearchCV(rf, param_grid=param_grid, cv=10, scoring='f1_macro')\n",
        "    grid_search.fit(X_train, y_train)\n",
        "    print('Best parameters: ', grid_search.best_params_)\n",
        "    print('Resulting best score:', grid_search.best_score_)\n",
        "\n",
        "clf = RandomForestClassifier(n_estimators=300, min_samples_leaf=3, min_samples_split=8, random_state=42)\n",
        "clf.fit(X_train,y_train)\n",
        "\n",
        "y_pred=clf.predict(X_test)\n",
        "\n",
        "print('Confusion Matrix')\n",
        "print(metrics.confusion_matrix(y_test, y_pred))\n",
        "print('')\n",
        "print('Success Metrics')\n",
        "print(metrics.classification_report(y_test, y_pred, digits=3))"
      ],
      "execution_count": 44,
      "outputs": [
        {
          "output_type": "stream",
          "text": [
            "Confusion Matrix\n",
            "[[124   0   0   0  29   0   0   0   1   0   0   0]\n",
            " [  1  83   0   0   0   0   3   0   0  12   6   0]\n",
            " [  0   0 166  11   0   0   0   2   0   0   0   0]\n",
            " [  0   0   7  93   0   1   0   5   0   1   0   0]\n",
            " [ 17   0   0   0 190   3   2   2  19   0   0   1]\n",
            " [  2   0   0   2   7  74   0   0  15   0   0   0]\n",
            " [  0   1   1   0   0   0 119   0   0   0   0   0]\n",
            " [  0   0   4   9   0   0   0 108   0   0   0   0]\n",
            " [  2   3   0   0  15   9   0   0 154   0   0   6]\n",
            " [  0  15   0   0   0   0   2   0   0  81  10   0]\n",
            " [  0  34   0   0   0   0   2   0   0  18  48   0]\n",
            " [  0   0   0   0   1   0   0   0   3   0   0 122]]\n",
            "\n",
            "Success Metrics\n",
            "              precision    recall  f1-score   support\n",
            "\n",
            "   Barbarian      0.849     0.805     0.827       154\n",
            "        Bard      0.610     0.790     0.689       105\n",
            "      Cleric      0.933     0.927     0.930       179\n",
            "       Druid      0.809     0.869     0.838       107\n",
            "     Fighter      0.785     0.812     0.798       234\n",
            "        Monk      0.851     0.740     0.791       100\n",
            "     Paladin      0.930     0.983     0.956       121\n",
            "      Ranger      0.923     0.893     0.908       121\n",
            "       Rogue      0.802     0.815     0.808       189\n",
            "    Sorcerer      0.723     0.750     0.736       108\n",
            "     Warlock      0.750     0.471     0.578       102\n",
            "      Wizard      0.946     0.968     0.957       126\n",
            "\n",
            "    accuracy                          0.827      1646\n",
            "   macro avg      0.826     0.819     0.818      1646\n",
            "weighted avg      0.830     0.827     0.826      1646\n",
            "\n"
          ],
          "name": "stdout"
        }
      ]
    },
    {
      "cell_type": "code",
      "metadata": {
        "id": "2dFoYHdetIlW",
        "colab_type": "code",
        "colab": {
          "base_uri": "https://localhost:8080/",
          "height": 444
        },
        "outputId": "f96cda3d-44c2-4a5b-c622-54becae1cb67"
      },
      "source": [
        "# feature importance for multiclass Random Forest\n",
        "importance = clf.feature_importances_\n",
        "\n",
        "# combine list of features and importance weights into dataframe\n",
        "importance_rf = zip(list(X_train.columns), importance)\n",
        "importance_rf = set(importance_rf)\n",
        "importance_rf = pd.DataFrame(importance_rf, columns = ['feature','importance'])\n",
        "\n",
        "# sort dataframe to graph from high to low\n",
        "importance_rf = importance_rf.sort_values('importance',ascending = True)\n",
        "importance_rf.reset_index(drop = True)\n",
        "\n",
        "# plot the feature weights\n",
        "fig = plt.figure(figsize=[10,7])\n",
        "ax = plt.subplot(111)\n",
        "plt.title(\"Feature importances: Multi Class RF\")\n",
        "plt.barh(range(importance_rf.shape[0]), width = importance_rf['importance'], align=\"center\")\n",
        "plt.yticks(range(importance_rf.shape[0]), importance_rf['feature'])\n",
        "plt.ylim([-1, importance_rf.shape[0]])\n",
        "plt.show()"
      ],
      "execution_count": 45,
      "outputs": [
        {
          "output_type": "display_data",
          "data": {
            "image/png": "[encoded data removed]",
            "text/plain": [
              "<Figure size 720x504 with 1 Axes>"
            ]
          },
          "metadata": {
            "tags": [],
            "needs_background": "light"
          }
        }
      ]
    },
    {
      "cell_type": "markdown",
      "metadata": {
        "id": "Al8XFR__s7Hu",
        "colab_type": "text"
      },
      "source": [
        "# Evaluating model on own DnD characters"
      ]
    },
    {
      "cell_type": "code",
      "metadata": {
        "id": "apA44ZleHZ1N",
        "colab_type": "code",
        "colab": {
          "base_uri": "https://localhost:8080/",
          "height": 34
        },
        "outputId": "ace74ab3-5c7f-4659-f2a6-c27c1207f79b"
      },
      "source": [
        "my_char = pd.DataFrame({'AC': [12],\n",
        "                        'hp_per_lvl': [17 / 2.],\n",
        "                        'spells_per_lvl': [6 / 2.],\n",
        "                        'Str': [6],\n",
        "                        'Dex': [13],\n",
        "                        'Con': [14],\n",
        "                        'Int': [13],\n",
        "                        'Wis': [15],\n",
        "                        'Cha': [20],\n",
        "#                        'castingStat_Str': [0],\n",
        "#                        'castingStat_Dex': [0],\n",
        "#                        'castingStat_Con': [0],\n",
        "                        'castingStat_Int': [0],\n",
        "                        'castingStat_Wis': [0],\n",
        "                        'castingStat_Cha': [1]})\n",
        "print(clf.predict(my_char))"
      ],
      "execution_count": 47,
      "outputs": [
        {
          "output_type": "stream",
          "text": [
            "['Warlock']\n"
          ],
          "name": "stdout"
        }
      ]
    },
    {
      "cell_type": "code",
      "metadata": {
        "id": "Su3ZdqZil11v",
        "colab_type": "code",
        "colab": {
          "base_uri": "https://localhost:8080/",
          "height": 85
        },
        "outputId": "042c3e09-e197-4522-e3ec-2b81b26ba8c0"
      },
      "source": [
        "other_char_string = \"\"\"\n",
        "Character Name,Class,Level,AC,hp,hp_per_lvl,spells,spells_per_lvl,Str,Dex,Con,Int,Wis,Cha,Casting Stat\n",
        "grimlock,druid,8,16,67,8.375,14,1.75,8,14,16,10,20,12,Wis\n",
        "inspector cruso,cleric,8,20,74,9.25,16,2,11,15,18,14,18,13,Wis\n",
        "locke,rogue,8,16,66,8.25,0,0,11,18,17,14,14,20,Int\n",
        "miek the murderbot,fighter,8,17,80,10,0,0,12,18,16,12,16,13,Int\n",
        "farrow,monk,10,21,95,9.5,0,0,11,20,16,16,20,14,Wis\n",
        "\"\"\"\n",
        "\n",
        "from io import StringIO\n",
        "\n",
        "other_chars = pd.read_csv(StringIO(other_char_string))\n",
        "\n",
        "for cstat in castingStat:\n",
        "  stat = cstat.split('_')[1]\n",
        "  derp = other_chars['Casting Stat'] == stat\n",
        "  other_chars[f'{cstat}'] = derp.astype(int)\n",
        "\n",
        "\n",
        "test_other_chars = other_chars.drop(['Character Name', 'Class', 'Level', 'hp', 'spells', 'Casting Stat'], axis=1)\n",
        "print(clf.predict(test_other_chars))\n",
        "\n",
        "fighter = other_chars[other_chars['Class'] == 'fighter']\n",
        "fighter = fighter.drop(['Character Name', 'Class', 'Level', 'hp', 'spells', 'Casting Stat'], axis=1)\n",
        "\n",
        "probs = clf.predict_proba(fighter)\n",
        "print(probs)"
      ],
      "execution_count": 48,
      "outputs": [
        {
          "output_type": "stream",
          "text": [
            "['Druid' 'Cleric' 'Rogue' 'Monk' 'Monk']\n",
            "[[9.77341889e-03 1.44566545e-03 0.00000000e+00 1.51515152e-04\n",
            "  4.53577986e-02 8.74728054e-01 2.56410256e-05 6.66666667e-04\n",
            "  6.20452483e-02 8.49911664e-04 2.01079622e-04 4.75500022e-03]]\n"
          ],
          "name": "stdout"
        }
      ]
    }
  ]
}