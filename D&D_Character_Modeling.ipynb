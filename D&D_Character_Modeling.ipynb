{
  "nbformat": 4,
  "nbformat_minor": 0,
  "metadata": {
    "kernelspec": {
      "display_name": "Python 3",
      "language": "python",
      "name": "python3"
    },
    "language_info": {
      "codemirror_mode": {
        "name": "ipython",
        "version": 3
      },
      "file_extension": ".py",
      "mimetype": "text/x-python",
      "name": "python",
      "nbconvert_exporter": "python",
      "pygments_lexer": "ipython3",
      "version": "3.7.3"
    },
    "colab": {
      "name": "D&D Character Modeling.ipynb",
      "provenance": [],
      "collapsed_sections": [],
      "toc_visible": true
    }
  },
  "cells": [
    {
      "cell_type": "markdown",
      "metadata": {
        "id": "jAdzJPBqeNAv",
        "colab_type": "text"
      },
      "source": [
        "# Road Map"
      ]
    },
    {
      "cell_type": "code",
      "metadata": {
        "id": "0r9XLkYp5Tni",
        "colab_type": "code",
        "colab": {}
      },
      "source": [
        "# steps\n",
        "\n",
        "# get our data\n",
        "    # pull the data\n",
        "    # transform the data\n",
        "    # recombine the data\n",
        "    # get level column\n",
        "    # remove any multiclass observations for now\n",
        "    # remove artificer (not established data)\n",
        "    # determine how to handle casting stat (categorical var) -- turn into six binary columns for each stat\n",
        "    # initial simple data set will be: stats, hp, level, ac, casting stat\n",
        "\n",
        "# EDA (exploratory data analysis)\n",
        "    # distributions\n",
        "    # descriptive stats\n",
        "    # correlations\n",
        "    # identify data issues (class labeling--complexity around structure and multiclassing, high dimensionality)\n",
        "    # outlier handling -- TO DO: \n",
        "    # is the data balanced or imbalanced\n",
        "\n",
        "# plan the model\n",
        "    # identify key accuracy metrics\n",
        "        # sensitivity / specificity / recall\n",
        "        # true positive rate /false positive rate / f1 score, etc. \n",
        "        # confusion matrix\n",
        "    # what is your success criteria?\n",
        "        # what 'accuracy' do i need to achieve the ask\n",
        "        # what are my constraints if any\n",
        "\n",
        "# first pass modeling\n",
        "    # really simple models\n",
        "        # logistic regression\n",
        "        # decision tree\n",
        "        # benchmark accuracy\n",
        "        \n",
        "# more complex modeling\n",
        "    # ensemble (random forest)\n",
        "    # boosting (xgboost, adaboost)\n",
        "    # feature selection (information gain, recursive feature elimination)\n",
        "\n",
        "# model selection\n",
        "    # what model best achieves our goals"
      ],
      "execution_count": 1,
      "outputs": []
    },
    {
      "cell_type": "markdown",
      "metadata": {
        "id": "w68-dNDIcRmm",
        "colab_type": "text"
      },
      "source": [
        "# Preamble"
      ]
    },
    {
      "cell_type": "code",
      "metadata": {
        "id": "Yax7CCib5Tkk",
        "colab_type": "code",
        "colab": {
          "base_uri": "https://localhost:8080/",
          "height": 71
        },
        "outputId": "0edd8ba3-50eb-4662-e5bc-25b4f2580f20"
      },
      "source": [
        "# going to explore some Dungeons and Dragons character data from : https://github.com/oganm/dnddata#about-the-data\n",
        "import json\n",
        "import pandas as pd\n",
        "from pandas.io.json import json_normalize\n",
        "import numpy as np\n",
        "import matplotlib.pyplot as plt\n",
        "import seaborn as sns\n",
        "from sklearn import tree\n",
        "from sklearn.model_selection import train_test_split, cross_val_score, GridSearchCV, cross_val_predict\n",
        "from sklearn.linear_model import LogisticRegression, LogisticRegressionCV\n",
        "import sklearn.metrics as metrics\n",
        "from sklearn.preprocessing import LabelEncoder\n",
        "from sklearn.ensemble import RandomForestClassifier"
      ],
      "execution_count": 2,
      "outputs": [
        {
          "output_type": "stream",
          "text": [
            "/usr/local/lib/python3.6/dist-packages/statsmodels/tools/_testing.py:19: FutureWarning: pandas.util.testing is deprecated. Use the functions in the public API at pandas.testing instead.\n",
            "  import pandas.util.testing as tm\n"
          ],
          "name": "stderr"
        }
      ]
    },
    {
      "cell_type": "markdown",
      "metadata": {
        "id": "F2n2Nht0dMiw",
        "colab_type": "text"
      },
      "source": [
        "# Getting data"
      ]
    },
    {
      "cell_type": "markdown",
      "metadata": {
        "id": "sDsA0eKyduuV",
        "colab_type": "text"
      },
      "source": [
        "## Pull data"
      ]
    },
    {
      "cell_type": "code",
      "metadata": {
        "id": "aBqHwcnH5TnJ",
        "colab_type": "code",
        "colab": {}
      },
      "source": [
        "# get the data from the github repository\n",
        "url = \"https://raw.githubusercontent.com/oganm/dnddata/master/data-raw/dnd_chars_all.json\"\n",
        "\n",
        "df = pd.read_json(url)\n",
        "\n",
        "if df.shape[0] < df.shape[1]:\n",
        "    df = df.transpose()"
      ],
      "execution_count": 3,
      "outputs": []
    },
    {
      "cell_type": "markdown",
      "metadata": {
        "id": "ZqVkTFcTd2Al",
        "colab_type": "text"
      },
      "source": [
        "## Unpack data"
      ]
    },
    {
      "cell_type": "code",
      "metadata": {
        "id": "i2kbktWb5TpM",
        "colab_type": "code",
        "colab": {}
      },
      "source": [
        "# scrappily unpacking everything--each column comes in 2 types: jsons or singleton lists\n",
        "# but dtypes only indicate if it's a python 'object' \n",
        "# drop some of the unnecessary (for us) columns, e.g. ip, finger, date, location, hash, choices\n",
        "# [7803 rows x 11457 columns] when unpacking spells, drop those and weapons for now\n",
        "\n",
        "ignore = ['ip', 'finger','date', 'location', 'hash', 'choices','weapons', 'name', 'spells']\n",
        "\n",
        "clean_df = pd.json_normalize(df['name'])\n",
        "clean_df = clean_df['alias'].str[0]\n",
        "\n",
        "for key in df.keys():\n",
        "  if key in ignore:\n",
        "    continue\n",
        "  try: # try doing a json_normalize, which will fail if it's not a json\n",
        "    data = pd.json_normalize(df[key])\n",
        "    for col in data.keys(): # unpack the singletons in each json column\n",
        "      data[col] = data[col].str[0]\n",
        "  except AttributeError: \n",
        "    data = df[key].str[0]\n",
        "    data = data.reset_index(drop=True) # use integer index to conform with json_normalize index\n",
        "  \n",
        "  clean_df = pd.concat([clean_df, data], axis=1)\n",
        "\n",
        "num_spells = df['spells'].apply(len).reset_index(drop=True)\n",
        "\n",
        "clean_df['num_spells'] = num_spells\n",
        "\n",
        "# remove duplicates and choose character with highest level\n",
        "clean_df = clean_df.drop_duplicates(keep='first', ignore_index=True)\n",
        "clean_df = clean_df.groupby('alias', group_keys=False).apply(lambda x: x.loc[x.level.idxmax()])"
      ],
      "execution_count": 4,
      "outputs": []
    },
    {
      "cell_type": "markdown",
      "metadata": {
        "id": "O1wCJ7Cb-LWP",
        "colab_type": "text"
      },
      "source": [
        "## Add features"
      ]
    },
    {
      "cell_type": "code",
      "metadata": {
        "id": "VZN5A0pI-LBp",
        "colab_type": "code",
        "colab": {
          "base_uri": "https://localhost:8080/",
          "height": 623
        },
        "outputId": "5b110a3e-c9e4-4668-8a2a-d2c5680346c0"
      },
      "source": [
        "# add generic \"primary class\" column based on highest level class of character\n",
        "class_list = ['Artificer.level','Barbarian.level','Bard.level','Cleric.level','Druid.level','Fighter.level','Monk.level',\n",
        "              'Paladin.level','Ranger.level','Rogue.level','Sorcerer.level','Warlock.level','Wizard.level']\n",
        "class_df = clean_df[class_list]\n",
        "\n",
        "primary_class = class_df.idxmax(axis=1)\n",
        "class1 = list(primary_class.str.split('.').str[0])\n",
        "clean_df['class1'] = class1\n",
        "\n",
        "# add generic \"primary class level\" column/label\n",
        "primary_class_level = class_df.max(axis=1)\n",
        "clean_df['level1'] = primary_class_level\n",
        "\n",
        "# one-hot encode castingStat\n",
        "castingStat = pd.get_dummies(clean_df[\"castingStat\"], prefix='castingStat')\n",
        "clean_df = pd.concat([clean_df, castingStat], axis = 1)\n",
        "\n",
        "# one-hot encode processedRace \n",
        "processedRace = pd.get_dummies(clean_df[\"processedRace\"], prefix='processedRace')\n",
        "clean_df = pd.concat([clean_df, processedRace], axis = 1)\n",
        "\n",
        "# add hp / level\n",
        "clean_df['hp_per_lvl'] = clean_df['HP'] / clean_df['level1']\n",
        "\n",
        "clean_df"
      ],
      "execution_count": 5,
      "outputs": [
        {
          "output_type": "execute_result",
          "data": {
            "text/html": [
              "<div>\n",
              "<style scoped>\n",
              "    .dataframe tbody tr th:only-of-type {\n",
              "        vertical-align: middle;\n",
              "    }\n",
              "\n",
              "    .dataframe tbody tr th {\n",
              "        vertical-align: top;\n",
              "    }\n",
              "\n",
              "    .dataframe thead th {\n",
              "        text-align: right;\n",
              "    }\n",
              "</style>\n",
              "<table border=\"1\" class=\"dataframe\">\n",
              "  <thead>\n",
              "    <tr style=\"text-align: right;\">\n",
              "      <th></th>\n",
              "      <th>alias</th>\n",
              "      <th>race</th>\n",
              "      <th>processedRace</th>\n",
              "      <th>background</th>\n",
              "      <th>Ranger.class</th>\n",
              "      <th>Ranger.subclass</th>\n",
              "      <th>Ranger.level</th>\n",
              "      <th>Rogue.class</th>\n",
              "      <th>Rogue.subclass</th>\n",
              "      <th>Rogue.level</th>\n",
              "      <th>Warlock.class</th>\n",
              "      <th>Warlock.subclass</th>\n",
              "      <th>Warlock.level</th>\n",
              "      <th>Fighter.class</th>\n",
              "      <th>Fighter.subclass</th>\n",
              "      <th>Fighter.level</th>\n",
              "      <th>Barbarian.class</th>\n",
              "      <th>Barbarian.subclass</th>\n",
              "      <th>Barbarian.level</th>\n",
              "      <th>Sorcerer.class</th>\n",
              "      <th>Sorcerer.subclass</th>\n",
              "      <th>Sorcerer.level</th>\n",
              "      <th>Paladin.class</th>\n",
              "      <th>Paladin.subclass</th>\n",
              "      <th>Paladin.level</th>\n",
              "      <th>Cleric.class</th>\n",
              "      <th>Cleric.subclass</th>\n",
              "      <th>Cleric.level</th>\n",
              "      <th>Artificer.class</th>\n",
              "      <th>Artificer.subclass</th>\n",
              "      <th>Artificer.level</th>\n",
              "      <th>Monk.class</th>\n",
              "      <th>Monk.subclass</th>\n",
              "      <th>Monk.level</th>\n",
              "      <th>Druid.class</th>\n",
              "      <th>Druid.subclass</th>\n",
              "      <th>Druid.level</th>\n",
              "      <th>Bard.class</th>\n",
              "      <th>Bard.subclass</th>\n",
              "      <th>Bard.level</th>\n",
              "      <th>...</th>\n",
              "      <th>castingStat_Str</th>\n",
              "      <th>castingStat_Wis</th>\n",
              "      <th>processedRace_</th>\n",
              "      <th>processedRace_Aarakocra</th>\n",
              "      <th>processedRace_Aasimar</th>\n",
              "      <th>processedRace_Bugbear</th>\n",
              "      <th>processedRace_Centaur</th>\n",
              "      <th>processedRace_Changeling</th>\n",
              "      <th>processedRace_Dragonborn</th>\n",
              "      <th>processedRace_Dwarf</th>\n",
              "      <th>processedRace_Eladrin</th>\n",
              "      <th>processedRace_Elf</th>\n",
              "      <th>processedRace_Firbolg</th>\n",
              "      <th>processedRace_Genasi</th>\n",
              "      <th>processedRace_Gith</th>\n",
              "      <th>processedRace_Gnome</th>\n",
              "      <th>processedRace_Goblin</th>\n",
              "      <th>processedRace_Goliath</th>\n",
              "      <th>processedRace_Half-Elf</th>\n",
              "      <th>processedRace_Half-Orc</th>\n",
              "      <th>processedRace_Halfling</th>\n",
              "      <th>processedRace_Hobgoblin</th>\n",
              "      <th>processedRace_Human</th>\n",
              "      <th>processedRace_Kalashtar</th>\n",
              "      <th>processedRace_Kenku</th>\n",
              "      <th>processedRace_Kobold</th>\n",
              "      <th>processedRace_Lizardfolk</th>\n",
              "      <th>processedRace_Loxodon</th>\n",
              "      <th>processedRace_Minotaur</th>\n",
              "      <th>processedRace_Orc</th>\n",
              "      <th>processedRace_Shifter</th>\n",
              "      <th>processedRace_Simic hybrid</th>\n",
              "      <th>processedRace_Tabaxi</th>\n",
              "      <th>processedRace_Tiefling</th>\n",
              "      <th>processedRace_Triton</th>\n",
              "      <th>processedRace_Turtle</th>\n",
              "      <th>processedRace_Vedalken</th>\n",
              "      <th>processedRace_Warforged</th>\n",
              "      <th>processedRace_Yaun-Ti</th>\n",
              "      <th>hp_per_lvl</th>\n",
              "    </tr>\n",
              "    <tr>\n",
              "      <th>alias</th>\n",
              "      <th></th>\n",
              "      <th></th>\n",
              "      <th></th>\n",
              "      <th></th>\n",
              "      <th></th>\n",
              "      <th></th>\n",
              "      <th></th>\n",
              "      <th></th>\n",
              "      <th></th>\n",
              "      <th></th>\n",
              "      <th></th>\n",
              "      <th></th>\n",
              "      <th></th>\n",
              "      <th></th>\n",
              "      <th></th>\n",
              "      <th></th>\n",
              "      <th></th>\n",
              "      <th></th>\n",
              "      <th></th>\n",
              "      <th></th>\n",
              "      <th></th>\n",
              "      <th></th>\n",
              "      <th></th>\n",
              "      <th></th>\n",
              "      <th></th>\n",
              "      <th></th>\n",
              "      <th></th>\n",
              "      <th></th>\n",
              "      <th></th>\n",
              "      <th></th>\n",
              "      <th></th>\n",
              "      <th></th>\n",
              "      <th></th>\n",
              "      <th></th>\n",
              "      <th></th>\n",
              "      <th></th>\n",
              "      <th></th>\n",
              "      <th></th>\n",
              "      <th></th>\n",
              "      <th></th>\n",
              "      <th></th>\n",
              "      <th></th>\n",
              "      <th></th>\n",
              "      <th></th>\n",
              "      <th></th>\n",
              "      <th></th>\n",
              "      <th></th>\n",
              "      <th></th>\n",
              "      <th></th>\n",
              "      <th></th>\n",
              "      <th></th>\n",
              "      <th></th>\n",
              "      <th></th>\n",
              "      <th></th>\n",
              "      <th></th>\n",
              "      <th></th>\n",
              "      <th></th>\n",
              "      <th></th>\n",
              "      <th></th>\n",
              "      <th></th>\n",
              "      <th></th>\n",
              "      <th></th>\n",
              "      <th></th>\n",
              "      <th></th>\n",
              "      <th></th>\n",
              "      <th></th>\n",
              "      <th></th>\n",
              "      <th></th>\n",
              "      <th></th>\n",
              "      <th></th>\n",
              "      <th></th>\n",
              "      <th></th>\n",
              "      <th></th>\n",
              "      <th></th>\n",
              "      <th></th>\n",
              "      <th></th>\n",
              "      <th></th>\n",
              "      <th></th>\n",
              "      <th></th>\n",
              "      <th></th>\n",
              "      <th></th>\n",
              "    </tr>\n",
              "  </thead>\n",
              "  <tbody>\n",
              "    <tr>\n",
              "      <th>admiring_allen</th>\n",
              "      <td>admiring_allen</td>\n",
              "      <td>Deep Gnome</td>\n",
              "      <td>Gnome</td>\n",
              "      <td>Sage</td>\n",
              "      <td>NaN</td>\n",
              "      <td>NaN</td>\n",
              "      <td>NaN</td>\n",
              "      <td>NaN</td>\n",
              "      <td>NaN</td>\n",
              "      <td>NaN</td>\n",
              "      <td>NaN</td>\n",
              "      <td>NaN</td>\n",
              "      <td>NaN</td>\n",
              "      <td>NaN</td>\n",
              "      <td>NaN</td>\n",
              "      <td>NaN</td>\n",
              "      <td>NaN</td>\n",
              "      <td>NaN</td>\n",
              "      <td>NaN</td>\n",
              "      <td>NaN</td>\n",
              "      <td>NaN</td>\n",
              "      <td>NaN</td>\n",
              "      <td>NaN</td>\n",
              "      <td>NaN</td>\n",
              "      <td>NaN</td>\n",
              "      <td>NaN</td>\n",
              "      <td>NaN</td>\n",
              "      <td>NaN</td>\n",
              "      <td>NaN</td>\n",
              "      <td>NaN</td>\n",
              "      <td>NaN</td>\n",
              "      <td>NaN</td>\n",
              "      <td>NaN</td>\n",
              "      <td>NaN</td>\n",
              "      <td>NaN</td>\n",
              "      <td>NaN</td>\n",
              "      <td>NaN</td>\n",
              "      <td>NaN</td>\n",
              "      <td>NaN</td>\n",
              "      <td>NaN</td>\n",
              "      <td>...</td>\n",
              "      <td>0</td>\n",
              "      <td>0</td>\n",
              "      <td>0</td>\n",
              "      <td>0</td>\n",
              "      <td>0</td>\n",
              "      <td>0</td>\n",
              "      <td>0</td>\n",
              "      <td>0</td>\n",
              "      <td>0</td>\n",
              "      <td>0</td>\n",
              "      <td>0</td>\n",
              "      <td>0</td>\n",
              "      <td>0</td>\n",
              "      <td>0</td>\n",
              "      <td>0</td>\n",
              "      <td>1</td>\n",
              "      <td>0</td>\n",
              "      <td>0</td>\n",
              "      <td>0</td>\n",
              "      <td>0</td>\n",
              "      <td>0</td>\n",
              "      <td>0</td>\n",
              "      <td>0</td>\n",
              "      <td>0</td>\n",
              "      <td>0</td>\n",
              "      <td>0</td>\n",
              "      <td>0</td>\n",
              "      <td>0</td>\n",
              "      <td>0</td>\n",
              "      <td>0</td>\n",
              "      <td>0</td>\n",
              "      <td>0</td>\n",
              "      <td>0</td>\n",
              "      <td>0</td>\n",
              "      <td>0</td>\n",
              "      <td>0</td>\n",
              "      <td>0</td>\n",
              "      <td>0</td>\n",
              "      <td>0</td>\n",
              "      <td>7.000000</td>\n",
              "    </tr>\n",
              "    <tr>\n",
              "      <th>admiring_almeida</th>\n",
              "      <td>admiring_almeida</td>\n",
              "      <td>Fire Genasi</td>\n",
              "      <td>Genasi</td>\n",
              "      <td>Cloistered Scholar</td>\n",
              "      <td>NaN</td>\n",
              "      <td>NaN</td>\n",
              "      <td>NaN</td>\n",
              "      <td>NaN</td>\n",
              "      <td>NaN</td>\n",
              "      <td>NaN</td>\n",
              "      <td>NaN</td>\n",
              "      <td>NaN</td>\n",
              "      <td>NaN</td>\n",
              "      <td>NaN</td>\n",
              "      <td>NaN</td>\n",
              "      <td>NaN</td>\n",
              "      <td>NaN</td>\n",
              "      <td>NaN</td>\n",
              "      <td>NaN</td>\n",
              "      <td>NaN</td>\n",
              "      <td>NaN</td>\n",
              "      <td>NaN</td>\n",
              "      <td>NaN</td>\n",
              "      <td>NaN</td>\n",
              "      <td>NaN</td>\n",
              "      <td>NaN</td>\n",
              "      <td>NaN</td>\n",
              "      <td>NaN</td>\n",
              "      <td>NaN</td>\n",
              "      <td>NaN</td>\n",
              "      <td>NaN</td>\n",
              "      <td>NaN</td>\n",
              "      <td>NaN</td>\n",
              "      <td>NaN</td>\n",
              "      <td>NaN</td>\n",
              "      <td>NaN</td>\n",
              "      <td>NaN</td>\n",
              "      <td>NaN</td>\n",
              "      <td>NaN</td>\n",
              "      <td>NaN</td>\n",
              "      <td>...</td>\n",
              "      <td>0</td>\n",
              "      <td>0</td>\n",
              "      <td>0</td>\n",
              "      <td>0</td>\n",
              "      <td>0</td>\n",
              "      <td>0</td>\n",
              "      <td>0</td>\n",
              "      <td>0</td>\n",
              "      <td>0</td>\n",
              "      <td>0</td>\n",
              "      <td>0</td>\n",
              "      <td>0</td>\n",
              "      <td>0</td>\n",
              "      <td>1</td>\n",
              "      <td>0</td>\n",
              "      <td>0</td>\n",
              "      <td>0</td>\n",
              "      <td>0</td>\n",
              "      <td>0</td>\n",
              "      <td>0</td>\n",
              "      <td>0</td>\n",
              "      <td>0</td>\n",
              "      <td>0</td>\n",
              "      <td>0</td>\n",
              "      <td>0</td>\n",
              "      <td>0</td>\n",
              "      <td>0</td>\n",
              "      <td>0</td>\n",
              "      <td>0</td>\n",
              "      <td>0</td>\n",
              "      <td>0</td>\n",
              "      <td>0</td>\n",
              "      <td>0</td>\n",
              "      <td>0</td>\n",
              "      <td>0</td>\n",
              "      <td>0</td>\n",
              "      <td>0</td>\n",
              "      <td>0</td>\n",
              "      <td>0</td>\n",
              "      <td>5.750000</td>\n",
              "    </tr>\n",
              "    <tr>\n",
              "      <th>admiring_antonelli</th>\n",
              "      <td>admiring_antonelli</td>\n",
              "      <td>Tiefling</td>\n",
              "      <td>Tiefling</td>\n",
              "      <td>Mercenary Veteran</td>\n",
              "      <td>NaN</td>\n",
              "      <td>NaN</td>\n",
              "      <td>NaN</td>\n",
              "      <td>NaN</td>\n",
              "      <td>NaN</td>\n",
              "      <td>NaN</td>\n",
              "      <td>Warlock</td>\n",
              "      <td>The Great Old One</td>\n",
              "      <td>7.0</td>\n",
              "      <td>NaN</td>\n",
              "      <td>NaN</td>\n",
              "      <td>NaN</td>\n",
              "      <td>NaN</td>\n",
              "      <td>NaN</td>\n",
              "      <td>NaN</td>\n",
              "      <td>NaN</td>\n",
              "      <td>NaN</td>\n",
              "      <td>NaN</td>\n",
              "      <td>Paladin</td>\n",
              "      <td>Oath of Ancients</td>\n",
              "      <td>3.0</td>\n",
              "      <td>NaN</td>\n",
              "      <td>NaN</td>\n",
              "      <td>NaN</td>\n",
              "      <td>NaN</td>\n",
              "      <td>NaN</td>\n",
              "      <td>NaN</td>\n",
              "      <td>NaN</td>\n",
              "      <td>NaN</td>\n",
              "      <td>NaN</td>\n",
              "      <td>NaN</td>\n",
              "      <td>NaN</td>\n",
              "      <td>NaN</td>\n",
              "      <td>NaN</td>\n",
              "      <td>NaN</td>\n",
              "      <td>NaN</td>\n",
              "      <td>...</td>\n",
              "      <td>0</td>\n",
              "      <td>0</td>\n",
              "      <td>0</td>\n",
              "      <td>0</td>\n",
              "      <td>0</td>\n",
              "      <td>0</td>\n",
              "      <td>0</td>\n",
              "      <td>0</td>\n",
              "      <td>0</td>\n",
              "      <td>0</td>\n",
              "      <td>0</td>\n",
              "      <td>0</td>\n",
              "      <td>0</td>\n",
              "      <td>0</td>\n",
              "      <td>0</td>\n",
              "      <td>0</td>\n",
              "      <td>0</td>\n",
              "      <td>0</td>\n",
              "      <td>0</td>\n",
              "      <td>0</td>\n",
              "      <td>0</td>\n",
              "      <td>0</td>\n",
              "      <td>0</td>\n",
              "      <td>0</td>\n",
              "      <td>0</td>\n",
              "      <td>0</td>\n",
              "      <td>0</td>\n",
              "      <td>0</td>\n",
              "      <td>0</td>\n",
              "      <td>0</td>\n",
              "      <td>0</td>\n",
              "      <td>0</td>\n",
              "      <td>0</td>\n",
              "      <td>1</td>\n",
              "      <td>0</td>\n",
              "      <td>0</td>\n",
              "      <td>0</td>\n",
              "      <td>0</td>\n",
              "      <td>0</td>\n",
              "      <td>4.571429</td>\n",
              "    </tr>\n",
              "    <tr>\n",
              "      <th>admiring_archimedes</th>\n",
              "      <td>admiring_archimedes</td>\n",
              "      <td>Variant</td>\n",
              "      <td>Half-Elf</td>\n",
              "      <td>Faction Agent</td>\n",
              "      <td>NaN</td>\n",
              "      <td>NaN</td>\n",
              "      <td>NaN</td>\n",
              "      <td>NaN</td>\n",
              "      <td>NaN</td>\n",
              "      <td>NaN</td>\n",
              "      <td>NaN</td>\n",
              "      <td>NaN</td>\n",
              "      <td>NaN</td>\n",
              "      <td>NaN</td>\n",
              "      <td>NaN</td>\n",
              "      <td>NaN</td>\n",
              "      <td>NaN</td>\n",
              "      <td>NaN</td>\n",
              "      <td>NaN</td>\n",
              "      <td>NaN</td>\n",
              "      <td>NaN</td>\n",
              "      <td>NaN</td>\n",
              "      <td>Paladin</td>\n",
              "      <td>Oath of Ancients</td>\n",
              "      <td>3.0</td>\n",
              "      <td>NaN</td>\n",
              "      <td>NaN</td>\n",
              "      <td>NaN</td>\n",
              "      <td>NaN</td>\n",
              "      <td>NaN</td>\n",
              "      <td>NaN</td>\n",
              "      <td>NaN</td>\n",
              "      <td>NaN</td>\n",
              "      <td>NaN</td>\n",
              "      <td>NaN</td>\n",
              "      <td>NaN</td>\n",
              "      <td>NaN</td>\n",
              "      <td>NaN</td>\n",
              "      <td>NaN</td>\n",
              "      <td>NaN</td>\n",
              "      <td>...</td>\n",
              "      <td>0</td>\n",
              "      <td>0</td>\n",
              "      <td>0</td>\n",
              "      <td>0</td>\n",
              "      <td>0</td>\n",
              "      <td>0</td>\n",
              "      <td>0</td>\n",
              "      <td>0</td>\n",
              "      <td>0</td>\n",
              "      <td>0</td>\n",
              "      <td>0</td>\n",
              "      <td>0</td>\n",
              "      <td>0</td>\n",
              "      <td>0</td>\n",
              "      <td>0</td>\n",
              "      <td>0</td>\n",
              "      <td>0</td>\n",
              "      <td>0</td>\n",
              "      <td>1</td>\n",
              "      <td>0</td>\n",
              "      <td>0</td>\n",
              "      <td>0</td>\n",
              "      <td>0</td>\n",
              "      <td>0</td>\n",
              "      <td>0</td>\n",
              "      <td>0</td>\n",
              "      <td>0</td>\n",
              "      <td>0</td>\n",
              "      <td>0</td>\n",
              "      <td>0</td>\n",
              "      <td>0</td>\n",
              "      <td>0</td>\n",
              "      <td>0</td>\n",
              "      <td>0</td>\n",
              "      <td>0</td>\n",
              "      <td>0</td>\n",
              "      <td>0</td>\n",
              "      <td>0</td>\n",
              "      <td>0</td>\n",
              "      <td>9.333333</td>\n",
              "    </tr>\n",
              "    <tr>\n",
              "      <th>admiring_ardinghelli</th>\n",
              "      <td>admiring_ardinghelli</td>\n",
              "      <td>Lightfoot Halfling</td>\n",
              "      <td>Halfling</td>\n",
              "      <td>Sage</td>\n",
              "      <td>NaN</td>\n",
              "      <td>NaN</td>\n",
              "      <td>NaN</td>\n",
              "      <td>NaN</td>\n",
              "      <td>NaN</td>\n",
              "      <td>NaN</td>\n",
              "      <td>NaN</td>\n",
              "      <td>NaN</td>\n",
              "      <td>NaN</td>\n",
              "      <td>NaN</td>\n",
              "      <td>NaN</td>\n",
              "      <td>NaN</td>\n",
              "      <td>NaN</td>\n",
              "      <td>NaN</td>\n",
              "      <td>NaN</td>\n",
              "      <td>NaN</td>\n",
              "      <td>NaN</td>\n",
              "      <td>NaN</td>\n",
              "      <td>NaN</td>\n",
              "      <td>NaN</td>\n",
              "      <td>NaN</td>\n",
              "      <td>NaN</td>\n",
              "      <td>NaN</td>\n",
              "      <td>NaN</td>\n",
              "      <td>NaN</td>\n",
              "      <td>NaN</td>\n",
              "      <td>NaN</td>\n",
              "      <td>NaN</td>\n",
              "      <td>NaN</td>\n",
              "      <td>NaN</td>\n",
              "      <td>NaN</td>\n",
              "      <td>NaN</td>\n",
              "      <td>NaN</td>\n",
              "      <td>NaN</td>\n",
              "      <td>NaN</td>\n",
              "      <td>NaN</td>\n",
              "      <td>...</td>\n",
              "      <td>0</td>\n",
              "      <td>0</td>\n",
              "      <td>0</td>\n",
              "      <td>0</td>\n",
              "      <td>0</td>\n",
              "      <td>0</td>\n",
              "      <td>0</td>\n",
              "      <td>0</td>\n",
              "      <td>0</td>\n",
              "      <td>0</td>\n",
              "      <td>0</td>\n",
              "      <td>0</td>\n",
              "      <td>0</td>\n",
              "      <td>0</td>\n",
              "      <td>0</td>\n",
              "      <td>0</td>\n",
              "      <td>0</td>\n",
              "      <td>0</td>\n",
              "      <td>0</td>\n",
              "      <td>0</td>\n",
              "      <td>1</td>\n",
              "      <td>0</td>\n",
              "      <td>0</td>\n",
              "      <td>0</td>\n",
              "      <td>0</td>\n",
              "      <td>0</td>\n",
              "      <td>0</td>\n",
              "      <td>0</td>\n",
              "      <td>0</td>\n",
              "      <td>0</td>\n",
              "      <td>0</td>\n",
              "      <td>0</td>\n",
              "      <td>0</td>\n",
              "      <td>0</td>\n",
              "      <td>0</td>\n",
              "      <td>0</td>\n",
              "      <td>0</td>\n",
              "      <td>0</td>\n",
              "      <td>0</td>\n",
              "      <td>4.181818</td>\n",
              "    </tr>\n",
              "    <tr>\n",
              "      <th>...</th>\n",
              "      <td>...</td>\n",
              "      <td>...</td>\n",
              "      <td>...</td>\n",
              "      <td>...</td>\n",
              "      <td>...</td>\n",
              "      <td>...</td>\n",
              "      <td>...</td>\n",
              "      <td>...</td>\n",
              "      <td>...</td>\n",
              "      <td>...</td>\n",
              "      <td>...</td>\n",
              "      <td>...</td>\n",
              "      <td>...</td>\n",
              "      <td>...</td>\n",
              "      <td>...</td>\n",
              "      <td>...</td>\n",
              "      <td>...</td>\n",
              "      <td>...</td>\n",
              "      <td>...</td>\n",
              "      <td>...</td>\n",
              "      <td>...</td>\n",
              "      <td>...</td>\n",
              "      <td>...</td>\n",
              "      <td>...</td>\n",
              "      <td>...</td>\n",
              "      <td>...</td>\n",
              "      <td>...</td>\n",
              "      <td>...</td>\n",
              "      <td>...</td>\n",
              "      <td>...</td>\n",
              "      <td>...</td>\n",
              "      <td>...</td>\n",
              "      <td>...</td>\n",
              "      <td>...</td>\n",
              "      <td>...</td>\n",
              "      <td>...</td>\n",
              "      <td>...</td>\n",
              "      <td>...</td>\n",
              "      <td>...</td>\n",
              "      <td>...</td>\n",
              "      <td>...</td>\n",
              "      <td>...</td>\n",
              "      <td>...</td>\n",
              "      <td>...</td>\n",
              "      <td>...</td>\n",
              "      <td>...</td>\n",
              "      <td>...</td>\n",
              "      <td>...</td>\n",
              "      <td>...</td>\n",
              "      <td>...</td>\n",
              "      <td>...</td>\n",
              "      <td>...</td>\n",
              "      <td>...</td>\n",
              "      <td>...</td>\n",
              "      <td>...</td>\n",
              "      <td>...</td>\n",
              "      <td>...</td>\n",
              "      <td>...</td>\n",
              "      <td>...</td>\n",
              "      <td>...</td>\n",
              "      <td>...</td>\n",
              "      <td>...</td>\n",
              "      <td>...</td>\n",
              "      <td>...</td>\n",
              "      <td>...</td>\n",
              "      <td>...</td>\n",
              "      <td>...</td>\n",
              "      <td>...</td>\n",
              "      <td>...</td>\n",
              "      <td>...</td>\n",
              "      <td>...</td>\n",
              "      <td>...</td>\n",
              "      <td>...</td>\n",
              "      <td>...</td>\n",
              "      <td>...</td>\n",
              "      <td>...</td>\n",
              "      <td>...</td>\n",
              "      <td>...</td>\n",
              "      <td>...</td>\n",
              "      <td>...</td>\n",
              "      <td>...</td>\n",
              "    </tr>\n",
              "    <tr>\n",
              "      <th>zen_williams</th>\n",
              "      <td>zen_williams</td>\n",
              "      <td>Mountain Dwarf</td>\n",
              "      <td>Dwarf</td>\n",
              "      <td>Clan Crafter</td>\n",
              "      <td>NaN</td>\n",
              "      <td>NaN</td>\n",
              "      <td>NaN</td>\n",
              "      <td>NaN</td>\n",
              "      <td>NaN</td>\n",
              "      <td>NaN</td>\n",
              "      <td>NaN</td>\n",
              "      <td>NaN</td>\n",
              "      <td>NaN</td>\n",
              "      <td>NaN</td>\n",
              "      <td>NaN</td>\n",
              "      <td>NaN</td>\n",
              "      <td>Barbarian</td>\n",
              "      <td>Path of the Battlerager</td>\n",
              "      <td>6.0</td>\n",
              "      <td>NaN</td>\n",
              "      <td>NaN</td>\n",
              "      <td>NaN</td>\n",
              "      <td>NaN</td>\n",
              "      <td>NaN</td>\n",
              "      <td>NaN</td>\n",
              "      <td>NaN</td>\n",
              "      <td>NaN</td>\n",
              "      <td>NaN</td>\n",
              "      <td>NaN</td>\n",
              "      <td>NaN</td>\n",
              "      <td>NaN</td>\n",
              "      <td>NaN</td>\n",
              "      <td>NaN</td>\n",
              "      <td>NaN</td>\n",
              "      <td>NaN</td>\n",
              "      <td>NaN</td>\n",
              "      <td>NaN</td>\n",
              "      <td>NaN</td>\n",
              "      <td>NaN</td>\n",
              "      <td>NaN</td>\n",
              "      <td>...</td>\n",
              "      <td>0</td>\n",
              "      <td>0</td>\n",
              "      <td>0</td>\n",
              "      <td>0</td>\n",
              "      <td>0</td>\n",
              "      <td>0</td>\n",
              "      <td>0</td>\n",
              "      <td>0</td>\n",
              "      <td>0</td>\n",
              "      <td>1</td>\n",
              "      <td>0</td>\n",
              "      <td>0</td>\n",
              "      <td>0</td>\n",
              "      <td>0</td>\n",
              "      <td>0</td>\n",
              "      <td>0</td>\n",
              "      <td>0</td>\n",
              "      <td>0</td>\n",
              "      <td>0</td>\n",
              "      <td>0</td>\n",
              "      <td>0</td>\n",
              "      <td>0</td>\n",
              "      <td>0</td>\n",
              "      <td>0</td>\n",
              "      <td>0</td>\n",
              "      <td>0</td>\n",
              "      <td>0</td>\n",
              "      <td>0</td>\n",
              "      <td>0</td>\n",
              "      <td>0</td>\n",
              "      <td>0</td>\n",
              "      <td>0</td>\n",
              "      <td>0</td>\n",
              "      <td>0</td>\n",
              "      <td>0</td>\n",
              "      <td>0</td>\n",
              "      <td>0</td>\n",
              "      <td>0</td>\n",
              "      <td>0</td>\n",
              "      <td>8.500000</td>\n",
              "    </tr>\n",
              "    <tr>\n",
              "      <th>zen_wing</th>\n",
              "      <td>zen_wing</td>\n",
              "      <td>Wood Elf</td>\n",
              "      <td>Elf</td>\n",
              "      <td>Acolyte</td>\n",
              "      <td>NaN</td>\n",
              "      <td>NaN</td>\n",
              "      <td>NaN</td>\n",
              "      <td>NaN</td>\n",
              "      <td>NaN</td>\n",
              "      <td>NaN</td>\n",
              "      <td>NaN</td>\n",
              "      <td>NaN</td>\n",
              "      <td>NaN</td>\n",
              "      <td>NaN</td>\n",
              "      <td>NaN</td>\n",
              "      <td>NaN</td>\n",
              "      <td>NaN</td>\n",
              "      <td>NaN</td>\n",
              "      <td>NaN</td>\n",
              "      <td>NaN</td>\n",
              "      <td>NaN</td>\n",
              "      <td>NaN</td>\n",
              "      <td>NaN</td>\n",
              "      <td>NaN</td>\n",
              "      <td>NaN</td>\n",
              "      <td>NaN</td>\n",
              "      <td>NaN</td>\n",
              "      <td>NaN</td>\n",
              "      <td>NaN</td>\n",
              "      <td>NaN</td>\n",
              "      <td>NaN</td>\n",
              "      <td>Monk</td>\n",
              "      <td>Way of the Long Death</td>\n",
              "      <td>5.0</td>\n",
              "      <td>NaN</td>\n",
              "      <td>NaN</td>\n",
              "      <td>NaN</td>\n",
              "      <td>NaN</td>\n",
              "      <td>NaN</td>\n",
              "      <td>NaN</td>\n",
              "      <td>...</td>\n",
              "      <td>0</td>\n",
              "      <td>0</td>\n",
              "      <td>0</td>\n",
              "      <td>0</td>\n",
              "      <td>0</td>\n",
              "      <td>0</td>\n",
              "      <td>0</td>\n",
              "      <td>0</td>\n",
              "      <td>0</td>\n",
              "      <td>0</td>\n",
              "      <td>0</td>\n",
              "      <td>1</td>\n",
              "      <td>0</td>\n",
              "      <td>0</td>\n",
              "      <td>0</td>\n",
              "      <td>0</td>\n",
              "      <td>0</td>\n",
              "      <td>0</td>\n",
              "      <td>0</td>\n",
              "      <td>0</td>\n",
              "      <td>0</td>\n",
              "      <td>0</td>\n",
              "      <td>0</td>\n",
              "      <td>0</td>\n",
              "      <td>0</td>\n",
              "      <td>0</td>\n",
              "      <td>0</td>\n",
              "      <td>0</td>\n",
              "      <td>0</td>\n",
              "      <td>0</td>\n",
              "      <td>0</td>\n",
              "      <td>0</td>\n",
              "      <td>0</td>\n",
              "      <td>0</td>\n",
              "      <td>0</td>\n",
              "      <td>0</td>\n",
              "      <td>0</td>\n",
              "      <td>0</td>\n",
              "      <td>0</td>\n",
              "      <td>9.000000</td>\n",
              "    </tr>\n",
              "    <tr>\n",
              "      <th>zen_wozniak</th>\n",
              "      <td>zen_wozniak</td>\n",
              "      <td>High Elf</td>\n",
              "      <td>Elf</td>\n",
              "      <td>Sage</td>\n",
              "      <td>NaN</td>\n",
              "      <td>NaN</td>\n",
              "      <td>NaN</td>\n",
              "      <td>NaN</td>\n",
              "      <td>NaN</td>\n",
              "      <td>NaN</td>\n",
              "      <td>NaN</td>\n",
              "      <td>NaN</td>\n",
              "      <td>NaN</td>\n",
              "      <td>NaN</td>\n",
              "      <td>NaN</td>\n",
              "      <td>NaN</td>\n",
              "      <td>NaN</td>\n",
              "      <td>NaN</td>\n",
              "      <td>NaN</td>\n",
              "      <td>NaN</td>\n",
              "      <td>NaN</td>\n",
              "      <td>NaN</td>\n",
              "      <td>NaN</td>\n",
              "      <td>NaN</td>\n",
              "      <td>NaN</td>\n",
              "      <td>NaN</td>\n",
              "      <td>NaN</td>\n",
              "      <td>NaN</td>\n",
              "      <td>NaN</td>\n",
              "      <td>NaN</td>\n",
              "      <td>NaN</td>\n",
              "      <td>NaN</td>\n",
              "      <td>NaN</td>\n",
              "      <td>NaN</td>\n",
              "      <td>NaN</td>\n",
              "      <td>NaN</td>\n",
              "      <td>NaN</td>\n",
              "      <td>NaN</td>\n",
              "      <td>NaN</td>\n",
              "      <td>NaN</td>\n",
              "      <td>...</td>\n",
              "      <td>0</td>\n",
              "      <td>0</td>\n",
              "      <td>0</td>\n",
              "      <td>0</td>\n",
              "      <td>0</td>\n",
              "      <td>0</td>\n",
              "      <td>0</td>\n",
              "      <td>0</td>\n",
              "      <td>0</td>\n",
              "      <td>0</td>\n",
              "      <td>0</td>\n",
              "      <td>1</td>\n",
              "      <td>0</td>\n",
              "      <td>0</td>\n",
              "      <td>0</td>\n",
              "      <td>0</td>\n",
              "      <td>0</td>\n",
              "      <td>0</td>\n",
              "      <td>0</td>\n",
              "      <td>0</td>\n",
              "      <td>0</td>\n",
              "      <td>0</td>\n",
              "      <td>0</td>\n",
              "      <td>0</td>\n",
              "      <td>0</td>\n",
              "      <td>0</td>\n",
              "      <td>0</td>\n",
              "      <td>0</td>\n",
              "      <td>0</td>\n",
              "      <td>0</td>\n",
              "      <td>0</td>\n",
              "      <td>0</td>\n",
              "      <td>0</td>\n",
              "      <td>0</td>\n",
              "      <td>0</td>\n",
              "      <td>0</td>\n",
              "      <td>0</td>\n",
              "      <td>0</td>\n",
              "      <td>0</td>\n",
              "      <td>9.133333</td>\n",
              "    </tr>\n",
              "    <tr>\n",
              "      <th>zen_wu</th>\n",
              "      <td>zen_wu</td>\n",
              "      <td>Triton</td>\n",
              "      <td>Triton</td>\n",
              "      <td>Entertainer</td>\n",
              "      <td>NaN</td>\n",
              "      <td>NaN</td>\n",
              "      <td>NaN</td>\n",
              "      <td>NaN</td>\n",
              "      <td>NaN</td>\n",
              "      <td>NaN</td>\n",
              "      <td>NaN</td>\n",
              "      <td>NaN</td>\n",
              "      <td>NaN</td>\n",
              "      <td>NaN</td>\n",
              "      <td>NaN</td>\n",
              "      <td>NaN</td>\n",
              "      <td>NaN</td>\n",
              "      <td>NaN</td>\n",
              "      <td>NaN</td>\n",
              "      <td>NaN</td>\n",
              "      <td>NaN</td>\n",
              "      <td>NaN</td>\n",
              "      <td>NaN</td>\n",
              "      <td>NaN</td>\n",
              "      <td>NaN</td>\n",
              "      <td>NaN</td>\n",
              "      <td>NaN</td>\n",
              "      <td>NaN</td>\n",
              "      <td>NaN</td>\n",
              "      <td>NaN</td>\n",
              "      <td>NaN</td>\n",
              "      <td>NaN</td>\n",
              "      <td>NaN</td>\n",
              "      <td>NaN</td>\n",
              "      <td>NaN</td>\n",
              "      <td>NaN</td>\n",
              "      <td>NaN</td>\n",
              "      <td>Bard</td>\n",
              "      <td>College of Glamour</td>\n",
              "      <td>5.0</td>\n",
              "      <td>...</td>\n",
              "      <td>0</td>\n",
              "      <td>0</td>\n",
              "      <td>0</td>\n",
              "      <td>0</td>\n",
              "      <td>0</td>\n",
              "      <td>0</td>\n",
              "      <td>0</td>\n",
              "      <td>0</td>\n",
              "      <td>0</td>\n",
              "      <td>0</td>\n",
              "      <td>0</td>\n",
              "      <td>0</td>\n",
              "      <td>0</td>\n",
              "      <td>0</td>\n",
              "      <td>0</td>\n",
              "      <td>0</td>\n",
              "      <td>0</td>\n",
              "      <td>0</td>\n",
              "      <td>0</td>\n",
              "      <td>0</td>\n",
              "      <td>0</td>\n",
              "      <td>0</td>\n",
              "      <td>0</td>\n",
              "      <td>0</td>\n",
              "      <td>0</td>\n",
              "      <td>0</td>\n",
              "      <td>0</td>\n",
              "      <td>0</td>\n",
              "      <td>0</td>\n",
              "      <td>0</td>\n",
              "      <td>0</td>\n",
              "      <td>0</td>\n",
              "      <td>0</td>\n",
              "      <td>0</td>\n",
              "      <td>1</td>\n",
              "      <td>0</td>\n",
              "      <td>0</td>\n",
              "      <td>0</td>\n",
              "      <td>0</td>\n",
              "      <td>8.000000</td>\n",
              "    </tr>\n",
              "    <tr>\n",
              "      <th>zen_yalow</th>\n",
              "      <td>zen_yalow</td>\n",
              "      <td>Minotaur</td>\n",
              "      <td>Minotaur</td>\n",
              "      <td>Outlander</td>\n",
              "      <td>NaN</td>\n",
              "      <td>NaN</td>\n",
              "      <td>NaN</td>\n",
              "      <td>NaN</td>\n",
              "      <td>NaN</td>\n",
              "      <td>NaN</td>\n",
              "      <td>NaN</td>\n",
              "      <td>NaN</td>\n",
              "      <td>NaN</td>\n",
              "      <td>Fighter</td>\n",
              "      <td>Champion</td>\n",
              "      <td>5.0</td>\n",
              "      <td>NaN</td>\n",
              "      <td>NaN</td>\n",
              "      <td>NaN</td>\n",
              "      <td>NaN</td>\n",
              "      <td>NaN</td>\n",
              "      <td>NaN</td>\n",
              "      <td>NaN</td>\n",
              "      <td>NaN</td>\n",
              "      <td>NaN</td>\n",
              "      <td>NaN</td>\n",
              "      <td>NaN</td>\n",
              "      <td>NaN</td>\n",
              "      <td>NaN</td>\n",
              "      <td>NaN</td>\n",
              "      <td>NaN</td>\n",
              "      <td>NaN</td>\n",
              "      <td>NaN</td>\n",
              "      <td>NaN</td>\n",
              "      <td>NaN</td>\n",
              "      <td>NaN</td>\n",
              "      <td>NaN</td>\n",
              "      <td>NaN</td>\n",
              "      <td>NaN</td>\n",
              "      <td>NaN</td>\n",
              "      <td>...</td>\n",
              "      <td>0</td>\n",
              "      <td>0</td>\n",
              "      <td>0</td>\n",
              "      <td>0</td>\n",
              "      <td>0</td>\n",
              "      <td>0</td>\n",
              "      <td>0</td>\n",
              "      <td>0</td>\n",
              "      <td>0</td>\n",
              "      <td>0</td>\n",
              "      <td>0</td>\n",
              "      <td>0</td>\n",
              "      <td>0</td>\n",
              "      <td>0</td>\n",
              "      <td>0</td>\n",
              "      <td>0</td>\n",
              "      <td>0</td>\n",
              "      <td>0</td>\n",
              "      <td>0</td>\n",
              "      <td>0</td>\n",
              "      <td>0</td>\n",
              "      <td>0</td>\n",
              "      <td>0</td>\n",
              "      <td>0</td>\n",
              "      <td>0</td>\n",
              "      <td>0</td>\n",
              "      <td>0</td>\n",
              "      <td>0</td>\n",
              "      <td>1</td>\n",
              "      <td>0</td>\n",
              "      <td>0</td>\n",
              "      <td>0</td>\n",
              "      <td>0</td>\n",
              "      <td>0</td>\n",
              "      <td>0</td>\n",
              "      <td>0</td>\n",
              "      <td>0</td>\n",
              "      <td>0</td>\n",
              "      <td>0</td>\n",
              "      <td>10.800000</td>\n",
              "    </tr>\n",
              "  </tbody>\n",
              "</table>\n",
              "<p>5509 rows × 161 columns</p>\n",
              "</div>"
            ],
            "text/plain": [
              "                                     alias  ... hp_per_lvl\n",
              "alias                                       ...           \n",
              "admiring_allen              admiring_allen  ...   7.000000\n",
              "admiring_almeida          admiring_almeida  ...   5.750000\n",
              "admiring_antonelli      admiring_antonelli  ...   4.571429\n",
              "admiring_archimedes    admiring_archimedes  ...   9.333333\n",
              "admiring_ardinghelli  admiring_ardinghelli  ...   4.181818\n",
              "...                                    ...  ...        ...\n",
              "zen_williams                  zen_williams  ...   8.500000\n",
              "zen_wing                          zen_wing  ...   9.000000\n",
              "zen_wozniak                    zen_wozniak  ...   9.133333\n",
              "zen_wu                              zen_wu  ...   8.000000\n",
              "zen_yalow                        zen_yalow  ...  10.800000\n",
              "\n",
              "[5509 rows x 161 columns]"
            ]
          },
          "metadata": {
            "tags": []
          },
          "execution_count": 5
        }
      ]
    },
    {
      "cell_type": "markdown",
      "metadata": {
        "id": "FT12XTANqWrQ",
        "colab_type": "text"
      },
      "source": [
        "## Clean and filter data"
      ]
    },
    {
      "cell_type": "code",
      "metadata": {
        "id": "52GMeiWGwNQg",
        "colab_type": "code",
        "colab": {
          "base_uri": "https://localhost:8080/",
          "height": 34
        },
        "outputId": "203afbda-4c2c-4304-8501-f64afd7fba81"
      },
      "source": [
        "# focus on only single class characters, i.e. remove multi-classes\n",
        "num_classes = clean_df[class_list].apply(lambda x: x.count(), axis=1)\n",
        "print('removing', len(clean_df[num_classes != 1]), 'multi-class (or zero class) entries')\n",
        "no_multi_df = clean_df[num_classes == 1]"
      ],
      "execution_count": 6,
      "outputs": [
        {
          "output_type": "stream",
          "text": [
            "removing 676 multi-class (or zero class) entries\n"
          ],
          "name": "stdout"
        }
      ]
    },
    {
      "cell_type": "code",
      "metadata": {
        "id": "Kin1ojxowVHj",
        "colab_type": "code",
        "colab": {
          "base_uri": "https://localhost:8080/",
          "height": 34
        },
        "outputId": "664a042e-100f-49aa-e6f7-2d3960c6003a"
      },
      "source": [
        "# Artificer class is a recent addition with only 60 entries--too few to reasonably train the model, ignore for now\n",
        "print('removing', len(no_multi_df[no_multi_df['Artificer.level'].notnull()]), 'Artificer entries')\n",
        "no_artificer_df = no_multi_df[~no_multi_df['Artificer.level'].notnull()]"
      ],
      "execution_count": 7,
      "outputs": [
        {
          "output_type": "stream",
          "text": [
            "removing 43 Artificer entries\n"
          ],
          "name": "stdout"
        }
      ]
    },
    {
      "cell_type": "code",
      "metadata": {
        "id": "76gbpySqwYj-",
        "colab_type": "code",
        "colab": {}
      },
      "source": [
        "# clean up further by removing redundant columns (with new class1 and level1 labels)\n",
        "keep = ['alias',\n",
        "        'background',\n",
        "        'feats',\n",
        "        'HP', 'AC', 'hp_per_lvl',\n",
        "        'Str', 'Dex', 'Con', 'Int', 'Wis', 'Cha',\n",
        "        'processedAlignment',\n",
        "        'skills', \n",
        "        'class1','level1',\n",
        "        'castingStat_Cha', 'castingStat_Con', 'castingStat_Dex', 'castingStat_Int',\t'castingStat_Str',\t'castingStat_Wis',\n",
        "        'num_spells'] + [x for x in processedRace.columns]\n",
        "\n",
        "\n",
        "no_artificer_df = no_artificer_df[keep]"
      ],
      "execution_count": 8,
      "outputs": []
    },
    {
      "cell_type": "code",
      "metadata": {
        "id": "AjGv-i6SwhOX",
        "colab_type": "code",
        "colab": {
          "base_uri": "https://localhost:8080/",
          "height": 336
        },
        "outputId": "0e030f9c-467b-4138-9356-1b44ecf06ad9"
      },
      "source": [
        "# HP outliers\n",
        "hp_per_level = no_artificer_df['hp_per_lvl']\n",
        "\n",
        "boxplot = plt.boxplot(hp_per_level)\n",
        "whiskers = [x.get_ydata()[1] for x in boxplot['whiskers']] # gives the 1.5*iqr whisker boundaries\n",
        "\n",
        "n_small_outliers = len(hp_per_level[hp_per_level < whiskers[0]])\n",
        "n_large_outliers = len(hp_per_level[hp_per_level > whiskers[1]])\n",
        "n_outliers = n_small_outliers + n_large_outliers\n",
        "\n",
        "print(f'removing {n_outliers} entries with HP / level < {whiskers[0]} and HP / level > {whiskers[1]}')\n",
        "no_artificer_df = no_artificer_df[hp_per_level >= whiskers[0]]\n",
        "no_artificer_df = no_artificer_df[hp_per_level <= whiskers[1]]"
      ],
      "execution_count": 9,
      "outputs": [
        {
          "output_type": "stream",
          "text": [
            "removing 53 entries with HP / level < 2.3333333333333335 and HP / level > 16.0\n"
          ],
          "name": "stdout"
        },
        {
          "output_type": "stream",
          "text": [
            "/usr/local/lib/python3.6/dist-packages/ipykernel_launcher.py:13: UserWarning: Boolean Series key will be reindexed to match DataFrame index.\n",
            "  del sys.path[0]\n"
          ],
          "name": "stderr"
        },
        {
          "output_type": "display_data",
          "data": {
            "image/png": "[encoded data removed]",
            "text/plain": [
              "<Figure size 432x288 with 1 Axes>"
            ]
          },
          "metadata": {
            "tags": [],
            "needs_background": "light"
          }
        }
      ]
    },
    {
      "cell_type": "code",
      "metadata": {
        "id": "fsoWDAleqaLD",
        "colab_type": "code",
        "colab": {
          "base_uri": "https://localhost:8080/",
          "height": 555
        },
        "outputId": "c7451295-86f7-4f28-dff5-cf9820751e77"
      },
      "source": [
        "# set main_df as primary DataFrame for modeling (lol) didn't use clean_df because it broke some of the cells below\n",
        "main_df = no_artificer_df\n",
        "main_df"
      ],
      "execution_count": 10,
      "outputs": [
        {
          "output_type": "execute_result",
          "data": {
            "text/html": [
              "<div>\n",
              "<style scoped>\n",
              "    .dataframe tbody tr th:only-of-type {\n",
              "        vertical-align: middle;\n",
              "    }\n",
              "\n",
              "    .dataframe tbody tr th {\n",
              "        vertical-align: top;\n",
              "    }\n",
              "\n",
              "    .dataframe thead th {\n",
              "        text-align: right;\n",
              "    }\n",
              "</style>\n",
              "<table border=\"1\" class=\"dataframe\">\n",
              "  <thead>\n",
              "    <tr style=\"text-align: right;\">\n",
              "      <th></th>\n",
              "      <th>alias</th>\n",
              "      <th>background</th>\n",
              "      <th>feats</th>\n",
              "      <th>HP</th>\n",
              "      <th>AC</th>\n",
              "      <th>hp_per_lvl</th>\n",
              "      <th>Str</th>\n",
              "      <th>Dex</th>\n",
              "      <th>Con</th>\n",
              "      <th>Int</th>\n",
              "      <th>Wis</th>\n",
              "      <th>Cha</th>\n",
              "      <th>processedAlignment</th>\n",
              "      <th>skills</th>\n",
              "      <th>class1</th>\n",
              "      <th>level1</th>\n",
              "      <th>castingStat_Cha</th>\n",
              "      <th>castingStat_Con</th>\n",
              "      <th>castingStat_Dex</th>\n",
              "      <th>castingStat_Int</th>\n",
              "      <th>castingStat_Str</th>\n",
              "      <th>castingStat_Wis</th>\n",
              "      <th>num_spells</th>\n",
              "      <th>processedRace_</th>\n",
              "      <th>processedRace_Aarakocra</th>\n",
              "      <th>processedRace_Aasimar</th>\n",
              "      <th>processedRace_Bugbear</th>\n",
              "      <th>processedRace_Centaur</th>\n",
              "      <th>processedRace_Changeling</th>\n",
              "      <th>processedRace_Dragonborn</th>\n",
              "      <th>processedRace_Dwarf</th>\n",
              "      <th>processedRace_Eladrin</th>\n",
              "      <th>processedRace_Elf</th>\n",
              "      <th>processedRace_Firbolg</th>\n",
              "      <th>processedRace_Genasi</th>\n",
              "      <th>processedRace_Gith</th>\n",
              "      <th>processedRace_Gnome</th>\n",
              "      <th>processedRace_Goblin</th>\n",
              "      <th>processedRace_Goliath</th>\n",
              "      <th>processedRace_Half-Elf</th>\n",
              "      <th>processedRace_Half-Orc</th>\n",
              "      <th>processedRace_Halfling</th>\n",
              "      <th>processedRace_Hobgoblin</th>\n",
              "      <th>processedRace_Human</th>\n",
              "      <th>processedRace_Kalashtar</th>\n",
              "      <th>processedRace_Kenku</th>\n",
              "      <th>processedRace_Kobold</th>\n",
              "      <th>processedRace_Lizardfolk</th>\n",
              "      <th>processedRace_Loxodon</th>\n",
              "      <th>processedRace_Minotaur</th>\n",
              "      <th>processedRace_Orc</th>\n",
              "      <th>processedRace_Shifter</th>\n",
              "      <th>processedRace_Simic hybrid</th>\n",
              "      <th>processedRace_Tabaxi</th>\n",
              "      <th>processedRace_Tiefling</th>\n",
              "      <th>processedRace_Triton</th>\n",
              "      <th>processedRace_Turtle</th>\n",
              "      <th>processedRace_Vedalken</th>\n",
              "      <th>processedRace_Warforged</th>\n",
              "      <th>processedRace_Yaun-Ti</th>\n",
              "    </tr>\n",
              "    <tr>\n",
              "      <th>alias</th>\n",
              "      <th></th>\n",
              "      <th></th>\n",
              "      <th></th>\n",
              "      <th></th>\n",
              "      <th></th>\n",
              "      <th></th>\n",
              "      <th></th>\n",
              "      <th></th>\n",
              "      <th></th>\n",
              "      <th></th>\n",
              "      <th></th>\n",
              "      <th></th>\n",
              "      <th></th>\n",
              "      <th></th>\n",
              "      <th></th>\n",
              "      <th></th>\n",
              "      <th></th>\n",
              "      <th></th>\n",
              "      <th></th>\n",
              "      <th></th>\n",
              "      <th></th>\n",
              "      <th></th>\n",
              "      <th></th>\n",
              "      <th></th>\n",
              "      <th></th>\n",
              "      <th></th>\n",
              "      <th></th>\n",
              "      <th></th>\n",
              "      <th></th>\n",
              "      <th></th>\n",
              "      <th></th>\n",
              "      <th></th>\n",
              "      <th></th>\n",
              "      <th></th>\n",
              "      <th></th>\n",
              "      <th></th>\n",
              "      <th></th>\n",
              "      <th></th>\n",
              "      <th></th>\n",
              "      <th></th>\n",
              "      <th></th>\n",
              "      <th></th>\n",
              "      <th></th>\n",
              "      <th></th>\n",
              "      <th></th>\n",
              "      <th></th>\n",
              "      <th></th>\n",
              "      <th></th>\n",
              "      <th></th>\n",
              "      <th></th>\n",
              "      <th></th>\n",
              "      <th></th>\n",
              "      <th></th>\n",
              "      <th></th>\n",
              "      <th></th>\n",
              "      <th></th>\n",
              "      <th></th>\n",
              "      <th></th>\n",
              "      <th></th>\n",
              "      <th></th>\n",
              "    </tr>\n",
              "  </thead>\n",
              "  <tbody>\n",
              "    <tr>\n",
              "      <th>admiring_allen</th>\n",
              "      <td>admiring_allen</td>\n",
              "      <td>Sage</td>\n",
              "      <td>NaN</td>\n",
              "      <td>7</td>\n",
              "      <td>13</td>\n",
              "      <td>7.000000</td>\n",
              "      <td>10</td>\n",
              "      <td>16</td>\n",
              "      <td>13</td>\n",
              "      <td>16</td>\n",
              "      <td>12</td>\n",
              "      <td>8</td>\n",
              "      <td>NG</td>\n",
              "      <td>Arcana</td>\n",
              "      <td>Wizard</td>\n",
              "      <td>1.0</td>\n",
              "      <td>0</td>\n",
              "      <td>0</td>\n",
              "      <td>0</td>\n",
              "      <td>1</td>\n",
              "      <td>0</td>\n",
              "      <td>0</td>\n",
              "      <td>0</td>\n",
              "      <td>0</td>\n",
              "      <td>0</td>\n",
              "      <td>0</td>\n",
              "      <td>0</td>\n",
              "      <td>0</td>\n",
              "      <td>0</td>\n",
              "      <td>0</td>\n",
              "      <td>0</td>\n",
              "      <td>0</td>\n",
              "      <td>0</td>\n",
              "      <td>0</td>\n",
              "      <td>0</td>\n",
              "      <td>0</td>\n",
              "      <td>1</td>\n",
              "      <td>0</td>\n",
              "      <td>0</td>\n",
              "      <td>0</td>\n",
              "      <td>0</td>\n",
              "      <td>0</td>\n",
              "      <td>0</td>\n",
              "      <td>0</td>\n",
              "      <td>0</td>\n",
              "      <td>0</td>\n",
              "      <td>0</td>\n",
              "      <td>0</td>\n",
              "      <td>0</td>\n",
              "      <td>0</td>\n",
              "      <td>0</td>\n",
              "      <td>0</td>\n",
              "      <td>0</td>\n",
              "      <td>0</td>\n",
              "      <td>0</td>\n",
              "      <td>0</td>\n",
              "      <td>0</td>\n",
              "      <td>0</td>\n",
              "      <td>0</td>\n",
              "      <td>0</td>\n",
              "    </tr>\n",
              "    <tr>\n",
              "      <th>admiring_almeida</th>\n",
              "      <td>admiring_almeida</td>\n",
              "      <td>Cloistered Scholar</td>\n",
              "      <td>Elemental Adept</td>\n",
              "      <td>23</td>\n",
              "      <td>12</td>\n",
              "      <td>5.750000</td>\n",
              "      <td>8</td>\n",
              "      <td>14</td>\n",
              "      <td>12</td>\n",
              "      <td>19</td>\n",
              "      <td>15</td>\n",
              "      <td>13</td>\n",
              "      <td>NN</td>\n",
              "      <td>Arcana</td>\n",
              "      <td>Wizard</td>\n",
              "      <td>4.0</td>\n",
              "      <td>0</td>\n",
              "      <td>0</td>\n",
              "      <td>0</td>\n",
              "      <td>1</td>\n",
              "      <td>0</td>\n",
              "      <td>0</td>\n",
              "      <td>19</td>\n",
              "      <td>0</td>\n",
              "      <td>0</td>\n",
              "      <td>0</td>\n",
              "      <td>0</td>\n",
              "      <td>0</td>\n",
              "      <td>0</td>\n",
              "      <td>0</td>\n",
              "      <td>0</td>\n",
              "      <td>0</td>\n",
              "      <td>0</td>\n",
              "      <td>0</td>\n",
              "      <td>1</td>\n",
              "      <td>0</td>\n",
              "      <td>0</td>\n",
              "      <td>0</td>\n",
              "      <td>0</td>\n",
              "      <td>0</td>\n",
              "      <td>0</td>\n",
              "      <td>0</td>\n",
              "      <td>0</td>\n",
              "      <td>0</td>\n",
              "      <td>0</td>\n",
              "      <td>0</td>\n",
              "      <td>0</td>\n",
              "      <td>0</td>\n",
              "      <td>0</td>\n",
              "      <td>0</td>\n",
              "      <td>0</td>\n",
              "      <td>0</td>\n",
              "      <td>0</td>\n",
              "      <td>0</td>\n",
              "      <td>0</td>\n",
              "      <td>0</td>\n",
              "      <td>0</td>\n",
              "      <td>0</td>\n",
              "      <td>0</td>\n",
              "      <td>0</td>\n",
              "    </tr>\n",
              "    <tr>\n",
              "      <th>admiring_archimedes</th>\n",
              "      <td>admiring_archimedes</td>\n",
              "      <td>Faction Agent</td>\n",
              "      <td>NaN</td>\n",
              "      <td>28</td>\n",
              "      <td>18</td>\n",
              "      <td>9.333333</td>\n",
              "      <td>15</td>\n",
              "      <td>12</td>\n",
              "      <td>14</td>\n",
              "      <td>10</td>\n",
              "      <td>8</td>\n",
              "      <td>17</td>\n",
              "      <td></td>\n",
              "      <td>Athletics</td>\n",
              "      <td>Paladin</td>\n",
              "      <td>3.0</td>\n",
              "      <td>1</td>\n",
              "      <td>0</td>\n",
              "      <td>0</td>\n",
              "      <td>0</td>\n",
              "      <td>0</td>\n",
              "      <td>0</td>\n",
              "      <td>2</td>\n",
              "      <td>0</td>\n",
              "      <td>0</td>\n",
              "      <td>0</td>\n",
              "      <td>0</td>\n",
              "      <td>0</td>\n",
              "      <td>0</td>\n",
              "      <td>0</td>\n",
              "      <td>0</td>\n",
              "      <td>0</td>\n",
              "      <td>0</td>\n",
              "      <td>0</td>\n",
              "      <td>0</td>\n",
              "      <td>0</td>\n",
              "      <td>0</td>\n",
              "      <td>0</td>\n",
              "      <td>0</td>\n",
              "      <td>1</td>\n",
              "      <td>0</td>\n",
              "      <td>0</td>\n",
              "      <td>0</td>\n",
              "      <td>0</td>\n",
              "      <td>0</td>\n",
              "      <td>0</td>\n",
              "      <td>0</td>\n",
              "      <td>0</td>\n",
              "      <td>0</td>\n",
              "      <td>0</td>\n",
              "      <td>0</td>\n",
              "      <td>0</td>\n",
              "      <td>0</td>\n",
              "      <td>0</td>\n",
              "      <td>0</td>\n",
              "      <td>0</td>\n",
              "      <td>0</td>\n",
              "      <td>0</td>\n",
              "      <td>0</td>\n",
              "      <td>0</td>\n",
              "    </tr>\n",
              "    <tr>\n",
              "      <th>admiring_ardinghelli</th>\n",
              "      <td>admiring_ardinghelli</td>\n",
              "      <td>Sage</td>\n",
              "      <td>NaN</td>\n",
              "      <td>46</td>\n",
              "      <td>13</td>\n",
              "      <td>4.181818</td>\n",
              "      <td>10</td>\n",
              "      <td>14</td>\n",
              "      <td>11</td>\n",
              "      <td>13</td>\n",
              "      <td>16</td>\n",
              "      <td>15</td>\n",
              "      <td></td>\n",
              "      <td>Arcana</td>\n",
              "      <td>Wizard</td>\n",
              "      <td>11.0</td>\n",
              "      <td>0</td>\n",
              "      <td>0</td>\n",
              "      <td>0</td>\n",
              "      <td>1</td>\n",
              "      <td>0</td>\n",
              "      <td>0</td>\n",
              "      <td>21</td>\n",
              "      <td>0</td>\n",
              "      <td>0</td>\n",
              "      <td>0</td>\n",
              "      <td>0</td>\n",
              "      <td>0</td>\n",
              "      <td>0</td>\n",
              "      <td>0</td>\n",
              "      <td>0</td>\n",
              "      <td>0</td>\n",
              "      <td>0</td>\n",
              "      <td>0</td>\n",
              "      <td>0</td>\n",
              "      <td>0</td>\n",
              "      <td>0</td>\n",
              "      <td>0</td>\n",
              "      <td>0</td>\n",
              "      <td>0</td>\n",
              "      <td>0</td>\n",
              "      <td>1</td>\n",
              "      <td>0</td>\n",
              "      <td>0</td>\n",
              "      <td>0</td>\n",
              "      <td>0</td>\n",
              "      <td>0</td>\n",
              "      <td>0</td>\n",
              "      <td>0</td>\n",
              "      <td>0</td>\n",
              "      <td>0</td>\n",
              "      <td>0</td>\n",
              "      <td>0</td>\n",
              "      <td>0</td>\n",
              "      <td>0</td>\n",
              "      <td>0</td>\n",
              "      <td>0</td>\n",
              "      <td>0</td>\n",
              "      <td>0</td>\n",
              "      <td>0</td>\n",
              "    </tr>\n",
              "    <tr>\n",
              "      <th>admiring_banach</th>\n",
              "      <td>admiring_banach</td>\n",
              "      <td>Acolyte</td>\n",
              "      <td>NaN</td>\n",
              "      <td>27</td>\n",
              "      <td>17</td>\n",
              "      <td>6.750000</td>\n",
              "      <td>10</td>\n",
              "      <td>18</td>\n",
              "      <td>12</td>\n",
              "      <td>10</td>\n",
              "      <td>16</td>\n",
              "      <td>11</td>\n",
              "      <td></td>\n",
              "      <td>Acrobatics</td>\n",
              "      <td>Monk</td>\n",
              "      <td>4.0</td>\n",
              "      <td>0</td>\n",
              "      <td>0</td>\n",
              "      <td>0</td>\n",
              "      <td>1</td>\n",
              "      <td>0</td>\n",
              "      <td>0</td>\n",
              "      <td>0</td>\n",
              "      <td>0</td>\n",
              "      <td>0</td>\n",
              "      <td>0</td>\n",
              "      <td>0</td>\n",
              "      <td>0</td>\n",
              "      <td>0</td>\n",
              "      <td>0</td>\n",
              "      <td>0</td>\n",
              "      <td>0</td>\n",
              "      <td>1</td>\n",
              "      <td>0</td>\n",
              "      <td>0</td>\n",
              "      <td>0</td>\n",
              "      <td>0</td>\n",
              "      <td>0</td>\n",
              "      <td>0</td>\n",
              "      <td>0</td>\n",
              "      <td>0</td>\n",
              "      <td>0</td>\n",
              "      <td>0</td>\n",
              "      <td>0</td>\n",
              "      <td>0</td>\n",
              "      <td>0</td>\n",
              "      <td>0</td>\n",
              "      <td>0</td>\n",
              "      <td>0</td>\n",
              "      <td>0</td>\n",
              "      <td>0</td>\n",
              "      <td>0</td>\n",
              "      <td>0</td>\n",
              "      <td>0</td>\n",
              "      <td>0</td>\n",
              "      <td>0</td>\n",
              "      <td>0</td>\n",
              "      <td>0</td>\n",
              "      <td>0</td>\n",
              "      <td>0</td>\n",
              "    </tr>\n",
              "    <tr>\n",
              "      <th>...</th>\n",
              "      <td>...</td>\n",
              "      <td>...</td>\n",
              "      <td>...</td>\n",
              "      <td>...</td>\n",
              "      <td>...</td>\n",
              "      <td>...</td>\n",
              "      <td>...</td>\n",
              "      <td>...</td>\n",
              "      <td>...</td>\n",
              "      <td>...</td>\n",
              "      <td>...</td>\n",
              "      <td>...</td>\n",
              "      <td>...</td>\n",
              "      <td>...</td>\n",
              "      <td>...</td>\n",
              "      <td>...</td>\n",
              "      <td>...</td>\n",
              "      <td>...</td>\n",
              "      <td>...</td>\n",
              "      <td>...</td>\n",
              "      <td>...</td>\n",
              "      <td>...</td>\n",
              "      <td>...</td>\n",
              "      <td>...</td>\n",
              "      <td>...</td>\n",
              "      <td>...</td>\n",
              "      <td>...</td>\n",
              "      <td>...</td>\n",
              "      <td>...</td>\n",
              "      <td>...</td>\n",
              "      <td>...</td>\n",
              "      <td>...</td>\n",
              "      <td>...</td>\n",
              "      <td>...</td>\n",
              "      <td>...</td>\n",
              "      <td>...</td>\n",
              "      <td>...</td>\n",
              "      <td>...</td>\n",
              "      <td>...</td>\n",
              "      <td>...</td>\n",
              "      <td>...</td>\n",
              "      <td>...</td>\n",
              "      <td>...</td>\n",
              "      <td>...</td>\n",
              "      <td>...</td>\n",
              "      <td>...</td>\n",
              "      <td>...</td>\n",
              "      <td>...</td>\n",
              "      <td>...</td>\n",
              "      <td>...</td>\n",
              "      <td>...</td>\n",
              "      <td>...</td>\n",
              "      <td>...</td>\n",
              "      <td>...</td>\n",
              "      <td>...</td>\n",
              "      <td>...</td>\n",
              "      <td>...</td>\n",
              "      <td>...</td>\n",
              "      <td>...</td>\n",
              "      <td>...</td>\n",
              "    </tr>\n",
              "    <tr>\n",
              "      <th>zen_williams</th>\n",
              "      <td>zen_williams</td>\n",
              "      <td>Clan Crafter</td>\n",
              "      <td>Grappler</td>\n",
              "      <td>51</td>\n",
              "      <td>18</td>\n",
              "      <td>8.500000</td>\n",
              "      <td>19</td>\n",
              "      <td>15</td>\n",
              "      <td>18</td>\n",
              "      <td>11</td>\n",
              "      <td>11</td>\n",
              "      <td>12</td>\n",
              "      <td>LG</td>\n",
              "      <td>History</td>\n",
              "      <td>Barbarian</td>\n",
              "      <td>6.0</td>\n",
              "      <td>0</td>\n",
              "      <td>0</td>\n",
              "      <td>0</td>\n",
              "      <td>1</td>\n",
              "      <td>0</td>\n",
              "      <td>0</td>\n",
              "      <td>0</td>\n",
              "      <td>0</td>\n",
              "      <td>0</td>\n",
              "      <td>0</td>\n",
              "      <td>0</td>\n",
              "      <td>0</td>\n",
              "      <td>0</td>\n",
              "      <td>0</td>\n",
              "      <td>1</td>\n",
              "      <td>0</td>\n",
              "      <td>0</td>\n",
              "      <td>0</td>\n",
              "      <td>0</td>\n",
              "      <td>0</td>\n",
              "      <td>0</td>\n",
              "      <td>0</td>\n",
              "      <td>0</td>\n",
              "      <td>0</td>\n",
              "      <td>0</td>\n",
              "      <td>0</td>\n",
              "      <td>0</td>\n",
              "      <td>0</td>\n",
              "      <td>0</td>\n",
              "      <td>0</td>\n",
              "      <td>0</td>\n",
              "      <td>0</td>\n",
              "      <td>0</td>\n",
              "      <td>0</td>\n",
              "      <td>0</td>\n",
              "      <td>0</td>\n",
              "      <td>0</td>\n",
              "      <td>0</td>\n",
              "      <td>0</td>\n",
              "      <td>0</td>\n",
              "      <td>0</td>\n",
              "      <td>0</td>\n",
              "      <td>0</td>\n",
              "      <td>0</td>\n",
              "    </tr>\n",
              "    <tr>\n",
              "      <th>zen_wing</th>\n",
              "      <td>zen_wing</td>\n",
              "      <td>Acolyte</td>\n",
              "      <td>NaN</td>\n",
              "      <td>45</td>\n",
              "      <td>17</td>\n",
              "      <td>9.000000</td>\n",
              "      <td>11</td>\n",
              "      <td>19</td>\n",
              "      <td>13</td>\n",
              "      <td>13</td>\n",
              "      <td>16</td>\n",
              "      <td>11</td>\n",
              "      <td>NG</td>\n",
              "      <td>Acrobatics</td>\n",
              "      <td>Monk</td>\n",
              "      <td>5.0</td>\n",
              "      <td>0</td>\n",
              "      <td>0</td>\n",
              "      <td>0</td>\n",
              "      <td>1</td>\n",
              "      <td>0</td>\n",
              "      <td>0</td>\n",
              "      <td>0</td>\n",
              "      <td>0</td>\n",
              "      <td>0</td>\n",
              "      <td>0</td>\n",
              "      <td>0</td>\n",
              "      <td>0</td>\n",
              "      <td>0</td>\n",
              "      <td>0</td>\n",
              "      <td>0</td>\n",
              "      <td>0</td>\n",
              "      <td>1</td>\n",
              "      <td>0</td>\n",
              "      <td>0</td>\n",
              "      <td>0</td>\n",
              "      <td>0</td>\n",
              "      <td>0</td>\n",
              "      <td>0</td>\n",
              "      <td>0</td>\n",
              "      <td>0</td>\n",
              "      <td>0</td>\n",
              "      <td>0</td>\n",
              "      <td>0</td>\n",
              "      <td>0</td>\n",
              "      <td>0</td>\n",
              "      <td>0</td>\n",
              "      <td>0</td>\n",
              "      <td>0</td>\n",
              "      <td>0</td>\n",
              "      <td>0</td>\n",
              "      <td>0</td>\n",
              "      <td>0</td>\n",
              "      <td>0</td>\n",
              "      <td>0</td>\n",
              "      <td>0</td>\n",
              "      <td>0</td>\n",
              "      <td>0</td>\n",
              "      <td>0</td>\n",
              "      <td>0</td>\n",
              "    </tr>\n",
              "    <tr>\n",
              "      <th>zen_wozniak</th>\n",
              "      <td>zen_wozniak</td>\n",
              "      <td>Sage</td>\n",
              "      <td>War Caster</td>\n",
              "      <td>137</td>\n",
              "      <td>17</td>\n",
              "      <td>9.133333</td>\n",
              "      <td>12</td>\n",
              "      <td>19</td>\n",
              "      <td>18</td>\n",
              "      <td>21</td>\n",
              "      <td>13</td>\n",
              "      <td>13</td>\n",
              "      <td></td>\n",
              "      <td>Arcana</td>\n",
              "      <td>Wizard</td>\n",
              "      <td>15.0</td>\n",
              "      <td>0</td>\n",
              "      <td>0</td>\n",
              "      <td>0</td>\n",
              "      <td>1</td>\n",
              "      <td>0</td>\n",
              "      <td>0</td>\n",
              "      <td>54</td>\n",
              "      <td>0</td>\n",
              "      <td>0</td>\n",
              "      <td>0</td>\n",
              "      <td>0</td>\n",
              "      <td>0</td>\n",
              "      <td>0</td>\n",
              "      <td>0</td>\n",
              "      <td>0</td>\n",
              "      <td>0</td>\n",
              "      <td>1</td>\n",
              "      <td>0</td>\n",
              "      <td>0</td>\n",
              "      <td>0</td>\n",
              "      <td>0</td>\n",
              "      <td>0</td>\n",
              "      <td>0</td>\n",
              "      <td>0</td>\n",
              "      <td>0</td>\n",
              "      <td>0</td>\n",
              "      <td>0</td>\n",
              "      <td>0</td>\n",
              "      <td>0</td>\n",
              "      <td>0</td>\n",
              "      <td>0</td>\n",
              "      <td>0</td>\n",
              "      <td>0</td>\n",
              "      <td>0</td>\n",
              "      <td>0</td>\n",
              "      <td>0</td>\n",
              "      <td>0</td>\n",
              "      <td>0</td>\n",
              "      <td>0</td>\n",
              "      <td>0</td>\n",
              "      <td>0</td>\n",
              "      <td>0</td>\n",
              "      <td>0</td>\n",
              "      <td>0</td>\n",
              "    </tr>\n",
              "    <tr>\n",
              "      <th>zen_wu</th>\n",
              "      <td>zen_wu</td>\n",
              "      <td>Entertainer</td>\n",
              "      <td>NaN</td>\n",
              "      <td>40</td>\n",
              "      <td>13</td>\n",
              "      <td>8.000000</td>\n",
              "      <td>14</td>\n",
              "      <td>15</td>\n",
              "      <td>10</td>\n",
              "      <td>16</td>\n",
              "      <td>16</td>\n",
              "      <td>19</td>\n",
              "      <td>LG</td>\n",
              "      <td>Acrobatics</td>\n",
              "      <td>Bard</td>\n",
              "      <td>5.0</td>\n",
              "      <td>1</td>\n",
              "      <td>0</td>\n",
              "      <td>0</td>\n",
              "      <td>0</td>\n",
              "      <td>0</td>\n",
              "      <td>0</td>\n",
              "      <td>0</td>\n",
              "      <td>0</td>\n",
              "      <td>0</td>\n",
              "      <td>0</td>\n",
              "      <td>0</td>\n",
              "      <td>0</td>\n",
              "      <td>0</td>\n",
              "      <td>0</td>\n",
              "      <td>0</td>\n",
              "      <td>0</td>\n",
              "      <td>0</td>\n",
              "      <td>0</td>\n",
              "      <td>0</td>\n",
              "      <td>0</td>\n",
              "      <td>0</td>\n",
              "      <td>0</td>\n",
              "      <td>0</td>\n",
              "      <td>0</td>\n",
              "      <td>0</td>\n",
              "      <td>0</td>\n",
              "      <td>0</td>\n",
              "      <td>0</td>\n",
              "      <td>0</td>\n",
              "      <td>0</td>\n",
              "      <td>0</td>\n",
              "      <td>0</td>\n",
              "      <td>0</td>\n",
              "      <td>0</td>\n",
              "      <td>0</td>\n",
              "      <td>0</td>\n",
              "      <td>0</td>\n",
              "      <td>0</td>\n",
              "      <td>0</td>\n",
              "      <td>1</td>\n",
              "      <td>0</td>\n",
              "      <td>0</td>\n",
              "      <td>0</td>\n",
              "      <td>0</td>\n",
              "    </tr>\n",
              "    <tr>\n",
              "      <th>zen_yalow</th>\n",
              "      <td>zen_yalow</td>\n",
              "      <td>Outlander</td>\n",
              "      <td>Dual Wielder</td>\n",
              "      <td>54</td>\n",
              "      <td>17</td>\n",
              "      <td>10.800000</td>\n",
              "      <td>16</td>\n",
              "      <td>14</td>\n",
              "      <td>15</td>\n",
              "      <td>12</td>\n",
              "      <td>8</td>\n",
              "      <td>8</td>\n",
              "      <td></td>\n",
              "      <td>Athletics</td>\n",
              "      <td>Fighter</td>\n",
              "      <td>5.0</td>\n",
              "      <td>0</td>\n",
              "      <td>0</td>\n",
              "      <td>0</td>\n",
              "      <td>1</td>\n",
              "      <td>0</td>\n",
              "      <td>0</td>\n",
              "      <td>0</td>\n",
              "      <td>0</td>\n",
              "      <td>0</td>\n",
              "      <td>0</td>\n",
              "      <td>0</td>\n",
              "      <td>0</td>\n",
              "      <td>0</td>\n",
              "      <td>0</td>\n",
              "      <td>0</td>\n",
              "      <td>0</td>\n",
              "      <td>0</td>\n",
              "      <td>0</td>\n",
              "      <td>0</td>\n",
              "      <td>0</td>\n",
              "      <td>0</td>\n",
              "      <td>0</td>\n",
              "      <td>0</td>\n",
              "      <td>0</td>\n",
              "      <td>0</td>\n",
              "      <td>0</td>\n",
              "      <td>0</td>\n",
              "      <td>0</td>\n",
              "      <td>0</td>\n",
              "      <td>0</td>\n",
              "      <td>0</td>\n",
              "      <td>0</td>\n",
              "      <td>0</td>\n",
              "      <td>1</td>\n",
              "      <td>0</td>\n",
              "      <td>0</td>\n",
              "      <td>0</td>\n",
              "      <td>0</td>\n",
              "      <td>0</td>\n",
              "      <td>0</td>\n",
              "      <td>0</td>\n",
              "      <td>0</td>\n",
              "      <td>0</td>\n",
              "      <td>0</td>\n",
              "    </tr>\n",
              "  </tbody>\n",
              "</table>\n",
              "<p>4737 rows × 60 columns</p>\n",
              "</div>"
            ],
            "text/plain": [
              "                                     alias  ... processedRace_Yaun-Ti\n",
              "alias                                       ...                      \n",
              "admiring_allen              admiring_allen  ...                     0\n",
              "admiring_almeida          admiring_almeida  ...                     0\n",
              "admiring_archimedes    admiring_archimedes  ...                     0\n",
              "admiring_ardinghelli  admiring_ardinghelli  ...                     0\n",
              "admiring_banach            admiring_banach  ...                     0\n",
              "...                                    ...  ...                   ...\n",
              "zen_williams                  zen_williams  ...                     0\n",
              "zen_wing                          zen_wing  ...                     0\n",
              "zen_wozniak                    zen_wozniak  ...                     0\n",
              "zen_wu                              zen_wu  ...                     0\n",
              "zen_yalow                        zen_yalow  ...                     0\n",
              "\n",
              "[4737 rows x 60 columns]"
            ]
          },
          "metadata": {
            "tags": []
          },
          "execution_count": 10
        }
      ]
    },
    {
      "cell_type": "markdown",
      "metadata": {
        "id": "3NWBgzvkeCGm",
        "colab_type": "text"
      },
      "source": [
        "# Exploratory Data Analysis"
      ]
    },
    {
      "cell_type": "markdown",
      "metadata": {
        "id": "3sBdd_gVoiGF",
        "colab_type": "text"
      },
      "source": [
        "## Distributions"
      ]
    },
    {
      "cell_type": "markdown",
      "metadata": {
        "id": "XxqDXrOHm-3o",
        "colab_type": "text"
      },
      "source": [
        "### Number of multi-class"
      ]
    },
    {
      "cell_type": "code",
      "metadata": {
        "id": "IPEi-8J1tsFv",
        "colab_type": "code",
        "colab": {
          "base_uri": "https://localhost:8080/",
          "height": 442
        },
        "outputId": "9c41f024-52e1-4fdc-a26b-98058ce25278"
      },
      "source": [
        "num_classes = clean_df[class_list].apply(lambda x: x.count(), axis=1)\n",
        "\n",
        "fig = plt.figure(figsize=[10,7])\n",
        "ax = plt.subplot(111)\n",
        "\n",
        "ax.hist(num_classes, bins=13, range=(0,13), color='#0504aa', alpha=0.9, rwidth=0.85,align='left')\n",
        "ax.yaxis.grid(True)\n",
        "ax.set_axisbelow(True)\n",
        "ax.set_xlabel('Number of classes per character')\n",
        "ax.set_ylabel('Number of entries')\n",
        "\n",
        "plt.xticks(np.arange(min(num_classes), max(num_classes), 1.0))\n",
        "plt.show()\n",
        "# there are characters with multiple class entries, although predominantly only 1-class followed by 2-class"
      ],
      "execution_count": 11,
      "outputs": [
        {
          "output_type": "display_data",
          "data": {
            "image/png": "[encoded data removed]",
            "text/plain": [
              "<Figure size 720x504 with 1 Axes>"
            ]
          },
          "metadata": {
            "tags": [],
            "needs_background": "light"
          }
        }
      ]
    },
    {
      "cell_type": "markdown",
      "metadata": {
        "id": "nQ4sEzO0nFDG",
        "colab_type": "text"
      },
      "source": [
        "### Class distribution"
      ]
    },
    {
      "cell_type": "code",
      "metadata": {
        "id": "xKt9Cl1Xzo96",
        "colab_type": "code",
        "colab": {
          "base_uri": "https://localhost:8080/",
          "height": 458
        },
        "outputId": "1f379bc1-f92c-4b5a-8e81-28579d068805"
      },
      "source": [
        "classes = clean_df['class1'].value_counts().index\n",
        "class_counts = clean_df['class1'].value_counts().values\n",
        "\n",
        "fig = plt.figure(figsize=[10,7])\n",
        "ax = plt.subplot(111)\n",
        "\n",
        "ax.barh(classes, class_counts)\n",
        "ax.set_xlabel('Number of character entries')\n",
        "ax.set_ylabel('Character class')\n",
        "ax.set_title('Number of entries for each class')\n",
        "ax.invert_yaxis()\n",
        "ax.xaxis.grid(True)\n",
        "ax.set_axisbelow(True)"
      ],
      "execution_count": 12,
      "outputs": [
        {
          "output_type": "display_data",
          "data": {
            "image/png": "[encoded data removed]",
            "text/plain": [
              "<Figure size 720x504 with 1 Axes>"
            ]
          },
          "metadata": {
            "tags": [],
            "needs_background": "light"
          }
        }
      ]
    },
    {
      "cell_type": "markdown",
      "metadata": {
        "id": "Ab05jlOGoAb3",
        "colab_type": "text"
      },
      "source": [
        "### Attribute distributions"
      ]
    },
    {
      "cell_type": "code",
      "metadata": {
        "id": "vdM3DaPDD9rk",
        "colab_type": "code",
        "colab": {
          "base_uri": "https://localhost:8080/",
          "height": 518
        },
        "outputId": "0b53b515-27dc-47fd-e7e2-2fe4ab2e4a17"
      },
      "source": [
        "# get attribute data\n",
        "attributes = ['Str', 'Wis', 'Con', 'Cha', 'Int', 'Dex']\n",
        "attributes_data = clean_df[attributes]\n",
        "\n",
        "print(attributes_data.describe())\n",
        "\n",
        "if 0:\n",
        "    # 2d hists\n",
        "    for iattribute, attribute in enumerate(attributes):\n",
        "        plt.hist(attributes_data[attribute], bins=50, range=(0,50))\n",
        "        plt.xlabel(attribute)\n",
        "        plt.yscale('log')\n",
        "        plt.show()\n",
        "\n",
        "        for iattribute2, attribute2 in enumerate(attributes):\n",
        "            if iattribute2 > iattribute:\n",
        "                plt.hist2d(attributes_data[attribute], attributes_data[attribute2], bins=50, range=[(0,50),(0,50)])\n",
        "            plt.xlabel(attribute)\n",
        "            plt.ylabel(attribute2)\n",
        "            plt.show() \n",
        "    atts = []\n",
        "\n",
        "    # violin plots\n",
        "    for att in attributes:\n",
        "        atts.append(clean_df[att])\n",
        "\n",
        "    fig = plt.figure(figsize=[10,7])\n",
        "    ax = plt.subplot(111)\n",
        "    pos = [1, 2, 3, 4, 5, 6]\n",
        "\n",
        "    ax.violinplot(atts, positions=pos, showextrema=False)\n",
        "    ax.set_ylim(0,25)\n",
        "    ax.set_xticks(pos)\n",
        "    ax.set_xticklabels(attributes)\n",
        "\n",
        "    # box plot\n",
        "    #plt.boxplot(att_dfs, labels=attributes)\n",
        "    #plt.show()\n",
        "    \n",
        "    # per-class histograms\n",
        "    for cls in class_list:\n",
        "        cls_df = clean_df[clean_df[cls].notnull()]\n",
        "        atts = []\n",
        "        for att in attributes:\n",
        "            atts.append(cls_df[att])\n",
        "        plt.hist(atts, histtype='step', fill=False, bins=30, range=(0,30))\n",
        "        plt.legend(attributes)\n",
        "        plt.title(cls.split('.')[0])\n",
        "        plt.show()\n",
        "\n",
        "fig, axs = plt.subplots(2,4, figsize=(30, 10))\n",
        "derp = [(a,b) for a in (0,1) for b in (0,1,2,3)]\n",
        "for iatt, att in enumerate(attributes + ['HP','AC']):\n",
        "    n = 30\n",
        "    if att == 'HP':\n",
        "        n = 500\n",
        "    axs[derp[iatt][0], derp[iatt][1]].hist(clean_df[att], histtype='step', fill=True, alpha=0.5, bins=n, range=(0,n))\n",
        "    axs[derp[iatt][0], derp[iatt][1]].set_xlabel(att, fontsize=20)\n",
        "    axs[derp[iatt][0], derp[iatt][1]].set_ylabel('Number of entries', fontsize=20)\n",
        "\n",
        "plt.show()"
      ],
      "execution_count": 13,
      "outputs": [
        {
          "output_type": "stream",
          "text": [
            "               Str          Wis  ...          Int          Dex\n",
            "count  5509.000000  5509.000000  ...  5509.000000  5509.000000\n",
            "mean     12.850971    13.156653  ...    12.024868    14.738791\n",
            "std       4.087564     3.285545  ...     3.295140     3.266462\n",
            "min       1.000000     1.000000  ...     0.000000     3.000000\n",
            "25%      10.000000    11.000000  ...    10.000000    13.000000\n",
            "50%      12.000000    13.000000  ...    12.000000    15.000000\n",
            "75%      16.000000    15.000000  ...    14.000000    17.000000\n",
            "max     103.000000   100.000000  ...    99.000000   101.000000\n",
            "\n",
            "[8 rows x 6 columns]\n"
          ],
          "name": "stdout"
        },
        {
          "output_type": "display_data",
          "data": {
            "image/png": "[encoded data removed]",
            "text/plain": [
              "<Figure size 2160x720 with 8 Axes>"
            ]
          },
          "metadata": {
            "tags": [],
            "needs_background": "light"
          }
        }
      ]
    },
    {
      "cell_type": "code",
      "metadata": {
        "id": "MHf48jKQoV4j",
        "colab_type": "code",
        "colab": {
          "base_uri": "https://localhost:8080/",
          "height": 329
        },
        "outputId": "163a8032-8854-4e3d-e819-c1622ea08986"
      },
      "source": [
        "fig, axs = plt.subplots(2,4, figsize=(30, 10))\n",
        "derp = [(a,b) for a in (0,1) for b in (0,1,2,3)]\n",
        "for iatt, att in enumerate(attributes + ['HP','AC']):\n",
        "    axs[derp[iatt][0], derp[iatt][1]].scatter(clean_df['level'], clean_df[att])\n",
        "    axs[derp[iatt][0], derp[iatt][1]].set_xlabel('Character Level')\n",
        "    axs[derp[iatt][0], derp[iatt][1]].set_ylabel(att)\n",
        "    axs[derp[iatt][0], derp[iatt][1]].grid(True)\n",
        "    axs[derp[iatt][0], derp[iatt][1]].set_axisbelow(True)\n",
        "plt.show()"
      ],
      "execution_count": 14,
      "outputs": [
        {
          "output_type": "display_data",
          "data": {
            "image/png": "[encoded data removed]",
            "text/plain": [
              "<Figure size 2160x720 with 8 Axes>"
            ]
          },
          "metadata": {
            "tags": [],
            "needs_background": "light"
          }
        }
      ]
    },
    {
      "cell_type": "markdown",
      "metadata": {
        "id": "BM8bOgYSoJT0",
        "colab_type": "text"
      },
      "source": [
        "### HP distributions"
      ]
    },
    {
      "cell_type": "code",
      "metadata": {
        "id": "HVbbHbZsoL_M",
        "colab_type": "code",
        "colab": {
          "base_uri": "https://localhost:8080/",
          "height": 1000
        },
        "outputId": "6ab84e68-1dc5-433d-8f66-e76864f5df2b"
      },
      "source": [
        "plt.hist(clean_df['HP'], histtype='step', fill=False, bins=100, range=(0,1000))\n",
        "plt.show()\n",
        "\n",
        "plt.scatter(clean_df['level'], clean_df['HP'])\n",
        "plt.show()\n",
        "\n",
        "# hp correlated with level, consider hp / level\n",
        "\n",
        "hp_per_level = clean_df['HP'].divide(clean_df['level'])\n",
        "\n",
        "plt.hist(hp_per_level, histtype='step', fill=False, bins=100, range=(0,100))\n",
        "plt.show()\n",
        "\n",
        "plt.boxplot(hp_per_level)\n",
        "plt.show()"
      ],
      "execution_count": 15,
      "outputs": [
        {
          "output_type": "display_data",
          "data": {
            "image/png": "[encoded data removed]",
            "text/plain": [
              "<Figure size 432x288 with 1 Axes>"
            ]
          },
          "metadata": {
            "tags": [],
            "needs_background": "light"
          }
        },
        {
          "output_type": "display_data",
          "data": {
            "image/png": "[encoded data removed]",
            "text/plain": [
              "<Figure size 432x288 with 1 Axes>"
            ]
          },
          "metadata": {
            "tags": [],
            "needs_background": "light"
          }
        },
        {
          "output_type": "display_data",
          "data": {
            "image/png": "[encoded data removed]",
            "text/plain": [
              "<Figure size 432x288 with 1 Axes>"
            ]
          },
          "metadata": {
            "tags": [],
            "needs_background": "light"
          }
        },
        {
          "output_type": "display_data",
          "data": {
            "image/png": "[encoded data removed]",
            "text/plain": [
              "<Figure size 432x288 with 1 Axes>"
            ]
          },
          "metadata": {
            "tags": [],
            "needs_background": "light"
          }
        }
      ]
    },
    {
      "cell_type": "markdown",
      "metadata": {
        "id": "-kr2eDSVwhf0",
        "colab_type": "text"
      },
      "source": [
        "### AC distributions"
      ]
    },
    {
      "cell_type": "code",
      "metadata": {
        "id": "4UhJuBopweL1",
        "colab_type": "code",
        "colab": {
          "base_uri": "https://localhost:8080/",
          "height": 1000
        },
        "outputId": "4be92aa6-6ff3-41fd-8944-35b775b4f48a"
      },
      "source": [
        "plt.hist(clean_df['AC'], histtype='step', fill=False, bins=50, range=(0,50))\n",
        "plt.show()\n",
        "\n",
        "# for each class\n",
        "for cls in class_list:\n",
        "  cls_df = clean_df[clean_df[cls].notnull()]\n",
        "  plt.hist(cls_df['AC'], histtype='step', fill=False, bins=50, range=(0,50))\n",
        "  plt.title(cls.split('.')[0])\n",
        "  plt.show()"
      ],
      "execution_count": 16,
      "outputs": [
        {
          "output_type": "display_data",
          "data": {
            "image/png": "[encoded data removed]",
            "text/plain": [
              "<Figure size 432x288 with 1 Axes>"
            ]
          },
          "metadata": {
            "tags": [],
            "needs_background": "light"
          }
        },
        {
          "output_type": "display_data",
          "data": {
            "image/png": "[encoded data removed]",
            "text/plain": [
              "<Figure size 432x288 with 1 Axes>"
            ]
          },
          "metadata": {
            "tags": [],
            "needs_background": "light"
          }
        },
        {
          "output_type": "display_data",
          "data": {
            "image/png": "[encoded data removed]",
            "text/plain": [
              "<Figure size 432x288 with 1 Axes>"
            ]
          },
          "metadata": {
            "tags": [],
            "needs_background": "light"
          }
        },
        {
          "output_type": "display_data",
          "data": {
            "image/png": "[encoded data removed]",
            "text/plain": [
              "<Figure size 432x288 with 1 Axes>"
            ]
          },
          "metadata": {
            "tags": [],
            "needs_background": "light"
          }
        },
        {
          "output_type": "display_data",
          "data": {
            "image/png": "[encoded data removed]",
            "text/plain": [
              "<Figure size 432x288 with 1 Axes>"
            ]
          },
          "metadata": {
            "tags": [],
            "needs_background": "light"
          }
        },
        {
          "output_type": "display_data",
          "data": {
            "image/png": "[encoded data removed]",
            "text/plain": [
              "<Figure size 432x288 with 1 Axes>"
            ]
          },
          "metadata": {
            "tags": [],
            "needs_background": "light"
          }
        },
        {
          "output_type": "display_data",
          "data": {
            "image/png": "[encoded data removed]",
            "text/plain": [
              "<Figure size 432x288 with 1 Axes>"
            ]
          },
          "metadata": {
            "tags": [],
            "needs_background": "light"
          }
        },
        {
          "output_type": "display_data",
          "data": {
            "image/png": "[encoded data removed]",
            "text/plain": [
              "<Figure size 432x288 with 1 Axes>"
            ]
          },
          "metadata": {
            "tags": [],
            "needs_background": "light"
          }
        },
        {
          "output_type": "display_data",
          "data": {
            "image/png": "[encoded data removed]",
            "text/plain": [
              "<Figure size 432x288 with 1 Axes>"
            ]
          },
          "metadata": {
            "tags": [],
            "needs_background": "light"
          }
        },
        {
          "output_type": "display_data",
          "data": {
            "image/png": "[encoded data removed]",
            "text/plain": [
              "<Figure size 432x288 with 1 Axes>"
            ]
          },
          "metadata": {
            "tags": [],
            "needs_background": "light"
          }
        },
        {
          "output_type": "display_data",
          "data": {
            "image/png": "[encoded data removed]",
            "text/plain": [
              "<Figure size 432x288 with 1 Axes>"
            ]
          },
          "metadata": {
            "tags": [],
            "needs_background": "light"
          }
        },
        {
          "output_type": "display_data",
          "data": {
            "image/png": "[encoded data removed]",
            "text/plain": [
              "<Figure size 432x288 with 1 Axes>"
            ]
          },
          "metadata": {
            "tags": [],
            "needs_background": "light"
          }
        },
        {
          "output_type": "display_data",
          "data": {
            "image/png": "[encoded data removed]",
            "text/plain": [
              "<Figure size 432x288 with 1 Axes>"
            ]
          },
          "metadata": {
            "tags": [],
            "needs_background": "light"
          }
        },
        {
          "output_type": "display_data",
          "data": {
            "image/png": "[encoded data removed]",
            "text/plain": [
              "<Figure size 432x288 with 1 Axes>"
            ]
          },
          "metadata": {
            "tags": [],
            "needs_background": "light"
          }
        }
      ]
    },
    {
      "cell_type": "markdown",
      "metadata": {
        "id": "0kJ8SxGVpHU-",
        "colab_type": "text"
      },
      "source": [
        "### Alignment distributions"
      ]
    },
    {
      "cell_type": "code",
      "metadata": {
        "id": "cJ-tImjMpJm1",
        "colab_type": "code",
        "colab": {
          "base_uri": "https://localhost:8080/",
          "height": 367
        },
        "outputId": "450189c3-f20e-4e23-9c0d-3908834288e2"
      },
      "source": [
        "# get alignment data\n",
        "alignment_data = clean_df['processedAlignment']\n",
        "\n",
        "print(alignment_data.describe())\n",
        "print(alignment_data.unique())\n",
        "\n",
        "counts = alignment_data.value_counts()\n",
        "plt.bar(counts.index, counts.values)\n",
        "plt.show()"
      ],
      "execution_count": 17,
      "outputs": [
        {
          "output_type": "stream",
          "text": [
            "count     5509\n",
            "unique      10\n",
            "top           \n",
            "freq      3928\n",
            "Name: processedAlignment, dtype: object\n",
            "['NG' 'NN' '' 'CN' 'CG' 'LG' 'LE' 'LN' 'NE' 'CE']\n"
          ],
          "name": "stdout"
        },
        {
          "output_type": "display_data",
          "data": {
            "image/png": "[encoded data removed]",
            "text/plain": [
              "<Figure size 432x288 with 1 Axes>"
            ]
          },
          "metadata": {
            "tags": [],
            "needs_background": "light"
          }
        }
      ]
    },
    {
      "cell_type": "markdown",
      "metadata": {
        "id": "AOYYds5KNHwa",
        "colab_type": "text"
      },
      "source": [
        "## Outlier Exploration"
      ]
    },
    {
      "cell_type": "code",
      "metadata": {
        "id": "YtItLp_TNFR0",
        "colab_type": "code",
        "colab": {
          "base_uri": "https://localhost:8080/",
          "height": 795
        },
        "outputId": "30de5edc-c4ec-43a2-a4a7-f09dd95b86fd"
      },
      "source": [
        "# descriptive statistics\n",
        "\n",
        "clean_df[ ['Str','Dex','Con','Int','Wis','Cha'] ].describe()\n",
        "\n",
        "\n",
        "# distributions\n",
        "\n",
        "# IQR / boxplot outlier analysis\n",
        "att_dfs = []\n",
        "for att in attributes:\n",
        "  att_dfs.append(clean_df[att])\n",
        "\n",
        "plt.boxplot(att_dfs, labels=attributes)\n",
        "plt.show()\n",
        "\n",
        "for col in \"HP\", \"AC\":\n",
        "  zzz = plt.boxplot(clean_df[col], labels=[col])\n",
        "  plt.show()\n",
        "  x = [item.get_ydata()[1] for item in zzz['whiskers']]\n",
        "  print(x)"
      ],
      "execution_count": 18,
      "outputs": [
        {
          "output_type": "display_data",
          "data": {
            "image/png": "[encoded data removed]",
            "text/plain": [
              "<Figure size 432x288 with 1 Axes>"
            ]
          },
          "metadata": {
            "tags": [],
            "needs_background": "light"
          }
        },
        {
          "output_type": "display_data",
          "data": {
            "image/png": "[encoded data removed]",
            "text/plain": [
              "<Figure size 432x288 with 1 Axes>"
            ]
          },
          "metadata": {
            "tags": [],
            "needs_background": "light"
          }
        },
        {
          "output_type": "stream",
          "text": [
            "[-6.0, 124.0]\n"
          ],
          "name": "stdout"
        },
        {
          "output_type": "display_data",
          "data": {
            "image/png": "[encoded data removed]",
            "text/plain": [
              "<Figure size 432x288 with 1 Axes>"
            ]
          },
          "metadata": {
            "tags": [],
            "needs_background": "light"
          }
        },
        {
          "output_type": "stream",
          "text": [
            "[7.0, 23.0]\n"
          ],
          "name": "stdout"
        }
      ]
    },
    {
      "cell_type": "markdown",
      "metadata": {
        "id": "jMQ4zKIpPLYH",
        "colab_type": "text"
      },
      "source": [
        "## Correlations and Relationships"
      ]
    },
    {
      "cell_type": "markdown",
      "metadata": {
        "id": "wZYaogevrt9_",
        "colab_type": "text"
      },
      "source": [
        "**Attributes**"
      ]
    },
    {
      "cell_type": "code",
      "metadata": {
        "id": "m9OqJfc7PSeB",
        "colab_type": "code",
        "colab": {
          "base_uri": "https://localhost:8080/",
          "height": 786
        },
        "outputId": "3ca4650d-279a-407c-d6b3-70ad44f33fe2"
      },
      "source": [
        "# to identify which features we should include or may give us info\n",
        "\n",
        "plt.figure(figsize=(15,12))\n",
        "\n",
        "# correlation between different attributes\n",
        "# con and str seam to have a decent correlation, but the rest dont\n",
        "\n",
        "class_type = pd.get_dummies(no_artificer_df[\"class1\"], prefix='class')\n",
        "no_artificer_df = pd.concat([no_artificer_df, class_type], axis = 1)\n",
        "\n",
        "z = ['Barbarian', 'Bard', 'Cleric', 'Druid', 'Fighter', 'Monk', 'Paladin', \n",
        "    'Ranger', 'Rogue', 'Sorcerer', 'Warlock', 'Wizard']\n",
        "\n",
        "classes = [f'class_{class_}' for class_ in z]\n",
        "# correlation between attributes and classes\n",
        "casting_stat = ['castingStat_Cha', 'castingStat_Int', 'castingStat_Wis',\n",
        "                'castingStat_Con', 'castingStat_Str', 'castingStat_Dex']\n",
        "att_class_cols = attributes + ['HP', 'AC'] + casting_stat + classes\n",
        "att_class_df = no_artificer_df[ att_class_cols ]\n",
        "\n",
        "\n",
        "att_class_corr = att_class_df.corr()\n",
        "att_class_corr = att_class_corr.iloc[ 0:14, 14:]\n",
        "sns.heatmap(att_class_corr)\n",
        "\n"
      ],
      "execution_count": 19,
      "outputs": [
        {
          "output_type": "execute_result",
          "data": {
            "text/plain": [
              "<matplotlib.axes._subplots.AxesSubplot at 0x7f042537c240>"
            ]
          },
          "metadata": {
            "tags": []
          },
          "execution_count": 19
        },
        {
          "output_type": "display_data",
          "data": {
            "image/png": "[encoded data removed]",
            "text/plain": [
              "<Figure size 1080x864 with 2 Axes>"
            ]
          },
          "metadata": {
            "tags": [],
            "needs_background": "light"
          }
        }
      ]
    },
    {
      "cell_type": "markdown",
      "metadata": {
        "id": "SBxJMWlauavN",
        "colab_type": "text"
      },
      "source": [
        "**Armor Class**"
      ]
    },
    {
      "cell_type": "code",
      "metadata": {
        "id": "lp-qp-vursir",
        "colab_type": "code",
        "colab": {
          "base_uri": "https://localhost:8080/",
          "height": 279
        },
        "outputId": "8fdc0248-dafc-4922-f7fc-cee5dfa953d6"
      },
      "source": [
        "# let's look at armor class\n",
        "ac_df = clean_df[['AC','class1']]\n",
        "\n",
        "ax = sns.boxplot(x=\"AC\", y=\"class1\", data=ac_df)"
      ],
      "execution_count": 20,
      "outputs": [
        {
          "output_type": "display_data",
          "data": {
            "image/png": "[encoded data removed]",
            "text/plain": [
              "<Figure size 432x288 with 1 Axes>"
            ]
          },
          "metadata": {
            "tags": [],
            "needs_background": "light"
          }
        }
      ]
    },
    {
      "cell_type": "code",
      "metadata": {
        "id": "W2RJrvw3-y5W",
        "colab_type": "code",
        "colab": {
          "base_uri": "https://localhost:8080/",
          "height": 408
        },
        "outputId": "ca011c89-4ab9-446b-fd48-daa02c7014ff"
      },
      "source": [
        "plt.figure(figsize=(2,6))\n",
        "\n",
        "att_class_cols = attributes + ['HP', 'AC'] + casting_stat + ['level1']\n",
        "att_class_df = no_artificer_df[ att_class_cols ]\n",
        "\n",
        "att_class_corr = att_class_df.corr()\n",
        "att_class_corr = att_class_corr.iloc[ 0:14, 14:]\n",
        "\n",
        "sns.heatmap(att_class_corr)\n",
        "\n",
        "from scipy.stats.stats import pearsonr\n",
        "print(pearsonr(att_class_df['HP'], att_class_df['level1']))\n",
        "print(np.corrcoef(att_class_df['HP'], att_class_df['level1'])[0, 1])"
      ],
      "execution_count": 21,
      "outputs": [
        {
          "output_type": "stream",
          "text": [
            "(0.9248693864005879, 0.0)\n",
            "0.9248693864005886\n"
          ],
          "name": "stdout"
        },
        {
          "output_type": "display_data",
          "data": {
            "image/png": "[encoded data removed]",
            "text/plain": [
              "<Figure size 144x432 with 2 Axes>"
            ]
          },
          "metadata": {
            "tags": [],
            "needs_background": "light"
          }
        }
      ]
    },
    {
      "cell_type": "markdown",
      "metadata": {
        "id": "HvVhjw2MPnTZ",
        "colab_type": "text"
      },
      "source": [
        "# Model Planning"
      ]
    },
    {
      "cell_type": "code",
      "metadata": {
        "id": "lIA5b0BmPnfx",
        "colab_type": "code",
        "colab": {}
      },
      "source": [
        "# what will success look like\n",
        " # define the set to which your model can be applied (aka single class characters)\n",
        " # build models optimizing for both acc and f1 score--how do they compare?\n",
        "\n",
        " # Success would look like: Can correctly identify class of single class character with 80% TPR, and <5% FPR\n",
        "\n",
        "# what will our accuracy metrics be?\n",
        "  # TPR, FPR, PPV\n",
        "\n",
        "# Building a model:\n",
        "  # Pick what algorithm we want to use\n",
        "  # determine any issues / concerns associated with the model, things we should watch out for\n",
        "  # split our data into test/train\n",
        "  # train the model using k fold cross validation\n",
        "    # all on training set\n",
        "  # look at accuracy metrics (i.e. tpr/fpr, confusion matrix, recall, precision)\n",
        "    # all needs to be done on the test set\n",
        "  # investigate model behavior -- taking a deeper look\n",
        "  \n"
      ],
      "execution_count": 22,
      "outputs": []
    },
    {
      "cell_type": "markdown",
      "metadata": {
        "id": "aTqZjU2RtLzH",
        "colab_type": "text"
      },
      "source": [
        "# Binary Classifiers"
      ]
    },
    {
      "cell_type": "markdown",
      "metadata": {
        "id": "NhkchEF5SBo5",
        "colab_type": "text"
      },
      "source": [
        "## Run when doing binary model"
      ]
    },
    {
      "cell_type": "code",
      "metadata": {
        "id": "Pzlcu0fTbBYV",
        "colab_type": "code",
        "colab": {}
      },
      "source": [
        "def make_ROC_curve(fpr, tpr, roc_auc):\n",
        "    fig = plt.figure(figsize=[10,7])\n",
        "    ax = plt.subplot(111)\n",
        "\n",
        "    ax.plot(fpr, tpr, 'b', label = 'AUC = %0.2f' % roc_auc)\n",
        "    plt.title('Receiver Operating Characteristic')\n",
        "    plt.legend(loc = 'lower right')\n",
        "    plt.plot([0, 1], [0, 1],'r--')\n",
        "    plt.xlim([0, 1])\n",
        "    plt.ylim([0, 1])\n",
        "    plt.ylabel('True Positive Rate')\n",
        "    plt.xlabel('False Positive Rate')\n",
        "    plt.grid(True)\n",
        "    x_ticks = np.arange(0, 11, 1)\n",
        "    plt.xticks(x_ticks / 10.)\n",
        "    plt.show()"
      ],
      "execution_count": 23,
      "outputs": []
    },
    {
      "cell_type": "code",
      "metadata": {
        "id": "rnlPqJ2ZRTBp",
        "colab_type": "code",
        "colab": {
          "base_uri": "https://localhost:8080/",
          "height": 221
        },
        "outputId": "a90033e5-4c04-4d13-95a1-722bd876d76b"
      },
      "source": [
        "# we can do 1vsAll (will lead to class imbalance)\n",
        "# could only build model on 2 classes in data\n",
        "# we could generalize classes to spellcasters/not spell casters (1/0)\n",
        "\n",
        "# to do this, need a new is_spellcaster column\n",
        "# Bard, Druid, Wizard, Cleric, Sorcerer, Warlock\n",
        "spellcasters = ['Bard','Cleric','Druid','Sorcerer','Warlock','Wizard']\n",
        "\n",
        "main_df['is_spellcaster'] = main_df['class1'].isin(spellcasters).astype(int)\n",
        "\n",
        "# check balance between spellcaster and not-spellcaster\n",
        "print(main_df.groupby('is_spellcaster').count()['AC'])\n",
        "\n",
        "attributes = ['Str','Dex','Con','Int','Wis','Cha']\n",
        "castingStat = [f'castingStat_{attribute}' for attribute in attributes]\n",
        "features = ['AC', 'hp_per_lvl'] + attributes + castingStat\n",
        "X = main_df[ features ]\n",
        "y = main_df['is_spellcaster']\n",
        "\n",
        "X_train, X_test, y_train, y_test = train_test_split(X, y, test_size=0.25, random_state=42)\n",
        "\n",
        "# check balance between training and test set\n",
        "print(y_train.groupby(y_train).size())\n",
        "print(y_test.groupby(y_test).size())"
      ],
      "execution_count": 24,
      "outputs": [
        {
          "output_type": "stream",
          "text": [
            "is_spellcaster\n",
            "0    2651\n",
            "1    2086\n",
            "Name: AC, dtype: int64\n",
            "is_spellcaster\n",
            "0    2003\n",
            "1    1549\n",
            "Name: is_spellcaster, dtype: int64\n",
            "is_spellcaster\n",
            "0    648\n",
            "1    537\n",
            "Name: is_spellcaster, dtype: int64\n"
          ],
          "name": "stdout"
        }
      ]
    },
    {
      "cell_type": "markdown",
      "metadata": {
        "id": "QnbBHG2wQ8xA",
        "colab_type": "text"
      },
      "source": [
        "## Binary Logistic Regression"
      ]
    },
    {
      "cell_type": "code",
      "metadata": {
        "id": "S1kapuXshTns",
        "colab_type": "code",
        "colab": {
          "base_uri": "https://localhost:8080/",
          "height": 85
        },
        "outputId": "f9ed60b8-8bcd-47bb-d643-465d55bb9c90"
      },
      "source": [
        "# logistic regression without CV\n",
        "clf = LogisticRegression(random_state=42, solver='liblinear').fit(X_train, y_train)\n",
        "\n",
        "print('training accuracy ', clf.score(X_train, y_train))\n",
        "print('testing accuracy ', clf.score(X_test, y_test))\n",
        "\n",
        "# logistic regression with CV\n",
        "clf = LogisticRegressionCV(cv = 10, random_state=42, solver='liblinear').fit(X_train, y_train)\n",
        "print('training accuracy ', clf.score(X_train, y_train))\n",
        "print('testing accuracy ',clf.score(X_test, y_test))"
      ],
      "execution_count": 25,
      "outputs": [
        {
          "output_type": "stream",
          "text": [
            "training accuracy  0.8961148648648649\n",
            "testing accuracy  0.8852320675105485\n",
            "training accuracy  0.8963963963963963\n",
            "testing accuracy  0.8877637130801688\n"
          ],
          "name": "stdout"
        }
      ]
    },
    {
      "cell_type": "code",
      "metadata": {
        "id": "jEKdHJnerw05",
        "colab_type": "code",
        "colab": {
          "base_uri": "https://localhost:8080/",
          "height": 170
        },
        "outputId": "07c56ae2-1db7-4f17-b40d-7b55617a9586"
      },
      "source": [
        "# use f1 scoring\n",
        "clf = LogisticRegressionCV(cv = 10, random_state=42, solver='liblinear', scoring = 'f1').fit(X_train, y_train)\n",
        "print('training f1 score: ', clf.score(X_train, y_train))\n",
        "print('testing f1 score: ', clf.score(X_test, y_test))\n",
        "\n",
        "y_pred = clf.predict(X_test)\n",
        "\n",
        "print('\\nConfusion Matrix:')\n",
        "print(metrics.confusion_matrix(y_test, y_pred))\n",
        "print('')\n",
        "\n",
        "tn, fp, fn, tp = metrics.confusion_matrix(y_test, y_pred).ravel()\n",
        "print('TPR: ', tp / (tp+fn))\n",
        "print('FPR: ', fp / (fp+tn))"
      ],
      "execution_count": 26,
      "outputs": [
        {
          "output_type": "stream",
          "text": [
            "training f1 score:  0.8813668600902644\n",
            "testing f1 score:  0.876279069767442\n",
            "\n",
            "Confusion Matrix:\n",
            "[[581  67]\n",
            " [ 66 471]]\n",
            "\n",
            "TPR:  0.8770949720670391\n",
            "FPR:  0.10339506172839506\n"
          ],
          "name": "stdout"
        }
      ]
    },
    {
      "cell_type": "code",
      "metadata": {
        "id": "QaezP2JGvnnw",
        "colab_type": "code",
        "colab": {
          "base_uri": "https://localhost:8080/",
          "height": 628
        },
        "outputId": "44f02321-86f5-4298-ba45-c0f9920f5457"
      },
      "source": [
        "# generate a ROC curve to see if we can change decision boundary to enhance results\n",
        "# calculate the fpr and tpr for all thresholds of the classification\n",
        "\n",
        "# probabilities of being in each class\n",
        "probs = clf.predict_proba(X_test)\n",
        "print(probs)\n",
        "\n",
        "# extract probability observation is class 1\n",
        "preds = probs[:,1]\n",
        "print(preds)\n",
        "\n",
        "# 3 arrays with fpr, tpr, threshold for given thresholds\n",
        "fpr, tpr, threshold = metrics.roc_curve(y_test, preds)\n",
        "roc_auc = metrics.auc(fpr, tpr)\n",
        "\n",
        "make_ROC_curve(fpr, tpr, roc_auc)\n",
        "\n",
        "print([z for z in zip(threshold, fpr, tpr) if z[1] < 0.05 and z[2] > 0.80])\n",
        "\n",
        "# looks like we can get to our goal with any of the following (threshold, fpr, tpr)\n",
        "# (0.6809461260594947, 0.047619047619047616, 0.8017902813299232), \n",
        "# (0.6780313746306711, 0.049783549783549784, 0.8017902813299232), \n",
        "# (0.6766166948962654, 0.049783549783549784, 0.8043478260869565)"
      ],
      "execution_count": 27,
      "outputs": [
        {
          "output_type": "stream",
          "text": [
            "[[9.99389262e-01 6.10737761e-04]\n",
            " [4.77696671e-01 5.22303329e-01]\n",
            " [9.58822225e-01 4.11777747e-02]\n",
            " ...\n",
            " [4.97056019e-04 9.99502944e-01]\n",
            " [9.99982112e-01 1.78877608e-05]\n",
            " [4.18377597e-02 9.58162240e-01]]\n",
            "[6.10737761e-04 5.22303329e-01 4.11777747e-02 ... 9.99502944e-01\n",
            " 1.78877608e-05 9.58162240e-01]\n"
          ],
          "name": "stdout"
        },
        {
          "output_type": "display_data",
          "data": {
            "image/png": "[encoded data removed]",
            "text/plain": [
              "<Figure size 720x504 with 1 Axes>"
            ]
          },
          "metadata": {
            "tags": [],
            "needs_background": "light"
          }
        },
        {
          "output_type": "stream",
          "text": [
            "[]\n"
          ],
          "name": "stdout"
        }
      ]
    },
    {
      "cell_type": "markdown",
      "metadata": {
        "id": "qvPpq_EcPyaD",
        "colab_type": "text"
      },
      "source": [
        "## Binary Decision Tree"
      ]
    },
    {
      "cell_type": "code",
      "metadata": {
        "id": "yc1oAmxQyw8_",
        "colab_type": "code",
        "colab": {
          "base_uri": "https://localhost:8080/",
          "height": 51
        },
        "outputId": "fa974374-d0ce-40cc-caaf-ff4a49ec19ae"
      },
      "source": [
        "# let's check out decision tree\n",
        "# risks: overfitting, offset with hyperparameters\n",
        "\n",
        "# use same training / testing data\n",
        "clf = tree.DecisionTreeClassifier(criterion = 'gini', max_depth = 25, min_samples_leaf= 20)\n",
        "clf = clf.fit(X_train, y_train)\n",
        "\n",
        "print('training ACC', clf.score(X_train, y_train))\n",
        "print('testing ACC', clf.score(X_test, y_test))"
      ],
      "execution_count": 28,
      "outputs": [
        {
          "output_type": "stream",
          "text": [
            "training ACC 0.9366554054054054\n",
            "testing ACC 0.9080168776371308\n"
          ],
          "name": "stdout"
        }
      ]
    },
    {
      "cell_type": "code",
      "metadata": {
        "id": "Ve4jpN7oTjXv",
        "colab_type": "code",
        "colab": {
          "base_uri": "https://localhost:8080/",
          "height": 551
        },
        "outputId": "c3534f3f-27dd-46ac-bb0c-1a6846fd7d21"
      },
      "source": [
        "# https://scikit-learn.org/stable/modules/grid_search.html#model-specific-cross-validation\n",
        "# DT doesn't have a dedicated CV function like LogisticRegressionCV\n",
        "\n",
        "# perform 10-fold cv and print the f1 score for each fold\n",
        "clf = tree.DecisionTreeClassifier(criterion = 'gini', max_depth = 25, min_samples_leaf= 20)\n",
        "scores = cross_val_score(clf, X_train, y_train, cv=10, scoring='f1_macro')\n",
        "plt.bar(range(len(scores)), scores)\n",
        "plt.show()\n",
        "print(f'mean f1 score of 10-fold cv: {scores.mean():.3f}, (std: {scores.std():.3f})')\n",
        "\n",
        "if 0: # this takes awhile to run, change to 1 if you want to play with it\n",
        "  # hyperparameter tuning with grid search\n",
        "  param_grid = {\"criterion\": ['gini', 'entropy'],\n",
        "                \"max_depth\": [None, 5, 10, 20],\n",
        "                \"min_samples_leaf\": [1, 5, 10, 20],\n",
        "                \"min_samples_split\": [2, 5, 10, 20]\n",
        "                }\n",
        "\n",
        "  dt = tree.DecisionTreeClassifier()\n",
        "\n",
        "  grid_search = GridSearchCV(dt, param_grid=param_grid, cv=10, scoring='f1')\n",
        "  grid_search.fit(X_train, y_train)\n",
        "  print('Best parameters: ', grid_search.best_params_)\n",
        "  print('Resulting best score:', grid_search.best_score_)\n",
        "  # result: {'criterion': 'entropy', 'max_depth': 10, 'min_samples_leaf': 5, 'min_samples_split': 10}\n",
        "\n",
        "# perform 10-fold cv and print the f1 score for each fold using optimized hyperparameters\n",
        "clf = tree.DecisionTreeClassifier(criterion = 'entropy', max_depth = 10, min_samples_leaf= 5, min_samples_split=10)\n",
        "scores = cross_val_score(clf, X_train, y_train, cv=10, scoring='f1_macro')\n",
        "plt.bar(range(len(scores)), scores)\n",
        "plt.show()\n",
        "print(f'mean f1 score of 10-fold cv: {scores.mean():.3f}, (std: {scores.std():.3f})')"
      ],
      "execution_count": 29,
      "outputs": [
        {
          "output_type": "display_data",
          "data": {
            "image/png": "[encoded data removed]",
            "text/plain": [
              "<Figure size 432x288 with 1 Axes>"
            ]
          },
          "metadata": {
            "tags": [],
            "needs_background": "light"
          }
        },
        {
          "output_type": "stream",
          "text": [
            "mean f1 score of 10-fold cv: 0.915, (std: 0.015)\n"
          ],
          "name": "stdout"
        },
        {
          "output_type": "display_data",
          "data": {
            "image/png": "[encoded data removed]",
            "text/plain": [
              "<Figure size 432x288 with 1 Axes>"
            ]
          },
          "metadata": {
            "tags": [],
            "needs_background": "light"
          }
        },
        {
          "output_type": "stream",
          "text": [
            "mean f1 score of 10-fold cv: 0.928, (std: 0.015)\n"
          ],
          "name": "stdout"
        }
      ]
    },
    {
      "cell_type": "code",
      "metadata": {
        "id": "uKGmaArDWPf-",
        "colab_type": "code",
        "colab": {
          "base_uri": "https://localhost:8080/",
          "height": 119
        },
        "outputId": "9f3b62cb-3943-4f43-c1d4-3cfb731ce638"
      },
      "source": [
        "clf = tree.DecisionTreeClassifier(criterion = 'entropy', max_depth = 10, min_samples_leaf= 5, min_samples_split=10)\n",
        "clf = clf.fit(X_train, y_train)\n",
        "\n",
        "y_pred = clf.predict(X_test)\n",
        "\n",
        "print('Confusion Matrix:')\n",
        "print(metrics.confusion_matrix(y_test, y_pred))\n",
        "print('')\n",
        "\n",
        "tn, fp, fn, tp = metrics.confusion_matrix(y_test, y_pred).ravel()\n",
        "print('TPR: ', tp / (tp+fn))\n",
        "print('FPR: ', fp / (fp+tn))"
      ],
      "execution_count": 30,
      "outputs": [
        {
          "output_type": "stream",
          "text": [
            "Confusion Matrix:\n",
            "[[608  40]\n",
            " [ 55 482]]\n",
            "\n",
            "TPR:  0.8975791433891993\n",
            "FPR:  0.06172839506172839\n"
          ],
          "name": "stdout"
        }
      ]
    },
    {
      "cell_type": "code",
      "metadata": {
        "id": "5-Ltfz4nEruT",
        "colab_type": "code",
        "colab": {
          "base_uri": "https://localhost:8080/",
          "height": 495
        },
        "outputId": "750b34e4-6c02-4c83-cbdc-de0094f2c0ac"
      },
      "source": [
        "# use a single decision tree to calculate probabilities\n",
        "\n",
        "probs = clf.predict_proba(X_test)\n",
        "preds = probs[:,1]\n",
        "\n",
        "fpr, tpr, threshold = metrics.roc_curve(y_test, preds)\n",
        "roc_auc = metrics.auc(fpr, tpr)\n",
        "\n",
        "make_ROC_curve(fpr, tpr, roc_auc)\n",
        "\n",
        "print([z for z in zip(threshold, fpr, tpr) if z[1] < 0.05 and z[2] > 0.80])\n",
        "# definitely satisfy the tpr > 80%, fpr < 5% success metric for a range of thresholds\n",
        "# specific threshold depends on if you want to prioritize cranking up tpr or suppressing fpr"
      ],
      "execution_count": 31,
      "outputs": [
        {
          "output_type": "display_data",
          "data": {
            "image/png": "[encoded data removed]",
            "text/plain": [
              "<Figure size 720x504 with 1 Axes>"
            ]
          },
          "metadata": {
            "tags": [],
            "needs_background": "light"
          }
        },
        {
          "output_type": "stream",
          "text": [
            "[(1.0, 0.037037037037037035, 0.8044692737430168), (0.875, 0.037037037037037035, 0.8156424581005587), (0.8333333333333334, 0.037037037037037035, 0.8342644320297952), (0.8235294117647058, 0.037037037037037035, 0.8435754189944135), (0.8, 0.038580246913580245, 0.851024208566108), (0.75, 0.040123456790123455, 0.8566108007448789), (0.7272727272727273, 0.041666666666666664, 0.8566108007448789), (0.6666666666666666, 0.047839506172839504, 0.8640595903165735)]\n"
          ],
          "name": "stdout"
        }
      ]
    },
    {
      "cell_type": "markdown",
      "metadata": {
        "id": "ZXrYcB1FhQOB",
        "colab_type": "text"
      },
      "source": [
        "# Multi-class Classifier"
      ]
    },
    {
      "cell_type": "markdown",
      "metadata": {
        "id": "X8Uiyl4pYBII",
        "colab_type": "text"
      },
      "source": [
        "## Run when doing multi-class model"
      ]
    },
    {
      "cell_type": "code",
      "metadata": {
        "id": "ePdjVBc4K9Z-",
        "colab_type": "code",
        "colab": {
          "base_uri": "https://localhost:8080/",
          "height": 493
        },
        "outputId": "638e1e9f-5019-4acc-d5c6-1d0592fb2123"
      },
      "source": [
        "# new target column using the entire multiclass \n",
        "attributes = ['Str','Dex','Con','Int','Wis','Cha']\n",
        "castingStat = [f'castingStat_{attribute}' for attribute in attributes]\n",
        "features = ['AC', 'hp_per_lvl'] + attributes + castingStat\n",
        "\n",
        "X = main_df[ features ]\n",
        "y = main_df['class1']\n",
        "\n",
        "X_train, X_test, y_train, y_test = train_test_split(X, y, test_size=0.25, random_state=42)\n",
        "\n",
        "print(y_train.groupby(y_train).size())\n",
        "print(y_test.groupby(y_test).size())"
      ],
      "execution_count": 32,
      "outputs": [
        {
          "output_type": "stream",
          "text": [
            "class1\n",
            "Barbarian    298\n",
            "Bard         264\n",
            "Cleric       358\n",
            "Druid        244\n",
            "Fighter      486\n",
            "Monk         257\n",
            "Paladin      281\n",
            "Ranger       257\n",
            "Rogue        424\n",
            "Sorcerer     221\n",
            "Warlock      196\n",
            "Wizard       266\n",
            "Name: class1, dtype: int64\n",
            "class1\n",
            "Barbarian     94\n",
            "Bard          83\n",
            "Cleric       124\n",
            "Druid         87\n",
            "Fighter      176\n",
            "Monk          81\n",
            "Paladin       88\n",
            "Ranger        73\n",
            "Rogue        136\n",
            "Sorcerer      73\n",
            "Warlock       76\n",
            "Wizard        94\n",
            "Name: class1, dtype: int64\n"
          ],
          "name": "stdout"
        }
      ]
    },
    {
      "cell_type": "markdown",
      "metadata": {
        "id": "6OhiK7qoQ_jB",
        "colab_type": "text"
      },
      "source": [
        "## Multi-class Logistic Regression"
      ]
    },
    {
      "cell_type": "code",
      "metadata": {
        "id": "NRkP0j7YRCwQ",
        "colab_type": "code",
        "colab": {
          "base_uri": "https://localhost:8080/",
          "height": 833
        },
        "outputId": "1ccb81a5-3ad3-43cb-c3fb-e549e0be7094"
      },
      "source": [
        "clf = LogisticRegression(random_state=42, solver='liblinear', multi_class='auto').fit(X_train, y_train)\n",
        "\n",
        "print('training accuracy ', clf.score(X_train, y_train))\n",
        "print('testing accuracy ', clf.score(X_test, y_test))\n",
        "\n",
        "# Accuracy measurements\n",
        "y_pred = clf.predict(X_test)\n",
        "print(metrics.confusion_matrix(y_test, y_pred))\n",
        "print(metrics.classification_report(y_test, y_pred, digits=3))\n",
        "\n",
        "# probabilities of being in each class\n",
        "probs = clf.predict_proba(X_test)\n",
        "print(probs)\n",
        "\n",
        "# extract probability observation is class 1\n",
        "preds = probs[:,1]\n",
        "print(preds)"
      ],
      "execution_count": 33,
      "outputs": [
        {
          "output_type": "stream",
          "text": [
            "training accuracy  0.7378941441441441\n",
            "testing accuracy  0.7257383966244726\n",
            "[[ 71   0   0   0  21   0   0   0   0   0   0   2]\n",
            " [  0  56   0   0   0   0   2   0   0  19   6   0]\n",
            " [  0   0 101  11   0   0   0  12   0   0   0   0]\n",
            " [  0   0  18  61   0   1   0   7   0   0   0   0]\n",
            " [ 21   0   0   0 120   4   1   0  27   0   0   3]\n",
            " [  4   0   1   1   7  47   0   4  17   0   0   0]\n",
            " [  0   3   0   0   0   0  84   0   0   1   0   0]\n",
            " [  0   0   7   4   0   0   0  62   0   0   0   0]\n",
            " [  1   0   0   0   4   7   0   1 113   0   0  10]\n",
            " [  0  16   0   0   0   0   2   0   0  49   6   0]\n",
            " [  0  34   0   1   0   1   6   0   0  23  10   1]\n",
            " [  0   0   0   0   2   0   0   0   6   0   0  86]]\n",
            "              precision    recall  f1-score   support\n",
            "\n",
            "   Barbarian      0.732     0.755     0.743        94\n",
            "        Bard      0.514     0.675     0.583        83\n",
            "      Cleric      0.795     0.815     0.805       124\n",
            "       Druid      0.782     0.701     0.739        87\n",
            "     Fighter      0.779     0.682     0.727       176\n",
            "        Monk      0.783     0.580     0.667        81\n",
            "     Paladin      0.884     0.955     0.918        88\n",
            "      Ranger      0.721     0.849     0.780        73\n",
            "       Rogue      0.693     0.831     0.756       136\n",
            "    Sorcerer      0.533     0.671     0.594        73\n",
            "     Warlock      0.455     0.132     0.204        76\n",
            "      Wizard      0.843     0.915     0.878        94\n",
            "\n",
            "    accuracy                          0.726      1185\n",
            "   macro avg      0.710     0.713     0.700      1185\n",
            "weighted avg      0.722     0.726     0.714      1185\n",
            "\n",
            "[[1.94405346e-01 9.18266534e-05 5.14547462e-03 ... 1.01681863e-04\n",
            "  2.83374072e-04 9.50179434e-06]\n",
            " [6.45456376e-03 1.10327260e-03 4.73654289e-01 ... 2.83288598e-04\n",
            "  3.18485843e-03 8.02638755e-06]\n",
            " [4.95579178e-03 7.05833419e-03 6.47903780e-05 ... 1.66145656e-04\n",
            "  2.28913863e-03 1.84039091e-02]\n",
            " ...\n",
            " [3.00570693e-04 4.32261549e-05 3.98314792e-01 ... 1.06556626e-02\n",
            "  3.41706671e-04 9.08936898e-03]\n",
            " [6.30686372e-01 6.44997174e-04 5.84093718e-05 ... 1.64241040e-06\n",
            "  6.03171266e-04 1.38186125e-06]\n",
            " [1.00136233e-03 8.68546683e-04 5.42254680e-02 ... 1.81094296e-03\n",
            "  1.13439856e-03 4.95708652e-05]]\n",
            "[9.18266534e-05 1.10327260e-03 7.05833419e-03 ... 4.32261549e-05\n",
            " 6.44997174e-04 8.68546683e-04]\n"
          ],
          "name": "stdout"
        }
      ]
    },
    {
      "cell_type": "markdown",
      "metadata": {
        "id": "c8oUFutQP2PM",
        "colab_type": "text"
      },
      "source": [
        "## Multi-class Decision Tree"
      ]
    },
    {
      "cell_type": "code",
      "metadata": {
        "id": "-guVZYJ87Xf7",
        "colab_type": "code",
        "colab": {
          "base_uri": "https://localhost:8080/",
          "height": 547
        },
        "outputId": "41deb6ce-8105-434e-939f-33922d149351"
      },
      "source": [
        "clf = tree.DecisionTreeClassifier(criterion = 'gini', max_depth = 25, min_samples_leaf= 20)\n",
        "scores = cross_val_score(clf, X_train, y_train, cv=10, scoring='f1_macro')\n",
        "plt.bar(range(len(scores)), scores)\n",
        "plt.show()\n",
        "print(f'mean f1 score of 10-fold cv: {scores.mean():.3f}, (std: {scores.std():.3f})')\n",
        "\n",
        "if 0: # this takes awhile to run, change to 1 if you want to play with it\n",
        "  # hyperparameter tuning with grid search\n",
        "  param_grid = {\"criterion\": ['gini', 'entropy'],\n",
        "                \"max_depth\": [None, 5, 10, 20],\n",
        "                \"min_samples_leaf\": [1, 5, 10, 20],\n",
        "                \"min_samples_split\": [2, 5, 10, 20]\n",
        "                }\n",
        "\n",
        "  dt = tree.DecisionTreeClassifier()\n",
        "\n",
        "  grid_search = GridSearchCV(dt, param_grid=param_grid, cv=10, scoring='f1_macro')\n",
        "  grid_search.fit(X_train, y_train)\n",
        "  print('Best parameters: ', grid_search.best_params_)\n",
        "  print('Resulting best score:', grid_search.best_score_)\n",
        " \n",
        "# perform 10-fold cv and print the f1 score for each fold using optimized hyperparameters\n",
        "clf = tree.DecisionTreeClassifier(random_state=42)\n",
        "scores = cross_val_score(clf, X_train, y_train, cv=10, scoring='f1_macro')\n",
        "plt.bar(range(len(scores)), scores)\n",
        "plt.show()\n",
        "print(f'mean f1 score of 10-fold cv: {scores.mean():.3f}, (std: {scores.std():.3f})')"
      ],
      "execution_count": 34,
      "outputs": [
        {
          "output_type": "display_data",
          "data": {
            "image/png": "[encoded data removed]",
            "text/plain": [
              "<Figure size 432x288 with 1 Axes>"
            ]
          },
          "metadata": {
            "tags": [],
            "needs_background": "light"
          }
        },
        {
          "output_type": "stream",
          "text": [
            "mean f1 score of 10-fold cv: 0.677, (std: 0.018)\n"
          ],
          "name": "stdout"
        },
        {
          "output_type": "display_data",
          "data": {
            "image/png": "[encoded data removed]",
            "text/plain": [
              "<Figure size 432x288 with 1 Axes>"
            ]
          },
          "metadata": {
            "tags": [],
            "needs_background": "light"
          }
        },
        {
          "output_type": "stream",
          "text": [
            "mean f1 score of 10-fold cv: 0.669, (std: 0.022)\n"
          ],
          "name": "stdout"
        }
      ]
    },
    {
      "cell_type": "code",
      "metadata": {
        "id": "DYboyR-275_w",
        "colab_type": "code",
        "colab": {
          "base_uri": "https://localhost:8080/",
          "height": 595
        },
        "outputId": "df5b33a7-730b-49f7-e3c6-bc267ae86776"
      },
      "source": [
        "clf = tree.DecisionTreeClassifier(random_state=42)\n",
        "clf = clf.fit(X_train, y_train)\n",
        "y_pred = clf.predict(X_test)\n",
        "\n",
        "print('Confusion Matrix')\n",
        "print(metrics.confusion_matrix(y_test, y_pred))\n",
        "print('')\n",
        "print('Success Metrics')\n",
        "print(metrics.classification_report(y_test, y_pred, digits=3))"
      ],
      "execution_count": 35,
      "outputs": [
        {
          "output_type": "stream",
          "text": [
            "Confusion Matrix\n",
            "[[ 70   0   0   0  18   2   0   0   3   0   0   1]\n",
            " [  0  42   0   0   0   0   3   0   0  15  23   0]\n",
            " [  0   0 106   7   0   3   1   7   0   0   0   0]\n",
            " [  0   0  22  55   0   1   0   9   0   0   0   0]\n",
            " [ 25   0   0   0 119   8   1   0  19   0   0   4]\n",
            " [  3   0   2   0  11  39   0   2  21   0   0   3]\n",
            " [  0   5   0   0   1   0  75   0   0   4   3   0]\n",
            " [  0   0   5  12   0   1   0  55   0   0   0   0]\n",
            " [  1   0   1   0  17  13   0   0  95   0   0   9]\n",
            " [  0  12   0   0   0   0   2   0   0  43  16   0]\n",
            " [  0  27   1   0   0   1   5   0   1  22  18   1]\n",
            " [  3   0   0   0   3   1   0   0   4   0   0  83]]\n",
            "\n",
            "Success Metrics\n",
            "              precision    recall  f1-score   support\n",
            "\n",
            "   Barbarian      0.686     0.745     0.714        94\n",
            "        Bard      0.488     0.506     0.497        83\n",
            "      Cleric      0.774     0.855     0.812       124\n",
            "       Druid      0.743     0.632     0.683        87\n",
            "     Fighter      0.704     0.676     0.690       176\n",
            "        Monk      0.565     0.481     0.520        81\n",
            "     Paladin      0.862     0.852     0.857        88\n",
            "      Ranger      0.753     0.753     0.753        73\n",
            "       Rogue      0.664     0.699     0.681       136\n",
            "    Sorcerer      0.512     0.589     0.548        73\n",
            "     Warlock      0.300     0.237     0.265        76\n",
            "      Wizard      0.822     0.883     0.851        94\n",
            "\n",
            "    accuracy                          0.675      1185\n",
            "   macro avg      0.656     0.659     0.656      1185\n",
            "weighted avg      0.670     0.675     0.671      1185\n",
            "\n"
          ],
          "name": "stdout"
        }
      ]
    },
    {
      "cell_type": "markdown",
      "metadata": {
        "id": "0Bwftwk3AjBP",
        "colab_type": "text"
      },
      "source": [
        "###Feature Importance"
      ]
    },
    {
      "cell_type": "code",
      "metadata": {
        "id": "qpzHtyQ147l3",
        "colab_type": "code",
        "colab": {
          "base_uri": "https://localhost:8080/",
          "height": 281
        },
        "outputId": "35704a3d-7184-4077-d4f0-892ed413b5fa"
      },
      "source": [
        "# feature importance for multiclass decision tree\n",
        "importance = clf.feature_importances_\n",
        "\n",
        "# combine list of features and importance weights into dataframe\n",
        "importance_dt = zip(list(X_train.columns), importance)\n",
        "importance_dt = set(importance_dt)\n",
        "importance_dt = pd.DataFrame(importance_dt, columns = ['feature','importance'])\n",
        "\n",
        "# sort dataframe to graph from high to low\n",
        "importance_dt = importance_dt.sort_values('importance',ascending = True)\n",
        "importance_dt.reset_index(drop = True)\n",
        "\n",
        "# plot the feature weights\n",
        "plt.figure()\n",
        "plt.title(\"Feature importances: Multi Class DT\")\n",
        "plt.barh(range(importance_dt.shape[0]), width = importance_dt['importance'], align=\"center\")\n",
        "plt.yticks(range(importance_dt.shape[0]), importance_dt['feature'])\n",
        "plt.ylim([-1, importance_dt.shape[0]])\n",
        "plt.show()"
      ],
      "execution_count": 36,
      "outputs": [
        {
          "output_type": "display_data",
          "data": {
            "image/png": "[encoded data removed]",
            "text/plain": [
              "<Figure size 432x288 with 1 Axes>"
            ]
          },
          "metadata": {
            "tags": [],
            "needs_background": "light"
          }
        }
      ]
    },
    {
      "cell_type": "markdown",
      "metadata": {
        "id": "Di8o3g9xbI9x",
        "colab_type": "text"
      },
      "source": [
        "## Support Vector Machine"
      ]
    },
    {
      "cell_type": "markdown",
      "metadata": {
        "id": "-_utKkiRbPAY",
        "colab_type": "text"
      },
      "source": [
        "### Linear SVM"
      ]
    },
    {
      "cell_type": "code",
      "metadata": {
        "id": "aAQ56E89bSZv",
        "colab_type": "code",
        "colab": {
          "base_uri": "https://localhost:8080/",
          "height": 544
        },
        "outputId": "fc47b482-bbc4-4bf7-8492-7ebd24c49913"
      },
      "source": [
        "# bring in some libraries to do scaling and svm\n",
        "from sklearn.pipeline import make_pipeline\n",
        "from sklearn.preprocessing import StandardScaler\n",
        "from sklearn.preprocessing import scale\n",
        "from sklearn.svm import SVC\n",
        "\n",
        "# create classifier by first scaling the data (mean 0 sd 1) and then putting into linear SVM\n",
        "# SVM does better if features are scaled as it is not scale invariant\n",
        "clf = make_pipeline(StandardScaler(), SVC(kernel = 'linear'))\n",
        "clf = clf.fit(X_train, y_train)\n",
        "y_pred = clf.predict(X_test)\n",
        "\n",
        "print(metrics.confusion_matrix(y_test, y_pred))\n",
        "\n",
        "print(metrics.classification_report(y_test, y_pred, digits=3))"
      ],
      "execution_count": 37,
      "outputs": [
        {
          "output_type": "stream",
          "text": [
            "[[ 68   0   0   0  24   0   0   0   1   0   0   1]\n",
            " [  0  52   0   0   1   0   1   0   0  19  10   0]\n",
            " [  0   0  99  14   0   0   0  11   0   0   0   0]\n",
            " [  0   0  14  67   0   0   0   6   0   0   0   0]\n",
            " [ 26   0   0   0 122   5   1   0  22   0   0   0]\n",
            " [  1   0   2   1   9  49   0   1  18   0   0   0]\n",
            " [  0   5   0   0   0   0  80   0   0   1   2   0]\n",
            " [  0   0   5   4   0   0   0  64   0   0   0   0]\n",
            " [  1   0   0   0   6   9   0   1 112   0   0   7]\n",
            " [  0  11   0   0   0   0   0   0   0  49  13   0]\n",
            " [  0  31   0   1   0   1   5   0   0  22  15   1]\n",
            " [  0   0   0   0   1   0   0   0   6   0   0  87]]\n",
            "              precision    recall  f1-score   support\n",
            "\n",
            "   Barbarian      0.708     0.723     0.716        94\n",
            "        Bard      0.525     0.627     0.571        83\n",
            "      Cleric      0.825     0.798     0.811       124\n",
            "       Druid      0.770     0.770     0.770        87\n",
            "     Fighter      0.748     0.693     0.720       176\n",
            "        Monk      0.766     0.605     0.676        81\n",
            "     Paladin      0.920     0.909     0.914        88\n",
            "      Ranger      0.771     0.877     0.821        73\n",
            "       Rogue      0.704     0.824     0.759       136\n",
            "    Sorcerer      0.538     0.671     0.598        73\n",
            "     Warlock      0.375     0.197     0.259        76\n",
            "      Wizard      0.906     0.926     0.916        94\n",
            "\n",
            "    accuracy                          0.729      1185\n",
            "   macro avg      0.713     0.718     0.711      1185\n",
            "weighted avg      0.725     0.729     0.723      1185\n",
            "\n"
          ],
          "name": "stdout"
        }
      ]
    },
    {
      "cell_type": "markdown",
      "metadata": {
        "id": "Z4ARE-_sK25v",
        "colab_type": "text"
      },
      "source": [
        "### Grid Search on SVM"
      ]
    },
    {
      "cell_type": "code",
      "metadata": {
        "id": "yk9J5154MShH",
        "colab_type": "code",
        "colab": {}
      },
      "source": [
        "# let's scale the data since it doesn't like the pipeline in grid search\n",
        "X_train_scaled = scale(X_train)\n",
        "X_test_scaled = scale(X_test)"
      ],
      "execution_count": 38,
      "outputs": []
    },
    {
      "cell_type": "code",
      "metadata": {
        "id": "GkQ5GTndK5IS",
        "colab_type": "code",
        "colab": {}
      },
      "source": [
        "# lets do a grid search instead of going through all different kernels, etc.\n",
        "\n",
        "if 0: # this takes awhile to run, change to 1 if you want to play with it\n",
        "  # hyperparameter tuning with grid search\n",
        "  param_grid = {\"kernel\": ['linear', 'rbf','poly','sigmoid'],\n",
        "                \"degree\": [2,3,4],\n",
        "                \"decision_function_shape\": ['ovr','ovo']\n",
        "                \n",
        "                }\n",
        "\n",
        "  clf = SVC()\n",
        "\n",
        "  grid_search = GridSearchCV(clf, param_grid=param_grid, cv=10, scoring='f1_macro')\n",
        "  grid_search.fit(X_train_scaled, y_train)\n",
        "  print('Best parameters: ', grid_search.best_params_)\n",
        "  print('Resulting best score:', grid_search.best_score_)"
      ],
      "execution_count": 39,
      "outputs": []
    },
    {
      "cell_type": "code",
      "metadata": {
        "id": "rkszD61zOKSI",
        "colab_type": "code",
        "colab": {
          "base_uri": "https://localhost:8080/",
          "height": 544
        },
        "outputId": "6d667815-992e-486b-9bee-ff473a691a44"
      },
      "source": [
        "# now let's build with those parameters\n",
        "clf = make_pipeline(StandardScaler(), SVC(kernel = 'rbf', degree = 2, decision_function_shape = 'ovr'))\n",
        "clf = clf.fit(X_train, y_train)\n",
        "y_pred = clf.predict(X_test)\n",
        "\n",
        "print(metrics.confusion_matrix(y_test, y_pred))\n",
        "\n",
        "print(metrics.classification_report(y_test, y_pred, digits=3))"
      ],
      "execution_count": 40,
      "outputs": [
        {
          "output_type": "stream",
          "text": [
            "[[ 69   0   0   0  24   0   0   0   0   0   0   1]\n",
            " [  0  51   0   0   0   0   3   0   0  18  11   0]\n",
            " [  0   0 102  10   0   0   0  12   0   0   0   0]\n",
            " [  0   0  11  67   0   0   0   9   0   0   0   0]\n",
            " [ 23   0   0   0 130   4   1   0  17   0   0   1]\n",
            " [  4   0   3   1   8  48   0   1  16   0   0   0]\n",
            " [  0   4   0   0   0   0  81   0   0   2   1   0]\n",
            " [  0   0   4   4   0   0   0  65   0   0   0   0]\n",
            " [  1   0   1   0   7   9   0   0 114   0   0   4]\n",
            " [  0  18   0   0   0   0   0   0   0  44  11   0]\n",
            " [  0  33   0   1   0   1   6   0   0  20  14   1]\n",
            " [  0   0   0   0   1   1   0   0   3   0   0  89]]\n",
            "              precision    recall  f1-score   support\n",
            "\n",
            "   Barbarian      0.711     0.734     0.723        94\n",
            "        Bard      0.481     0.614     0.540        83\n",
            "      Cleric      0.843     0.823     0.833       124\n",
            "       Druid      0.807     0.770     0.788        87\n",
            "     Fighter      0.765     0.739     0.751       176\n",
            "        Monk      0.762     0.593     0.667        81\n",
            "     Paladin      0.890     0.920     0.905        88\n",
            "      Ranger      0.747     0.890     0.812        73\n",
            "       Rogue      0.760     0.838     0.797       136\n",
            "    Sorcerer      0.524     0.603     0.561        73\n",
            "     Warlock      0.378     0.184     0.248        76\n",
            "      Wizard      0.927     0.947     0.937        94\n",
            "\n",
            "    accuracy                          0.738      1185\n",
            "   macro avg      0.716     0.721     0.713      1185\n",
            "weighted avg      0.733     0.738     0.731      1185\n",
            "\n"
          ],
          "name": "stdout"
        }
      ]
    },
    {
      "cell_type": "markdown",
      "metadata": {
        "id": "Xy4_5cmISgKW",
        "colab_type": "text"
      },
      "source": [
        "## XGBoost"
      ]
    },
    {
      "cell_type": "code",
      "metadata": {
        "id": "lpCMrPRiS3b1",
        "colab_type": "code",
        "colab": {
          "base_uri": "https://localhost:8080/",
          "height": 663
        },
        "outputId": "0804b3ee-e73a-407b-858a-fcb89ae5c3e2"
      },
      "source": [
        "# to really understand this we will need to study gradient descent\n",
        "import xgboost\n",
        "\n",
        "label_encoder = LabelEncoder()\n",
        "label_encoder = label_encoder.fit(y)\n",
        "y_encoded = label_encoder.transform(y)\n",
        "\n",
        "X_train, X_test, y_train_encoded, y_test_encoded = train_test_split(X, y_encoded, test_size=0.25, random_state=42)\n",
        "\n",
        "model = xgboost.XGBClassifier(random_state=42)\n",
        "model.fit(X_train, y_train)\n",
        "print(model)\n",
        "\n",
        "y_pred = model.predict(X_test)\n",
        "\n",
        "print(metrics.confusion_matrix(y_test, y_pred))\n",
        "\n",
        "print(metrics.classification_report(y_test, y_pred, digits=3))"
      ],
      "execution_count": 41,
      "outputs": [
        {
          "output_type": "stream",
          "text": [
            "XGBClassifier(base_score=0.5, booster='gbtree', colsample_bylevel=1,\n",
            "              colsample_bynode=1, colsample_bytree=1, gamma=0,\n",
            "              learning_rate=0.1, max_delta_step=0, max_depth=3,\n",
            "              min_child_weight=1, missing=None, n_estimators=100, n_jobs=1,\n",
            "              nthread=None, objective='multi:softprob', random_state=42,\n",
            "              reg_alpha=0, reg_lambda=1, scale_pos_weight=1, seed=None,\n",
            "              silent=None, subsample=1, verbosity=1)\n",
            "[[ 70   0   0   0  24   0   0   0   0   0   0   0]\n",
            " [  0  51   0   0   0   0   5   0   0  14  13   0]\n",
            " [  0   0 106  11   0   1   0   6   0   0   0   0]\n",
            " [  0   0   9  68   0   0   0  10   0   0   0   0]\n",
            " [ 22   0   0   0 132   5   1   0  13   0   0   3]\n",
            " [  4   0   1   1   6  50   0   2  14   0   0   3]\n",
            " [  0   4   0   0   0   0  81   0   0   2   1   0]\n",
            " [  0   0   4   4   0   0   0  65   0   0   0   0]\n",
            " [  1   0   1   0   7  11   0   0 110   0   0   6]\n",
            " [  0  16   0   0   0   0   1   0   0  48   8   0]\n",
            " [  0  29   0   1   0   1   6   0   0  19  19   1]\n",
            " [  0   0   0   0   1   0   0   0   3   0   0  90]]\n",
            "              precision    recall  f1-score   support\n",
            "\n",
            "   Barbarian      0.722     0.745     0.733        94\n",
            "        Bard      0.510     0.614     0.557        83\n",
            "      Cleric      0.876     0.855     0.865       124\n",
            "       Druid      0.800     0.782     0.791        87\n",
            "     Fighter      0.776     0.750     0.763       176\n",
            "        Monk      0.735     0.617     0.671        81\n",
            "     Paladin      0.862     0.920     0.890        88\n",
            "      Ranger      0.783     0.890     0.833        73\n",
            "       Rogue      0.786     0.809     0.797       136\n",
            "    Sorcerer      0.578     0.658     0.615        73\n",
            "     Warlock      0.463     0.250     0.325        76\n",
            "      Wizard      0.874     0.957     0.914        94\n",
            "\n",
            "    accuracy                          0.751      1185\n",
            "   macro avg      0.730     0.737     0.730      1185\n",
            "weighted avg      0.746     0.751     0.745      1185\n",
            "\n"
          ],
          "name": "stdout"
        }
      ]
    },
    {
      "cell_type": "code",
      "metadata": {
        "id": "8AKARtV6j6cV",
        "colab_type": "code",
        "colab": {
          "base_uri": "https://localhost:8080/",
          "height": 1000
        },
        "outputId": "9475f403-c79c-4b2c-aca0-d764edc8f41a"
      },
      "source": [
        "# xgboost doesn't improve upon DT, despite being a slightly more refined approach\n",
        "# might be running into a 'wall' of what information can be extracted from these features and they are not discriminative\n",
        "# enough to distinguish Bard, Warlock, and Sorcerer\n",
        "\n",
        "main_df.groupby('class1')['num_spells'].describe()\n",
        "\n",
        "spells_per_level = main_df['num_spells'].divide(main_df['level1'])\n",
        "main_df['spells_per_lvl'] = spells_per_level\n",
        "\n",
        "print(main_df.groupby('class1')['num_spells'].describe())\n",
        "\n",
        "print(main_df.groupby('class1')['spells_per_lvl'].describe())\n",
        "\n",
        "\n",
        "features = ['AC', 'hp_per_lvl', 'spells_per_lvl'] + attributes + castingStat\n",
        "X = main_df[ features ]\n",
        "\n",
        "X_train, X_test, y_train_encoded, y_test_encoded = train_test_split(X, y_encoded, test_size=0.25, random_state=42)\n",
        "\n",
        "model = xgboost.XGBClassifier(random_state=42)\n",
        "model.fit(X_train, y_train)\n",
        "print(model)\n",
        "\n",
        "y_pred = model.predict(X_test)\n",
        "\n",
        "print(metrics.confusion_matrix(y_test, y_pred))\n",
        "\n",
        "print(metrics.classification_report(y_test, y_pred, digits=3))"
      ],
      "execution_count": 42,
      "outputs": [
        {
          "output_type": "stream",
          "text": [
            "           count       mean        std  min  25%  50%   75%   max\n",
            "class1                                                           \n",
            "Barbarian  392.0   0.073980   0.419641  0.0  0.0  0.0   0.0   3.0\n",
            "Bard       347.0   4.089337   5.584410  0.0  0.0  0.0   8.0  30.0\n",
            "Cleric     482.0  10.207469  10.441128  2.0  4.0  8.0  12.0  94.0\n",
            "Druid      331.0   5.271903   8.857376  0.0  0.0  1.0   8.0  98.0\n",
            "Fighter    662.0   0.572508   1.832642  0.0  0.0  0.0   0.0  15.0\n",
            "Monk       338.0   0.150888   0.661140  0.0  0.0  0.0   0.0   6.0\n",
            "Paladin    369.0   4.203252   4.693820  0.0  0.0  4.0   6.0  27.0\n",
            "Ranger     330.0   1.806061   2.635731  0.0  0.0  0.0   3.0  15.0\n",
            "Rogue      560.0   0.580357   1.864067  0.0  0.0  0.0   0.0  12.0\n",
            "Sorcerer   294.0   5.255102   5.809803  0.0  0.0  3.5  10.0  24.0\n",
            "Warlock    272.0   5.470588   7.701959  0.0  0.0  2.0   8.0  53.0\n",
            "Wizard     360.0   8.186111  10.931864  0.0  0.0  1.0  13.0  56.0\n",
            "           count      mean       std  min  25%       50%       75%   max\n",
            "class1                                                                  \n",
            "Barbarian  392.0  0.015488  0.094574  0.0  0.0  0.000000  0.000000   1.0\n",
            "Bard       347.0  1.354263  1.959532  0.0  0.0  0.000000  2.333333   8.0\n",
            "Cleric     482.0  3.125272  2.799608  0.4  1.2  2.000000  3.968750  19.0\n",
            "Druid      331.0  1.667452  2.755487  0.0  0.0  0.500000  2.500000  24.0\n",
            "Fighter    662.0  0.119381  0.363744  0.0  0.0  0.000000  0.000000   1.8\n",
            "Monk       338.0  0.044438  0.188410  0.0  0.0  0.000000  0.000000   2.0\n",
            "Paladin    369.0  0.715717  0.873905  0.0  0.0  0.615385  0.800000   7.5\n",
            "Ranger     330.0  0.375861  0.505729  0.0  0.0  0.000000  0.750000   3.0\n",
            "Rogue      560.0  0.144743  0.466343  0.0  0.0  0.000000  0.000000   4.0\n",
            "Sorcerer   294.0  1.752134  2.135789  0.0  0.0  1.000000  2.666667  10.0\n",
            "Warlock    272.0  1.646506  1.974438  0.0  0.0  1.000000  2.666667  10.0\n",
            "Wizard     360.0  2.466772  3.152722  0.0  0.0  0.300000  4.175000  12.0\n",
            "XGBClassifier(base_score=0.5, booster='gbtree', colsample_bylevel=1,\n",
            "              colsample_bynode=1, colsample_bytree=1, gamma=0,\n",
            "              learning_rate=0.1, max_delta_step=0, max_depth=3,\n",
            "              min_child_weight=1, missing=None, n_estimators=100, n_jobs=1,\n",
            "              nthread=None, objective='multi:softprob', random_state=42,\n",
            "              reg_alpha=0, reg_lambda=1, scale_pos_weight=1, seed=None,\n",
            "              silent=None, subsample=1, verbosity=1)\n",
            "[[ 71   0   0   0  23   0   0   0   0   0   0   0]\n",
            " [  0  57   0   0   0   0   3   0   0  11  12   0]\n",
            " [  0   0 112   9   0   0   0   3   0   0   0   0]\n",
            " [  0   0  13  66   0   0   0   8   0   0   0   0]\n",
            " [ 19   0   0   0 133   7   1   0  15   0   0   1]\n",
            " [  4   0   0   2   9  53   0   1  12   0   0   0]\n",
            " [  0   1   0   0   0   0  84   0   0   3   0   0]\n",
            " [  0   0   2   4   0   0   0  67   0   0   0   0]\n",
            " [  1   0   0   0   8  13   0   0 108   0   0   6]\n",
            " [  0  18   0   0   0   0   1   0   0  45   9   0]\n",
            " [  0  26   0   1   0   1   3   0   0  19  25   1]\n",
            " [  0   0   0   0   1   1   0   0   4   0   0  88]]\n",
            "              precision    recall  f1-score   support\n",
            "\n",
            "   Barbarian      0.747     0.755     0.751        94\n",
            "        Bard      0.559     0.687     0.616        83\n",
            "      Cleric      0.882     0.903     0.892       124\n",
            "       Druid      0.805     0.759     0.781        87\n",
            "     Fighter      0.764     0.756     0.760       176\n",
            "        Monk      0.707     0.654     0.679        81\n",
            "     Paladin      0.913     0.955     0.933        88\n",
            "      Ranger      0.848     0.918     0.882        73\n",
            "       Rogue      0.777     0.794     0.785       136\n",
            "    Sorcerer      0.577     0.616     0.596        73\n",
            "     Warlock      0.543     0.329     0.410        76\n",
            "      Wizard      0.917     0.936     0.926        94\n",
            "\n",
            "    accuracy                          0.767      1185\n",
            "   macro avg      0.753     0.755     0.751      1185\n",
            "weighted avg      0.764     0.767     0.763      1185\n",
            "\n"
          ],
          "name": "stdout"
        }
      ]
    },
    {
      "cell_type": "markdown",
      "metadata": {
        "id": "wKalNqcTjh4_",
        "colab_type": "text"
      },
      "source": [
        "## Random Forests"
      ]
    },
    {
      "cell_type": "code",
      "metadata": {
        "id": "0jRO8MVvjl35",
        "colab_type": "code",
        "colab": {
          "base_uri": "https://localhost:8080/",
          "height": 595
        },
        "outputId": "c35b811d-335b-4de4-9b4e-8ff9f8edc02d"
      },
      "source": [
        "# add new spells/level feature\n",
        "main_df['spells_per_lvl'] = main_df['num_spells'].divide(main_df['level1'])\n",
        "features = ['AC', 'hp_per_lvl', 'spells_per_lvl'] + attributes + castingStat\n",
        "X = main_df[features]\n",
        "y = main_df['class1']\n",
        "X_train, X_test, y_train_encoded, y_test_encoded = train_test_split(X, y_encoded, test_size=0.25, random_state=42)\n",
        "\n",
        "clf = RandomForestClassifier(n_estimators=100, random_state=42)\n",
        "clf.fit(X_train,y_train)\n",
        "\n",
        "y_pred=clf.predict(X_test)\n",
        "\n",
        "print('Confusion Matrix')\n",
        "print(metrics.confusion_matrix(y_test, y_pred))\n",
        "print('')\n",
        "print('Success Metrics')\n",
        "print(metrics.classification_report(y_test, y_pred, digits=3))"
      ],
      "execution_count": 43,
      "outputs": [
        {
          "output_type": "stream",
          "text": [
            "Confusion Matrix\n",
            "[[ 70   0   0   0  24   0   0   0   0   0   0   0]\n",
            " [  0  50   0   0   0   0   2   0   0  12  19   0]\n",
            " [  0   0 112  10   0   0   0   2   0   0   0   0]\n",
            " [  0   0  12  67   0   0   0   8   0   0   0   0]\n",
            " [ 14   0   0   0 139   6   1   0  15   0   0   1]\n",
            " [  5   0   0   1   8  55   0   1  11   0   0   0]\n",
            " [  0   3   0   0   0   0  83   0   0   1   1   0]\n",
            " [  0   0   4   3   0   0   0  66   0   0   0   0]\n",
            " [  1   0   0   0  11   8   0   0 109   0   0   7]\n",
            " [  0  15   0   0   0   0   2   0   0  54   2   0]\n",
            " [  0  26   0   1   0   1   5   0   0  15  27   1]\n",
            " [  0   0   0   0   1   0   0   0   3   0   0  90]]\n",
            "\n",
            "Success Metrics\n",
            "              precision    recall  f1-score   support\n",
            "\n",
            "   Barbarian      0.778     0.745     0.761        94\n",
            "        Bard      0.532     0.602     0.565        83\n",
            "      Cleric      0.875     0.903     0.889       124\n",
            "       Druid      0.817     0.770     0.793        87\n",
            "     Fighter      0.760     0.790     0.774       176\n",
            "        Monk      0.786     0.679     0.728        81\n",
            "     Paladin      0.892     0.943     0.917        88\n",
            "      Ranger      0.857     0.904     0.880        73\n",
            "       Rogue      0.790     0.801     0.796       136\n",
            "    Sorcerer      0.659     0.740     0.697        73\n",
            "     Warlock      0.551     0.355     0.432        76\n",
            "      Wizard      0.909     0.957     0.933        94\n",
            "\n",
            "    accuracy                          0.778      1185\n",
            "   macro avg      0.767     0.766     0.764      1185\n",
            "weighted avg      0.775     0.778     0.774      1185\n",
            "\n"
          ],
          "name": "stdout"
        }
      ]
    },
    {
      "cell_type": "code",
      "metadata": {
        "id": "2dFoYHdetIlW",
        "colab_type": "code",
        "colab": {
          "base_uri": "https://localhost:8080/",
          "height": 444
        },
        "outputId": "5d66e8af-3382-4824-b406-198d1f0f64eb"
      },
      "source": [
        "# feature importance for multiclass Random Forest\n",
        "importance = clf.feature_importances_\n",
        "\n",
        "# combine list of features and importance weights into dataframe\n",
        "importance_rf = zip(list(X_train.columns), importance)\n",
        "importance_rf = set(importance_rf)\n",
        "importance_rf = pd.DataFrame(importance_rf, columns = ['feature','importance'])\n",
        "\n",
        "# sort dataframe to graph from high to low\n",
        "importance_rf = importance_rf.sort_values('importance',ascending = True)\n",
        "importance_rf.reset_index(drop = True)\n",
        "\n",
        "# plot the feature weights\n",
        "fig = plt.figure(figsize=[10,7])\n",
        "ax = plt.subplot(111)\n",
        "plt.title(\"Feature importances: Multi Class RF\")\n",
        "plt.barh(range(importance_rf.shape[0]), width = importance_rf['importance'], align=\"center\")\n",
        "plt.yticks(range(importance_rf.shape[0]), importance_rf['feature'])\n",
        "plt.ylim([-1, importance_rf.shape[0]])\n",
        "plt.show()"
      ],
      "execution_count": 44,
      "outputs": [
        {
          "output_type": "display_data",
          "data": {
            "image/png": "[encoded data removed]",
            "text/plain": [
              "<Figure size 720x504 with 1 Axes>"
            ]
          },
          "metadata": {
            "tags": [],
            "needs_background": "light"
          }
        }
      ]
    },
    {
      "cell_type": "code",
      "metadata": {
        "id": "ccFNqyFN5cmU",
        "colab_type": "code",
        "colab": {
          "base_uri": "https://localhost:8080/",
          "height": 306
        },
        "outputId": "62ed9e43-84d3-491a-9319-72049880ba31"
      },
      "source": [
        "y = main_df[main_df['is_spellcaster'] == 1]\n",
        "z = y[y['num_spells'] > 0]\n",
        "print(z)\n",
        "\n",
        "print(pearsonr(z['num_spells'], z['level1']))\n",
        "print(np.corrcoef(z['num_spells'], z['level1'])[0, 1])\n"
      ],
      "execution_count": 45,
      "outputs": [
        {
          "output_type": "stream",
          "text": [
            "                                     alias  ... spells_per_lvl\n",
            "alias                                       ...               \n",
            "admiring_almeida          admiring_almeida  ...       4.750000\n",
            "admiring_ardinghelli  admiring_ardinghelli  ...       1.909091\n",
            "admiring_benz                admiring_benz  ...       2.400000\n",
            "admiring_chatterjee    admiring_chatterjee  ...       1.000000\n",
            "admiring_elgamal          admiring_elgamal  ...       2.000000\n",
            "...                                    ...  ...            ...\n",
            "zen_kowalevski              zen_kowalevski  ...       2.562500\n",
            "zen_moore                        zen_moore  ...       3.000000\n",
            "zen_newton                      zen_newton  ...       0.200000\n",
            "zen_pascal                      zen_pascal  ...       0.066667\n",
            "zen_wozniak                    zen_wozniak  ...       3.600000\n",
            "\n",
            "[1329 rows x 62 columns]\n",
            "(0.4417191880985949, 1.406165403128951e-64)\n",
            "0.4417191880985948\n"
          ],
          "name": "stdout"
        }
      ]
    },
    {
      "cell_type": "markdown",
      "metadata": {
        "id": "Al8XFR__s7Hu",
        "colab_type": "text"
      },
      "source": [
        "# Evaluating model on own DnD characters"
      ]
    },
    {
      "cell_type": "code",
      "metadata": {
        "id": "apA44ZleHZ1N",
        "colab_type": "code",
        "colab": {
          "base_uri": "https://localhost:8080/",
          "height": 34
        },
        "outputId": "3b5fd6b4-9923-4325-c893-e5f6a47364a9"
      },
      "source": [
        "my_char = pd.DataFrame({'AC': [12],\n",
        "                        'hp_per_lvl': [17 / 2.],\n",
        "                        'spells_per_lvl': [6 / 2.],\n",
        "                        'Str': [6],\n",
        "                        'Dex': [13],\n",
        "                        'Con': [14],\n",
        "                        'Int': [13],\n",
        "                        'Wis': [15],\n",
        "                        'Cha': [20],\n",
        "                        'castingStat_Str': [0],\n",
        "                        'castingStat_Dex': [0],\n",
        "                        'castingStat_Con': [0],\n",
        "                        'castingStat_Int': [0],\n",
        "                        'castingStat_Wis': [0],\n",
        "                        'castingStat_Cha': [1]})\n",
        "print(clf.predict(my_char))"
      ],
      "execution_count": 46,
      "outputs": [
        {
          "output_type": "stream",
          "text": [
            "['Warlock']\n"
          ],
          "name": "stdout"
        }
      ]
    },
    {
      "cell_type": "code",
      "metadata": {
        "id": "Su3ZdqZil11v",
        "colab_type": "code",
        "colab": {
          "base_uri": "https://localhost:8080/",
          "height": 51
        },
        "outputId": "9a4474ab-95f8-4ea6-f568-60c2ae6eeb46"
      },
      "source": [
        "other_char_string = \"\"\"\n",
        "Character Name,Class,Level,AC,hp,hp_per_lvl,spells,spells_per_lvl,Str,Dex,Con,Int,Wis,Cha,Casting Stat\n",
        "grimlock,druid,8,16,67,8.375,14,1.75,8,14,16,10,20,12,Wis\n",
        "inspector cruso,cleric,8,20,74,9.25,16,2,11,15,18,14,18,13,Wis\n",
        "locke,rogue,8,16,66,8.25,0,0,11,18,17,14,14,20,Int\n",
        "miek the murderbot,fighter,8,17,80,10,0,0,12,18,16,12,16,13,Int\n",
        "farrow,monk,10,21,95,9.5,0,0,11,20,16,16,20,14,Wis\n",
        "\"\"\"\n",
        "\n",
        "from io import StringIO\n",
        "\n",
        "other_chars = pd.read_csv(StringIO(other_char_string))\n",
        "\n",
        "for cstat in castingStat:\n",
        "  stat = cstat.split('_')[1]\n",
        "  derp = other_chars['Casting Stat'] == stat\n",
        "  other_chars[f'{cstat}'] = derp.astype(int)\n",
        "\n",
        "\n",
        "test_other_chars = other_chars.drop(['Character Name', 'Class', 'Level', 'hp', 'spells', 'Casting Stat'], axis=1)\n",
        "print(clf.predict(test_other_chars))\n",
        "\n",
        "fighter = other_chars[other_chars['Class'] == 'fighter']\n",
        "fighter = fighter.drop(['Character Name', 'Class', 'Level', 'hp', 'spells', 'Casting Stat'], axis=1)\n",
        "\n",
        "probs = clf.predict_proba(fighter)\n",
        "print(probs)"
      ],
      "execution_count": 47,
      "outputs": [
        {
          "output_type": "stream",
          "text": [
            "['Druid' 'Cleric' 'Rogue' 'Monk' 'Monk']\n",
            "[[0.   0.   0.   0.   0.14 0.83 0.   0.   0.03 0.   0.   0.  ]]\n"
          ],
          "name": "stdout"
        }
      ]
    }
  ]
}