{
  "nbformat": 4,
  "nbformat_minor": 0,
  "metadata": {
    "kernelspec": {
      "display_name": "Python 3",
      "language": "python",
      "name": "python3"
    },
    "language_info": {
      "codemirror_mode": {
        "name": "ipython",
        "version": 3
      },
      "file_extension": ".py",
      "mimetype": "text/x-python",
      "name": "python",
      "nbconvert_exporter": "python",
      "pygments_lexer": "ipython3",
      "version": "3.7.3"
    },
    "colab": {
      "name": "D&D Character Modeling.ipynb",
      "provenance": [],
      "collapsed_sections": [
        "jAdzJPBqeNAv",
        "nQ4sEzO0nFDG",
        "3sBdd_gVoiGF",
        "BM8bOgYSoJT0",
        "-kr2eDSVwhf0",
        "0kJ8SxGVpHU-",
        "AOYYds5KNHwa",
        "jMQ4zKIpPLYH",
        "HvVhjw2MPnTZ",
        "ZXrYcB1FhQOB",
        "QnbBHG2wQ8xA",
        "6OhiK7qoQ_jB",
        "0Bwftwk3AjBP",
        "Di8o3g9xbI9x"
      ],
      "toc_visible": true,
      "include_colab_link": true
    }
  },
  "cells": [
    {
      "cell_type": "markdown",
      "metadata": {
        "id": "view-in-github",
        "colab_type": "text"
      },
      "source": [
        "<a href=\"https://colab.research.google.com/github/nadduck/dnd-ml/blob/master/D%26D_Character_Modeling.ipynb\" target=\"_parent\"><img src=\"https://colab.research.google.com/assets/colab-badge.svg\" alt=\"Open In Colab\"/></a>"
      ]
    },
    {
      "cell_type": "markdown",
      "metadata": {
        "id": "jAdzJPBqeNAv",
        "colab_type": "text"
      },
      "source": [
        "# Road Map"
      ]
    },
    {
      "cell_type": "code",
      "metadata": {
        "id": "0r9XLkYp5Tni",
        "colab_type": "code",
        "colab": {}
      },
      "source": [
        "# steps\n",
        "\n",
        "# get our data\n",
        "    # pull the data\n",
        "    # transform the data\n",
        "    # recombine the data\n",
        "    # get level column\n",
        "    # remove any multiclass observations for now\n",
        "    # remove artificer (not established data)\n",
        "    # determine how to handle casting stat (categorical var) -- turn into six binary columns for each stat\n",
        "    # initial simple data set will be: stats, hp, level, ac, casting stat\n",
        "\n",
        "# EDA (exploratory data analysis)\n",
        "    # distributions\n",
        "    # descriptive stats\n",
        "    # correlations\n",
        "    # identify data issues (class labeling--complexity around structure and multiclassing, high dimensionality)\n",
        "    # outlier handling -- TO DO: \n",
        "    # is the data balanced or imbalanced\n",
        "\n",
        "# plan the model\n",
        "    # identify key accuracy metrics\n",
        "        # sensitivity / specificity / recall\n",
        "        # true positive rate /false positive rate / f1 score, etc. \n",
        "        # confusion matrix\n",
        "    # what is your success criteria?\n",
        "        # what 'accuracy' do i need to achieve the ask\n",
        "        # what are my constraints if any\n",
        "\n",
        "# first pass modeling\n",
        "    # really simple models\n",
        "        # logistic regression\n",
        "        # decision tree\n",
        "        # benchmark accuracy\n",
        "        \n",
        "# more complex modeling\n",
        "    # ensemble (random forest)\n",
        "    # boosting (xgboost, adaboost)\n",
        "    # feature selection (information gain, recursive feature elmination)\n",
        "\n",
        "# model selection\n",
        "    # what model best achieves our goals"
      ],
      "execution_count": null,
      "outputs": []
    },
    {
      "cell_type": "markdown",
      "metadata": {
        "id": "w68-dNDIcRmm",
        "colab_type": "text"
      },
      "source": [
        "# Preamble"
      ]
    },
    {
      "cell_type": "code",
      "metadata": {
        "id": "Yax7CCib5Tkk",
        "colab_type": "code",
        "colab": {}
      },
      "source": [
        "# going to explore some Dungeons and Dragons character data from : https://github.com/oganm/dnddata#about-the-data\n",
        "import json\n",
        "import pandas as pd\n",
        "from pandas.io.json import json_normalize\n",
        "import numpy as np\n",
        "import matplotlib.pyplot as plt\n",
        "import seaborn as sns\n",
        "from sklearn import tree\n",
        "from sklearn.model_selection import train_test_split, cross_val_score, GridSearchCV, cross_val_predict\n",
        "from sklearn.linear_model import LogisticRegression, LogisticRegressionCV\n",
        "import sklearn.metrics as metrics\n",
        "from sklearn.preprocessing import LabelEncoder"
      ],
      "execution_count": null,
      "outputs": []
    },
    {
      "cell_type": "markdown",
      "metadata": {
        "id": "F2n2Nht0dMiw",
        "colab_type": "text"
      },
      "source": [
        "# Getting data"
      ]
    },
    {
      "cell_type": "markdown",
      "metadata": {
        "id": "sDsA0eKyduuV",
        "colab_type": "text"
      },
      "source": [
        "## Pull data"
      ]
    },
    {
      "cell_type": "code",
      "metadata": {
        "id": "aBqHwcnH5TnJ",
        "colab_type": "code",
        "colab": {
          "base_uri": "https://localhost:8080/",
          "height": 1000
        },
        "outputId": "1637e07f-21e1-49b6-f7d9-7ad890f0e9ca"
      },
      "source": [
        "# get the data from the github repository\n",
        "url = \"https://raw.githubusercontent.com/oganm/dnddata/master/data-raw/dnd_chars_all.json\"\n",
        "\n",
        "df = pd.read_json(url)\n",
        "\n",
        "if df.shape[0] < df.shape[1]:\n",
        "    df = df.transpose()"
      ],
      "execution_count": null,
      "outputs": [
        {
          "output_type": "execute_result",
          "data": {
            "text/html": [
              "<div>\n",
              "<style scoped>\n",
              "    .dataframe tbody tr th:only-of-type {\n",
              "        vertical-align: middle;\n",
              "    }\n",
              "\n",
              "    .dataframe tbody tr th {\n",
              "        vertical-align: top;\n",
              "    }\n",
              "\n",
              "    .dataframe thead th {\n",
              "        text-align: right;\n",
              "    }\n",
              "</style>\n",
              "<table border=\"1\" class=\"dataframe\">\n",
              "  <thead>\n",
              "    <tr style=\"text-align: right;\">\n",
              "      <th></th>\n",
              "      <th>ip</th>\n",
              "      <th>finger</th>\n",
              "      <th>name</th>\n",
              "      <th>race</th>\n",
              "      <th>background</th>\n",
              "      <th>date</th>\n",
              "      <th>class</th>\n",
              "      <th>level</th>\n",
              "      <th>levelGroup</th>\n",
              "      <th>feats</th>\n",
              "      <th>HP</th>\n",
              "      <th>AC</th>\n",
              "      <th>attributes</th>\n",
              "      <th>alignment</th>\n",
              "      <th>skills</th>\n",
              "      <th>weapons</th>\n",
              "      <th>spells</th>\n",
              "      <th>castingStat</th>\n",
              "      <th>choices</th>\n",
              "      <th>location</th>\n",
              "      <th>hash</th>\n",
              "    </tr>\n",
              "  </thead>\n",
              "  <tbody>\n",
              "    <tr>\n",
              "      <th>optimistic_bhabha Fighter 8</th>\n",
              "      <td>[639f3bf]</td>\n",
              "      <td>[d68edcb]</td>\n",
              "      <td>{'hash': ['0333386'], 'alias': ['optimistic_bh...</td>\n",
              "      <td>{'race': ['High Elf'], 'processedRace': ['Elf']}</td>\n",
              "      <td>[Soldier]</td>\n",
              "      <td>[2020-07-11 19:44:27]</td>\n",
              "      <td>{'Fighter': {'class': ['Fighter'], 'subclass':...</td>\n",
              "      <td>[8]</td>\n",
              "      <td>[8-11]</td>\n",
              "      <td>[]</td>\n",
              "      <td>[93]</td>\n",
              "      <td>[19]</td>\n",
              "      <td>{'Str': [18], 'Dex': [18], 'Con': [16], 'Int':...</td>\n",
              "      <td>{'alignment': [''], 'processedAlignment': ['']...</td>\n",
              "      <td>[Athletics, Acrobatics, History, Perception, I...</td>\n",
              "      <td>{'Battleaxe': {'weapon': ['Battleaxe'], 'proce...</td>\n",
              "      <td>{}</td>\n",
              "      <td>[Int]</td>\n",
              "      <td>{'fighting style': ['Defense']}</td>\n",
              "      <td>{'country': ['United States'], 'countryCode': ...</td>\n",
              "      <td>[03027f98fee6211735d1ec38e2d7cb3c]</td>\n",
              "    </tr>\n",
              "    <tr>\n",
              "      <th>naughty_shtern Barbarian 1|Warlock 1</th>\n",
              "      <td>[245b1cd]</td>\n",
              "      <td>[abc5a45]</td>\n",
              "      <td>{'hash': ['bdec192'], 'alias': ['naughty_shter...</td>\n",
              "      <td>{'race': ['Half-Orc'], 'processedRace': ['Half...</td>\n",
              "      <td>[Outlander]</td>\n",
              "      <td>[2020-07-11 19:29:34]</td>\n",
              "      <td>{'Barbarian': {'class': ['Barbarian'], 'subcla...</td>\n",
              "      <td>[2]</td>\n",
              "      <td>[1-3]</td>\n",
              "      <td>[]</td>\n",
              "      <td>[16]</td>\n",
              "      <td>[15]</td>\n",
              "      <td>{'Str': [18], 'Dex': [13], 'Con': [16], 'Int':...</td>\n",
              "      <td>{'alignment': ['Chaotic Neutral'], 'processedA...</td>\n",
              "      <td>[Athletics, Nature, Perception, Survival, Inti...</td>\n",
              "      <td>{'Greatclub': {'weapon': ['Greatclub'], 'proce...</td>\n",
              "      <td>{'Green Flame Blade*0': {'spell': ['Green Flam...</td>\n",
              "      <td>[Cha]</td>\n",
              "      <td>{}</td>\n",
              "      <td>{'country': ['United States'], 'countryCode': ...</td>\n",
              "      <td>[2959a8c8a3e73643b456a1f3200334e7]</td>\n",
              "    </tr>\n",
              "    <tr>\n",
              "      <th>optimistic_bhabha Barbarian 6</th>\n",
              "      <td>[639f3bf]</td>\n",
              "      <td>[d68edcb]</td>\n",
              "      <td>{'hash': ['0333386'], 'alias': ['optimistic_bh...</td>\n",
              "      <td>{'race': ['High Elf'], 'processedRace': ['Elf']}</td>\n",
              "      <td>[Soldier]</td>\n",
              "      <td>[2020-07-11 18:57:41]</td>\n",
              "      <td>{'Barbarian': {'class': ['Barbarian'], 'subcla...</td>\n",
              "      <td>[6]</td>\n",
              "      <td>[4-7]</td>\n",
              "      <td>[]</td>\n",
              "      <td>[73]</td>\n",
              "      <td>[15]</td>\n",
              "      <td>{'Str': [19], 'Dex': [17], 'Con': [15], 'Int':...</td>\n",
              "      <td>{'alignment': [''], 'processedAlignment': ['']...</td>\n",
              "      <td>[Athletics, Nature, Perception, Survival, Inti...</td>\n",
              "      <td>{'Greataxe': {'weapon': ['Greataxe'], 'process...</td>\n",
              "      <td>{}</td>\n",
              "      <td>[Int]</td>\n",
              "      <td>{}</td>\n",
              "      <td>{'country': ['United States'], 'countryCode': ...</td>\n",
              "      <td>[0108cfbdfbde73e2178ac0eeadb66c5c]</td>\n",
              "    </tr>\n",
              "    <tr>\n",
              "      <th>amazing_wiles Paladin 12</th>\n",
              "      <td>[]</td>\n",
              "      <td>[d63ad02]</td>\n",
              "      <td>{'hash': ['a6dd425'], 'alias': ['amazing_wiles']}</td>\n",
              "      <td>{'race': ['Mountain Dwarf'], 'processedRace': ...</td>\n",
              "      <td>[Acolyte]</td>\n",
              "      <td>[2020-07-11 17:40:57]</td>\n",
              "      <td>{'Paladin': {'class': ['Paladin'], 'subclass':...</td>\n",
              "      <td>[12]</td>\n",
              "      <td>[12-15]</td>\n",
              "      <td>[Heavy Armor Master]</td>\n",
              "      <td>[176]</td>\n",
              "      <td>[21]</td>\n",
              "      <td>{'Str': [16], 'Dex': [8], 'Con': [20], 'Int': ...</td>\n",
              "      <td>{'alignment': [''], 'processedAlignment': ['']...</td>\n",
              "      <td>[Athletics, Religion, Insight, Persuasion]</td>\n",
              "      <td>{'Warhammer': {'weapon': ['Warhammer'], 'proce...</td>\n",
              "      <td>{'Armor of Frost*1': {'spell': ['Armor of Fros...</td>\n",
              "      <td>[Cha]</td>\n",
              "      <td>{'fighting style': ['Defense']}</td>\n",
              "      <td>{'country': ['Canada'], 'countryCode': ['CA']}</td>\n",
              "      <td>[11a689cf2f902f22882792ceec101f46]</td>\n",
              "    </tr>\n",
              "    <tr>\n",
              "      <th>keen_lovelace Warlock 7</th>\n",
              "      <td>[1ba21f0]</td>\n",
              "      <td>[71bc98c]</td>\n",
              "      <td>{'hash': ['9c85006'], 'alias': ['keen_lovelace']}</td>\n",
              "      <td>{'race': ['Half-Elf'], 'processedRace': ['Half...</td>\n",
              "      <td>[Folk Hero]</td>\n",
              "      <td>[2020-07-11 15:14:16]</td>\n",
              "      <td>{'Warlock': {'class': ['Warlock'], 'subclass':...</td>\n",
              "      <td>[7]</td>\n",
              "      <td>[4-7]</td>\n",
              "      <td>[War Caster]</td>\n",
              "      <td>[52]</td>\n",
              "      <td>[11]</td>\n",
              "      <td>{'Str': [13], 'Dex': [8], 'Con': [15], 'Int': ...</td>\n",
              "      <td>{'alignment': ['Chaotic Good'], 'processedAlig...</td>\n",
              "      <td>[Arcana, History, Animal Handling, Perception,...</td>\n",
              "      <td>{'Crossbow, light': {'weapon': ['Crossbow, lig...</td>\n",
              "      <td>{}</td>\n",
              "      <td>[Cha]</td>\n",
              "      <td>{'pact boon': ['Pact of the Blade'], 'eldritch...</td>\n",
              "      <td>{'country': ['United States'], 'countryCode': ...</td>\n",
              "      <td>[31bc0dd883d16e40cc596a9fdbf0472f]</td>\n",
              "    </tr>\n",
              "    <tr>\n",
              "      <th>...</th>\n",
              "      <td>...</td>\n",
              "      <td>...</td>\n",
              "      <td>...</td>\n",
              "      <td>...</td>\n",
              "      <td>...</td>\n",
              "      <td>...</td>\n",
              "      <td>...</td>\n",
              "      <td>...</td>\n",
              "      <td>...</td>\n",
              "      <td>...</td>\n",
              "      <td>...</td>\n",
              "      <td>...</td>\n",
              "      <td>...</td>\n",
              "      <td>...</td>\n",
              "      <td>...</td>\n",
              "      <td>...</td>\n",
              "      <td>...</td>\n",
              "      <td>...</td>\n",
              "      <td>...</td>\n",
              "      <td>...</td>\n",
              "      <td>...</td>\n",
              "    </tr>\n",
              "    <tr>\n",
              "      <th>nervous_goldstine Ranger 3</th>\n",
              "      <td>[d580ce9]</td>\n",
              "      <td>[d580ce9]</td>\n",
              "      <td>{'hash': ['cf1fa28'], 'alias': ['nervous_golds...</td>\n",
              "      <td>{'race': ['Half-Elf'], 'processedRace': ['Half...</td>\n",
              "      <td>[Mercenary Veteran]</td>\n",
              "      <td>[2018-04-07 08:40:55]</td>\n",
              "      <td>{'Ranger': {'class': ['Ranger'], 'subclass': [...</td>\n",
              "      <td>[3]</td>\n",
              "      <td>[1-3]</td>\n",
              "      <td>[]</td>\n",
              "      <td>[32]</td>\n",
              "      <td>[16]</td>\n",
              "      <td>{'Str': [10], 'Dex': [16], 'Con': [14], 'Int':...</td>\n",
              "      <td>{'alignment': [''], 'processedAlignment': ['']...</td>\n",
              "      <td>[Athletics, Stealth, Animal Handling, Insight,...</td>\n",
              "      <td>{'Shortsword': {'weapon': ['Shortsword'], 'pro...</td>\n",
              "      <td>{}</td>\n",
              "      <td>[Wis]</td>\n",
              "      <td>{'fighting style': ['Archery']}</td>\n",
              "      <td>{'country': [None], 'countryCode': [None]}</td>\n",
              "      <td>[05998a5e27f3b8f14b58644ca9a10d42]</td>\n",
              "    </tr>\n",
              "    <tr>\n",
              "      <th>gallant_hugle Druid 2|Bard 2</th>\n",
              "      <td>[d580ce9]</td>\n",
              "      <td>[d580ce9]</td>\n",
              "      <td>{'hash': ['923bffb'], 'alias': ['gallant_hugle']}</td>\n",
              "      <td>{'race': ['Human'], 'processedRace': ['Human']}</td>\n",
              "      <td>[Far Traveler]</td>\n",
              "      <td>[2018-04-07 08:22:46]</td>\n",
              "      <td>{'Druid': {'class': ['Druid'], 'subclass': ['C...</td>\n",
              "      <td>[4]</td>\n",
              "      <td>[4-7]</td>\n",
              "      <td>[]</td>\n",
              "      <td>[33]</td>\n",
              "      <td>[15]</td>\n",
              "      <td>{'Str': [11], 'Dex': [15], 'Con': [13], 'Int':...</td>\n",
              "      <td>{'alignment': [''], 'processedAlignment': ['']...</td>\n",
              "      <td>[Nature, Animal Handling, Insight, Medicine, P...</td>\n",
              "      <td>{'Scimitar': {'weapon': ['Scimitar'], 'process...</td>\n",
              "      <td>{}</td>\n",
              "      <td>[Wis]</td>\n",
              "      <td>{}</td>\n",
              "      <td>{'country': [None], 'countryCode': [None]}</td>\n",
              "      <td>[43b6a7471fb30ccd959287e6a2c7a903]</td>\n",
              "    </tr>\n",
              "    <tr>\n",
              "      <th>condescending_lederberg Paladin 6</th>\n",
              "      <td>[d580ce9]</td>\n",
              "      <td>[d580ce9]</td>\n",
              "      <td>{'hash': ['fcc1db9'], 'alias': ['condescending...</td>\n",
              "      <td>{'race': ['Dragonborn'], 'processedRace': ['Dr...</td>\n",
              "      <td>[Noble]</td>\n",
              "      <td>[2018-04-07 02:21:55]</td>\n",
              "      <td>{'Paladin': {'class': ['Paladin'], 'subclass':...</td>\n",
              "      <td>[6]</td>\n",
              "      <td>[4-7]</td>\n",
              "      <td>[]</td>\n",
              "      <td>[58]</td>\n",
              "      <td>[19]</td>\n",
              "      <td>{'Str': [20], 'Dex': [13], 'Con': [15], 'Int':...</td>\n",
              "      <td>{'alignment': ['CG'], 'processedAlignment': ['...</td>\n",
              "      <td>[Athletics, History, Intimidation, Persuasion]</td>\n",
              "      <td>{'Longsword': {'weapon': ['Longsword'], 'proce...</td>\n",
              "      <td>{'Ensnaring Strike*1': {'spell': ['Ensnaring S...</td>\n",
              "      <td>[Cha]</td>\n",
              "      <td>{'fighting style': ['Great Weapon Fighting']}</td>\n",
              "      <td>{'country': [None], 'countryCode': [None]}</td>\n",
              "      <td>[c224994d1134d58ae83dd5618ce192e9]</td>\n",
              "    </tr>\n",
              "    <tr>\n",
              "      <th>relaxed_cori Bard 1</th>\n",
              "      <td>[d580ce9]</td>\n",
              "      <td>[d580ce9]</td>\n",
              "      <td>{'hash': ['cc2a5e1'], 'alias': ['relaxed_cori']}</td>\n",
              "      <td>{'race': ['Meadowguard'], 'processedRace': ['']}</td>\n",
              "      <td>[Acolyte]</td>\n",
              "      <td>[2018-04-07 01:04:10]</td>\n",
              "      <td>{'Bard': {'class': ['Bard'], 'subclass': [''],...</td>\n",
              "      <td>[1]</td>\n",
              "      <td>[1-3]</td>\n",
              "      <td>[]</td>\n",
              "      <td>[10]</td>\n",
              "      <td>[14]</td>\n",
              "      <td>{'Str': [8], 'Dex': [16], 'Con': [13], 'Int': ...</td>\n",
              "      <td>{'alignment': [''], 'processedAlignment': ['']...</td>\n",
              "      <td>[Acrobatics, History, Investigation, Religion,...</td>\n",
              "      <td>{'Dagger': {'weapon': ['Dagger'], 'processedWe...</td>\n",
              "      <td>{'Mending*0': {'spell': ['Mending'], 'level': ...</td>\n",
              "      <td>[Cha]</td>\n",
              "      <td>{}</td>\n",
              "      <td>{'country': [None], 'countryCode': [None]}</td>\n",
              "      <td>[3ea236dcfd2ecde78718881fe8e619b6]</td>\n",
              "    </tr>\n",
              "    <tr>\n",
              "      <th>admiring_payne Rogue 2</th>\n",
              "      <td>[d580ce9]</td>\n",
              "      <td>[d580ce9]</td>\n",
              "      <td>{'hash': ['8188e7b'], 'alias': ['admiring_payn...</td>\n",
              "      <td>{'race': ['Deep Gnome'], 'processedRace': ['Gn...</td>\n",
              "      <td>[Haunted One]</td>\n",
              "      <td>[2018-04-06 16:48:15]</td>\n",
              "      <td>{'Rogue': {'class': ['Rogue'], 'subclass': [''...</td>\n",
              "      <td>[2]</td>\n",
              "      <td>[1-3]</td>\n",
              "      <td>[]</td>\n",
              "      <td>[17]</td>\n",
              "      <td>[13]</td>\n",
              "      <td>{'Str': [9], 'Dex': [16], 'Con': [15], 'Int': ...</td>\n",
              "      <td>{'alignment': [''], 'processedAlignment': ['']...</td>\n",
              "      <td>[Investigation, Religion, Deception, Intimidat...</td>\n",
              "      <td>{'Rapier': {'weapon': ['Rapier'], 'processedWe...</td>\n",
              "      <td>{}</td>\n",
              "      <td>[Int]</td>\n",
              "      <td>{'expertise': ['Religion', 'Intimidation']}</td>\n",
              "      <td>{'country': [None], 'countryCode': [None]}</td>\n",
              "      <td>[1dc08f9e4350dc3e758b73a419029f20]</td>\n",
              "    </tr>\n",
              "  </tbody>\n",
              "</table>\n",
              "<p>7932 rows × 21 columns</p>\n",
              "</div>"
            ],
            "text/plain": [
              "                                             ip  ...                                hash\n",
              "optimistic_bhabha Fighter 8           [639f3bf]  ...  [03027f98fee6211735d1ec38e2d7cb3c]\n",
              "naughty_shtern Barbarian 1|Warlock 1  [245b1cd]  ...  [2959a8c8a3e73643b456a1f3200334e7]\n",
              "optimistic_bhabha Barbarian 6         [639f3bf]  ...  [0108cfbdfbde73e2178ac0eeadb66c5c]\n",
              "amazing_wiles Paladin 12                     []  ...  [11a689cf2f902f22882792ceec101f46]\n",
              "keen_lovelace Warlock 7               [1ba21f0]  ...  [31bc0dd883d16e40cc596a9fdbf0472f]\n",
              "...                                         ...  ...                                 ...\n",
              "nervous_goldstine Ranger 3            [d580ce9]  ...  [05998a5e27f3b8f14b58644ca9a10d42]\n",
              "gallant_hugle Druid 2|Bard 2          [d580ce9]  ...  [43b6a7471fb30ccd959287e6a2c7a903]\n",
              "condescending_lederberg Paladin 6     [d580ce9]  ...  [c224994d1134d58ae83dd5618ce192e9]\n",
              "relaxed_cori Bard 1                   [d580ce9]  ...  [3ea236dcfd2ecde78718881fe8e619b6]\n",
              "admiring_payne Rogue 2                [d580ce9]  ...  [1dc08f9e4350dc3e758b73a419029f20]\n",
              "\n",
              "[7932 rows x 21 columns]"
            ]
          },
          "metadata": {
            "tags": []
          },
          "execution_count": 3
        }
      ]
    },
    {
      "cell_type": "markdown",
      "metadata": {
        "id": "ZqVkTFcTd2Al",
        "colab_type": "text"
      },
      "source": [
        "## Unpack data"
      ]
    },
    {
      "cell_type": "code",
      "metadata": {
        "id": "i2kbktWb5TpM",
        "colab_type": "code",
        "colab": {
          "base_uri": "https://localhost:8080/",
          "height": 221
        },
        "outputId": "e3651dce-7f1f-4f6a-da5a-ffbfd20d8ee2"
      },
      "source": [
        "# unpacking everything each column comes in 2 types: jsons or singleton lists\n",
        "# but dtypes only indicate if it's a python 'object' \n",
        "# drop some of the unnecessary (for us) columns, e.g. ip, finger, date, location, hash, choices\n",
        "# [7803 rows x 11457 columns] for spells, drop those and weapons for now\n",
        "\n",
        "ignore = ['ip', 'finger','date', 'location', 'hash', 'choices','weapons', 'name', 'spells']\n",
        "\n",
        "clean_df = pd.json_normalize(df['name'])\n",
        "clean_df = clean_df['alias'].str[0]\n",
        "\n",
        "for key in df.keys():\n",
        "  if key in ignore:\n",
        "    continue\n",
        "  try: # try doing a json_normalize, which will fail if it's not a json\n",
        "    data = pd.json_normalize(df[key])\n",
        "    for col in data.keys(): # unpack the singletons in each json column\n",
        "      data[col] = data[col].str[0]\n",
        "  except AttributeError: \n",
        "    data = df[key].str[0]\n",
        "    data = data.reset_index(drop=True) # use integer index to conform with json_normalize index\n",
        "  \n",
        "  clean_df = pd.concat([clean_df, data], axis=1)\n",
        "\n",
        "num_spells = df['spells'].apply(len).reset_index(drop=True)\n",
        "\n",
        "clean_df = pd.concat([clean_df, num_spells], axis = 1)\n",
        "\n",
        "clean_df['spells']"
      ],
      "execution_count": null,
      "outputs": [
        {
          "output_type": "execute_result",
          "data": {
            "text/plain": [
              "0       0\n",
              "1       4\n",
              "2       0\n",
              "3       6\n",
              "4       0\n",
              "       ..\n",
              "7927    0\n",
              "7928    0\n",
              "7929    7\n",
              "7930    7\n",
              "7931    0\n",
              "Name: spells, Length: 7932, dtype: int64"
            ]
          },
          "metadata": {
            "tags": []
          },
          "execution_count": 4
        }
      ]
    },
    {
      "cell_type": "markdown",
      "metadata": {
        "id": "O1wCJ7Cb-LWP",
        "colab_type": "text"
      },
      "source": [
        "## Add features"
      ]
    },
    {
      "cell_type": "code",
      "metadata": {
        "id": "VZN5A0pI-LBp",
        "colab_type": "code",
        "colab": {
          "base_uri": "https://localhost:8080/",
          "height": 221
        },
        "outputId": "bb244bf0-b4b3-419e-a704-a436f00471ca"
      },
      "source": [
        "# add generic \"primary class\" column/label\n",
        "class_list = ['Artificer.level','Barbarian.level','Bard.level','Cleric.level','Druid.level','Fighter.level','Monk.level' \\\n",
        "                  ,'Paladin.level','Ranger.level','Rogue.level','Sorcerer.level','Warlock.level','Wizard.level']\n",
        "class_df = clean_df[class_list]\n",
        "\n",
        "primary_class = class_df.idxmax(axis=1)\n",
        "class1 = list(primary_class.str.split('.').str[0])\n",
        "clean_df['class1'] = class1\n",
        "\n",
        "# add generic \"primary class level\" column/label\n",
        "primary_class_level = class_df.max(axis=1)\n",
        "clean_df['level1'] = primary_class_level\n",
        "\n",
        "# add binary casting<Stat> for each attribute\n",
        "attributes = ['Cha','Con','Dex','Int','Str','Wis']\n",
        "\n",
        "for attribute in attributes:\n",
        "  castingStat = clean_df['castingStat'] == attribute\n",
        "  clean_df[f'casting{attribute}'] = castingStat.astype(int)\n",
        "\n",
        "clean_df['spells']\n"
      ],
      "execution_count": null,
      "outputs": [
        {
          "output_type": "execute_result",
          "data": {
            "text/plain": [
              "0       0\n",
              "1       4\n",
              "2       0\n",
              "3       6\n",
              "4       0\n",
              "       ..\n",
              "7927    0\n",
              "7928    0\n",
              "7929    7\n",
              "7930    7\n",
              "7931    0\n",
              "Name: spells, Length: 7932, dtype: int64"
            ]
          },
          "metadata": {
            "tags": []
          },
          "execution_count": 5
        }
      ]
    },
    {
      "cell_type": "markdown",
      "metadata": {
        "id": "FT12XTANqWrQ",
        "colab_type": "text"
      },
      "source": [
        "## Clean and filter data"
      ]
    },
    {
      "cell_type": "code",
      "metadata": {
        "id": "52GMeiWGwNQg",
        "colab_type": "code",
        "colab": {
          "base_uri": "https://localhost:8080/",
          "height": 34
        },
        "outputId": "6e5c081e-6100-4aa0-a62e-cf9c7ef9764d"
      },
      "source": [
        "# remove multi-classes\n",
        "num_classes = clean_df[class_list].apply(lambda x: x.count(), axis=1)\n",
        "print('removing', len(clean_df[num_classes != 1]), 'multi-class (or zero class) entries')\n",
        "no_multi_df = clean_df[num_classes == 1]"
      ],
      "execution_count": null,
      "outputs": [
        {
          "output_type": "stream",
          "text": [
            "removing 969 multi-class (or zero class) entries\n"
          ],
          "name": "stdout"
        }
      ]
    },
    {
      "cell_type": "code",
      "metadata": {
        "id": "Kin1ojxowVHj",
        "colab_type": "code",
        "colab": {
          "base_uri": "https://localhost:8080/",
          "height": 34
        },
        "outputId": "d78d9d6b-fd55-40e7-dac8-e495b668cf8e"
      },
      "source": [
        "# remove artificer class\n",
        "print('removing', len(no_multi_df[no_multi_df['Artificer.level'].notnull()]), 'Artificer entries')\n",
        "no_artificer_df = no_multi_df[~no_multi_df['Artificer.level'].notnull()]"
      ],
      "execution_count": null,
      "outputs": [
        {
          "output_type": "stream",
          "text": [
            "removing 60 Artificer entries\n"
          ],
          "name": "stdout"
        }
      ]
    },
    {
      "cell_type": "code",
      "metadata": {
        "id": "76gbpySqwYj-",
        "colab_type": "code",
        "colab": {}
      },
      "source": [
        "# clean up further by removing redundant columns (with new class1 and level1 labels)\n",
        "keep = ['alias',\n",
        "        'race', 'processedRace', # probably only need one\n",
        "        'background',\n",
        "        'level','levelGroup', # do we need these\n",
        "        'feats',\n",
        "        'HP', 'AC',\n",
        "        'Str', 'Dex', 'Con', 'Int', 'Wis', 'Cha',\n",
        "        'processedAlignment',\n",
        "        'skills', \n",
        "        'castingStat', \n",
        "        'class1','level1',\n",
        "        'castingCha', 'castingCon', 'castingDex', 'castingInt',\t'castingStr',\t'castingWis',\n",
        "        'spells']\n",
        "\n",
        "no_artificer_df = no_artificer_df[keep]"
      ],
      "execution_count": null,
      "outputs": []
    },
    {
      "cell_type": "code",
      "metadata": {
        "id": "AjGv-i6SwhOX",
        "colab_type": "code",
        "colab": {
          "base_uri": "https://localhost:8080/",
          "height": 319
        },
        "outputId": "abeb6bff-60b7-470c-8b6a-a499634660ee"
      },
      "source": [
        "# remove outliers in stat, hp, and ac following 1.5*iqr convention\n",
        "\n",
        "\n",
        "if 0: # don't like this, retry with hp / level\n",
        "  total_outliers = 0\n",
        "\n",
        "  #for att in attributes + ['HP', 'AC']:\n",
        "  for att in ['HP', 'AC'] + attributes:\n",
        "    boxplot = plt.boxplot(no_artificer_df[att], labels=[att])\n",
        "    whiskers = [x.get_ydata()[1] for x in boxplot['whiskers']] # gives the 1.5*iqr whisker boundaries\n",
        "\n",
        "    n_small_outliers = len(no_artificer_df[no_artificer_df[att] < whiskers[0]])\n",
        "    n_large_outliers = len(no_artificer_df[no_artificer_df[att] > whiskers[1]])\n",
        "    n_outliers = n_small_outliers + n_large_outliers\n",
        "    total_outliers += n_outliers\n",
        "\n",
        "    print(f'removing {n_outliers} entries with {att} < {whiskers[0]} and {att} > {whiskers[1]}')\n",
        "    no_artificer_df = no_artificer_df[no_artificer_df[att] >= whiskers[0]]\n",
        "    no_artificer_df = no_artificer_df[no_artificer_df[att] <= whiskers[1]]\n",
        "\n",
        "  print(f'removed {total_outliers} outliers in total')\n",
        "\n",
        "# blindly following 1.5*iqr rule kills a lot, might need to revisit this and do something more nuanced\n",
        "# the 1.5 scaling might be better suited to specific distributions (Gaussian), which the HP does not follow \n",
        "# in fact, the HP has a lot of 'outliers' by this metric, and in removing them, changes the iqr for distributions after\n",
        "# so the final number of removed outliers is dependent on which order you perform it in, if using only the 1.5*iqr rule\n",
        "# 6007 / 7803 remain if doing [attributes, 'HP', 'AC'] vs 6221 / 7803 if doing ['HP', 'AC', attributes]\n",
        "\n",
        "hp_per_level = no_artificer_df['HP'].divide(no_artificer_df['level1'])\n",
        "\n",
        "boxplot = plt.boxplot(hp_per_level)\n",
        "whiskers = [x.get_ydata()[1] for x in boxplot['whiskers']] # gives the 1.5*iqr whisker boundaries\n",
        "\n",
        "n_small_outliers = len(hp_per_level[hp_per_level < whiskers[0]])\n",
        "n_large_outliers = len(hp_per_level[hp_per_level > whiskers[1]])\n",
        "n_outliers = n_small_outliers + n_large_outliers\n",
        "\n",
        "print(f'removing {n_outliers} entries with HP / level < {whiskers[0]} and HP / level > {whiskers[1]}')\n",
        "no_artificer_df = no_artificer_df[hp_per_level >= whiskers[0]]\n",
        "no_artificer_df = no_artificer_df[hp_per_level <= whiskers[1]]\n",
        "\n"
      ],
      "execution_count": null,
      "outputs": [
        {
          "output_type": "stream",
          "text": [
            "removing 79 entries with HP / level < 2.5 and HP / level > 16.0\n"
          ],
          "name": "stdout"
        },
        {
          "output_type": "stream",
          "text": [
            "/usr/local/lib/python3.6/dist-packages/ipykernel_launcher.py:40: UserWarning: Boolean Series key will be reindexed to match DataFrame index.\n"
          ],
          "name": "stderr"
        },
        {
          "output_type": "display_data",
          "data": {
            "image/png": "[encoded data removed]",
            "text/plain": [
              "<Figure size 432x288 with 1 Axes>"
            ]
          },
          "metadata": {
            "tags": [],
            "needs_background": "light"
          }
        }
      ]
    },
    {
      "cell_type": "code",
      "metadata": {
        "id": "fsoWDAleqaLD",
        "colab_type": "code",
        "colab": {
          "base_uri": "https://localhost:8080/",
          "height": 317
        },
        "outputId": "52402dd8-c1a1-4506-8c24-a33b74ec43e4"
      },
      "source": [
        "# set main_df as primary DataFrame for modeling (lol)\n",
        "# didn't use clean_df because it broke some of the existing cells below\n",
        "main_df = no_artificer_df\n",
        "main_df.describe()"
      ],
      "execution_count": null,
      "outputs": [
        {
          "output_type": "execute_result",
          "data": {
            "text/html": [
              "<div>\n",
              "<style scoped>\n",
              "    .dataframe tbody tr th:only-of-type {\n",
              "        vertical-align: middle;\n",
              "    }\n",
              "\n",
              "    .dataframe tbody tr th {\n",
              "        vertical-align: top;\n",
              "    }\n",
              "\n",
              "    .dataframe thead th {\n",
              "        text-align: right;\n",
              "    }\n",
              "</style>\n",
              "<table border=\"1\" class=\"dataframe\">\n",
              "  <thead>\n",
              "    <tr style=\"text-align: right;\">\n",
              "      <th></th>\n",
              "      <th>level</th>\n",
              "      <th>HP</th>\n",
              "      <th>AC</th>\n",
              "      <th>Str</th>\n",
              "      <th>Dex</th>\n",
              "      <th>Con</th>\n",
              "      <th>Int</th>\n",
              "      <th>Wis</th>\n",
              "      <th>Cha</th>\n",
              "      <th>level1</th>\n",
              "      <th>castingCha</th>\n",
              "      <th>castingCon</th>\n",
              "      <th>castingDex</th>\n",
              "      <th>castingInt</th>\n",
              "      <th>castingStr</th>\n",
              "      <th>castingWis</th>\n",
              "      <th>spells</th>\n",
              "    </tr>\n",
              "  </thead>\n",
              "  <tbody>\n",
              "    <tr>\n",
              "      <th>count</th>\n",
              "      <td>6824.000000</td>\n",
              "      <td>6824.000000</td>\n",
              "      <td>6824.000000</td>\n",
              "      <td>6824.000000</td>\n",
              "      <td>6824.000000</td>\n",
              "      <td>6824.000000</td>\n",
              "      <td>6824.000000</td>\n",
              "      <td>6824.000000</td>\n",
              "      <td>6824.000000</td>\n",
              "      <td>6824.000000</td>\n",
              "      <td>6824.000000</td>\n",
              "      <td>6824.000000</td>\n",
              "      <td>6824.000000</td>\n",
              "      <td>6824.000000</td>\n",
              "      <td>6824.000000</td>\n",
              "      <td>6824.000000</td>\n",
              "      <td>6824.000000</td>\n",
              "    </tr>\n",
              "    <tr>\n",
              "      <th>mean</th>\n",
              "      <td>4.326641</td>\n",
              "      <td>39.144783</td>\n",
              "      <td>15.215563</td>\n",
              "      <td>12.808324</td>\n",
              "      <td>14.583382</td>\n",
              "      <td>14.282679</td>\n",
              "      <td>11.921893</td>\n",
              "      <td>13.121043</td>\n",
              "      <td>13.063013</td>\n",
              "      <td>4.321073</td>\n",
              "      <td>0.277403</td>\n",
              "      <td>0.001319</td>\n",
              "      <td>0.000879</td>\n",
              "      <td>0.471424</td>\n",
              "      <td>0.000879</td>\n",
              "      <td>0.248095</td>\n",
              "      <td>3.586899</td>\n",
              "    </tr>\n",
              "    <tr>\n",
              "      <th>std</th>\n",
              "      <td>3.719478</td>\n",
              "      <td>37.639984</td>\n",
              "      <td>2.516483</td>\n",
              "      <td>3.871323</td>\n",
              "      <td>3.011643</td>\n",
              "      <td>2.318407</td>\n",
              "      <td>2.915925</td>\n",
              "      <td>2.990385</td>\n",
              "      <td>3.523687</td>\n",
              "      <td>3.712667</td>\n",
              "      <td>0.447750</td>\n",
              "      <td>0.036295</td>\n",
              "      <td>0.029641</td>\n",
              "      <td>0.499219</td>\n",
              "      <td>0.029641</td>\n",
              "      <td>0.431939</td>\n",
              "      <td>6.644514</td>\n",
              "    </tr>\n",
              "    <tr>\n",
              "      <th>min</th>\n",
              "      <td>1.000000</td>\n",
              "      <td>3.000000</td>\n",
              "      <td>7.000000</td>\n",
              "      <td>1.000000</td>\n",
              "      <td>3.000000</td>\n",
              "      <td>4.000000</td>\n",
              "      <td>0.000000</td>\n",
              "      <td>4.000000</td>\n",
              "      <td>0.000000</td>\n",
              "      <td>1.000000</td>\n",
              "      <td>0.000000</td>\n",
              "      <td>0.000000</td>\n",
              "      <td>0.000000</td>\n",
              "      <td>0.000000</td>\n",
              "      <td>0.000000</td>\n",
              "      <td>0.000000</td>\n",
              "      <td>0.000000</td>\n",
              "    </tr>\n",
              "    <tr>\n",
              "      <th>25%</th>\n",
              "      <td>1.000000</td>\n",
              "      <td>13.000000</td>\n",
              "      <td>13.000000</td>\n",
              "      <td>10.000000</td>\n",
              "      <td>13.000000</td>\n",
              "      <td>13.000000</td>\n",
              "      <td>10.000000</td>\n",
              "      <td>11.000000</td>\n",
              "      <td>10.000000</td>\n",
              "      <td>1.000000</td>\n",
              "      <td>0.000000</td>\n",
              "      <td>0.000000</td>\n",
              "      <td>0.000000</td>\n",
              "      <td>0.000000</td>\n",
              "      <td>0.000000</td>\n",
              "      <td>0.000000</td>\n",
              "      <td>0.000000</td>\n",
              "    </tr>\n",
              "    <tr>\n",
              "      <th>50%</th>\n",
              "      <td>3.000000</td>\n",
              "      <td>28.000000</td>\n",
              "      <td>15.000000</td>\n",
              "      <td>12.000000</td>\n",
              "      <td>15.000000</td>\n",
              "      <td>14.000000</td>\n",
              "      <td>12.000000</td>\n",
              "      <td>13.000000</td>\n",
              "      <td>13.000000</td>\n",
              "      <td>3.000000</td>\n",
              "      <td>0.000000</td>\n",
              "      <td>0.000000</td>\n",
              "      <td>0.000000</td>\n",
              "      <td>0.000000</td>\n",
              "      <td>0.000000</td>\n",
              "      <td>0.000000</td>\n",
              "      <td>0.000000</td>\n",
              "    </tr>\n",
              "    <tr>\n",
              "      <th>75%</th>\n",
              "      <td>5.000000</td>\n",
              "      <td>49.000000</td>\n",
              "      <td>17.000000</td>\n",
              "      <td>16.000000</td>\n",
              "      <td>16.000000</td>\n",
              "      <td>16.000000</td>\n",
              "      <td>14.000000</td>\n",
              "      <td>15.000000</td>\n",
              "      <td>16.000000</td>\n",
              "      <td>5.000000</td>\n",
              "      <td>1.000000</td>\n",
              "      <td>0.000000</td>\n",
              "      <td>0.000000</td>\n",
              "      <td>1.000000</td>\n",
              "      <td>0.000000</td>\n",
              "      <td>0.000000</td>\n",
              "      <td>6.000000</td>\n",
              "    </tr>\n",
              "    <tr>\n",
              "      <th>max</th>\n",
              "      <td>24.000000</td>\n",
              "      <td>303.000000</td>\n",
              "      <td>32.000000</td>\n",
              "      <td>30.000000</td>\n",
              "      <td>29.000000</td>\n",
              "      <td>30.000000</td>\n",
              "      <td>26.000000</td>\n",
              "      <td>46.000000</td>\n",
              "      <td>32.000000</td>\n",
              "      <td>24.000000</td>\n",
              "      <td>1.000000</td>\n",
              "      <td>1.000000</td>\n",
              "      <td>1.000000</td>\n",
              "      <td>1.000000</td>\n",
              "      <td>1.000000</td>\n",
              "      <td>1.000000</td>\n",
              "      <td>98.000000</td>\n",
              "    </tr>\n",
              "  </tbody>\n",
              "</table>\n",
              "</div>"
            ],
            "text/plain": [
              "             level           HP  ...   castingWis       spells\n",
              "count  6824.000000  6824.000000  ...  6824.000000  6824.000000\n",
              "mean      4.326641    39.144783  ...     0.248095     3.586899\n",
              "std       3.719478    37.639984  ...     0.431939     6.644514\n",
              "min       1.000000     3.000000  ...     0.000000     0.000000\n",
              "25%       1.000000    13.000000  ...     0.000000     0.000000\n",
              "50%       3.000000    28.000000  ...     0.000000     0.000000\n",
              "75%       5.000000    49.000000  ...     0.000000     6.000000\n",
              "max      24.000000   303.000000  ...     1.000000    98.000000\n",
              "\n",
              "[8 rows x 17 columns]"
            ]
          },
          "metadata": {
            "tags": []
          },
          "execution_count": 10
        }
      ]
    },
    {
      "cell_type": "markdown",
      "metadata": {
        "id": "3NWBgzvkeCGm",
        "colab_type": "text"
      },
      "source": [
        "# Exploratory Data Analysis"
      ]
    },
    {
      "cell_type": "markdown",
      "metadata": {
        "id": "XxqDXrOHm-3o",
        "colab_type": "text"
      },
      "source": [
        "## Number of multi-class"
      ]
    },
    {
      "cell_type": "code",
      "metadata": {
        "id": "IPEi-8J1tsFv",
        "colab_type": "code",
        "colab": {
          "base_uri": "https://localhost:8080/",
          "height": 519
        },
        "outputId": "06bfaf0a-8cf3-4565-b33d-2f08f5754d1e"
      },
      "source": [
        "clean_df[clean_df['race'] == 'Goblin']\n",
        "\n",
        "clean_df[clean_df['Ranger.class'] == 'Ranger']\n",
        "\n",
        "(clean_df['Ranger.class'] == 'Ranger') & (clean_df['race'] == 'Goblin')\n",
        "\n",
        "clean_df[(clean_df['Ranger.class'] == 'Ranger') & (clean_df['race'] == 'Goblin')]\n",
        "\n",
        "clean_df[(clean_df['Ranger.class'].notnull()) & (clean_df['Ranger.subclass'] != '')]\n",
        "\n",
        "classes = ['Ranger.class', \n",
        "           'Barbarian.class', \n",
        "           'Bard.class', \n",
        "           'Druid.class', \n",
        "           'Paladin.class', \n",
        "           'Wizard.class',\n",
        "           'Fighter.class',\n",
        "           'Cleric.class',\n",
        "           'Artificer.class',\n",
        "           'Rogue.class',\n",
        "           'Sorcerer.class',\n",
        "           'Warlock.class']\n",
        "\n",
        "clean_df[clean_df['alias'] == 'suspicious_goldwasser']\n",
        "\n",
        "# there are characters with multiple <CLASS>.class entries\n",
        "\n",
        "class_levels = [x.replace('class', 'level') for x in classes]\n",
        "\n",
        "num_classes = clean_df[class_levels].apply(lambda x: x.count(), axis=1)\n",
        "\n",
        "plt.hist(num_classes, bins=13, range=(0,13))\n",
        "plt.show()\n",
        "\n",
        "plt.hist(num_classes, bins=13, range=(0,13))\n",
        "plt.yscale('log')\n",
        "plt.show()\n",
        "\n",
        "# fortunately it's predominantly only 1-class followed by 2-class, \n",
        "# a fair chunk of 0-class and a smattering of >2-class, should we just remove?"
      ],
      "execution_count": null,
      "outputs": [
        {
          "output_type": "display_data",
          "data": {
            "image/png": "[encoded data removed]",
            "text/plain": [
              "<Figure size 432x288 with 1 Axes>"
            ]
          },
          "metadata": {
            "tags": [],
            "needs_background": "light"
          }
        },
        {
          "output_type": "display_data",
          "data": {
            "image/png": "[encoded data removed]",
            "text/plain": [
              "<Figure size 432x288 with 1 Axes>"
            ]
          },
          "metadata": {
            "tags": [],
            "needs_background": "light"
          }
        }
      ]
    },
    {
      "cell_type": "markdown",
      "metadata": {
        "id": "nQ4sEzO0nFDG",
        "colab_type": "text"
      },
      "source": [
        "## Number of each class"
      ]
    },
    {
      "cell_type": "code",
      "metadata": {
        "id": "xKt9Cl1Xzo96",
        "colab_type": "code",
        "colab": {
          "base_uri": "https://localhost:8080/"
        },
        "outputId": "210800b8-eaca-4a47-d824-cb6528dc1a45"
      },
      "source": [
        "# start simple, how many of each class\n",
        "classes = clean_df.class1.value_counts().index\n",
        "class_counts = clean_df.class1.value_counts().values\n",
        "\n",
        "class_count_tuples = list( zip(classes, class_counts))\n",
        "\n",
        "class_data = pd.DataFrame( class_count_tuples,\n",
        "                              columns = ['class','counts'])\n",
        "\n",
        "plt.barh(class_data['class'], class_data['counts'])\n",
        "plt.gca().invert_yaxis()\n",
        "plt.show\n",
        "\n",
        "# what do we want to know\n",
        "  # what does the class data look like (balanced? any nuances?)\n",
        "    # how do we handle multiclassing?\n",
        "    # how do we handle if equal levels in both classes?\n",
        "    \n",
        "  # what variables might be related / have information \n",
        "# level distribution\n",
        "# race distribution\n",
        "#hp\n",
        "#ac\n",
        "#casting stat"
      ],
      "execution_count": null,
      "outputs": [
        {
          "output_type": "execute_result",
          "data": {
            "text/plain": [
              "<function matplotlib.pyplot.show>"
            ]
          },
          "metadata": {
            "tags": []
          },
          "execution_count": 12
        },
        {
          "output_type": "display_data",
          "data": {
            "image/png": "[encoded data removed]",
            "text/plain": [
              "<Figure size 432x288 with 1 Axes>"
            ]
          },
          "metadata": {
            "tags": [],
            "needs_background": "light"
          }
        }
      ]
    },
    {
      "cell_type": "markdown",
      "metadata": {
        "id": "3sBdd_gVoiGF",
        "colab_type": "text"
      },
      "source": [
        "## Distributions"
      ]
    },
    {
      "cell_type": "markdown",
      "metadata": {
        "id": "Ab05jlOGoAb3",
        "colab_type": "text"
      },
      "source": [
        "### Attribute distributions"
      ]
    },
    {
      "cell_type": "code",
      "metadata": {
        "id": "vdM3DaPDD9rk",
        "colab_type": "code",
        "colab": {
          "base_uri": "https://localhost:8080/"
        },
        "outputId": "8f43ea6b-7f68-4f5a-e5a9-b7f7385dcfae"
      },
      "source": [
        "# get attribute data\n",
        "attributes_data = json_normalize(df['attributes'])\n",
        "\n",
        "# convert into numbers \n",
        "#attributes_data[cols] = attributes_data[cols].astype(str).replace({'\\[':''}, regex=True)\n",
        "#attributes_data[cols] = attributes_data[cols].astype(str).replace({'\\]':''}, regex=True)\n",
        "#attributes_data[cols] = attributes_data[cols].astype(int)\n",
        "for attribute in attributes:\n",
        "  attributes_data[attribute] = attributes_data[attribute].str[0] # works if type(attributes_data[col]) == list\n",
        "\n",
        "print(attributes_data.describe())\n",
        "      \n",
        "if 0:\n",
        "  for iattribute, attribute in enumerate(attributes):\n",
        "    plt.hist(attributes_data[attribute], bins=50, range=(0,50))\n",
        "    plt.xlabel(attribute)\n",
        "    plt.yscale('log')\n",
        "    plt.show()\n",
        "\n",
        "    for iattribute2, attribute2 in enumerate(attributes):\n",
        "      if iattribute2 > iattribute:\n",
        "        plt.hist2d(attributes_data[attribute], attributes_data[attribute2], bins=50, range=[(0,50),(0,50)])\n",
        "        plt.xlabel(attribute)\n",
        "        plt.ylabel(attribute2)\n",
        "        plt.show()    \n",
        "\n",
        "att_dfs = []\n",
        "for att in attributes:\n",
        "  att_dfs.append(clean_df[att] / clean_df['level'])\n",
        "\n",
        "\n",
        "\n",
        "zzz = plt.boxplot(att_dfs, labels=attributes)\n",
        "plt.show()\n",
        "\n",
        "fig, axs = plt.subplots(2,3, figsize=(20, 10))\n",
        "\n",
        "derp = [(0,0), (0,1), (0,2), (1,0), (1,1), (1,2)]\n",
        "for iatt, att in enumerate(attributes):\n",
        "  axs[derp[iatt][0], derp[iatt][1]].scatter(clean_df['level'], clean_df[att])\n",
        "  axs[derp[iatt][0], derp[iatt][1]].set_title(att)\n",
        "plt.show()\n"
      ],
      "execution_count": null,
      "outputs": [
        {
          "output_type": "stream",
          "text": [
            "/usr/local/lib/python3.6/dist-packages/ipykernel_launcher.py:2: FutureWarning: pandas.io.json.json_normalize is deprecated, use pandas.json_normalize instead\n",
            "  \n"
          ],
          "name": "stderr"
        },
        {
          "output_type": "stream",
          "text": [
            "               Str          Dex  ...          Wis          Cha\n",
            "count  7932.000000  7932.000000  ...  7932.000000  7932.000000\n",
            "mean     12.830182    14.697176  ...    13.124685    13.152042\n",
            "std       4.035092     3.230767  ...     3.164264     3.697465\n",
            "min       1.000000     3.000000  ...     1.000000     0.000000\n",
            "25%      10.000000    13.000000  ...    11.000000    10.000000\n",
            "50%      12.000000    15.000000  ...    13.000000    13.000000\n",
            "75%      16.000000    17.000000  ...    15.000000    16.000000\n",
            "max     103.000000   101.000000  ...   100.000000    99.000000\n",
            "\n",
            "[8 rows x 6 columns]\n"
          ],
          "name": "stdout"
        },
        {
          "output_type": "display_data",
          "data": {
            "image/png": "[encoded data removed]",
            "text/plain": [
              "<Figure size 432x288 with 1 Axes>"
            ]
          },
          "metadata": {
            "tags": [],
            "needs_background": "light"
          }
        },
        {
          "output_type": "display_data",
          "data": {
            "image/png": "[encoded data removed]",
            "text/plain": [
              "<Figure size 1440x720 with 6 Axes>"
            ]
          },
          "metadata": {
            "tags": [],
            "needs_background": "light"
          }
        }
      ]
    },
    {
      "cell_type": "code",
      "metadata": {
        "id": "MHf48jKQoV4j",
        "colab_type": "code",
        "colab": {
          "base_uri": "https://localhost:8080/"
        },
        "outputId": "d76dc6d6-7f69-4721-c48a-4a92b2edcb33"
      },
      "source": [
        "for cls in class_levels:\n",
        "  cls_df = clean_df[clean_df[cls].notnull()]\n",
        "  atts = []\n",
        "  for att in attributes:\n",
        "    atts.append(cls_df[att])\n",
        "  plt.hist(atts, histtype='step', fill=False, bins=30, range=(0,30))\n",
        "  plt.legend(attributes)\n",
        "  plt.title(cls.split('.')[0])\n",
        "  plt.show()"
      ],
      "execution_count": null,
      "outputs": [
        {
          "output_type": "display_data",
          "data": {
            "image/png": "[encoded data removed]",
            "text/plain": [
              "<Figure size 432x288 with 1 Axes>"
            ]
          },
          "metadata": {
            "tags": [],
            "needs_background": "light"
          }
        },
        {
          "output_type": "display_data",
          "data": {
            "image/png": "[encoded data removed]",
            "text/plain": [
              "<Figure size 432x288 with 1 Axes>"
            ]
          },
          "metadata": {
            "tags": [],
            "needs_background": "light"
          }
        },
        {
          "output_type": "display_data",
          "data": {
            "image/png": "[encoded data removed]",
            "text/plain": [
              "<Figure size 432x288 with 1 Axes>"
            ]
          },
          "metadata": {
            "tags": [],
            "needs_background": "light"
          }
        },
        {
          "output_type": "display_data",
          "data": {
            "image/png": "[encoded data removed]",
            "text/plain": [
              "<Figure size 432x288 with 1 Axes>"
            ]
          },
          "metadata": {
            "tags": [],
            "needs_background": "light"
          }
        },
        {
          "output_type": "display_data",
          "data": {
            "image/png": "[encoded data removed]",
            "text/plain": [
              "<Figure size 432x288 with 1 Axes>"
            ]
          },
          "metadata": {
            "tags": [],
            "needs_background": "light"
          }
        },
        {
          "output_type": "display_data",
          "data": {
            "image/png": "[encoded data removed]",
            "text/plain": [
              "<Figure size 432x288 with 1 Axes>"
            ]
          },
          "metadata": {
            "tags": [],
            "needs_background": "light"
          }
        },
        {
          "output_type": "display_data",
          "data": {
            "image/png": "[encoded data removed]",
            "text/plain": [
              "<Figure size 432x288 with 1 Axes>"
            ]
          },
          "metadata": {
            "tags": [],
            "needs_background": "light"
          }
        },
        {
          "output_type": "display_data",
          "data": {
            "image/png": "[encoded data removed]",
            "text/plain": [
              "<Figure size 432x288 with 1 Axes>"
            ]
          },
          "metadata": {
            "tags": [],
            "needs_background": "light"
          }
        },
        {
          "output_type": "display_data",
          "data": {
            "image/png": "[encoded data removed]",
            "text/plain": [
              "<Figure size 432x288 with 1 Axes>"
            ]
          },
          "metadata": {
            "tags": [],
            "needs_background": "light"
          }
        },
        {
          "output_type": "display_data",
          "data": {
            "image/png": "[encoded data removed]",
            "text/plain": [
              "<Figure size 432x288 with 1 Axes>"
            ]
          },
          "metadata": {
            "tags": [],
            "needs_background": "light"
          }
        },
        {
          "output_type": "display_data",
          "data": {
            "image/png": "[encoded data removed]",
            "text/plain": [
              "<Figure size 432x288 with 1 Axes>"
            ]
          },
          "metadata": {
            "tags": [],
            "needs_background": "light"
          }
        },
        {
          "output_type": "display_data",
          "data": {
            "image/png": "[encoded data removed]",
            "text/plain": [
              "<Figure size 432x288 with 1 Axes>"
            ]
          },
          "metadata": {
            "tags": [],
            "needs_background": "light"
          }
        }
      ]
    },
    {
      "cell_type": "markdown",
      "metadata": {
        "id": "BM8bOgYSoJT0",
        "colab_type": "text"
      },
      "source": [
        "### HP distributions"
      ]
    },
    {
      "cell_type": "code",
      "metadata": {
        "id": "HVbbHbZsoL_M",
        "colab_type": "code",
        "colab": {
          "base_uri": "https://localhost:8080/"
        },
        "outputId": "55081b37-0ac2-4a4d-d028-60b124ad31be"
      },
      "source": [
        "#plt.hist(clean_df['HP'], histtype='step', fill=False, bins=100, range=(0,1000))\n",
        "#plt.show()\n",
        "\n",
        "\n",
        "hp_per_level = clean_df['HP'].divide(clean_df['level'])\n",
        "\n",
        "plt.hist(hp_per_level[hp_per_level <150], histtype='step', fill=False, bins=100, range=(0,100))\n",
        "plt.show()\n",
        "\n",
        "plt.scatter(clean_df['level'], clean_df['HP'])\n",
        "plt.show()\n",
        "\n",
        "zzz = plt.boxplot(hp_per_level[hp_per_level <150])\n",
        "plt.yscale('log')\n",
        "plt.show()\n",
        "x = [item.get_ydata() for item in zzz['whiskers']]\n",
        "print(x)\n",
        "print(len(hp_per_level[hp_per_level >15]))\n",
        "\n",
        "# for each class\n",
        "\n",
        "#for cls in class_levels:\n",
        "#  cls_df = clean_df[clean_df[cls].notnull()]\n",
        "#  plt.hist(cls_df['HP'], histtype='step', fill=False, bins=50, range=(0,1000))\n",
        "#  plt.title(cls.split('.')[0])\n",
        "#  plt.show()"
      ],
      "execution_count": null,
      "outputs": [
        {
          "output_type": "display_data",
          "data": {
            "image/png": "[encoded data removed]",
            "text/plain": [
              "<Figure size 432x288 with 1 Axes>"
            ]
          },
          "metadata": {
            "tags": [],
            "needs_background": "light"
          }
        },
        {
          "output_type": "display_data",
          "data": {
            "image/png": "[encoded data removed]",
            "text/plain": [
              "<Figure size 432x288 with 1 Axes>"
            ]
          },
          "metadata": {
            "tags": [],
            "needs_background": "light"
          }
        },
        {
          "output_type": "display_data",
          "data": {
            "image/png": "[encoded data removed]",
            "text/plain": [
              "<Figure size 432x288 with 1 Axes>"
            ]
          },
          "metadata": {
            "tags": [],
            "needs_background": "light"
          }
        },
        {
          "output_type": "stream",
          "text": [
            "[array([7.6, 3. ]), array([10.75      , 15.46666667])]\n",
            "98\n"
          ],
          "name": "stdout"
        }
      ]
    },
    {
      "cell_type": "markdown",
      "metadata": {
        "id": "-kr2eDSVwhf0",
        "colab_type": "text"
      },
      "source": [
        "### AC distributions"
      ]
    },
    {
      "cell_type": "code",
      "metadata": {
        "id": "4UhJuBopweL1",
        "colab_type": "code",
        "colab": {
          "base_uri": "https://localhost:8080/"
        },
        "outputId": "9f16d4d1-77bc-4237-a4d9-827909e2a57f"
      },
      "source": [
        "plt.hist(clean_df['AC'], histtype='step', fill=False, bins=50, range=(0,50))\n",
        "plt.show()\n",
        "\n",
        "# for each class\n",
        "for cls in class_levels:\n",
        "  cls_df = clean_df[clean_df[cls].notnull()]\n",
        "  plt.hist(cls_df['AC'], histtype='step', fill=False, bins=50, range=(0,50))\n",
        "  plt.title(cls.split('.')[0])\n",
        "  plt.show()"
      ],
      "execution_count": null,
      "outputs": [
        {
          "output_type": "display_data",
          "data": {
            "image/png": "[encoded data removed]",
            "text/plain": [
              "<Figure size 432x288 with 1 Axes>"
            ]
          },
          "metadata": {
            "tags": [],
            "needs_background": "light"
          }
        },
        {
          "output_type": "display_data",
          "data": {
            "image/png": "[encoded data removed]",
            "text/plain": [
              "<Figure size 432x288 with 1 Axes>"
            ]
          },
          "metadata": {
            "tags": [],
            "needs_background": "light"
          }
        },
        {
          "output_type": "display_data",
          "data": {
            "image/png": "[encoded data removed]",
            "text/plain": [
              "<Figure size 432x288 with 1 Axes>"
            ]
          },
          "metadata": {
            "tags": [],
            "needs_background": "light"
          }
        },
        {
          "output_type": "display_data",
          "data": {
            "image/png": "[encoded data removed]",
            "text/plain": [
              "<Figure size 432x288 with 1 Axes>"
            ]
          },
          "metadata": {
            "tags": [],
            "needs_background": "light"
          }
        },
        {
          "output_type": "display_data",
          "data": {
            "image/png": "[encoded data removed]",
            "text/plain": [
              "<Figure size 432x288 with 1 Axes>"
            ]
          },
          "metadata": {
            "tags": [],
            "needs_background": "light"
          }
        },
        {
          "output_type": "display_data",
          "data": {
            "image/png": "[encoded data removed]",
            "text/plain": [
              "<Figure size 432x288 with 1 Axes>"
            ]
          },
          "metadata": {
            "tags": [],
            "needs_background": "light"
          }
        },
        {
          "output_type": "display_data",
          "data": {
            "image/png": "[encoded data removed]",
            "text/plain": [
              "<Figure size 432x288 with 1 Axes>"
            ]
          },
          "metadata": {
            "tags": [],
            "needs_background": "light"
          }
        },
        {
          "output_type": "display_data",
          "data": {
            "image/png": "[encoded data removed]",
            "text/plain": [
              "<Figure size 432x288 with 1 Axes>"
            ]
          },
          "metadata": {
            "tags": [],
            "needs_background": "light"
          }
        },
        {
          "output_type": "display_data",
          "data": {
            "image/png": "[encoded data removed]",
            "text/plain": [
              "<Figure size 432x288 with 1 Axes>"
            ]
          },
          "metadata": {
            "tags": [],
            "needs_background": "light"
          }
        },
        {
          "output_type": "display_data",
          "data": {
            "image/png": "[encoded data removed]",
            "text/plain": [
              "<Figure size 432x288 with 1 Axes>"
            ]
          },
          "metadata": {
            "tags": [],
            "needs_background": "light"
          }
        },
        {
          "output_type": "display_data",
          "data": {
            "image/png": "[encoded data removed]",
            "text/plain": [
              "<Figure size 432x288 with 1 Axes>"
            ]
          },
          "metadata": {
            "tags": [],
            "needs_background": "light"
          }
        },
        {
          "output_type": "display_data",
          "data": {
            "image/png": "[encoded data removed]",
            "text/plain": [
              "<Figure size 432x288 with 1 Axes>"
            ]
          },
          "metadata": {
            "tags": [],
            "needs_background": "light"
          }
        },
        {
          "output_type": "display_data",
          "data": {
            "image/png": "[encoded data removed]",
            "text/plain": [
              "<Figure size 432x288 with 1 Axes>"
            ]
          },
          "metadata": {
            "tags": [],
            "needs_background": "light"
          }
        }
      ]
    },
    {
      "cell_type": "markdown",
      "metadata": {
        "id": "0kJ8SxGVpHU-",
        "colab_type": "text"
      },
      "source": [
        "### Alignment distributions"
      ]
    },
    {
      "cell_type": "code",
      "metadata": {
        "id": "cJ-tImjMpJm1",
        "colab_type": "code",
        "colab": {
          "base_uri": "https://localhost:8080/"
        },
        "outputId": "a43529c4-49e3-4daa-f128-fb479947698e"
      },
      "source": [
        "# get alignment data\n",
        "alignment_data = pd.json_normalize(df['alignment'])\n",
        "#alignment_data = alignment_data['processedAlignment'].astype(str)\n",
        "alignment_data = alignment_data['processedAlignment'].str[0]\n",
        "alignment_data\n",
        "\n",
        "print(alignment_data.describe())\n",
        "print(alignment_data.unique())\n",
        "\n",
        "#plt.hist(alignment_data, bins=10)\n",
        "counts = alignment_data.value_counts()\n",
        "plt.bar(counts.index, counts.values)\n",
        "plt.show()\n"
      ],
      "execution_count": null,
      "outputs": [
        {
          "output_type": "stream",
          "text": [
            "count     7932\n",
            "unique      10\n",
            "top           \n",
            "freq      5435\n",
            "Name: processedAlignment, dtype: object\n",
            "['' 'CN' 'CG' 'NN' 'NG' 'LE' 'LN' 'NE' 'LG' 'CE']\n"
          ],
          "name": "stdout"
        },
        {
          "output_type": "display_data",
          "data": {
            "image/png": "[encoded data removed]",
            "text/plain": [
              "<Figure size 432x288 with 1 Axes>"
            ]
          },
          "metadata": {
            "tags": [],
            "needs_background": "light"
          }
        }
      ]
    },
    {
      "cell_type": "markdown",
      "metadata": {
        "id": "AOYYds5KNHwa",
        "colab_type": "text"
      },
      "source": [
        "## Outlier Exploration"
      ]
    },
    {
      "cell_type": "code",
      "metadata": {
        "id": "YtItLp_TNFR0",
        "colab_type": "code",
        "colab": {
          "base_uri": "https://localhost:8080/"
        },
        "outputId": "7bebadf3-10f2-496d-cadb-3622c2c5631a"
      },
      "source": [
        "# descriptive statistics\n",
        "\n",
        "clean_df[ ['Str','Dex','Con','Int','Wis','Cha'] ].describe()\n",
        "\n",
        "\n",
        "# distributions\n",
        "\n",
        "# IQR / boxplot outlier analysis\n",
        "att_dfs = []\n",
        "for att in attributes:\n",
        "  att_dfs.append(clean_df[att])\n",
        "\n",
        "plt.boxplot(att_dfs, labels=attributes)\n",
        "plt.show()\n",
        "\n",
        "for col in \"HP\", \"AC\":\n",
        "  zzz = plt.boxplot(clean_df[col], labels=[col])\n",
        "  plt.show()\n",
        "  x = [item.get_ydata()[1] for item in zzz['whiskers']]\n",
        "  print(x)\n",
        "# remove outliers"
      ],
      "execution_count": null,
      "outputs": [
        {
          "output_type": "display_data",
          "data": {
            "image/png": "[encoded data removed]",
            "text/plain": [
              "<Figure size 432x288 with 1 Axes>"
            ]
          },
          "metadata": {
            "tags": [],
            "needs_background": "light"
          }
        },
        {
          "output_type": "display_data",
          "data": {
            "image/png": "[encoded data removed]",
            "text/plain": [
              "<Figure size 432x288 with 1 Axes>"
            ]
          },
          "metadata": {
            "tags": [],
            "needs_background": "light"
          }
        },
        {
          "output_type": "stream",
          "text": [
            "[-24.0, 114.0]\n"
          ],
          "name": "stdout"
        },
        {
          "output_type": "display_data",
          "data": {
            "image/png": "[encoded data removed]",
            "text/plain": [
              "<Figure size 432x288 with 1 Axes>"
            ]
          },
          "metadata": {
            "tags": [],
            "needs_background": "light"
          }
        },
        {
          "output_type": "stream",
          "text": [
            "[10.0, 21.0]\n"
          ],
          "name": "stdout"
        }
      ]
    },
    {
      "cell_type": "markdown",
      "metadata": {
        "id": "jMQ4zKIpPLYH",
        "colab_type": "text"
      },
      "source": [
        "## Correlations and Relationships"
      ]
    },
    {
      "cell_type": "markdown",
      "metadata": {
        "id": "wZYaogevrt9_",
        "colab_type": "text"
      },
      "source": [
        "**Attributes**"
      ]
    },
    {
      "cell_type": "code",
      "metadata": {
        "id": "m9OqJfc7PSeB",
        "colab_type": "code",
        "colab": {
          "base_uri": "https://localhost:8080/"
        },
        "outputId": "aac15797-c18c-45e9-ae99-c506b6c53c7c"
      },
      "source": [
        "# to identify which features we should include or may give us info\n",
        "\n",
        "#plt.figure(figsize=(10,5))\n",
        "\n",
        "# correlation between different attributes\n",
        "#sns.heatmap(attributes_data.corr())\n",
        "# con and str seam to have a decent correlation, but the rest dont\n",
        "\n",
        "\n",
        "# correlation between attributes and classes\n",
        "att_class_cols = ['Str','Dex','Con','Int','Wis','Cha','Artificer.level','Barbarian.level','Bard.level','Cleric.level','Druid.level','Fighter.level','Monk.level' \\\n",
        "                  ,'Paladin.level','Ranger.level','Rogue.level','Sorcerer.level','Warlock.level','Wizard.level']\n",
        "att_class_df = clean_df[ att_class_cols ]\n",
        "\n",
        "#sns.heatmap(att_class_df.corr())\n",
        "\n",
        "att_class_corr = att_class_df.corr()\n",
        "att_class_corr = att_class_corr.iloc[ 0:5, 6:]\n",
        "sns.heatmap(att_class_corr)\n",
        "\n",
        "#print(pd.plotting.scatter_matrix(att_class_df, figsize = (20,15)))\n",
        "# correlation is probably not the way to go, since this is multiclass...maybe probability / likelihood?\n",
        "\n",
        "\n"
      ],
      "execution_count": null,
      "outputs": [
        {
          "output_type": "execute_result",
          "data": {
            "text/plain": [
              "<matplotlib.axes._subplots.AxesSubplot at 0x7f878790f550>"
            ]
          },
          "metadata": {
            "tags": []
          },
          "execution_count": 19
        },
        {
          "output_type": "display_data",
          "data": {
            "image/png": "[encoded data removed]",
            "text/plain": [
              "<Figure size 432x288 with 2 Axes>"
            ]
          },
          "metadata": {
            "tags": [],
            "needs_background": "light"
          }
        }
      ]
    },
    {
      "cell_type": "markdown",
      "metadata": {
        "id": "SbyyMiOUudA1",
        "colab_type": "text"
      },
      "source": [
        "**Casting Stat**"
      ]
    },
    {
      "cell_type": "code",
      "metadata": {
        "id": "lcFGoIwzrsHY",
        "colab_type": "code",
        "colab": {
          "base_uri": "https://localhost:8080/"
        },
        "outputId": "de730f6d-7660-41e0-cd6c-17942f9bc306"
      },
      "source": [
        "\n",
        "# correlation between alignment and classes\n",
        "\n",
        "casting_stat = ['castingCha', 'castingCon', 'castingDex', 'castingInt', 'castingStr', 'castingWis']\n",
        "\n",
        "cast_stat_class_df = clean_df[class_list + casting_stat]\n",
        "sns.heatmap(cast_stat_class_df.corr().iloc[0:13, 13:])\n",
        "\n"
      ],
      "execution_count": null,
      "outputs": [
        {
          "output_type": "execute_result",
          "data": {
            "text/plain": [
              "<matplotlib.axes._subplots.AxesSubplot at 0x7f878790b048>"
            ]
          },
          "metadata": {
            "tags": []
          },
          "execution_count": 20
        },
        {
          "output_type": "display_data",
          "data": {
            "image/png": "[encoded data removed]",
            "text/plain": [
              "<Figure size 432x288 with 2 Axes>"
            ]
          },
          "metadata": {
            "tags": [],
            "needs_background": "light"
          }
        }
      ]
    },
    {
      "cell_type": "markdown",
      "metadata": {
        "id": "SBxJMWlauavN",
        "colab_type": "text"
      },
      "source": [
        "**Armor Class**"
      ]
    },
    {
      "cell_type": "code",
      "metadata": {
        "id": "lp-qp-vursir",
        "colab_type": "code",
        "colab": {
          "base_uri": "https://localhost:8080/"
        },
        "outputId": "e34194cf-9d03-4049-edb0-ce63c1d79b6d"
      },
      "source": [
        "\n",
        "# let's look at armor class\n",
        "ac_df = clean_df[['AC','class1']]\n",
        "\n",
        "ax = sns.boxplot(x=\"AC\", y=\"class1\", data=ac_df)\n"
      ],
      "execution_count": null,
      "outputs": [
        {
          "output_type": "display_data",
          "data": {
            "image/png": "[encoded data removed]",
            "text/plain": [
              "<Figure size 432x288 with 1 Axes>"
            ]
          },
          "metadata": {
            "tags": [],
            "needs_background": "light"
          }
        }
      ]
    },
    {
      "cell_type": "markdown",
      "metadata": {
        "id": "HvVhjw2MPnTZ",
        "colab_type": "text"
      },
      "source": [
        "# Model Planning"
      ]
    },
    {
      "cell_type": "code",
      "metadata": {
        "id": "lIA5b0BmPnfx",
        "colab_type": "code",
        "colab": {}
      },
      "source": [
        "# what will success look like\n",
        " # define the set to which your model can be applied (aka single class characters)\n",
        " # build models optimizing for both acc and f1 score--how do they compare?\n",
        "\n",
        " # Success would look like: Can correctly identify class of single class character with 80% TPR, and <5% FPR\n",
        "\n",
        "# what will our accuracy metrics be?\n",
        "  # TPR, FPR, PPV\n",
        "\n",
        "# Building a model:\n",
        "  # Pick what algorithm we want to use\n",
        "  # determine any issues / concerns associated with the model, things we should watch out for\n",
        "  # split our data into test/train\n",
        "  # train the model using k fold cross validation\n",
        "    # all on training set\n",
        "  # look at accuracy metrics (i.e. tpr/fpr, confusion matrix, recall, precision)\n",
        "    # all needs to be done on the test set\n",
        "  # investigate model behavior -- taking a deeper look\n",
        "  \n"
      ],
      "execution_count": null,
      "outputs": []
    },
    {
      "cell_type": "markdown",
      "metadata": {
        "id": "ZXrYcB1FhQOB",
        "colab_type": "text"
      },
      "source": [
        "# Logistic Regression"
      ]
    },
    {
      "cell_type": "markdown",
      "metadata": {
        "id": "QnbBHG2wQ8xA",
        "colab_type": "text"
      },
      "source": [
        "## Binary Logistic Regression"
      ]
    },
    {
      "cell_type": "code",
      "metadata": {
        "id": "S1kapuXshTns",
        "colab_type": "code",
        "colab": {
          "base_uri": "https://localhost:8080/"
        },
        "outputId": "1c4809bd-a59c-4ce1-92c6-b70ef84e6a04"
      },
      "source": [
        "# LR is binary classifier, so what can we do?\n",
        "# we can do 1vsAll (will lead to class imbalance)\n",
        "# could only build model on 2 classes in data\n",
        "# we could generalize classes to spellcasters/not spell casters (1/0)\n",
        "\n",
        "# to do this, need a new is_spellcaster column\n",
        "# Bard, Druid, Wizard, Cleric, Sorcerer, Warlock\n",
        "spellcasters = ['Bard','Cleric','Druid','Sorcerer','Warlock','Wizard']\n",
        "\n",
        "# create spellcaster class column\n",
        "main_df['is_spellcaster'] = main_df['class1'].isin(spellcasters).astype(int)\n",
        "\n",
        "# check for imbalance -- spoiler, doesn't look bad\n",
        "main_df.groupby('is_spellcaster').count()\n",
        "\n",
        "#split the data\n",
        "# first split the features out from the class \n",
        "# oops, forgot to make hp/level\n",
        "main_df['hp_per_lvl'] = main_df['HP'] / main_df['level1']\n",
        "\n",
        "features = ['AC',\n",
        "            'Str','Dex','Con','Int','Wis','Cha',\n",
        "            'castingStr','castingDex','castingCon','castingInt','castingWis','castingCha',\n",
        "            'hp_per_lvl']\n",
        "X = main_df[ features ]\n",
        "y = main_df['is_spellcaster']\n",
        "\n",
        "# actually split the data\n",
        "X_train, X_test, y_train, y_test = train_test_split(X, y, test_size=0.25, random_state=42)\n",
        "\n",
        "# check balance again between training and test set\n",
        "print(y_train.groupby(y_train).size()) # dunno why it works like this for pd.Series, but it does\n",
        "print(y_test.groupby(y_test).size())\n",
        "\n",
        "# build the classifier\n",
        "# logistic regression no CV\n",
        "clf = LogisticRegression(random_state=42, solver='liblinear').fit(X_train, y_train)\n",
        "\n",
        "print('training accuracy ', clf.score(X_train, y_train))\n",
        "print('testing accuracy ', clf.score(X_test, y_test))\n",
        "# ACC no cv on training set = 0.89609, testing 0.898929"
      ],
      "execution_count": null,
      "outputs": [
        {
          "output_type": "stream",
          "text": [
            "is_spellcaster\n",
            "0    2925\n",
            "1    2193\n",
            "Name: is_spellcaster, dtype: int64\n",
            "is_spellcaster\n",
            "0    924\n",
            "1    782\n",
            "Name: is_spellcaster, dtype: int64\n",
            "training accuracy  0.8958577569363032\n",
            "testing accuracy  0.8933177022274326\n"
          ],
          "name": "stdout"
        }
      ]
    },
    {
      "cell_type": "code",
      "metadata": {
        "id": "jEKdHJnerw05",
        "colab_type": "code",
        "colab": {
          "base_uri": "https://localhost:8080/"
        },
        "outputId": "f72d0562-01ae-4617-9484-212fc31cc2af"
      },
      "source": [
        "# logistic regression with CV\n",
        "clf = LogisticRegressionCV(cv = 10, random_state=42, solver='liblinear').fit(X_train, y_train)\n",
        "print('training accuracy ', clf.score(X_train, y_train))\n",
        "print('testing accuracy ',clf.score(X_test, y_test))\n",
        "\n",
        "# use f1 scoring\n",
        "clf = LogisticRegressionCV(cv = 10, random_state=42, solver='liblinear', scoring = 'f1').fit(X_train, y_train)\n",
        "print('training accuracy ', clf.score(X_train, y_train))\n",
        "print('testing accuracy ',clf.score(X_test, y_test))\n",
        "\n",
        "# ACC with cv 0.89609 training, with cv testing 0898929\n",
        "# ACC with cv and f1 score 0.88513\n",
        "\n",
        "y_pred = clf.predict(X_test)\n",
        "\n",
        "print(metrics.confusion_matrix(y_test, y_pred))\n",
        "\n",
        "print('recall score: ', metrics.recall_score(y_test, y_pred))\n",
        "\n",
        "tn, fp, fn, tp = metrics.confusion_matrix(y_test, y_pred).ravel()\n",
        "(tn, fp, fn, tp)\n",
        "# fpr = fp / (fp + tn)\n",
        "print('tpr: ', tp / (tp+fn))\n",
        "print('fpr: ', fp / (fp+tn))\n",
        "\n",
        "# TPR is good at > 80%, but FPR is 8.7%, we wanted < 5%"
      ],
      "execution_count": null,
      "outputs": [
        {
          "output_type": "stream",
          "text": [
            "training accuracy  0.8983978116451738\n",
            "testing accuracy  0.8874560375146542\n",
            "training accuracy  0.8821396192203084\n",
            "testing accuracy  0.8764478764478765\n",
            "[[833  91]\n",
            " [101 681]]\n",
            "recall score:  0.870843989769821\n",
            "tpr:  0.870843989769821\n",
            "fpr:  0.09848484848484848\n"
          ],
          "name": "stdout"
        }
      ]
    },
    {
      "cell_type": "code",
      "metadata": {
        "id": "QaezP2JGvnnw",
        "colab_type": "code",
        "colab": {
          "base_uri": "https://localhost:8080/"
        },
        "outputId": "bb295b2d-a8a5-4f90-ecfb-b7c3731fc334"
      },
      "source": [
        "# generate a ROC curve to see if we can change decision boundary to enhance results\n",
        "# calculate the fpr and tpr for all thresholds of the classification\n",
        "\n",
        "# probabilities of being in each class\n",
        "probs = clf.predict_proba(X_test)\n",
        "print(probs)\n",
        "\n",
        "# extract probability observation is class 1\n",
        "preds = probs[:,1]\n",
        "print(preds)\n",
        "\n",
        "# 3 arrays with fpr, tpr, threshold for given thresholds\n",
        "fpr, tpr, threshold = metrics.roc_curve(y_test, preds)\n",
        "roc_auc = metrics.auc(fpr, tpr)\n",
        "\n",
        "# method I: plt\n",
        "plt.title('Receiver Operating Characteristic')\n",
        "plt.plot(fpr, tpr, 'b', label = 'AUC = %0.2f' % roc_auc)\n",
        "plt.legend(loc = 'lower right')\n",
        "plt.plot([0, 1], [0, 1],'r--')\n",
        "plt.xlim([0, 1])\n",
        "plt.ylim([0, 1])\n",
        "plt.ylabel('True Positive Rate')\n",
        "plt.xlabel('False Positive Rate')\n",
        "plt.show()\n",
        "\n",
        "# list( zip( threshold, fpr, tpr ) )\n",
        "# looks like we can ALMOST get to our goal with the following threshold,fpr,tpr\n",
        "# 0.703401700557358, 0.04898828541001065, 0.7940780619111709\n",
        "\n"
      ],
      "execution_count": null,
      "outputs": [
        {
          "output_type": "stream",
          "text": [
            "[[0.3573627  0.6426373 ]\n",
            " [0.99884471 0.00115529]\n",
            " [0.98934569 0.01065431]\n",
            " ...\n",
            " [0.04311813 0.95688187]\n",
            " [0.97993142 0.02006858]\n",
            " [0.72342991 0.27657009]]\n",
            "[0.6426373  0.00115529 0.01065431 ... 0.95688187 0.02006858 0.27657009]\n"
          ],
          "name": "stdout"
        },
        {
          "output_type": "display_data",
          "data": {
            "image/png": "[encoded data removed]",
            "text/plain": [
              "<Figure size 432x288 with 1 Axes>"
            ]
          },
          "metadata": {
            "tags": [],
            "needs_background": "light"
          }
        }
      ]
    },
    {
      "cell_type": "markdown",
      "metadata": {
        "id": "6OhiK7qoQ_jB",
        "colab_type": "text"
      },
      "source": [
        "## Multi-class Logistic Regression"
      ]
    },
    {
      "cell_type": "code",
      "metadata": {
        "id": "NRkP0j7YRCwQ",
        "colab_type": "code",
        "colab": {
          "base_uri": "https://localhost:8080/"
        },
        "outputId": "73e6b884-0015-4264-8e36-48b5a836f000"
      },
      "source": [
        "# TODO\n",
        "# change y to multiclass class1\n",
        "y = main_df['class1']\n",
        "\n",
        "# actually split the data\n",
        "X_train, X_test, y_train, y_test = train_test_split(X, y, test_size=0.25, random_state=42)\n",
        "\n",
        "# build the classifier\n",
        "# logistic regression no CV\n",
        "clf = LogisticRegression(random_state=42, solver='liblinear', multi_class='auto').fit(X_train, y_train)\n",
        "\n",
        "print('training accuracy ', clf.score(X_train, y_train))\n",
        "print('testing accuracy ', clf.score(X_test, y_test))\n",
        "# ACC no cv on training set = 0.89609, testing 0.898929\n",
        "\n",
        "# Accuracy measurements\n",
        "y_pred = clf.predict(X_test)\n",
        "print(metrics.confusion_matrix(y_test, y_pred))\n",
        "print(metrics.classification_report(y_test, y_pred, digits=3))\n",
        "\n",
        "\n",
        "# generate a ROC curve to see if we can change decision boundary to enhance results\n",
        "# calculate the fpr and tpr for all thresholds of the classification\n",
        "\n",
        "# probabilities of being in each class\n",
        "probs = clf.predict_proba(X_test)\n",
        "print(probs)\n",
        "\n",
        "# extract probability observation is class 1\n",
        "preds = probs[:,1]\n",
        "print(preds)\n",
        "\n",
        "\n",
        "\n",
        "\n"
      ],
      "execution_count": null,
      "outputs": [
        {
          "output_type": "stream",
          "text": [
            "training accuracy  0.7370066432200079\n",
            "testing accuracy  0.7250879249706916\n",
            "[[ 83   0   0   0  31   0   0   0   1   0   0   2]\n",
            " [  0  78   0   0   0   0   6   0   0  34   7   0]\n",
            " [  0   0 154  29   0   0   0   7   0   0   0   0]\n",
            " [  0   0  21  78   0   0   0  16   0   0   0   0]\n",
            " [ 33   0   0   0 150  14   3   1  34   0   0   2]\n",
            " [  4   0   2   2   7  89   0   2  17   0   0   1]\n",
            " [  0   6   0   0   0   0 112   0   0   1   2   1]\n",
            " [  0   0   4   8   0   0   0 115   0   0   0   0]\n",
            " [  2   2   0   0  13  14   0   1 157   0   0   8]\n",
            " [  0  21   0   0   0   0   5   0   0  77   3   0]\n",
            " [  0  39   0   1   0   0   4   0   0  41  23   2]\n",
            " [  0   0   0   0   4   0   0   0  11   0   0 121]]\n",
            "              precision    recall  f1-score   support\n",
            "\n",
            "   Barbarian      0.680     0.709     0.695       117\n",
            "        Bard      0.534     0.624     0.576       125\n",
            "      Cleric      0.851     0.811     0.830       190\n",
            "       Druid      0.661     0.678     0.670       115\n",
            "     Fighter      0.732     0.633     0.679       237\n",
            "        Monk      0.761     0.718     0.739       124\n",
            "     Paladin      0.862     0.918     0.889       122\n",
            "      Ranger      0.810     0.906     0.855       127\n",
            "       Rogue      0.714     0.797     0.753       197\n",
            "    Sorcerer      0.503     0.726     0.595       106\n",
            "     Warlock      0.657     0.209     0.317       110\n",
            "      Wizard      0.883     0.890     0.886       136\n",
            "\n",
            "    accuracy                          0.725      1706\n",
            "   macro avg      0.721     0.718     0.707      1706\n",
            "weighted avg      0.730     0.725     0.718      1706\n",
            "\n",
            "[[4.54598623e-04 5.84436733e-01 2.35880280e-05 ... 1.03417847e-01\n",
            "  2.70825928e-01 4.07050718e-07]\n",
            " [1.43838490e-01 2.39933999e-04 1.42821282e-03 ... 3.78213578e-05\n",
            "  2.56409078e-04 5.44033923e-04]\n",
            " [4.33138006e-02 3.27115330e-03 1.15297367e-04 ... 1.43470130e-04\n",
            "  2.11257709e-03 3.58087302e-04]\n",
            " ...\n",
            " [4.46603407e-05 3.43149547e-01 2.12450030e-05 ... 3.54939547e-01\n",
            "  2.70416872e-01 8.35985573e-06]\n",
            " [8.32134553e-03 2.77068834e-02 1.57157703e-03 ... 1.35196690e-02\n",
            "  1.55577029e-02 5.51600705e-06]\n",
            " [2.80694674e-03 4.92689783e-03 6.43453981e-02 ... 1.33723808e-04\n",
            "  3.83998014e-03 4.16867089e-07]]\n",
            "[5.84436733e-01 2.39933999e-04 3.27115330e-03 ... 3.43149547e-01\n",
            " 2.77068834e-02 4.92689783e-03]\n"
          ],
          "name": "stdout"
        }
      ]
    },
    {
      "cell_type": "markdown",
      "metadata": {
        "id": "slH1WK155Ppg",
        "colab_type": "text"
      },
      "source": [
        "# Decision Tree"
      ]
    },
    {
      "cell_type": "markdown",
      "metadata": {
        "id": "qvPpq_EcPyaD",
        "colab_type": "text"
      },
      "source": [
        "## Binary Decision Tree"
      ]
    },
    {
      "cell_type": "code",
      "metadata": {
        "id": "yc1oAmxQyw8_",
        "colab_type": "code",
        "colab": {
          "base_uri": "https://localhost:8080/",
          "height": 51
        },
        "outputId": "5346f415-a2f5-4df0-bd00-ccd64b427cd6"
      },
      "source": [
        "# let's check out decision tree\n",
        "# can handle multiple classes\n",
        "# risks: overfitting, offset with hyperparameters\n",
        "\n",
        "# use same training / testing data\n",
        "clf = tree.DecisionTreeClassifier(criterion = 'gini', max_depth = 25, min_samples_leaf= 20)\n",
        "clf = clf.fit(X_train, y_train)\n",
        "\n",
        "print('training ACC', clf.score(X_train, y_train))\n",
        "print('testing ACC', clf.score(X_test, y_test))"
      ],
      "execution_count": null,
      "outputs": [
        {
          "output_type": "stream",
          "text": [
            "training ACC 0.7704181320828448\n",
            "testing ACC 0.7286049237983587\n"
          ],
          "name": "stdout"
        }
      ]
    },
    {
      "cell_type": "code",
      "metadata": {
        "id": "Ve4jpN7oTjXv",
        "colab_type": "code",
        "colab": {
          "base_uri": "https://localhost:8080/",
          "height": 547
        },
        "outputId": "4f52cdfa-7c04-4983-d92a-ef45a462f13e"
      },
      "source": [
        "# https://scikit-learn.org/stable/modules/grid_search.html#model-specific-cross-validation\n",
        "# DT doesn't have a dedicated CV function like LogisticRegressionCV\n",
        "\n",
        "# perform 10-fold cv and print the f1 score for each fold\n",
        "clf = tree.DecisionTreeClassifier(criterion = 'gini', max_depth = 25, min_samples_leaf= 20)\n",
        "scores = cross_val_score(clf, X_train, y_train, cv=10, scoring='f1_macro')\n",
        "plt.bar(range(len(scores)), scores)\n",
        "plt.show()\n",
        "print(f'mean f1 score of 10-fold cv: {scores.mean():.3f}, (std: {scores.std():.3f})')\n",
        "\n",
        "if 0: # this takes awhile to run, change to 1 if you want to play with it\n",
        "  # hyperparameter tuning with grid search\n",
        "  param_grid = {\"criterion\": ['gini', 'entropy'],\n",
        "                \"max_depth\": [None, 5, 10, 20],\n",
        "                \"min_samples_leaf\": [1, 5, 10, 20],\n",
        "                \"min_samples_split\": [2, 5, 10, 20]\n",
        "                }\n",
        "\n",
        "  dt = tree.DecisionTreeClassifier()\n",
        "\n",
        "  grid_search = GridSearchCV(dt, param_grid=param_grid, cv=10, scoring='f1')\n",
        "  grid_search.fit(X_train, y_train)\n",
        "  print('Best parameters: ', grid_search.best_params_)\n",
        "  print('Resulting best score:', grid_search.best_score_)\n",
        "  # result: {'criterion': 'entropy', 'max_depth': 10, 'min_samples_leaf': 5, 'min_samples_split': 10}\n",
        "\n",
        "# perform 10-fold cv and print the f1 score for each fold using optimized hyperparameters\n",
        "clf = tree.DecisionTreeClassifier(criterion = 'entropy', max_depth = 10, min_samples_leaf= 5, min_samples_split=10)\n",
        "scores = cross_val_score(clf, X_train, y_train, cv=10, scoring='f1_macro')\n",
        "plt.bar(range(len(scores)), scores)\n",
        "plt.show()\n",
        "print(f'mean f1 score of 10-fold cv: {scores.mean():.3f}, (std: {scores.std():.3f})')"
      ],
      "execution_count": null,
      "outputs": [
        {
          "output_type": "display_data",
          "data": {
            "image/png": "[encoded data removed]",
            "text/plain": [
              "<Figure size 432x288 with 1 Axes>"
            ]
          },
          "metadata": {
            "tags": [],
            "needs_background": "light"
          }
        },
        {
          "output_type": "stream",
          "text": [
            "mean f1 score of 10-fold cv: 0.710, (std: 0.023)\n"
          ],
          "name": "stdout"
        },
        {
          "output_type": "display_data",
          "data": {
            "image/png": "[encoded data removed]",
            "text/plain": [
              "<Figure size 432x288 with 1 Axes>"
            ]
          },
          "metadata": {
            "tags": [],
            "needs_background": "light"
          }
        },
        {
          "output_type": "stream",
          "text": [
            "mean f1 score of 10-fold cv: 0.724, (std: 0.016)\n"
          ],
          "name": "stdout"
        }
      ]
    },
    {
      "cell_type": "code",
      "metadata": {
        "id": "uKGmaArDWPf-",
        "colab_type": "code",
        "colab": {
          "base_uri": "https://localhost:8080/",
          "height": 613
        },
        "outputId": "c8e643d0-f10a-43d3-eadb-274d32215612"
      },
      "source": [
        "# look at confusion matrix and tpr/fpr for DT\n",
        "# cross_val_{predict, score} do the fitting on the fly\n",
        "# this means doing the rest with a single DT, no cv\n",
        "\n",
        "clf = tree.DecisionTreeClassifier(criterion = 'entropy', max_depth = 10, min_samples_leaf= 5, min_samples_split=10)\n",
        "clf = clf.fit(X_train, y_train)\n",
        "y_pred = clf.predict(X_test)\n",
        "\n",
        "print(metrics.confusion_matrix(y_test, y_pred))\n",
        "print('recall score: ', metrics.recall_score(y_test, y_pred))\n",
        "\n",
        "tn, fp, fn, tp = metrics.confusion_matrix(y_test, y_pred).ravel()\n",
        "\n",
        "print('tpr: ', tp / (tp+fn))\n",
        "print('fpr: ', fp / (fp+tn))"
      ],
      "execution_count": null,
      "outputs": [
        {
          "output_type": "stream",
          "text": [
            "[[ 77   0   0   0  32   4   0   0   3   0   0   1]\n",
            " [  0  77   0   0   0   0   4   0   1   8  35   0]\n",
            " [  0   0 152  27   0   0   0  11   0   0   0   0]\n",
            " [  0   0  11  89   0   1   0  14   0   0   0   0]\n",
            " [ 22   0   0   0 174  14   3   2  21   0   0   1]\n",
            " [  4   1   0   2   8  93   0   0  15   0   0   1]\n",
            " [  0   5   0   0   0   0 108   0   0   4   4   1]\n",
            " [  0   0   3  25   0   1   0  98   0   0   0   0]\n",
            " [  1   2   1   0  16   6   0   0 160   0   0  11]\n",
            " [  0  25   0   0   0   0   4   0   0  60  17   0]\n",
            " [  0  35   0   1   0   0   2   0   0  20  50   2]\n",
            " [  0   0   0   0   3   3   0   0  12   0   0 118]]\n"
          ],
          "name": "stdout"
        },
        {
          "output_type": "error",
          "ename": "ValueError",
          "evalue": "ignored",
          "traceback": [
            "\u001b[0;31m---------------------------------------------------------------------------\u001b[0m",
            "\u001b[0;31mValueError\u001b[0m                                Traceback (most recent call last)",
            "\u001b[0;32m<ipython-input-29-5e4681d28871>\u001b[0m in \u001b[0;36m<module>\u001b[0;34m()\u001b[0m\n\u001b[1;32m      8\u001b[0m \u001b[0;34m\u001b[0m\u001b[0m\n\u001b[1;32m      9\u001b[0m \u001b[0mprint\u001b[0m\u001b[0;34m(\u001b[0m\u001b[0mmetrics\u001b[0m\u001b[0;34m.\u001b[0m\u001b[0mconfusion_matrix\u001b[0m\u001b[0;34m(\u001b[0m\u001b[0my_test\u001b[0m\u001b[0;34m,\u001b[0m \u001b[0my_pred\u001b[0m\u001b[0;34m)\u001b[0m\u001b[0;34m)\u001b[0m\u001b[0;34m\u001b[0m\u001b[0;34m\u001b[0m\u001b[0m\n\u001b[0;32m---> 10\u001b[0;31m \u001b[0mprint\u001b[0m\u001b[0;34m(\u001b[0m\u001b[0;34m'recall score: '\u001b[0m\u001b[0;34m,\u001b[0m \u001b[0mmetrics\u001b[0m\u001b[0;34m.\u001b[0m\u001b[0mrecall_score\u001b[0m\u001b[0;34m(\u001b[0m\u001b[0my_test\u001b[0m\u001b[0;34m,\u001b[0m \u001b[0my_pred\u001b[0m\u001b[0;34m)\u001b[0m\u001b[0;34m)\u001b[0m\u001b[0;34m\u001b[0m\u001b[0;34m\u001b[0m\u001b[0m\n\u001b[0m\u001b[1;32m     11\u001b[0m \u001b[0;34m\u001b[0m\u001b[0m\n\u001b[1;32m     12\u001b[0m \u001b[0mtn\u001b[0m\u001b[0;34m,\u001b[0m \u001b[0mfp\u001b[0m\u001b[0;34m,\u001b[0m \u001b[0mfn\u001b[0m\u001b[0;34m,\u001b[0m \u001b[0mtp\u001b[0m \u001b[0;34m=\u001b[0m \u001b[0mmetrics\u001b[0m\u001b[0;34m.\u001b[0m\u001b[0mconfusion_matrix\u001b[0m\u001b[0;34m(\u001b[0m\u001b[0my_test\u001b[0m\u001b[0;34m,\u001b[0m \u001b[0my_pred\u001b[0m\u001b[0;34m)\u001b[0m\u001b[0;34m.\u001b[0m\u001b[0mravel\u001b[0m\u001b[0;34m(\u001b[0m\u001b[0;34m)\u001b[0m\u001b[0;34m\u001b[0m\u001b[0;34m\u001b[0m\u001b[0m\n",
            "\u001b[0;32m/usr/local/lib/python3.6/dist-packages/sklearn/metrics/_classification.py\u001b[0m in \u001b[0;36mrecall_score\u001b[0;34m(y_true, y_pred, labels, pos_label, average, sample_weight, zero_division)\u001b[0m\n\u001b[1;32m   1787\u001b[0m                                                  \u001b[0mwarn_for\u001b[0m\u001b[0;34m=\u001b[0m\u001b[0;34m(\u001b[0m\u001b[0;34m'recall'\u001b[0m\u001b[0;34m,\u001b[0m\u001b[0;34m)\u001b[0m\u001b[0;34m,\u001b[0m\u001b[0;34m\u001b[0m\u001b[0;34m\u001b[0m\u001b[0m\n\u001b[1;32m   1788\u001b[0m                                                  \u001b[0msample_weight\u001b[0m\u001b[0;34m=\u001b[0m\u001b[0msample_weight\u001b[0m\u001b[0;34m,\u001b[0m\u001b[0;34m\u001b[0m\u001b[0;34m\u001b[0m\u001b[0m\n\u001b[0;32m-> 1789\u001b[0;31m                                                  zero_division=zero_division)\n\u001b[0m\u001b[1;32m   1790\u001b[0m     \u001b[0;32mreturn\u001b[0m \u001b[0mr\u001b[0m\u001b[0;34m\u001b[0m\u001b[0;34m\u001b[0m\u001b[0m\n\u001b[1;32m   1791\u001b[0m \u001b[0;34m\u001b[0m\u001b[0m\n",
            "\u001b[0;32m/usr/local/lib/python3.6/dist-packages/sklearn/metrics/_classification.py\u001b[0m in \u001b[0;36mprecision_recall_fscore_support\u001b[0;34m(y_true, y_pred, beta, labels, pos_label, average, warn_for, sample_weight, zero_division)\u001b[0m\n\u001b[1;32m   1482\u001b[0m         \u001b[0;32mraise\u001b[0m \u001b[0mValueError\u001b[0m\u001b[0;34m(\u001b[0m\u001b[0;34m\"beta should be >=0 in the F-beta score\"\u001b[0m\u001b[0;34m)\u001b[0m\u001b[0;34m\u001b[0m\u001b[0;34m\u001b[0m\u001b[0m\n\u001b[1;32m   1483\u001b[0m     labels = _check_set_wise_labels(y_true, y_pred, average, labels,\n\u001b[0;32m-> 1484\u001b[0;31m                                     pos_label)\n\u001b[0m\u001b[1;32m   1485\u001b[0m \u001b[0;34m\u001b[0m\u001b[0m\n\u001b[1;32m   1486\u001b[0m     \u001b[0;31m# Calculate tp_sum, pred_sum, true_sum ###\u001b[0m\u001b[0;34m\u001b[0m\u001b[0;34m\u001b[0m\u001b[0;34m\u001b[0m\u001b[0m\n",
            "\u001b[0;32m/usr/local/lib/python3.6/dist-packages/sklearn/metrics/_classification.py\u001b[0m in \u001b[0;36m_check_set_wise_labels\u001b[0;34m(y_true, y_pred, average, labels, pos_label)\u001b[0m\n\u001b[1;32m   1314\u001b[0m             raise ValueError(\"Target is %s but average='binary'. Please \"\n\u001b[1;32m   1315\u001b[0m                              \u001b[0;34m\"choose another average setting, one of %r.\"\u001b[0m\u001b[0;34m\u001b[0m\u001b[0;34m\u001b[0m\u001b[0m\n\u001b[0;32m-> 1316\u001b[0;31m                              % (y_type, average_options))\n\u001b[0m\u001b[1;32m   1317\u001b[0m     \u001b[0;32melif\u001b[0m \u001b[0mpos_label\u001b[0m \u001b[0;32mnot\u001b[0m \u001b[0;32min\u001b[0m \u001b[0;34m(\u001b[0m\u001b[0;32mNone\u001b[0m\u001b[0;34m,\u001b[0m \u001b[0;36m1\u001b[0m\u001b[0;34m)\u001b[0m\u001b[0;34m:\u001b[0m\u001b[0;34m\u001b[0m\u001b[0;34m\u001b[0m\u001b[0m\n\u001b[1;32m   1318\u001b[0m         warnings.warn(\"Note that pos_label (set to %r) is ignored when \"\n",
            "\u001b[0;31mValueError\u001b[0m: Target is multiclass but average='binary'. Please choose another average setting, one of [None, 'micro', 'macro', 'weighted']."
          ]
        }
      ]
    },
    {
      "cell_type": "code",
      "metadata": {
        "id": "5-Ltfz4nEruT",
        "colab_type": "code",
        "colab": {}
      },
      "source": [
        "# use a single decision tree to calculate probabilities\n",
        "\n",
        "probs = clf.predict_proba(X_test)\n",
        "preds = probs[:,1]\n",
        "\n",
        "fpr, tpr, threshold = metrics.roc_curve(y_test, preds)\n",
        "roc_auc = metrics.auc(fpr, tpr)\n",
        "\n",
        "plt.title('Receiver Operating Characteristic')\n",
        "plt.plot(fpr, tpr, 'b', label = 'AUC = %0.2f' % roc_auc)\n",
        "plt.legend(loc = 'lower right')\n",
        "plt.plot([0, 1], [0, 1],'r--')\n",
        "plt.xlim([0, 1])\n",
        "plt.ylim([0, 1])\n",
        "plt.ylabel('True Positive Rate')\n",
        "plt.xlabel('False Positive Rate')\n",
        "plt.show()\n",
        "\n",
        "list(zip(threshold, fpr, tpr))\n",
        "# definitely satisfy the tpr > 80%, fpr < 5% success metric for a range of thresholds\n",
        "# specific threshold depends on if you want to prioritize cranking up tpr or suppressing fpr"
      ],
      "execution_count": null,
      "outputs": []
    },
    {
      "cell_type": "markdown",
      "metadata": {
        "id": "c8oUFutQP2PM",
        "colab_type": "text"
      },
      "source": [
        "## Multi-class Decision Tree"
      ]
    },
    {
      "cell_type": "code",
      "metadata": {
        "id": "ePdjVBc4K9Z-",
        "colab_type": "code",
        "colab": {}
      },
      "source": [
        "# new target column using the entire multiclass \n",
        "X = main_df[ features ]\n",
        "y = main_df['class1']\n",
        "\n",
        "X_train, X_test, y_train, y_test = train_test_split(X, y, test_size=0.25, random_state=42)\n",
        "\n",
        "print(y_train.groupby(y_train).size())\n",
        "print(y_test.groupby(y_test).size())\n",
        "\n"
      ],
      "execution_count": null,
      "outputs": []
    },
    {
      "cell_type": "code",
      "metadata": {
        "id": "-guVZYJ87Xf7",
        "colab_type": "code",
        "colab": {}
      },
      "source": [
        "# not sure if f1_macro is the right f1 score to use here\n",
        "# https://datascience.stackexchange.com/questions/40900/whats-the-difference-between-sklearn-f1-score-micro-and-weighted-for-a-mult\n",
        "# https://towardsdatascience.com/multi-class-metrics-made-simple-part-ii-the-f1-score-ebe8b2c2ca1\n",
        "\n",
        "clf = tree.DecisionTreeClassifier(criterion = 'gini', max_depth = 25, min_samples_leaf= 20)\n",
        "scores = cross_val_score(clf, X_train, y_train, cv=10, scoring='f1_macro')\n",
        "plt.bar(range(len(scores)), scores)\n",
        "plt.show()\n",
        "print(f'mean f1 score of 10-fold cv: {scores.mean():.3f}, (std: {scores.std():.3f})')\n",
        "\n",
        "if 1: # this takes awhile to run, change to 1 if you want to play with it\n",
        "  # hyperparameter tuning with grid search\n",
        "  param_grid = {\"criterion\": ['gini', 'entropy'],\n",
        "                \"max_depth\": [None, 5, 10, 20],\n",
        "                \"min_samples_leaf\": [1, 5, 10, 20],\n",
        "                \"min_samples_split\": [2, 5, 10, 20]\n",
        "                }\n",
        "\n",
        "  dt = tree.DecisionTreeClassifier()\n",
        "\n",
        "  grid_search = GridSearchCV(dt, param_grid=param_grid, cv=10, scoring='f1_macro')\n",
        "  grid_search.fit(X_train, y_train)\n",
        "  print('Best parameters: ', grid_search.best_params_)\n",
        "  print('Resulting best score:', grid_search.best_score_)\n",
        " \n",
        "# perform 10-fold cv and print the f1 score for each fold using optimized hyperparameters\n",
        "clf = tree.DecisionTreeClassifier(criterion = 'entropy', max_depth = None, min_samples_leaf= 1, min_samples_split=2)\n",
        "scores = cross_val_score(clf, X_train, y_train, cv=10, scoring='f1_macro')\n",
        "plt.bar(range(len(scores)), scores)\n",
        "plt.show()\n",
        "print(f'mean f1 score of 10-fold cv: {scores.mean():.3f}, (std: {scores.std():.3f})')"
      ],
      "execution_count": null,
      "outputs": []
    },
    {
      "cell_type": "code",
      "metadata": {
        "id": "DYboyR-275_w",
        "colab_type": "code",
        "colab": {}
      },
      "source": [
        "clf = tree.DecisionTreeClassifier(criterion = 'entropy', max_depth = None, min_samples_leaf= 1, min_samples_split=2)\n",
        "clf = clf.fit(X_train, y_train)\n",
        "y_pred = clf.predict(X_test)\n",
        "\n",
        "print(metrics.confusion_matrix(y_test, y_pred))\n",
        "\n",
        "print(metrics.classification_report(y_test, y_pred, digits=3))\n",
        "\n",
        "\n",
        "\n"
      ],
      "execution_count": null,
      "outputs": []
    },
    {
      "cell_type": "markdown",
      "metadata": {
        "id": "0Bwftwk3AjBP",
        "colab_type": "text"
      },
      "source": [
        "###Feature Importance"
      ]
    },
    {
      "cell_type": "code",
      "metadata": {
        "id": "qpzHtyQ147l3",
        "colab_type": "code",
        "colab": {}
      },
      "source": [
        "# feature importance for multiclass decision tree\n",
        "\n",
        "importance = clf.feature_importances_\n",
        "\n",
        "# combine list of features and importance weights into dataframe\n",
        "importance_dt = zip(list(X_train.columns), importance)\n",
        "importance_dt = set(importance_dt)\n",
        "importance_dt = pd.DataFrame(importance_dt, columns = ['feature','importance'])\n",
        "\n",
        "# sort dataframe to graph from high to low\n",
        "importance_dt = importance_dt.sort_values('importance',ascending = True)\n",
        "importance_dt.reset_index(drop = True)\n",
        "#importance_dt.sort_index()\n",
        "\n",
        "# plot the feature weights\n",
        "plt.figure()\n",
        "plt.title(\"Feature importances: Multi Class DT\")\n",
        "plt.barh(range(importance_dt.shape[0]), width = importance_dt['importance'], align=\"center\")\n",
        "plt.yticks(range(importance_dt.shape[0]), importance_dt['feature'])\n",
        "plt.ylim([-1, importance_dt.shape[0]])\n",
        "plt.show()"
      ],
      "execution_count": null,
      "outputs": []
    },
    {
      "cell_type": "markdown",
      "metadata": {
        "id": "Di8o3g9xbI9x",
        "colab_type": "text"
      },
      "source": [
        "# Support Vector Machine"
      ]
    },
    {
      "cell_type": "markdown",
      "metadata": {
        "id": "-_utKkiRbPAY",
        "colab_type": "text"
      },
      "source": [
        "## Linear SVM"
      ]
    },
    {
      "cell_type": "code",
      "metadata": {
        "id": "aAQ56E89bSZv",
        "colab_type": "code",
        "colab": {}
      },
      "source": [
        "# bring in some libraries to do scaling and svm\n",
        "from sklearn.pipeline import make_pipeline\n",
        "from sklearn.preprocessing import StandardScaler\n",
        "from sklearn.preprocessing import scale\n",
        "from sklearn.svm import SVC\n",
        "\n",
        "# create classifier by first scaling the data (mean 0 sd 1) and then putting into linear SVM\n",
        "# SVM does better if features are scaled as it is not scale invariant\n",
        "clf = make_pipeline(StandardScaler(), SVC(kernel = 'linear'))\n",
        "clf = clf.fit(X_train, y_train)\n",
        "y_pred = clf.predict(X_test)\n",
        "\n",
        "print(metrics.confusion_matrix(y_test, y_pred))\n",
        "\n",
        "print(metrics.classification_report(y_test, y_pred, digits=3))"
      ],
      "execution_count": null,
      "outputs": []
    },
    {
      "cell_type": "markdown",
      "metadata": {
        "id": "Z4ARE-_sK25v",
        "colab_type": "text"
      },
      "source": [
        "## Grid Search on SVM"
      ]
    },
    {
      "cell_type": "code",
      "metadata": {
        "id": "yk9J5154MShH",
        "colab_type": "code",
        "colab": {}
      },
      "source": [
        "# let's scale the data since it doesn't like the pipeline in grid search\n",
        "X_train_scaled = scale(X_train)\n",
        "X_test_scaled = scale(X_test)\n",
        "\n"
      ],
      "execution_count": null,
      "outputs": []
    },
    {
      "cell_type": "code",
      "metadata": {
        "id": "GkQ5GTndK5IS",
        "colab_type": "code",
        "colab": {}
      },
      "source": [
        "# lets do a grid search instead of going through all different kernels, etc.\n",
        "\n",
        "if 1: # this takes awhile to run, change to 1 if you want to play with it\n",
        "  # hyperparameter tuning with grid search\n",
        "  param_grid = {\"kernel\": ['linear', 'rbf','poly','sigmoid'],\n",
        "                \"degree\": [2,3,4],\n",
        "                \"decision_function_shape\": ['ovr','ovo']\n",
        "                \n",
        "                }\n",
        "\n",
        "  clf = SVC()\n",
        "\n",
        "  grid_search = GridSearchCV(clf, param_grid=param_grid, cv=10, scoring='f1_macro')\n",
        "  grid_search.fit(X_train_scaled, y_train)\n",
        "  print('Best parameters: ', grid_search.best_params_)\n",
        "  print('Resulting best score:', grid_search.best_score_)"
      ],
      "execution_count": null,
      "outputs": []
    },
    {
      "cell_type": "code",
      "metadata": {
        "id": "rkszD61zOKSI",
        "colab_type": "code",
        "colab": {}
      },
      "source": [
        "# now let's build with those parameters\n",
        "clf = make_pipeline(StandardScaler(), SVC(kernel = 'rbf', degree = 2, decision_function_shape = 'ovr'))\n",
        "clf = clf.fit(X_train, y_train)\n",
        "y_pred = clf.predict(X_test)\n",
        "\n",
        "print(metrics.confusion_matrix(y_test, y_pred))\n",
        "\n",
        "print(metrics.classification_report(y_test, y_pred, digits=3))"
      ],
      "execution_count": null,
      "outputs": []
    },
    {
      "cell_type": "markdown",
      "metadata": {
        "id": "Xy4_5cmISgKW",
        "colab_type": "text"
      },
      "source": [
        "#XGBoost"
      ]
    },
    {
      "cell_type": "code",
      "metadata": {
        "id": "lpCMrPRiS3b1",
        "colab_type": "code",
        "colab": {
          "base_uri": "https://localhost:8080/",
          "height": 663
        },
        "outputId": "f602ec88-23ce-461e-8e9b-d2ccb25359b1"
      },
      "source": [
        "# to really understand this we will need to study gradient descent\n",
        "\n",
        "import xgboost\n",
        "\n",
        "label_encoder = LabelEncoder()\n",
        "label_encoder = label_encoder.fit(y)\n",
        "y_encoded = label_encoder.transform(y)\n",
        "\n",
        "X_train, X_test, y_train_encoded, y_test_encoded = train_test_split(X, y_encoded, test_size=0.25, random_state=42)\n",
        "\n",
        "model = xgboost.XGBClassifier()\n",
        "model.fit(X_train, y_train)\n",
        "print(model)\n",
        "\n",
        "y_pred = model.predict(X_test)\n",
        "\n",
        "print(metrics.confusion_matrix(y_test, y_pred))\n",
        "\n",
        "print(metrics.classification_report(y_test, y_pred, digits=3))"
      ],
      "execution_count": null,
      "outputs": [
        {
          "output_type": "stream",
          "text": [
            "XGBClassifier(base_score=0.5, booster='gbtree', colsample_bylevel=1,\n",
            "              colsample_bynode=1, colsample_bytree=1, gamma=0,\n",
            "              learning_rate=0.1, max_delta_step=0, max_depth=3,\n",
            "              min_child_weight=1, missing=None, n_estimators=100, n_jobs=1,\n",
            "              nthread=None, objective='multi:softprob', random_state=0,\n",
            "              reg_alpha=0, reg_lambda=1, scale_pos_weight=1, seed=None,\n",
            "              silent=None, subsample=1, verbosity=1)\n",
            "[[ 87   0   0   0  27   0   0   0   1   0   0   2]\n",
            " [  0  87   0   0   0   0   3   0   0  20  15   0]\n",
            " [  0   0 165  22   0   0   0   3   0   0   0   0]\n",
            " [  0   0   9  91   0   2   0  13   0   0   0   0]\n",
            " [ 29   0   0   0 170  10   3   1  24   0   0   0]\n",
            " [  5   0   0   2   6  92   0   1  17   0   0   1]\n",
            " [  0   2   0   0   0   0 118   0   0   0   1   1]\n",
            " [  0   0   2   6   0   1   0 118   0   0   0   0]\n",
            " [  1   1   0   1  13  11   0   0 163   0   0   7]\n",
            " [  0  15   0   0   0   0   2   0   0  76  13   0]\n",
            " [  0  26   0   0   0   0   2   1   0  25  54   2]\n",
            " [  1   0   0   0   1   0   0   0  10   0   0 124]]\n",
            "              precision    recall  f1-score   support\n",
            "\n",
            "   Barbarian      0.707     0.744     0.725       117\n",
            "        Bard      0.664     0.696     0.680       125\n",
            "      Cleric      0.938     0.868     0.902       190\n",
            "       Druid      0.746     0.791     0.768       115\n",
            "     Fighter      0.783     0.717     0.749       237\n",
            "        Monk      0.793     0.742     0.767       124\n",
            "     Paladin      0.922     0.967     0.944       122\n",
            "      Ranger      0.861     0.929     0.894       127\n",
            "       Rogue      0.758     0.827     0.791       197\n",
            "    Sorcerer      0.628     0.717     0.670       106\n",
            "     Warlock      0.651     0.491     0.560       110\n",
            "      Wizard      0.905     0.912     0.908       136\n",
            "\n",
            "    accuracy                          0.788      1706\n",
            "   macro avg      0.780     0.783     0.780      1706\n",
            "weighted avg      0.789     0.788     0.787      1706\n",
            "\n"
          ],
          "name": "stdout"
        }
      ]
    },
    {
      "cell_type": "code",
      "metadata": {
        "id": "8AKARtV6j6cV",
        "colab_type": "code",
        "colab": {
          "base_uri": "https://localhost:8080/",
          "height": 1000
        },
        "outputId": "d9b98110-75eb-495d-f039-71be6cddff9b"
      },
      "source": [
        "# xgboost doesn't improve upon DT, despite being a slightly more refined approach\n",
        "# might be running into a 'wall' of what information can be extracted from these features and they are not discriminative\n",
        "# enough to distinguish Bard, Warlock, and Sorcerer\n",
        "#\n",
        "main_df.groupby('class1')['spells'].describe()\n",
        "\n",
        "spells_per_level = main_df['spells'].divide(main_df['level'])\n",
        "main_df['spells_per_lvl'] = spells_per_level\n",
        "\n",
        "print(main_df.groupby('class1')['spells'].describe())\n",
        "\n",
        "print(main_df.groupby('class1')['spells_per_lvl'].describe())\n",
        "\n",
        "spellcasters_df = clean_df[clean_df['class1'].isin(['Bard', 'Warlock', 'Sorcerer'])]\n",
        "\n",
        "plt.scatter(spellcasters_df['level1'], spellcasters_df['spells'])\n",
        "plt.show()\n",
        "\n",
        "plt.boxplot(main_df['spells_per_lvl'])\n",
        "plt.show()\n",
        "\n",
        "features = ['AC',\n",
        "            'Str','Dex','Con','Int','Wis','Cha',\n",
        "            'castingStr','castingDex','castingCon','castingInt','castingWis','castingCha',\n",
        "            'hp_per_lvl', 'spells_per_lvl']\n",
        "X = main_df[ features ]\n",
        "\n",
        "X_train, X_test, y_train_encoded, y_test_encoded = train_test_split(X, y_encoded, test_size=0.25, random_state=42)\n",
        "\n",
        "model = xgboost.XGBClassifier()\n",
        "model.fit(X_train, y_train)\n",
        "print(model)\n",
        "\n",
        "y_pred = model.predict(X_test)\n",
        "\n",
        "print(metrics.confusion_matrix(y_test, y_pred))\n",
        "\n",
        "print(metrics.classification_report(y_test, y_pred, digits=3))\n",
        "#plt.hist(main_df['spells'], histtype='step', fill=False, bins=40, range=(0,40))\n",
        "#plt.show()\n",
        "\n",
        "\n"
      ],
      "execution_count": null,
      "outputs": [
        {
          "output_type": "stream",
          "text": [
            "           count       mean        std  min  25%  50%   75%   max\n",
            "class1                                                           \n",
            "Barbarian  570.0   0.161404   0.651011  0.0  0.0  0.0   0.0   3.0\n",
            "Bard       474.0   4.037975   5.634257  0.0  0.0  0.0   8.0  31.0\n",
            "Cleric     680.0  10.398529  10.295272  0.0  4.0  8.0  13.0  94.0\n",
            "Druid      476.0   5.161765   8.150498  0.0  0.0  2.0   8.0  98.0\n",
            "Fighter    942.0   0.615711   1.901084  0.0  0.0  0.0   0.0  15.0\n",
            "Monk       499.0   0.202405   0.817181  0.0  0.0  0.0   0.0   6.0\n",
            "Paladin    571.0   3.945709   4.253650  0.0  0.0  4.0   6.0  27.0\n",
            "Ranger     490.0   1.793878   2.447895  0.0  0.0  0.0   3.0  15.0\n",
            "Rogue      777.0   0.548263   1.794335  0.0  0.0  0.0   0.0  12.0\n",
            "Sorcerer   436.0   5.215596   5.489328  0.0  0.0  5.0   9.0  24.0\n",
            "Warlock    404.0   5.700495   7.179852  0.0  0.0  4.0   9.0  53.0\n",
            "Wizard     505.0   8.172277  10.268616  0.0  0.0  5.0  13.0  56.0\n",
            "           count      mean       std  min       25%       50%       75%   max\n",
            "class1                                                                       \n",
            "Barbarian  570.0  0.025583  0.112553  0.0  0.000000  0.000000  0.000000   1.0\n",
            "Bard       474.0  1.320693  1.885859  0.0  0.000000  0.000000  2.400000   8.0\n",
            "Cleric     680.0  3.261505  2.800486  0.0  1.333333  2.183333  4.000000  19.0\n",
            "Druid      476.0  1.693196  2.608275  0.0  0.000000  0.500000  2.666667  24.0\n",
            "Fighter    942.0  0.141548  0.432840  0.0  0.000000  0.000000  0.000000   3.0\n",
            "Monk       499.0  0.061644  0.258476  0.0  0.000000  0.000000  0.000000   3.0\n",
            "Paladin    571.0  0.694150  0.762452  0.0  0.000000  0.666667  0.800000   7.5\n",
            "Ranger     490.0  0.406825  0.505155  0.0  0.000000  0.000000  0.833333   3.0\n",
            "Rogue      777.0  0.137220  0.438341  0.0  0.000000  0.000000  0.000000   4.0\n",
            "Sorcerer   436.0  1.805852  2.130353  0.0  0.000000  1.000000  2.687500  10.0\n",
            "Warlock    404.0  1.782627  1.891946  0.0  0.000000  1.666667  3.000000  10.0\n",
            "Wizard     505.0  2.602938  3.157116  0.0  0.000000  1.500000  4.250000  12.0\n"
          ],
          "name": "stdout"
        },
        {
          "output_type": "display_data",
          "data": {
            "image/png": "[encoded data removed]",
            "text/plain": [
              "<Figure size 432x288 with 1 Axes>"
            ]
          },
          "metadata": {
            "tags": [],
            "needs_background": "light"
          }
        },
        {
          "output_type": "display_data",
          "data": {
            "image/png": "[encoded data removed]",
            "text/plain": [
              "<Figure size 432x288 with 1 Axes>"
            ]
          },
          "metadata": {
            "tags": [],
            "needs_background": "light"
          }
        },
        {
          "output_type": "stream",
          "text": [
            "XGBClassifier(base_score=0.5, booster='gbtree', colsample_bylevel=1,\n",
            "              colsample_bynode=1, colsample_bytree=1, gamma=0,\n",
            "              learning_rate=0.1, max_delta_step=0, max_depth=3,\n",
            "              min_child_weight=1, missing=None, n_estimators=100, n_jobs=1,\n",
            "              nthread=None, objective='multi:softprob', random_state=0,\n",
            "              reg_alpha=0, reg_lambda=1, scale_pos_weight=1, seed=None,\n",
            "              silent=None, subsample=1, verbosity=1)\n",
            "[[ 87   0   0   0  27   0   0   0   1   0   0   2]\n",
            " [  0  87   0   0   0   0   3   0   0  20  15   0]\n",
            " [  0   0 165  22   0   0   0   3   0   0   0   0]\n",
            " [  0   0   9  91   0   2   0  13   0   0   0   0]\n",
            " [ 29   0   0   0 170  10   3   1  24   0   0   0]\n",
            " [  5   0   0   2   6  92   0   1  17   0   0   1]\n",
            " [  0   2   0   0   0   0 118   0   0   0   1   1]\n",
            " [  0   0   2   6   0   1   0 118   0   0   0   0]\n",
            " [  1   1   0   1  13  11   0   0 163   0   0   7]\n",
            " [  0  15   0   0   0   0   2   0   0  76  13   0]\n",
            " [  0  26   0   0   0   0   2   1   0  25  54   2]\n",
            " [  1   0   0   0   1   0   0   0  10   0   0 124]]\n",
            "              precision    recall  f1-score   support\n",
            "\n",
            "   Barbarian      0.707     0.744     0.725       117\n",
            "        Bard      0.664     0.696     0.680       125\n",
            "      Cleric      0.938     0.868     0.902       190\n",
            "       Druid      0.746     0.791     0.768       115\n",
            "     Fighter      0.783     0.717     0.749       237\n",
            "        Monk      0.793     0.742     0.767       124\n",
            "     Paladin      0.922     0.967     0.944       122\n",
            "      Ranger      0.861     0.929     0.894       127\n",
            "       Rogue      0.758     0.827     0.791       197\n",
            "    Sorcerer      0.628     0.717     0.670       106\n",
            "     Warlock      0.651     0.491     0.560       110\n",
            "      Wizard      0.905     0.912     0.908       136\n",
            "\n",
            "    accuracy                          0.788      1706\n",
            "   macro avg      0.780     0.783     0.780      1706\n",
            "weighted avg      0.789     0.788     0.787      1706\n",
            "\n"
          ],
          "name": "stdout"
        }
      ]
    },
    {
      "cell_type": "markdown",
      "metadata": {
        "id": "wKalNqcTjh4_",
        "colab_type": "text"
      },
      "source": [
        "# Random Forests"
      ]
    },
    {
      "cell_type": "code",
      "metadata": {
        "id": "0jRO8MVvjl35",
        "colab_type": "code",
        "colab": {
          "base_uri": "https://localhost:8080/",
          "height": 544
        },
        "outputId": "9ad8a324-52a4-48f3-d069-aa633dc2d8ac"
      },
      "source": [
        "from sklearn.ensemble import RandomForestClassifier\n",
        "from sklearn.datasets import make_classification\n",
        "\n",
        "clf = RandomForestClassifier(n_estimators=100)\n",
        "\n",
        "clf.fit(X_train,y_train)\n",
        "\n",
        "y_pred=clf.predict(X_test)\n",
        "\n",
        "print(metrics.confusion_matrix(y_test, y_pred))\n",
        "\n",
        "print(metrics.classification_report(y_test, y_pred, digits=3))"
      ],
      "execution_count": null,
      "outputs": [
        {
          "output_type": "stream",
          "text": [
            "[[ 91   0   0   0  22   1   0   0   2   0   0   1]\n",
            " [  0 102   0   0   0   0   3   0   0   7  13   0]\n",
            " [  0   0 177  11   0   0   0   2   0   0   0   0]\n",
            " [  0   0   5  99   0   1   0  10   0   0   0   0]\n",
            " [ 28   0   0   0 180   8   2   0  18   0   0   1]\n",
            " [  4   0   0   2   5  95   0   0  18   0   0   0]\n",
            " [  0   2   0   0   0   0 118   0   0   0   1   1]\n",
            " [  0   0   2   8   0   0   0 117   0   0   0   0]\n",
            " [  1   1   0   0   9  11   0   0 170   0   0   5]\n",
            " [  0  10   0   0   0   0   4   0   0  77  15   0]\n",
            " [  0  24   0   1   0   0   3   0   0  13  67   2]\n",
            " [  0   0   0   0   1   0   0   0  10   0   0 125]]\n",
            "              precision    recall  f1-score   support\n",
            "\n",
            "   Barbarian      0.734     0.778     0.755       117\n",
            "        Bard      0.734     0.816     0.773       125\n",
            "      Cleric      0.962     0.932     0.947       190\n",
            "       Druid      0.818     0.861     0.839       115\n",
            "     Fighter      0.829     0.759     0.793       237\n",
            "        Monk      0.819     0.766     0.792       124\n",
            "     Paladin      0.908     0.967     0.937       122\n",
            "      Ranger      0.907     0.921     0.914       127\n",
            "       Rogue      0.780     0.863     0.819       197\n",
            "    Sorcerer      0.794     0.726     0.759       106\n",
            "     Warlock      0.698     0.609     0.650       110\n",
            "      Wizard      0.926     0.919     0.923       136\n",
            "\n",
            "    accuracy                          0.831      1706\n",
            "   macro avg      0.826     0.826     0.825      1706\n",
            "weighted avg      0.832     0.831     0.830      1706\n",
            "\n"
          ],
          "name": "stdout"
        }
      ]
    },
    {
      "cell_type": "code",
      "metadata": {
        "id": "2dFoYHdetIlW",
        "colab_type": "code",
        "colab": {
          "base_uri": "https://localhost:8080/",
          "height": 281
        },
        "outputId": "81e04fdd-c57f-4da2-8ea0-3a51872b1255"
      },
      "source": [
        "# feature importance for multiclass Random Forest\n",
        "\n",
        "importance = clf.feature_importances_\n",
        "\n",
        "# combine list of features and importance weights into dataframe\n",
        "importance_dt = zip(list(X_train.columns), importance)\n",
        "importance_dt = set(importance_dt)\n",
        "importance_dt = pd.DataFrame(importance_dt, columns = ['feature','importance'])\n",
        "\n",
        "# sort dataframe to graph from high to low\n",
        "importance_dt = importance_dt.sort_values('importance',ascending = True)\n",
        "importance_dt.reset_index(drop = True)\n",
        "#importance_dt.sort_index()\n",
        "\n",
        "# plot the feature weights\n",
        "plt.figure()\n",
        "plt.title(\"Feature importances: Multi Class RF\")\n",
        "plt.barh(range(importance_dt.shape[0]), width = importance_dt['importance'], align=\"center\")\n",
        "plt.yticks(range(importance_dt.shape[0]), importance_dt['feature'])\n",
        "plt.ylim([-1, importance_dt.shape[0]])\n",
        "plt.show()"
      ],
      "execution_count": null,
      "outputs": [
        {
          "output_type": "display_data",
          "data": {
            "image/png": "[encoded data removed]",
            "text/plain": [
              "<Figure size 432x288 with 1 Axes>"
            ]
          },
          "metadata": {
            "tags": [],
            "needs_background": "light"
          }
        }
      ]
    }
  ]
}